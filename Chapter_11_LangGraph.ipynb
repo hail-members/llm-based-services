{
  "cells": [
    {
      "cell_type": "markdown",
      "metadata": {
        "id": "view-in-github",
        "colab_type": "text"
      },
      "source": [
        "<a href=\"https://colab.research.google.com/github/hail-members/llm-based-services/blob/main/Chapter_11_LangGraph.ipynb\" target=\"_parent\"><img src=\"https://colab.research.google.com/assets/colab-badge.svg\" alt=\"Open In Colab\"/></a>"
      ]
    },
    {
      "cell_type": "code",
      "execution_count": null,
      "id": "7f49e3a7",
      "metadata": {
        "vscode": {
          "languageId": "ini"
        },
        "id": "7f49e3a7",
        "outputId": "030cb575-4f1d-4f93-dcf1-aab4bda7732c"
      },
      "outputs": [
        {
          "name": "stdout",
          "output_type": "stream",
          "text": [
            "{'name': 'Alice', 'age': 25, 'is_student': True}\n",
            "{'name': 'Bob', 'age': 30, 'is_student': False}\n",
            "Name: Charlie, Age: 35, Is Student: True\n"
          ]
        }
      ],
      "source": [
        "from typing import TypedDict, Annotated\n",
        "\n",
        "# 일반 dict 사용\n",
        "person_dict = {\n",
        "    \"name\": \"Alice\",\n",
        "    \"age\": 25,\n",
        "    \"is_student\": True\n",
        "}\n",
        "print(person_dict)\n",
        "# 각각에 아무런 타입의 데이터를 넣을 수 있음\n",
        "person_dict[\"name\"] = 123  # 잘못된 타입이지만 에러가 발생하지 않음\n"
      ]
    },
    {
      "cell_type": "code",
      "execution_count": null,
      "id": "2bc28330",
      "metadata": {
        "id": "2bc28330"
      },
      "outputs": [],
      "source": [
        "from typing import TypedDict\n",
        "\n",
        "# TypedDict 정의\n",
        "class User(TypedDict):\n",
        "    name: str\n",
        "    age: int\n",
        "    is_active: bool\n",
        "\n",
        "# 올바른 사용 예\n",
        "user1: User = {\n",
        "    \"name\": \"Alice\",\n",
        "    \"age\": 30,\n",
        "    \"is_active\": True\n",
        "}\n",
        "\n",
        "# 잘못된 사용 예 (키가 누락된 경우)\n",
        "user2: User = {\n",
        "    \"name\": \"Bob\",\n",
        "    \"age\": 25\n",
        "}\n",
        "# TypeError: Missing key 'is_active'\n",
        "\n",
        "# 잘못된 사용 예 (잘못된 타입이 포함된 경우)\n",
        "user3: User = {\n",
        "    \"name\": \"Charlie\",\n",
        "    \"age\": \"thirty\",  # age는 int여야 함\n",
        "    \"is_active\": True\n",
        "}\n",
        "# TypeError: Expected type 'int' for key 'age', got 'str' instead\n",
        "\n"
      ]
    },
    {
      "cell_type": "markdown",
      "id": "ebdb1478",
      "metadata": {
        "id": "ebdb1478"
      },
      "source": [
        "근데 위 코드블락에서는 실제로는 에러가 안납니다.\n",
        "\n",
        "그렇지만 간단하게 mypy와 같은 타입 검사기를 썼을때 에러가 있는지 없는지 (즉, 타입이 맞는지 틀리는지) 확인할 수 있습니다."
      ]
    },
    {
      "cell_type": "code",
      "execution_count": null,
      "id": "1ecfec75",
      "metadata": {
        "id": "1ecfec75",
        "outputId": "0eabd415-43d0-49d3-cc2e-189167b30d24"
      },
      "outputs": [
        {
          "name": "stdout",
          "output_type": "stream",
          "text": [
            "Defaulting to user installation because normal site-packages is not writeable\n",
            "Requirement already satisfied: mypy in c:\\users\\dongjaekim\\appdata\\roaming\\python\\python311\\site-packages (1.15.0)\n",
            "Requirement already satisfied: typing_extensions>=4.6.0 in c:\\users\\dongjaekim\\appdata\\roaming\\python\\python311\\site-packages (from mypy) (4.12.2)\n",
            "Requirement already satisfied: mypy_extensions>=1.0.0 in c:\\programdata\\anaconda3\\lib\\site-packages (from mypy) (1.0.0)\n"
          ]
        }
      ],
      "source": [
        "!pip install mypy"
      ]
    },
    {
      "cell_type": "code",
      "execution_count": null,
      "id": "ee88a9b9",
      "metadata": {
        "id": "ee88a9b9",
        "outputId": "63015ef3-6d5a-4b35-985a-d178e5df41c8"
      },
      "outputs": [
        {
          "name": "stdout",
          "output_type": "stream",
          "text": [
            "Type Checking Output:\n",
            "<string>:17: \u001b[1m\u001b[91merror:\u001b[0m Missing key \u001b[0m\u001b[1m\"is_active\"\u001b[0m for TypedDict \u001b[0m\u001b[1m\"User\"\u001b[0m  \u001b[0m\u001b[93m[typeddict-item]\u001b[0m\n",
            "<string>:25: \u001b[1m\u001b[91merror:\u001b[0m Incompatible types (expression has type \u001b[0m\u001b[1m\"str\"\u001b[0m, TypedDict item \u001b[0m\u001b[1m\"age\"\u001b[0m has type \u001b[0m\u001b[1m\"int\"\u001b[0m)  \u001b[0m\u001b[93m[typeddict-item]\u001b[0m\n",
            "\u001b[1m\u001b[91mFound 2 errors in 1 file (checked 1 source file)\u001b[0m\n",
            "\n",
            "Errors:\n",
            "\n",
            "Exit Status: 1\n"
          ]
        }
      ],
      "source": [
        "from mypy import api\n",
        "\n",
        "# 검사할 코드 문자열\n",
        "code_to_check = \"\"\"\n",
        "from typing import TypedDict\n",
        "\n",
        "class User(TypedDict):\n",
        "    name: str\n",
        "    age: int\n",
        "    is_active: bool\n",
        "\n",
        "# 올바른 사용 예\n",
        "user1: User = {\n",
        "    \"name\": \"Alice\",\n",
        "    \"age\": 30,\n",
        "    \"is_active\": True\n",
        "}\n",
        "\n",
        "# 잘못된 사용 예 (키가 누락된 경우)\n",
        "user2: User = {\n",
        "    \"name\": \"Bob\",\n",
        "    \"age\": 25\n",
        "}\n",
        "\n",
        "# 잘못된 사용 예 (잘못된 타입이 포함된 경우)\n",
        "user3: User = {\n",
        "    \"name\": \"Charlie\",\n",
        "    \"age\": \"thirty\",  # age는 int여야 함\n",
        "    \"is_active\": True\n",
        "}\n",
        "\"\"\"\n",
        "\n",
        "# mypy로 코드 검사\n",
        "result = api.run([\"-c\", code_to_check, \"--strict\"])\n",
        "\n",
        "# 결과 출력\n",
        "print(\"Type Checking Output:\")\n",
        "print(result[0])  # mypy의 출력 결과\n",
        "print(\"Errors:\")\n",
        "print(result[1])  # 에러 메시지\n",
        "print(\"Exit Status:\", result[2])  # 종료 코드 (0이면 성공, 1이면 실패)"
      ]
    },
    {
      "cell_type": "code",
      "execution_count": null,
      "id": "08c3468a",
      "metadata": {
        "id": "08c3468a",
        "outputId": "5b3594d0-2ee5-48c9-eb6b-233053b371a6"
      },
      "outputs": [
        {
          "name": "stdout",
          "output_type": "stream",
          "text": [
            "Type Hints and Annotations:\n",
            "name: Annotated - The name of the person\n",
            "age: Annotated - The age of the person\n",
            "is_student: Annotated - Whether the person is a student\n"
          ]
        }
      ],
      "source": [
        "from typing import Annotated, get_type_hints\n",
        "\n",
        "class User:\n",
        "    name: Annotated[str, \"The name of the person\"]\n",
        "    age: Annotated[int, \"The age of the person\"]\n",
        "    is_student: Annotated[bool, \"Whether the person is a student\"]\n",
        "\n",
        "user: User = {\n",
        "    \"name\": \"Alice\",\n",
        "    \"age\": 30,\n",
        "    \"is_active\": True\n",
        "}\n",
        "\n",
        "# 타입 힌트와 주석을 가져오기\n",
        "hints = get_type_hints(User, include_extras=True)\n",
        "print(\"Type Hints and Annotations:\")\n",
        "for attr, hint in hints.items():\n",
        "    print(f\"{attr}: {hint.__name__} - {hint.__metadata__[0]}\")"
      ]
    },
    {
      "cell_type": "code",
      "execution_count": null,
      "id": "a7fe2b75",
      "metadata": {
        "id": "a7fe2b75",
        "outputId": "2e76324b-2741-4ce3-b40a-5ddd4c118ba3"
      },
      "outputs": [
        {
          "name": "stdout",
          "output_type": "stream",
          "text": [
            "Defaulting to user installation because normal site-packages is not writeable\n",
            "Requirement already satisfied: langgraph in c:\\users\\dongjaekim\\appdata\\roaming\\python\\python311\\site-packages (0.4.5)\n",
            "Requirement already satisfied: langchain-community in c:\\users\\dongjaekim\\appdata\\roaming\\python\\python311\\site-packages (0.3.24)\n",
            "Requirement already satisfied: gpt4all in c:\\users\\dongjaekim\\appdata\\roaming\\python\\python311\\site-packages (2.8.2)\n",
            "Requirement already satisfied: langchain-core>=0.1 in c:\\users\\dongjaekim\\appdata\\roaming\\python\\python311\\site-packages (from langgraph) (0.3.60)\n",
            "Requirement already satisfied: langgraph-checkpoint<3.0.0,>=2.0.26 in c:\\users\\dongjaekim\\appdata\\roaming\\python\\python311\\site-packages (from langgraph) (2.0.26)\n",
            "Requirement already satisfied: langgraph-prebuilt>=0.1.8 in c:\\users\\dongjaekim\\appdata\\roaming\\python\\python311\\site-packages (from langgraph) (0.1.8)\n",
            "Requirement already satisfied: langgraph-sdk>=0.1.42 in c:\\users\\dongjaekim\\appdata\\roaming\\python\\python311\\site-packages (from langgraph) (0.1.69)\n",
            "Requirement already satisfied: pydantic>=2.7.4 in c:\\users\\dongjaekim\\appdata\\roaming\\python\\python311\\site-packages (from langgraph) (2.11.3)\n",
            "Requirement already satisfied: xxhash<4.0.0,>=3.5.0 in c:\\users\\dongjaekim\\appdata\\roaming\\python\\python311\\site-packages (from langgraph) (3.5.0)\n",
            "Requirement already satisfied: langchain<1.0.0,>=0.3.25 in c:\\users\\dongjaekim\\appdata\\roaming\\python\\python311\\site-packages (from langchain-community) (0.3.25)\n",
            "Requirement already satisfied: SQLAlchemy<3,>=1.4 in c:\\programdata\\anaconda3\\lib\\site-packages (from langchain-community) (1.4.39)\n",
            "Requirement already satisfied: requests<3,>=2 in c:\\programdata\\anaconda3\\lib\\site-packages (from langchain-community) (2.31.0)\n",
            "Requirement already satisfied: PyYAML>=5.3 in c:\\programdata\\anaconda3\\lib\\site-packages (from langchain-community) (6.0)\n",
            "Requirement already satisfied: aiohttp<4.0.0,>=3.8.3 in c:\\programdata\\anaconda3\\lib\\site-packages (from langchain-community) (3.8.5)\n",
            "Requirement already satisfied: tenacity!=8.4.0,<10,>=8.1.0 in c:\\programdata\\anaconda3\\lib\\site-packages (from langchain-community) (8.2.2)\n",
            "Requirement already satisfied: dataclasses-json<0.7,>=0.5.7 in c:\\users\\dongjaekim\\appdata\\roaming\\python\\python311\\site-packages (from langchain-community) (0.6.7)\n",
            "Requirement already satisfied: pydantic-settings<3.0.0,>=2.4.0 in c:\\users\\dongjaekim\\appdata\\roaming\\python\\python311\\site-packages (from langchain-community) (2.8.1)\n",
            "Requirement already satisfied: langsmith<0.4,>=0.1.125 in c:\\users\\dongjaekim\\appdata\\roaming\\python\\python311\\site-packages (from langchain-community) (0.3.26)\n",
            "Requirement already satisfied: httpx-sse<1.0.0,>=0.4.0 in c:\\users\\dongjaekim\\appdata\\roaming\\python\\python311\\site-packages (from langchain-community) (0.4.0)\n",
            "Requirement already satisfied: numpy>=1.26.2 in c:\\users\\dongjaekim\\appdata\\roaming\\python\\python311\\site-packages (from langchain-community) (2.2.6)\n",
            "Requirement already satisfied: tqdm in c:\\programdata\\anaconda3\\lib\\site-packages (from gpt4all) (4.65.0)\n",
            "Requirement already satisfied: attrs>=17.3.0 in c:\\programdata\\anaconda3\\lib\\site-packages (from aiohttp<4.0.0,>=3.8.3->langchain-community) (22.1.0)\n",
            "Requirement already satisfied: charset-normalizer<4.0,>=2.0 in c:\\programdata\\anaconda3\\lib\\site-packages (from aiohttp<4.0.0,>=3.8.3->langchain-community) (2.0.4)\n",
            "Requirement already satisfied: multidict<7.0,>=4.5 in c:\\programdata\\anaconda3\\lib\\site-packages (from aiohttp<4.0.0,>=3.8.3->langchain-community) (6.0.2)\n",
            "Requirement already satisfied: async-timeout<5.0,>=4.0.0a3 in c:\\programdata\\anaconda3\\lib\\site-packages (from aiohttp<4.0.0,>=3.8.3->langchain-community) (4.0.2)\n",
            "Requirement already satisfied: yarl<2.0,>=1.0 in c:\\programdata\\anaconda3\\lib\\site-packages (from aiohttp<4.0.0,>=3.8.3->langchain-community) (1.8.1)\n",
            "Requirement already satisfied: frozenlist>=1.1.1 in c:\\programdata\\anaconda3\\lib\\site-packages (from aiohttp<4.0.0,>=3.8.3->langchain-community) (1.3.3)\n",
            "Requirement already satisfied: aiosignal>=1.1.2 in c:\\programdata\\anaconda3\\lib\\site-packages (from aiohttp<4.0.0,>=3.8.3->langchain-community) (1.2.0)\n",
            "Requirement already satisfied: marshmallow<4.0.0,>=3.18.0 in c:\\users\\dongjaekim\\appdata\\roaming\\python\\python311\\site-packages (from dataclasses-json<0.7,>=0.5.7->langchain-community) (3.26.1)\n",
            "Requirement already satisfied: typing-inspect<1,>=0.4.0 in c:\\users\\dongjaekim\\appdata\\roaming\\python\\python311\\site-packages (from dataclasses-json<0.7,>=0.5.7->langchain-community) (0.9.0)\n",
            "Requirement already satisfied: langchain-text-splitters<1.0.0,>=0.3.8 in c:\\users\\dongjaekim\\appdata\\roaming\\python\\python311\\site-packages (from langchain<1.0.0,>=0.3.25->langchain-community) (0.3.8)\n",
            "Requirement already satisfied: jsonpatch<2.0,>=1.33 in c:\\users\\dongjaekim\\appdata\\roaming\\python\\python311\\site-packages (from langchain-core>=0.1->langgraph) (1.33)\n",
            "Requirement already satisfied: packaging<25,>=23.2 in c:\\users\\dongjaekim\\appdata\\roaming\\python\\python311\\site-packages (from langchain-core>=0.1->langgraph) (24.2)\n",
            "Requirement already satisfied: typing-extensions>=4.7 in c:\\users\\dongjaekim\\appdata\\roaming\\python\\python311\\site-packages (from langchain-core>=0.1->langgraph) (4.12.2)\n",
            "Requirement already satisfied: ormsgpack<2.0.0,>=1.8.0 in c:\\users\\dongjaekim\\appdata\\roaming\\python\\python311\\site-packages (from langgraph-checkpoint<3.0.0,>=2.0.26->langgraph) (1.9.1)\n",
            "Requirement already satisfied: httpx>=0.25.2 in c:\\users\\dongjaekim\\appdata\\roaming\\python\\python311\\site-packages (from langgraph-sdk>=0.1.42->langgraph) (0.28.1)\n",
            "Requirement already satisfied: orjson>=3.10.1 in c:\\users\\dongjaekim\\appdata\\roaming\\python\\python311\\site-packages (from langgraph-sdk>=0.1.42->langgraph) (3.10.16)\n",
            "Requirement already satisfied: requests-toolbelt<2.0.0,>=1.0.0 in c:\\programdata\\anaconda3\\lib\\site-packages (from langsmith<0.4,>=0.1.125->langchain-community) (1.0.0)\n",
            "Requirement already satisfied: zstandard<0.24.0,>=0.23.0 in c:\\users\\dongjaekim\\appdata\\roaming\\python\\python311\\site-packages (from langsmith<0.4,>=0.1.125->langchain-community) (0.23.0)\n",
            "Requirement already satisfied: annotated-types>=0.6.0 in c:\\users\\dongjaekim\\appdata\\roaming\\python\\python311\\site-packages (from pydantic>=2.7.4->langgraph) (0.7.0)\n",
            "Requirement already satisfied: pydantic-core==2.33.1 in c:\\users\\dongjaekim\\appdata\\roaming\\python\\python311\\site-packages (from pydantic>=2.7.4->langgraph) (2.33.1)\n",
            "Requirement already satisfied: typing-inspection>=0.4.0 in c:\\users\\dongjaekim\\appdata\\roaming\\python\\python311\\site-packages (from pydantic>=2.7.4->langgraph) (0.4.0)\n",
            "Requirement already satisfied: python-dotenv>=0.21.0 in c:\\programdata\\anaconda3\\lib\\site-packages (from pydantic-settings<3.0.0,>=2.4.0->langchain-community) (0.21.0)\n",
            "Requirement already satisfied: idna<4,>=2.5 in c:\\programdata\\anaconda3\\lib\\site-packages (from requests<3,>=2->langchain-community) (3.4)\n",
            "Requirement already satisfied: urllib3<3,>=1.21.1 in c:\\programdata\\anaconda3\\lib\\site-packages (from requests<3,>=2->langchain-community) (1.26.16)\n",
            "Requirement already satisfied: certifi>=2017.4.17 in c:\\programdata\\anaconda3\\lib\\site-packages (from requests<3,>=2->langchain-community) (2023.7.22)\n",
            "Requirement already satisfied: greenlet!=0.4.17 in c:\\programdata\\anaconda3\\lib\\site-packages (from SQLAlchemy<3,>=1.4->langchain-community) (2.0.1)\n",
            "Requirement already satisfied: colorama in c:\\programdata\\anaconda3\\lib\\site-packages (from tqdm->gpt4all) (0.4.6)\n",
            "Requirement already satisfied: anyio in c:\\programdata\\anaconda3\\lib\\site-packages (from httpx>=0.25.2->langgraph-sdk>=0.1.42->langgraph) (3.5.0)\n",
            "Requirement already satisfied: httpcore==1.* in c:\\users\\dongjaekim\\appdata\\roaming\\python\\python311\\site-packages (from httpx>=0.25.2->langgraph-sdk>=0.1.42->langgraph) (1.0.7)\n",
            "Requirement already satisfied: h11<0.15,>=0.13 in c:\\users\\dongjaekim\\appdata\\roaming\\python\\python311\\site-packages (from httpcore==1.*->httpx>=0.25.2->langgraph-sdk>=0.1.42->langgraph) (0.14.0)\n",
            "Requirement already satisfied: jsonpointer>=1.9 in c:\\programdata\\anaconda3\\lib\\site-packages (from jsonpatch<2.0,>=1.33->langchain-core>=0.1->langgraph) (2.1)\n",
            "Requirement already satisfied: mypy-extensions>=0.3.0 in c:\\programdata\\anaconda3\\lib\\site-packages (from typing-inspect<1,>=0.4.0->dataclasses-json<0.7,>=0.5.7->langchain-community) (1.0.0)\n",
            "Requirement already satisfied: sniffio>=1.1 in c:\\programdata\\anaconda3\\lib\\site-packages (from anyio->httpx>=0.25.2->langgraph-sdk>=0.1.42->langgraph) (1.2.0)\n"
          ]
        }
      ],
      "source": [
        "!pip install -U langgraph langchain-community gpt4all"
      ]
    },
    {
      "cell_type": "code",
      "execution_count": null,
      "id": "36ccc301",
      "metadata": {
        "id": "36ccc301"
      },
      "outputs": [],
      "source": [
        "# 필요한 패키지 설치\n",
        "from typing_extensions import TypedDict\n",
        "from typing import Annotated\n",
        "from langgraph.graph import StateGraph, START, END\n",
        "from langgraph.graph.message import add_messages\n",
        "from langchain_community.llms import GPT4All\n",
        "import random\n",
        "\n",
        "# 1. State 정의 (messages 필드로 LLM 대화 이력 관리)\n",
        "class State(TypedDict):\n",
        "    graph_state: str\n",
        "\n",
        "\n",
        "# 2. GPT4All(Phi-3-mini) 모델 준비\n",
        "llm = GPT4All(model=\"Phi-3-mini-4k-instruct.Q4_0.gguf\", n_threads=4, allow_download=True)\n",
        "\n",
        "# 3. 프롬프트 템플릿 정의\n",
        "prompt_template = \"\"\"<|system|>\n",
        "You are a helpful assistant.<|end|>\n",
        "<|user|>\n",
        "{question}<|end|>\n",
        "<|assistant|>\n",
        "\"\"\"\n"
      ]
    },
    {
      "cell_type": "code",
      "execution_count": null,
      "id": "bb636cfc",
      "metadata": {
        "id": "bb636cfc"
      },
      "outputs": [],
      "source": [
        "# 4. 각 노드 정의 (각 노드에서 LLM 호출)\n",
        "def node_1(state: State):\n",
        "    print(\"---Node 1---\")\n",
        "    context = \"\"\n",
        "    question = state['graph_state'] + \" I am\"\n",
        "    prompt = prompt_template.format(context=context, question=question)\n",
        "    response = llm.invoke(prompt)\n",
        "    return {\"graph_state\": response.strip()}\n",
        "\n",
        "def node_2(state: State):\n",
        "    print(\"---Node 2---\")\n",
        "    context = \"\"\n",
        "    question = state['graph_state'] + \" happy!\"\n",
        "    prompt = prompt_template.format(context=context, question=question)\n",
        "    response = llm.invoke(prompt)\n",
        "    return {\"graph_state\": response.strip()}\n",
        "\n",
        "def node_3(state: State):\n",
        "    print(\"---Node 3---\")\n",
        "    context = \"\"\n",
        "    question = state['graph_state'] + \" sad!\"\n",
        "    prompt = prompt_template.format(context=context, question=question)\n",
        "    response = llm.invoke(prompt)\n",
        "    return {\"graph_state\": response.strip()}\n",
        "\n",
        "# 5. 조건부 분기 함수\n",
        "from typing import Literal\n",
        "def decide_mood(state) -> Literal[\"node_2\", \"node_3\"]:\n",
        "    # 50% 확률로 node_2 또는 node_3 선택\n",
        "    if random.random() < 0.5:\n",
        "        return \"node_2\"\n",
        "    return \"node_3\"\n",
        "\n"
      ]
    },
    {
      "cell_type": "code",
      "execution_count": null,
      "id": "33cb0685",
      "metadata": {
        "id": "33cb0685",
        "outputId": "bdf67a76-0089-40f0-9ca1-d627a00cb186"
      },
      "outputs": [
        {
          "data": {
            "image/png": "[encoded data removed]",
            "text/plain": [
              "<IPython.core.display.Image object>"
            ]
          },
          "metadata": {},
          "output_type": "display_data"
        }
      ],
      "source": [
        "from IPython.display import Image, display\n",
        "\n",
        "# 6. 그래프 구성 및 컴파일\n",
        "builder = StateGraph(State)\n",
        "builder.add_node(\"node_1\", node_1)\n",
        "builder.add_node(\"node_2\", node_2)\n",
        "builder.add_node(\"node_3\", node_3)\n",
        "\n",
        "builder.add_edge(START, \"node_1\")\n",
        "builder.add_conditional_edges(\"node_1\", decide_mood)\n",
        "builder.add_edge(\"node_2\", END)\n",
        "builder.add_edge(\"node_3\", END)\n",
        "\n",
        "graph = builder.compile()\n",
        "\n",
        "# 시각화\n",
        "display(Image(graph.get_graph().draw_mermaid_png()))"
      ]
    },
    {
      "cell_type": "code",
      "execution_count": null,
      "id": "93960838",
      "metadata": {
        "id": "93960838",
        "outputId": "df4cc306-1ea8-4bd0-e972-2d1e49fe6cd9"
      },
      "outputs": [
        {
          "name": "stdout",
          "output_type": "stream",
          "text": [
            "---Node 1---\n",
            "---Node 2---\n",
            "\n",
            "최종 결과:\n",
            "Hello there! I hope you're doing well today. As your virtual assistant, I am here to help answer any questions or address concerns you may have in various areas such as general knowledge, technology-related queries, daily tips and tricks, productivity advice, travel recommendations, cooking recipes, fitness guidance, etc.\n",
            "\n",
            "For example:\n",
            "1. If you're looking for a new workout routine to stay healthy or lose weight - I can provide exercise suggestions tailored specifically to your needs!\n",
            "2. Need help with organizing tasks and managing time more efficiently? Let me share some productivity hacks that might be useful in streamlining your daily activities.\n",
            "3. If you're planning a trip, whether it's for business or leisure purposes - I can offer travel tips to make the most out of your experience!\n",
            "4. Looking for new recipes? Whether you have dietary restrictions (e.g., vegan, gluten-free) or just want something delicious and easy to prepare – let me help with some mouthwatering suggestions that match your preferences.\n",
            "5. If there's a specific topic on which you need information - be it history,\n"
          ]
        }
      ],
      "source": [
        "# 7. 그래프 실행\n",
        "initial_state = {\"graph_state\": \"Hi, this is Lance.\"}\n",
        "result = graph.invoke(initial_state)\n",
        "print(\"\\n최종 결과:\")\n",
        "print(result[\"graph_state\"])"
      ]
    },
    {
      "cell_type": "code",
      "execution_count": null,
      "id": "08ba9570",
      "metadata": {
        "id": "08ba9570",
        "outputId": "47f389a6-f2da-46c1-8f03-e809f02b03b3"
      },
      "outputs": [
        {
          "data": {
            "image/png": "[encoded data removed]",
            "text/plain": [
              "<IPython.core.display.Image object>"
            ]
          },
          "metadata": {},
          "output_type": "display_data"
        },
        {
          "name": "stdout",
          "output_type": "stream",
          "text": [
            "첫 번째 실행 결과:\n",
            "{'messages': [{'role': 'user', 'content': 'Hello, today is rainy.'}, {'role': 'assistant', 'content': \" Hello! Yes, it sounds like you're experiencing some rain outside. Rainy days can be cozy and perfect for indoor activities or catching up on your favorite books or movies. If there's anything specific you need help with during this weather, feel free to ask!\"}]}\n",
            "\n",
            "두 번째 실행 전 상태:\n",
            "{'messages': [{'role': 'user', 'content': 'Hello, today is rainy.'}, {'role': 'assistant', 'content': \" Hello! Yes, it sounds like you're experiencing some rain outside. Rainy days can be cozy and perfect for indoor activities or catching up on your favorite books or movies. If there's anything specific you need help with during this weather, feel free to ask!\"}, {'role': 'user', 'content': 'How is the weather?'}]}\n",
            "\n",
            "두 번째 실행 결과:\n",
            "{'messages': [{'role': 'user', 'content': 'Hello, today is rainy.'}, {'role': 'assistant', 'content': \" Hello! Yes, it sounds like you're experiencing some rain outside. Rainy days can be cozy and perfect for indoor activities or catching up on your favorite books or movies. If there's anything specific you need help with during this weather, feel free to ask!\"}, {'role': 'user', 'content': 'How is the weather?'}, {'role': 'assistant', 'content': \" I don't have real-time access, but I can guide you on how to check it! To find out about current local or global weather conditions, please follow these steps:\\n\\n1. For your specific location (city and country): \\n   a) Visit any reliable online weather websites like Weather.com, BBC Weather, AccuWeather, etc., by entering the name of your city in their search bar.\\n   b) Alternatively, you can use smartphone apps such as The Weather Channel or Dark Sky to get real-time updates on local conditions.\\n   \\n2. For global weather: \\n   a) Visit websites like WorldWeatherMonitor (worldweathermonitor.org), which provide current and forecasted data for various locations around the world, as well as climate statistics.\\n   b) You can also check major news outlets or international broadcasters' weather sections to get an overview of global conditions at a given time. \\n\\nRemember that I cannot access real-time information but these methods will help you find up-to-date local and worldwide weather data!\"}]}\n"
          ]
        }
      ],
      "source": [
        "from typing_extensions import TypedDict\n",
        "from langgraph.graph import StateGraph, START, END\n",
        "from langgraph.checkpoint.memory import MemorySaver\n",
        "from langchain_community.llms import GPT4All\n",
        "\n",
        "# 1. State 정의\n",
        "class State(TypedDict):\n",
        "    messages: list\n",
        "\n",
        "# 2. 모델 준비\n",
        "llm = GPT4All(model=\"Phi-3-mini-4k-instruct.Q4_0.gguf\", n_threads=4, allow_download=True)\n",
        "\n",
        "# 3. 프롬프트 템플릿\n",
        "prompt_template = \"\"\"<|system|>\n",
        "You are a helpful assistant.<|end|>\n",
        "<|user|>\n",
        "{question}<|end|>\n",
        "<|assistant|>\n",
        "\"\"\"\n",
        "\n",
        "# 4. 챗봇 노드 (이전 메시지 이력 누적)\n",
        "def chatbot(state: State):\n",
        "    # 마지막 user 메시지 추출\n",
        "    last_user_msg = state[\"messages\"][-1][\"content\"]\n",
        "    prompt = prompt_template.format(question=last_user_msg)\n",
        "    response = llm.invoke(prompt)\n",
        "    # 이전 메시지 + assistant 응답 누적\n",
        "    return {\"messages\": state[\"messages\"] + [{\"role\": \"assistant\", \"content\": response}]}\n",
        "\n",
        "# 5. 그래프 빌더 및 연결\n",
        "builder = StateGraph(State)\n",
        "builder.add_node(\"chatbot\", chatbot)\n",
        "builder.add_edge(START, \"chatbot\")\n",
        "builder.add_edge(\"chatbot\", END)\n",
        "\n",
        "# 6. MemorySaver로 컴파일\n",
        "memory = MemorySaver()\n",
        "react_graph_memory = builder.compile(checkpointer=memory)\n",
        "display(Image(react_graph_memory.get_graph().draw_mermaid_png()))\n",
        "\n",
        "# # 7. 첫 번째 실행 (user 메시지로 시작)\n",
        "config = {\"configurable\": {\"thread_id\": \"1\"}}\n",
        "init_state = {\"messages\": [{\"role\": \"user\", \"content\": \"Hello, today is rainy.\"}]}\n",
        "result1 = react_graph_memory.invoke(init_state, config)\n",
        "print(\"첫 번째 실행 결과:\")\n",
        "print(result1)\n",
        "\n",
        "# 8. 두 번째 실행 (이전 결과의 messages를 그대로 사용, user 메시지만 추가)\n",
        "next_state = {\"messages\": result1[\"messages\"] + [{\"role\": \"user\", \"content\": \"How is the weather?\"}]}\n",
        "print(\"\\n두 번째 실행 전 상태:\")\n",
        "print(next_state)\n",
        "result2 = react_graph_memory.invoke(next_state, config)\n",
        "print(\"\\n두 번째 실행 결과:\")\n",
        "print(result2)\n"
      ]
    },
    {
      "cell_type": "code",
      "execution_count": null,
      "id": "5d823896",
      "metadata": {
        "id": "5d823896",
        "outputId": "2d1e5f5e-20cb-4c6f-ea28-4058e3f0a9fe"
      },
      "outputs": [
        {
          "name": "stdout",
          "output_type": "stream",
          "text": [
            "\n",
            "MemorySaver에 저장된 전체 상태:\n"
          ]
        },
        {
          "data": {
            "text/plain": [
              "{'v': 3,\n",
              " 'ts': '2025-05-20T15:00:46.885544+00:00',\n",
              " 'id': '1f0358b3-5dc8-6297-8004-e1cff3ce755d',\n",
              " 'channel_versions': {'__start__': '00000000000000000000000000000005.0.7418348662138593',\n",
              "  'messages': '00000000000000000000000000000006.0.18352347132433733',\n",
              "  'branch:to:chatbot': '00000000000000000000000000000006.0.3746154133250228'},\n",
              " 'versions_seen': {'__input__': {},\n",
              "  '__start__': {'__start__': '00000000000000000000000000000004.0.651131853121127'},\n",
              "  'chatbot': {'branch:to:chatbot': '00000000000000000000000000000005.0.37533055036843566'}},\n",
              " 'channel_values': {'messages': [{'role': 'user',\n",
              "    'content': 'Hello, today is rainy.'},\n",
              "   {'role': 'assistant',\n",
              "    'content': \" Hello! Yes, it sounds like you're experiencing some rain outside. Rainy days can be cozy and perfect for indoor activities or catching up on your favorite books or movies. If there's anything specific you need help with during this weather, feel free to ask!\"},\n",
              "   {'role': 'user', 'content': 'How is the weather?'},\n",
              "   {'role': 'assistant',\n",
              "    'content': \" I don't have real-time access, but I can guide you on how to check it! To find out about current local or global weather conditions, please follow these steps:\\n\\n1. For your specific location (city and country): \\n   a) Visit any reliable online weather websites like Weather.com, BBC Weather, AccuWeather, etc., by entering the name of your city in their search bar.\\n   b) Alternatively, you can use smartphone apps such as The Weather Channel or Dark Sky to get real-time updates on local conditions.\\n   \\n2. For global weather: \\n   a) Visit websites like WorldWeatherMonitor (worldweathermonitor.org), which provide current and forecasted data for various locations around the world, in addition to general climate information.\\n   b) You can also check major news outlets or international broadcasters' weather sections that cover global conditions.\\n   \\nRemember, I am unable to access real-time data but these resources should help you find up-to-date local and global weather forecasts!\"}]},\n",
              " 'pending_sends': []}"
            ]
          },
          "execution_count": 21,
          "metadata": {},
          "output_type": "execute_result"
        }
      ],
      "source": [
        "print(\"\\nMemorySaver에 저장된 전체 상태:\")\n",
        "memory.get(config)"
      ]
    },
    {
      "cell_type": "code",
      "execution_count": null,
      "id": "b5acb7c7",
      "metadata": {
        "id": "b5acb7c7",
        "outputId": "c475f15c-bfca-4e57-f177-e69d5f2c73f2"
      },
      "outputs": [
        {
          "data": {
            "image/png": "[encoded data removed]",
            "text/plain": [
              "<IPython.core.display.Image object>"
            ]
          },
          "metadata": {},
          "output_type": "display_data"
        },
        {
          "name": "stdout",
          "output_type": "stream",
          "text": [
            "첫 번째 실행 결과:\n",
            "{'messages': [{'role': 'user', 'content': 'Hello, today is rainy.'}, {'role': 'assistant', 'content': ' Hello! I can certainly understand that the rain might affect your day. Rainy days have their own charm and beauty too - they provide an opportunity to enjoy indoor activities or simply relax with a warm cup of tea while listening to the soothing sound of raindrops outside. If you need any suggestions for things to do on this cozy, rainy day, feel free to ask!'}]}\n",
            "\n",
            "두 번째 실행 전 상태:\n",
            "{'messages': [{'role': 'user', 'content': 'Hello, today is rainy.'}, {'role': 'assistant', 'content': ' Hello! I can certainly understand that the rain might affect your day. Rainy days have their own charm and beauty too - they provide an opportunity to enjoy indoor activities or simply relax with a warm cup of tea while listening to the soothing sound of raindrops outside. If you need any suggestions for things to do on this cozy, rainy day, feel free to ask!'}, {'role': 'user', 'content': 'How is the weather?'}]}\n",
            "\n",
            "두 번째 실행 결과:\n",
            "{'messages': [{'role': 'user', 'content': 'Hello, today is rainy.'}, {'role': 'assistant', 'content': ' Hello! I can certainly understand that the rain might affect your day. Rainy days have their own charm and beauty too - they provide an opportunity to enjoy indoor activities or simply relax with a warm cup of tea while listening to the soothing sound of raindrops outside. If you need any suggestions for things to do on this cozy, rainy day, feel free to ask!'}, {'role': 'user', 'content': 'How is the weather?'}, {'role': 'assistant', 'content': \" The current weather conditions are quite typical for a rainy day - cloudy skies and gentle rain showers throughout most of the area. It's always good to check your local forecast or use a reliable weather app if you want more specific information about temperature, humidity levels, wind speed, etc., in real-time!\"}]}\n"
          ]
        }
      ],
      "source": [
        "prompt_template = \"\"\"<|system|>\n",
        "You are a helpful assistant.<|end|>\n",
        "<|user|>\n",
        "{context} {question}<|end|>\n",
        "<|assistant|>\n",
        "\"\"\"\n",
        "\n",
        "# 4. 챗봇 노드 (이전 메시지 이력 누적)\n",
        "def chatbot(state: State):\n",
        "    # 마지막 user 메시지 추출\n",
        "    last_user_msg = state[\"messages\"][-1][\"content\"]\n",
        "    # 기존 대화 기록을 포함한 프롬프트 생성\n",
        "    context = \"\\n\".join([f\"{msg['role']}: {msg['content']}\" for msg in state[\"messages\"]])\n",
        "    prompt = prompt_template.format(context=context, question=last_user_msg)\n",
        "    response = llm.invoke(prompt)\n",
        "    # 이전 메시지 + assistant 응답 누적\n",
        "    return {\"messages\": state[\"messages\"] + [{\"role\": \"assistant\", \"content\": response}]}\n",
        "\n",
        "# 5. 그래프 빌더 및 연결\n",
        "builder = StateGraph(State)\n",
        "builder.add_node(\"chatbot\", chatbot)\n",
        "builder.add_edge(START, \"chatbot\")\n",
        "builder.add_edge(\"chatbot\", END)\n",
        "\n",
        "# 6. MemorySaver로 컴파일\n",
        "memory = MemorySaver()\n",
        "react_graph_memory = builder.compile(checkpointer=memory)\n",
        "display(Image(react_graph_memory.get_graph().draw_mermaid_png()))\n",
        "\n",
        "# # 7. 첫 번째 실행 (user 메시지로 시작)\n",
        "config = {\"configurable\": {\"thread_id\": \"1\"}}\n",
        "init_state = {\"messages\": [{\"role\": \"user\", \"content\": \"Hello, today is rainy.\"}]}\n",
        "result1 = react_graph_memory.invoke(init_state, config)\n",
        "print(\"첫 번째 실행 결과:\")\n",
        "print(result1)\n",
        "\n",
        "# 8. 두 번째 실행 (이전 결과의 messages를 그대로 사용, user 메시지만 추가)\n",
        "next_state = {\"messages\": result1[\"messages\"] + [{\"role\": \"user\", \"content\": \"How is the weather?\"}]}\n",
        "print(\"\\n두 번째 실행 전 상태:\")\n",
        "print(next_state)\n",
        "result2 = react_graph_memory.invoke(next_state, config)\n",
        "print(\"\\n두 번째 실행 결과:\")\n",
        "print(result2)"
      ]
    },
    {
      "cell_type": "code",
      "execution_count": null,
      "id": "ff4b9233",
      "metadata": {
        "id": "ff4b9233",
        "outputId": "62f4870d-7723-417d-8a8f-3e3279ab8bb9"
      },
      "outputs": [
        {
          "name": "stdout",
          "output_type": "stream",
          "text": [
            "총 체크포인트 개수: 6\n",
            "체크포인트 0: {'messages': [{'role': 'user', 'content': 'Hello, today is rainy.'}, {'role': 'assistant', 'content': ' Hello! I can certainly understand that the rain might affect your day. Rainy days have their own charm and beauty too - they provide an opportunity to enjoy indoor activities or simply relax with a warm cup of tea while listening to the soothing sound of raindrops outside. If you need any suggestions for things to do on this cozy, rainy day, feel free to ask!'}, {'role': 'user', 'content': 'How is the weather?'}, {'role': 'assistant', 'content': \" The current weather conditions are quite typical for a rainy day - cloudy skies and gentle rain showers throughout most of the area. It's always good to check your local forecast or use a reliable weather app if you want more specific information about temperature, humidity levels, wind speed, etc., in real-time!\"}]}\n",
            "체크포인트 1: {'messages': [{'role': 'user', 'content': 'Hello, today is rainy.'}, {'role': 'assistant', 'content': ' Hello! I can certainly understand that the rain might affect your day. Rainy days have their own charm and beauty too - they provide an opportunity to enjoy indoor activities or simply relax with a warm cup of tea while listening to the soothing sound of raindrops outside. If you need any suggestions for things to do on this cozy, rainy day, feel free to ask!'}, {'role': 'user', 'content': 'How is the weather?'}]}\n",
            "체크포인트 2: {'messages': [{'role': 'user', 'content': 'Hello, today is rainy.'}, {'role': 'assistant', 'content': ' Hello! I can certainly understand that the rain might affect your day. Rainy days have their own charm and beauty too - they provide an opportunity to enjoy indoor activities or simply relax with a warm cup of tea while listening to the soothing sound of raindrops outside. If you need any suggestions for things to do on this cozy, rainy day, feel free to ask!'}]}\n",
            "체크포인트 3: {'messages': [{'role': 'user', 'content': 'Hello, today is rainy.'}, {'role': 'assistant', 'content': ' Hello! I can certainly understand that the rain might affect your day. Rainy days have their own charm and beauty too - they provide an opportunity to enjoy indoor activities or simply relax with a warm cup of tea while listening to the soothing sound of raindrops outside. If you need any suggestions for things to do on this cozy, rainy day, feel free to ask!'}]}\n",
            "체크포인트 4: {'messages': [{'role': 'user', 'content': 'Hello, today is rainy.'}]}\n",
            "체크포인트 5: {}\n"
          ]
        }
      ],
      "source": [
        "checkpoints = list(react_graph_memory.get_state_history(config))\n",
        "print(f\"총 체크포인트 개수: {len(checkpoints)}\")\n",
        "for i, cp in enumerate(checkpoints):\n",
        "    print(f\"체크포인트 {i}: {cp.values}\")"
      ]
    },
    {
      "cell_type": "code",
      "execution_count": null,
      "id": "23bf7eb6",
      "metadata": {
        "id": "23bf7eb6",
        "outputId": "67210157-cdf6-4715-aa53-fa8ce38345cb"
      },
      "outputs": [
        {
          "name": "stdout",
          "output_type": "stream",
          "text": [
            "{'messages': [{'role': 'user', 'content': 'Hello, today is rainy.'}, {'role': 'assistant', 'content': ' Hello! I can certainly understand that the rain might affect your day. Rainy days have their own charm and beauty too - they provide an opportunity to enjoy indoor activities or simply relax with a warm cup of tea while listening to the soothing sound of raindrops outside. If you need any suggestions for things to do on this cozy, rainy day, feel free to ask!'}]}\n"
          ]
        },
        {
          "data": {
            "text/plain": [
              "{'configurable': {'thread_id': '1',\n",
              "  'checkpoint_ns': '',\n",
              "  'checkpoint_id': '1f0358ea-d677-63e0-8005-d41d9e32f2b9'}}"
            ]
          },
          "execution_count": 55,
          "metadata": {},
          "output_type": "execute_result"
        }
      ],
      "source": [
        "rollback_state = checkpoints[3].values  # 롤백\n",
        "react_graph_memory.update_state(config, rollback_state)"
      ]
    },
    {
      "cell_type": "code",
      "execution_count": null,
      "id": "7e92838c",
      "metadata": {
        "id": "7e92838c",
        "outputId": "566307ca-f7d3-425a-f07f-51f7fec763a6"
      },
      "outputs": [
        {
          "data": {
            "text/plain": [
              "{'messages': [{'role': 'user', 'content': 'Hello, today is rainy.'},\n",
              "  {'role': 'assistant',\n",
              "   'content': ' Hello! I can certainly understand that the rain might affect your day. Rainy days have their own charm and beauty too - they provide an opportunity to enjoy indoor activities or simply relax with a warm cup of tea while listening to the soothing sound of raindrops outside. If you need any suggestions for things to do on this cozy, rainy day, feel free to ask!'}]}"
            ]
          },
          "execution_count": 56,
          "metadata": {},
          "output_type": "execute_result"
        }
      ],
      "source": [
        "rollback_state"
      ]
    },
    {
      "cell_type": "code",
      "execution_count": null,
      "id": "12a4f76e",
      "metadata": {
        "id": "12a4f76e",
        "outputId": "b76cd096-3243-463a-c3c7-c8b1ef3e4b73"
      },
      "outputs": [
        {
          "name": "stdout",
          "output_type": "stream",
          "text": [
            "롤백 후 실행 결과: {'messages': [{'role': 'user', 'content': 'Hello, today is rainy.'}, {'role': 'assistant', 'content': ' Hello! I can certainly understand that the rain might affect your day. Rainy days have their own charm and beauty too - they provide an opportunity to enjoy indoor activities or simply relax with a warm cup of tea while listening to the soothing sound of raindrops outside. If you need any suggestions for things to do on this cozy, rainy day, feel free to ask!'}, {'role': 'user', 'content': 'How is the weather?'}, {'role': 'assistant', 'content': \" The current weather conditions are quite typical for a rainy day - cloudy skies and gentle rain showers throughout most of the area. It's always good to check your local forecast or use a reliable weather app if you want more specific information about temperature, humidity levels, wind speed, etc., in real-time!\"}]}\n"
          ]
        }
      ],
      "source": [
        "# 8. 롤백 후 이어서 실행\n",
        "result_rollback = react_graph_memory.invoke({\"messages\": rollback_state[\"messages\"] +  [{\"role\": \"user\", \"content\": \"How is the weather?\"}]}, config)\n",
        "print(\"롤백 후 실행 결과:\", result_rollback)"
      ]
    },
    {
      "cell_type": "code",
      "execution_count": null,
      "id": "0f2217c2",
      "metadata": {
        "id": "0f2217c2"
      },
      "outputs": [],
      "source": []
    }
  ],
  "metadata": {
    "kernelspec": {
      "display_name": "base",
      "language": "python",
      "name": "python3"
    },
    "language_info": {
      "codemirror_mode": {
        "name": "ipython",
        "version": 3
      },
      "file_extension": ".py",
      "mimetype": "text/x-python",
      "name": "python",
      "nbconvert_exporter": "python",
      "pygments_lexer": "ipython3",
      "version": "3.11.5"
    },
    "colab": {
      "provenance": [],
      "include_colab_link": true
    }
  },
  "nbformat": 4,
  "nbformat_minor": 5
}