{
  "cells": [
    {
      "cell_type": "markdown",
      "metadata": {
        "id": "view-in-github",
        "colab_type": "text"
      },
      "source": [
        "<a href=\"https://colab.research.google.com/github/hail-members/llm-based-services/blob/main/Chapter_5_%EC%8B%A4%EC%8A%B5%EC%BD%94%EB%93%9C.ipynb\" target=\"_parent\"><img src=\"https://colab.research.google.com/assets/colab-badge.svg\" alt=\"Open In Colab\"/></a>"
      ]
    },
    {
      "cell_type": "code",
      "execution_count": 1,
      "metadata": {
        "colab": {
          "base_uri": "https://localhost:8080/"
        },
        "id": "gOu53y7xDF5I",
        "outputId": "04ec2d26-cf3e-44cc-e0f5-fac3fbefc93d"
      },
      "outputs": [
        {
          "output_type": "stream",
          "name": "stdout",
          "text": [
            "--2025-04-06 06:45:08--  https://korquad.github.io/dataset/KorQuAD_v1.0_train.json\n",
            "Resolving korquad.github.io (korquad.github.io)... 185.199.108.153, 185.199.109.153, 185.199.110.153, ...\n",
            "Connecting to korquad.github.io (korquad.github.io)|185.199.108.153|:443... connected.\n",
            "HTTP request sent, awaiting response... 200 OK\n",
            "Length: 38527475 (37M) [application/json]\n",
            "Saving to: ‘KorQuAD_v1.0_train.json’\n",
            "\n",
            "KorQuAD_v1.0_train. 100%[===================>]  36.74M   130MB/s    in 0.3s    \n",
            "\n",
            "2025-04-06 06:45:11 (130 MB/s) - ‘KorQuAD_v1.0_train.json’ saved [38527475/38527475]\n",
            "\n",
            "--2025-04-06 06:45:11--  https://korquad.github.io/dataset/KorQuAD_v1.0_dev.json\n",
            "Resolving korquad.github.io (korquad.github.io)... 185.199.108.153, 185.199.109.153, 185.199.110.153, ...\n",
            "Connecting to korquad.github.io (korquad.github.io)|185.199.108.153|:443... connected.\n",
            "HTTP request sent, awaiting response... 200 OK\n",
            "Length: 3881058 (3.7M) [application/json]\n",
            "Saving to: ‘KorQuAD_v1.0_dev.json’\n",
            "\n",
            "KorQuAD_v1.0_dev.js 100%[===================>]   3.70M  --.-KB/s    in 0.02s   \n",
            "\n",
            "2025-04-06 06:45:12 (233 MB/s) - ‘KorQuAD_v1.0_dev.json’ saved [3881058/3881058]\n",
            "\n",
            "Train Data Keys: dict_keys(['version', 'data'])\n",
            "Example Data: {'paragraphs': [{'qas': [{'answers': [{'text': '교향곡', 'answer_start': 54}], 'id': '6566495-0-0', 'question': '바그너는 괴테의 파우스트를 읽고 무엇을 쓰고자 했는가?'}, {'answers': [{'text': '1악장', 'answer_start': 421}], 'id': '6566495-0-1', 'question': '바그너는 교향곡 작곡을 어디까지 쓴 뒤에 중단했는가?'}, {'answers': [{'text': '베토벤의 교향곡 9번', 'answer_start': 194}], 'id': '6566495-0-2', 'question': '바그너가 파우스트 서곡을 쓸 때 어떤 곡의 영향을 받았는가?'}, {'answers': [{'text': '파우스트', 'answer_start': 15}], 'id': '6566518-0-0', 'question': '1839년 바그너가 교향곡의 소재로 쓰려고 했던 책은?'}, {'answers': [{'text': '합창교향곡', 'answer_start': 354}], 'id': '6566518-0-1', 'question': '파우스트 서곡의 라단조 조성이 영향을 받은 베토벤의 곡은?'}, {'answers': [{'text': '1839', 'answer_start': 0}], 'id': '5917067-0-0', 'question': '바그너가 파우스트를 처음으로 읽은 년도는?'}, {'answers': [{'text': '파리', 'answer_start': 410}], 'id': '5917067-0-1', 'question': '바그너가 처음 교향곡 작곡을 한 장소는?'}, {'answers': [{'text': '드레스덴', 'answer_start': 534}], 'id': '5917067-0-2', 'question': '바그너의 1악장의 초연은 어디서 연주되었는가?'}], 'context': '1839년 바그너는 괴테의 파우스트을 처음 읽고 그 내용에 마음이 끌려 이를 소재로 해서 하나의 교향곡을 쓰려는 뜻을 갖는다. 이 시기 바그너는 1838년에 빛 독촉으로 산전수전을 다 걲은 상황이라 좌절과 실망에 가득했으며 메피스토펠레스를 만나는 파우스트의 심경에 공감했다고 한다. 또한 파리에서 아브네크의 지휘로 파리 음악원 관현악단이 연주하는 베토벤의 교향곡 9번을 듣고 깊은 감명을 받았는데, 이것이 이듬해 1월에 파우스트의 서곡으로 쓰여진 이 작품에 조금이라도 영향을 끼쳤으리라는 것은 의심할 여지가 없다. 여기의 라단조 조성의 경우에도 그의 전기에 적혀 있는 것처럼 단순한 정신적 피로나 실의가 반영된 것이 아니라 베토벤의 합창교향곡 조성의 영향을 받은 것을 볼 수 있다. 그렇게 교향곡 작곡을 1839년부터 40년에 걸쳐 파리에서 착수했으나 1악장을 쓴 뒤에 중단했다. 또한 작품의 완성과 동시에 그는 이 서곡(1악장)을 파리 음악원의 연주회에서 연주할 파트보까지 준비하였으나, 실제로는 이루어지지는 않았다. 결국 초연은 4년 반이 지난 후에 드레스덴에서 연주되었고 재연도 이루어졌지만, 이후에 그대로 방치되고 말았다. 그 사이에 그는 리엔치와 방황하는 네덜란드인을 완성하고 탄호이저에도 착수하는 등 분주한 시간을 보냈는데, 그런 바쁜 생활이 이 곡을 잊게 한 것이 아닌가 하는 의견도 있다.'}, {'qas': [{'answers': [{'text': '한스 폰 뷜로', 'answer_start': 402}], 'id': '6566495-1-0', 'question': '바그너의 작품을 시인의 피로 쓰여졌다고 극찬한 것은 누구인가?'}, {'answers': [{'text': '리스트', 'answer_start': 23}], 'id': '6566495-1-1', 'question': '잊혀져 있는 파우스트 서곡 1악장을 부활시킨 것은 누구인가?'}, {'answers': [{'text': '20루이의 금', 'answer_start': 345}], 'id': '6566495-1-2', 'question': '바그너는 다시 개정된 총보를 얼마를 받고 팔았는가?'}, {'answers': [{'text': '리스트', 'answer_start': 23}], 'id': '6566518-1-0', 'question': '파우스트 교향곡을 부활시킨 사람은?'}, {'answers': [{'text': '한스 폰 뷜로', 'answer_start': 402}], 'id': '6566518-1-1', 'question': '파우스트 교향곡을 피아노 독주용으로 편곡한 사람은?'}, {'answers': [{'text': '리스트', 'answer_start': 23}], 'id': '5917067-1-0', 'question': '1악장을 부활시켜 연주한 사람은?'}, {'answers': [{'text': '한스 폰 뷜로', 'answer_start': 402}], 'id': '5917067-1-1', 'question': '파우스트 교향곡에 감탄하여 피아노곡으로 편곡한 사람은?'}, {'answers': [{'text': '1840년', 'answer_start': 3}], 'id': '5917067-1-2', 'question': '리스트가 바그너와 알게 된 연도는?'}], 'context': '한편 1840년부터 바그너와 알고 지내던 리스트가 잊혀져 있던 1악장을 부활시켜 1852년에 바이마르에서 연주했다. 이것을 계기로 바그너도 이 작품에 다시 관심을 갖게 되었고, 그 해 9월에는 총보의 반환을 요구하여 이를 서곡으로 간추린 다음 수정을 했고 브라이트코프흐 & 헤르텔 출판사에서 출판할 개정판도 준비했다. 1853년 5월에는 리스트가 이 작품이 수정되었다는 것을 인정했지만, 끝내 바그너의 출판 계획은 무산되고 말았다. 이후 1855년에 리스트가 자신의 작품 파우스트 교향곡을 거의 완성하여 그 사실을 바그너에게 알렸고, 바그너는 다시 개정된 총보를 리스트에게 보내고 브라이트코프흐 & 헤르텔 출판사에는 20루이의 금을 받고 팔았다. 또한 그의 작품을 “하나하나의 음표가 시인의 피로 쓰여졌다”며 극찬했던 한스 폰 뷜로가 그것을 피아노 독주용으로 편곡했는데, 리스트는 그것을 약간 변형되었을 뿐이라고 지적했다. 이 서곡의 총보 첫머리에는 파우스트 1부의 내용 중 한 구절을 인용하고 있다.'}, {'qas': [{'answers': [{'text': '주제, 동기', 'answer_start': 70}], 'id': '6566495-2-0', 'question': '서주에는 무엇이 암시되어 있는가?'}, {'answers': [{'text': '제1바이올린', 'answer_start': 148}], 'id': '6566495-2-1', 'question': '첫부분에는 어떤 악기를 사용해 더욱 명확하게 나타내는가?'}, {'answers': [{'text': '소나타 형식', 'answer_start': 272}], 'id': '6566495-2-2', 'question': '주요부는 어떤 형식으로 되어 있는가?'}, {'answers': [{'text': '저음 주제', 'answer_start': 102}], 'id': '6566518-2-0', 'question': '첫 부분의 주요주제를 암시하는 주제는?'}, {'answers': [{'text': 'D장조', 'answer_start': 409}], 'id': '6566518-2-1', 'question': '제2주제의 축소된 재현부의 조성은?'}, {'answers': [{'text': '4/4박자', 'answer_start': 35}], 'id': '5917067-2-0', 'question': '곡이 시작할때의 박자는?'}, {'answers': [{'text': '고뇌와 갈망 동기, 청춘의 사랑 동기', 'answer_start': 115}], 'id': '5917067-2-1', 'question': '이 곡의 주요 주제는?'}, {'answers': [{'text': 'D장조', 'answer_start': 409}], 'id': '5917067-2-2', 'question': '제 2주제에선 무슨 장조로 재현되는가?'}], 'context': '이 작품은 라단조, Sehr gehalten(아주 신중하게), 4/4박자의 부드러운 서주로 서주로 시작되는데, 여기에는 주요 주제, 동기의 대부분이 암시, 예고되어 있다. 첫 부분의 저음 주제는 주요 주제(고뇌와 갈망 동기, 청춘의 사랑 동기)를 암시하고 있으며, 제1바이올린으로 더욱 명확하게 나타난다. 또한 그것을 이어받는 동기도 중요한 역할을 한다. 여기에 새로운 소재가 더해진 뒤에 새로운 주제도 연주된다. 주요부는 Sehr bewegt(아주 격동적으로), 2/2박자의 자유로운 소나타 형식으로 매우 드라마틱한 구상과 유기적인 구성을 하고 있다. 여기에는 지금까지의 주제나 소재 외에도 오보에에 의한 선율과 제2주제를 떠올리게 하는 부차적인 주제가 더해지는데, 중간부에서는 약보3이 중심이 되고 제2주제는 축소된 재현부에서 D장조로 재현된다. 마지막에는 주요 주제를 회상하면서 조용히 마친다.'}], 'title': '파우스트_서곡'}\n"
          ]
        }
      ],
      "source": [
        "# Train 데이터 다운로드\n",
        "!wget https://korquad.github.io/dataset/KorQuAD_v1.0_train.json -O KorQuAD_v1.0_train.json\n",
        "\n",
        "# Dev 데이터 다운로드\n",
        "!wget https://korquad.github.io/dataset/KorQuAD_v1.0_dev.json -O KorQuAD_v1.0_dev.json\n",
        "\n",
        "import json\n",
        "\n",
        "# Train 데이터 로드\n",
        "with open(\"KorQuAD_v1.0_train.json\", \"r\", encoding=\"utf-8\") as f:\n",
        "    train_data = json.load(f)\n",
        "\n",
        "# Dev 데이터 로드\n",
        "with open(\"KorQuAD_v1.0_dev.json\", \"r\", encoding=\"utf-8\") as f:\n",
        "    dev_data = json.load(f)\n",
        "\n",
        "# 데이터 구조 확인\n",
        "print(\"Train Data Keys:\", train_data.keys())\n",
        "print(\"Example Data:\", train_data[\"data\"][0])  # 첫 번째 문단 출력"
      ]
    },
    {
      "cell_type": "code",
      "execution_count": 2,
      "metadata": {
        "id": "2OSS6vhbDH0p",
        "outputId": "09b089ab-cfdf-4498-dc82-76f82f929983",
        "colab": {
          "base_uri": "https://localhost:8080/",
          "height": 240,
          "referenced_widgets": [
            "fa190b0955584c009067ce8d26f1a0df",
            "6fc64016953f44208a0eddd10ac1e841",
            "f4071492bfa6482d9a7ef47973e88923",
            "9b3bd60b693f47ac9bff71df6a5d6ad7",
            "0b966589d7504202b8af23f8132afa9d",
            "97121d3fddce41d9999adaa1839fceb5",
            "b6d749818cbe4fdd9afa2f8e520ea0eb",
            "40fda7d7866e460ebdef18c6c28ca7ca",
            "e5350e97eb7a4a909fa4a73a069ae46b",
            "66449698d3204c21a7f9c9d4f931801a",
            "f08975417c10408dba08e753fcd6ea5d",
            "39d2c87c50df400fb67426fee0fa7f7a",
            "8901ff0d9ad9470f9a05115c6dbacd16",
            "63069ffbeb88492abcda597935a466ed",
            "4e8f831a530c40db98d49fdea5fec339",
            "82db66fbcbe140a5aaefc6274090dba7",
            "ba682f85c3b74d3cbc6def8a8f564d30",
            "bd51ae87f3de4c0fbe27e8834035a48a",
            "adffbd28d01843f284ee01892959241b",
            "5be183182b6e40959d9cfd252ea8fb4c",
            "7947645fd6ec4601a9100239f38d4a56",
            "c09e7349cf1a4614b38fd9ad1eb5943e",
            "79477251b66d4ee48943c6b9749f5e75",
            "e31f2723071d4a9891e6c4fe524ee22b",
            "a42eea9bf25f4de3ad5d3efb0419e3d2",
            "93a552f0192c47d1a77f4d8bec4e18d9",
            "6686e0173b88430c80ff75756eb69948",
            "69cb17aa1df941abad50a83686184480",
            "ed1e205cdbd94ca7b5753e20246af0be",
            "f7362c98b01047fba129cc59fa56b70b",
            "5ba14161f9ba4988afe0323a7be80f7e",
            "b0daba2df9784e0cb52f4ddd20b11847",
            "651ffb7f555042bea8032ff9068a53c3"
          ]
        }
      },
      "outputs": [
        {
          "output_type": "stream",
          "name": "stderr",
          "text": [
            "/usr/local/lib/python3.11/dist-packages/huggingface_hub/utils/_auth.py:94: UserWarning: \n",
            "The secret `HF_TOKEN` does not exist in your Colab secrets.\n",
            "To authenticate with the Hugging Face Hub, create a token in your settings tab (https://huggingface.co/settings/tokens), set it as secret in your Google Colab and restart your session.\n",
            "You will be able to reuse this secret in all of your notebooks.\n",
            "Please note that authentication is recommended but still optional to access public models or datasets.\n",
            "  warnings.warn(\n"
          ]
        },
        {
          "output_type": "display_data",
          "data": {
            "text/plain": [
              "config.json:   0%|          | 0.00/1.00k [00:00<?, ?B/s]"
            ],
            "application/vnd.jupyter.widget-view+json": {
              "version_major": 2,
              "version_minor": 0,
              "model_id": "fa190b0955584c009067ce8d26f1a0df"
            }
          },
          "metadata": {}
        },
        {
          "output_type": "display_data",
          "data": {
            "text/plain": [
              "tokenizer.json:   0%|          | 0.00/2.83M [00:00<?, ?B/s]"
            ],
            "application/vnd.jupyter.widget-view+json": {
              "version_major": 2,
              "version_minor": 0,
              "model_id": "39d2c87c50df400fb67426fee0fa7f7a"
            }
          },
          "metadata": {}
        },
        {
          "output_type": "display_data",
          "data": {
            "text/plain": [
              "pytorch_model.bin:   0%|          | 0.00/513M [00:00<?, ?B/s]"
            ],
            "application/vnd.jupyter.widget-view+json": {
              "version_major": 2,
              "version_minor": 0,
              "model_id": "79477251b66d4ee48943c6b9749f5e75"
            }
          },
          "metadata": {}
        }
      ],
      "source": [
        "# 라이브러리 임포트\n",
        "import torch\n",
        "from transformers import GPT2LMHeadModel, AutoTokenizer\n",
        "from torch.utils.data import Dataset, DataLoader\n",
        "\n",
        "\n",
        "# KoGPT2 모델과 토크나이저 로드\n",
        "model_name = \"skt/kogpt2-base-v2\"\n",
        "tokenizer = AutoTokenizer.from_pretrained(\n",
        "    model_name,\n",
        "    bos_token='</s>',\n",
        "    eos_token='</s>',\n",
        "    unk_token='<unk>',\n",
        "    pad_token='<pad>',\n",
        "    mask_token='<mask>'\n",
        ")\n",
        "tokenizer.add_special_tokens({'additional_special_tokens': ['<usr>', '<sys>']})\n",
        "model = GPT2LMHeadModel.from_pretrained(model_name)"
      ]
    },
    {
      "cell_type": "code",
      "execution_count": 3,
      "metadata": {
        "id": "r7XvIoTwDChF"
      },
      "outputs": [],
      "source": [
        "# 데이터셋 정의 (질문과 답변을 GPT2 입력 형식으로 변환)\n",
        "class KorQuADDataset(Dataset):\n",
        "    def __init__(self, data, tokenizer, max_length=30):\n",
        "        self.data = data[\"data\"]\n",
        "        self.tokenizer = tokenizer\n",
        "        self.max_length = max_length\n",
        "        self.total_qas = []  # 모든 질문-답변 쌍을 저장\n",
        "\n",
        "        # 전체 질문-답변 쌍을 리스트로 저장\n",
        "        for article in self.data:\n",
        "            for paragraph in article[\"paragraphs\"]:\n",
        "                for qa in paragraph[\"qas\"]:\n",
        "                    self.total_qas.append((paragraph[\"context\"], qa))\n",
        "\n",
        "    def __len__(self):\n",
        "        return len(self.total_qas)\n",
        "\n",
        "    def __getitem__(self, idx):\n",
        "        context, qa = self.total_qas[idx]\n",
        "        question = qa[\"question\"]\n",
        "        answer = qa[\"answers\"][0][\"text\"]\n",
        "\n",
        "        # 전체 시퀀스 생성 (질문+답변)\n",
        "        full_text = f\"<usr> {question} </s> <sys> {answer} </s>\"\n",
        "\n",
        "        # 통합 토큰화\n",
        "        encoding = self.tokenizer(\n",
        "            full_text,\n",
        "            max_length=self.max_length,\n",
        "            truncation=True,\n",
        "            padding=\"max_length\",\n",
        "            return_tensors=\"pt\"\n",
        "        )\n",
        "\n",
        "        # 레이블 마스킹 처리\n",
        "        input_ids = encoding.input_ids.squeeze()\n",
        "\n",
        "        labels = torch.full(input_ids.shape, fill_value=self.tokenizer.pad_token_id)  # 패딩 값으로 채운 텐서\n",
        "        labels[:-1] = input_ids[1:]  # 두 번째부터 마지막까지\n",
        "\n",
        "        return {\n",
        "            \"input_ids\": input_ids,\n",
        "            \"labels\": labels\n",
        "        }\n",
        "\n",
        "\n",
        "train_dataset = KorQuADDataset(train_data, tokenizer)\n",
        "dev_dataset = KorQuADDataset(dev_data, tokenizer)\n",
        "\n",
        "train_dataloader = DataLoader(train_dataset, batch_size=4, shuffle=True)\n",
        "dev_dataloader = DataLoader(dev_dataset, batch_size=4)\n"
      ]
    },
    {
      "cell_type": "code",
      "execution_count": 4,
      "metadata": {
        "colab": {
          "base_uri": "https://localhost:8080/"
        },
        "id": "NpjlG5QqfED8",
        "outputId": "2c187090-2680-4adc-cadc-1ad89ff625cc"
      },
      "outputs": [
        {
          "output_type": "stream",
          "name": "stdout",
          "text": [
            "tensor([    2, 25565,  9772,   420, 37082,   424,   431, 18258,  8143, 12925,\n",
            "         7182,  9024, 23127, 12743,  9774,   739,  9565, 11084,  9469,  9522,\n",
            "        13573,  9168,  9580,  9025,  9341,  9024,  7281,  7609, 10062, 10319])\n",
            "torch.Size([4, 30])\n",
            "tensor([25565,  9772,   420, 37082,   424,   431, 18258,  8143, 12925,  7182,\n",
            "         9024, 23127, 12743,  9774,   739,  9565, 11084,  9469,  9522, 13573,\n",
            "         9168,  9580,  9025,  9341,  9024,  7281,  7609, 10062, 10319,     3])\n",
            "torch.Size([4, 30])\n"
          ]
        }
      ],
      "source": [
        "# 저장된 데이터 보기\n",
        "for batch in train_dataloader:\n",
        "    print(batch['input_ids'][0])\n",
        "    print(batch['input_ids'].shape)\n",
        "    print(batch['labels'][0])\n",
        "    print(batch['labels'].shape)\n",
        "    # print(tokenizer.decode(batch[\"input_ids\"][0], skip_special_tokens=False))\n",
        "    break"
      ]
    },
    {
      "cell_type": "code",
      "execution_count": 5,
      "metadata": {
        "colab": {
          "base_uri": "https://localhost:8080/",
          "height": 156,
          "referenced_widgets": [
            "88b150084c3444f685c528157b970a4b",
            "5b31d2234b454ff28803f1c1d6ea328a",
            "1a1db4cf77cf41b38cd24f059a5599b7",
            "930edf1ea38a473e9982eb7c5d25ac64",
            "cc308cff41a7438aa8da7dead0486f61",
            "2d1409d11aef4df4be63234d8486c82b",
            "32c7b78830c84db0901f80688116d870",
            "9403f3a4c9d44653b2e0161a5e8c9d2f",
            "d9819579387e4e3fab8c610925536ac1",
            "08616aea01fd47e0a57d2cf1dfbf1576",
            "95ea1a73ee854413bc5ddf618a01e5be"
          ]
        },
        "id": "gBCOj_9vDOC3",
        "outputId": "1b37188f-bdff-4566-8cec-e64207b9ce3a"
      },
      "outputs": [
        {
          "output_type": "display_data",
          "data": {
            "text/plain": [
              "model.safetensors:   0%|          | 0.00/513M [00:00<?, ?B/s]"
            ],
            "application/vnd.jupyter.widget-view+json": {
              "version_major": 2,
              "version_minor": 0,
              "model_id": "88b150084c3444f685c528157b970a4b"
            }
          },
          "metadata": {}
        },
        {
          "output_type": "stream",
          "name": "stdout",
          "text": [
            "질문: 인공지능이란?\n",
            "컨텍스트: \n",
            "생성된 답변: 인공지능이란?   \n",
            ", , . (중략) 이번에 출시된 신제품은 '스마트폰용 스마트패드'다.\n",
            "이 제품은 스마트폰을 통해 다양한 콘텐츠를 즐길 수 있는 것이 특징이다.\n",
            "특히 기존 제품보다 최대 2배 이상 빠른 속도로 데이터를 전송\n"
          ]
        }
      ],
      "source": [
        "# GPU 사용 설정\n",
        "device = torch.device(\"cuda\" if torch.cuda.is_available() else \"cpu\")\n",
        "model.to(device)\n",
        "\n",
        "# 문장 생성 함수 정의\n",
        "def generate_sentence(model, seed_text, max_length=50):\n",
        "    input_ids = tokenizer.encode(seed_text, return_tensors=\"pt\").to(device)\n",
        "    gen_ids = model.generate(\n",
        "        input_ids,\n",
        "        max_length=max_length,\n",
        "        repetition_penalty=2.0,\n",
        "        pad_token_id=tokenizer.pad_token_id,\n",
        "        eos_token_id=tokenizer.eos_token_id,\n",
        "        bos_token_id=tokenizer.bos_token_id,\n",
        "        use_cache=True,\n",
        "    )\n",
        "    generated_text = tokenizer.decode(gen_ids[0], skip_special_tokens=True)\n",
        "    return generated_text\n",
        "\n",
        "question = \"인공지능이란?\"\n",
        "context = \"\"\n",
        "\n",
        "# 입력 텍스트 생성\n",
        "input_text = f\"<usr> {question} <sys> {context} </s>\"\n",
        "input_ids = tokenizer.encode(\n",
        "    input_text,\n",
        "    max_length=100,\n",
        "    truncation=True,\n",
        "    padding=\"max_length\",\n",
        "    return_tensors=\"pt\"\n",
        ").to(model.device)\n",
        "\n",
        "# KoGPT2로 문장 생성\n",
        "model.eval()\n",
        "with torch.no_grad():\n",
        "    output_ids = model.generate(\n",
        "        input_ids=input_ids,\n",
        "        max_length=150,\n",
        "        repetition_penalty=2.0,\n",
        "        pad_token_id=tokenizer.pad_token_id,\n",
        "        eos_token_id=tokenizer.eos_token_id,\n",
        "        bos_token_id=tokenizer.bos_token_id,\n",
        "    )\n",
        "\n",
        "generated_text = tokenizer.decode(output_ids[0], skip_special_tokens=True)\n",
        "\n",
        "# 결과 출력\n",
        "print(f\"질문: {question}\")\n",
        "print(f\"컨텍스트: {context}\")\n",
        "print(f\"생성된 답변: {generated_text}\")\n"
      ]
    },
    {
      "cell_type": "code",
      "execution_count": null,
      "metadata": {
        "colab": {
          "base_uri": "https://localhost:8080/",
          "height": 1000
        },
        "id": "B6WRRPS1DQ53",
        "outputId": "4d8959db-86dc-4180-f123-2dabe67d0758"
      },
      "outputs": [
        {
          "output_type": "stream",
          "name": "stderr",
          "text": [
            "\n",
            "Epoch 1:   0%|          | 0/15102 [00:00<?, ?it/s]\u001b[AWe strongly recommend passing in an `attention_mask` since your input_ids may be padded. See https://huggingface.co/docs/transformers/troubleshooting#incorrect-output-when-padding-tokens-arent-masked.\n",
            "`loss_type=None` was set in the config but it is unrecognised.Using the default loss: `ForCausalLMLoss`.\n"
          ]
        },
        {
          "output_type": "stream",
          "name": "stdout",
          "text": [
            "질문: <usr> 미국은 고립주의를 언제까지 취했나?  </s> <sys> 19세기 </s><pad><pad><pad><pad><pad><pad><pad><pad><pad><pad><pad><pad>\n"
          ]
        },
        {
          "output_type": "stream",
          "name": "stderr",
          "text": [
            "\n",
            "Epoch 1:   0%|          | 0/15102 [00:01<?, ?it/s, Batch Loss=12.6]\u001b[A\n",
            "Epoch 1:   0%|          | 1/15102 [00:01<4:40:36,  1.11s/it, Batch Loss=12.6]\u001b[A\n",
            "Epoch 1:   0%|          | 1/15102 [00:01<4:40:36,  1.11s/it, Batch Loss=14.8]\u001b[A\n",
            "Epoch 1:   0%|          | 2/15102 [00:01<2:12:11,  1.90it/s, Batch Loss=14.8]\u001b[A\n",
            "Epoch 1:   0%|          | 2/15102 [00:01<2:12:11,  1.90it/s, Batch Loss=10.5]\u001b[A"
          ]
        },
        {
          "output_type": "stream",
          "name": "stdout",
          "text": [
            "질문: <usr> EXO의 2016년 리패키지 앨범이름은? </s> <sys> 《LOTTO》 </s><pad><pad><pad>\n",
            "질문: <usr> 에나쓰 유타카가 닛폰햄에서 이적한 팀은? </s> <sys> 세이부 라이온스 </s><pad><pad><pad><pad>\n"
          ]
        },
        {
          "output_type": "stream",
          "name": "stderr",
          "text": [
            "\n",
            "Epoch 1:   0%|          | 2/15102 [00:01<2:12:11,  1.90it/s, Batch Loss=15.9]\u001b[A\n",
            "Epoch 1:   0%|          | 4/15102 [00:01<1:04:58,  3.87it/s, Batch Loss=15.9]\u001b[A\n",
            "Epoch 1:   0%|          | 4/15102 [00:01<1:04:58,  3.87it/s, Batch Loss=14.8]\u001b[A"
          ]
        },
        {
          "output_type": "stream",
          "name": "stdout",
          "text": [
            "질문: <usr> 선발로 내정되었지만 시즌 초 부상을 당해 마운드에 서지 못한 투수는? </s> <sys> 에드 클렙퍼 </s><pad><pad><pad><pad>\n",
            "질문: <usr> Rose 에피소드의 스토리보드 아티스트는 누구인가? </s> <sys> 앤서니 윌리엄스 </s><pad><pad><pad><pad><pad>\n",
            "질문: <usr> 바보 왕은 어떤 사람에게 왕관을 씌어주는 것인가? </s> <sys> 가장 못생긴 사람 </s><pad><pad><pad><pad><pad><pad><pad><pad>\n"
          ]
        },
        {
          "output_type": "stream",
          "name": "stderr",
          "text": [
            "\n",
            "Epoch 1:   0%|          | 4/15102 [00:01<1:04:58,  3.87it/s, Batch Loss=24.9]\u001b[A\n",
            "Epoch 1:   0%|          | 6/15102 [00:01<45:15,  5.56it/s, Batch Loss=24.9]  \u001b[A\n",
            "Epoch 1:   0%|          | 6/15102 [00:01<45:15,  5.56it/s, Batch Loss=17.7]\u001b[A\n",
            "Epoch 1:   0%|          | 6/15102 [00:01<45:15,  5.56it/s, Batch Loss=15.2]\u001b[A\n",
            "Epoch 1:   0%|          | 8/15102 [00:01<36:14,  6.94it/s, Batch Loss=15.2]\u001b[A"
          ]
        },
        {
          "output_type": "stream",
          "name": "stdout",
          "text": [
            "질문: <usr> 자치단체국제환경협의회의의 의장도시는 경상남도 어느 시인가? </s> <sys> 창원시 </s><pad><pad><pad><pad><pad><pad><pad>\n",
            "질문: <usr> 인구 수와 공화국이 커질수록 파벌의 조직화는 더 어려워질거라고 가정한 메디슨의 저서는? </s> <sys> 연방주의자 10번 \n",
            "질문: <usr> 공격 삼각 편대는 뭐라고 불리우는가? </s> <sys> BBC </s><pad><pad><pad><pad><pad><pad><pad><pad><pad><pad><pad>\n"
          ]
        },
        {
          "output_type": "stream",
          "name": "stderr",
          "text": [
            "\n",
            "Epoch 1:   0%|          | 8/15102 [00:01<36:14,  6.94it/s, Batch Loss=12.9]\u001b[A\n",
            "Epoch 1:   0%|          | 8/15102 [00:01<36:14,  6.94it/s, Batch Loss=12.9]\u001b[A\n",
            "Epoch 1:   0%|          | 10/15102 [00:01<31:09,  8.07it/s, Batch Loss=12.9]\u001b[A\n",
            "Epoch 1:   0%|          | 10/15102 [00:02<31:09,  8.07it/s, Batch Loss=11.8]\u001b[A"
          ]
        },
        {
          "output_type": "stream",
          "name": "stdout",
          "text": [
            "질문: <usr> 피어슨이 편집장으로 있었으며 언더우드가 조선거주 편집통신원으로 활동한 곳은? </s> <sys> 세계선교평론 </s><pad><pad><pad><pad>\n",
            "질문: <usr> 독일 혼욕 사우나의 기원은? </s> <sys> 고대 로마 </s><pad><pad><pad><pad><pad><pad><pad><pad><pad><pad><pad><pad><pad><pad>\n",
            "질문: <usr> 최근 장대높이뛰기의 장대를 만드는데 쓰이는 것은? </s> <sys> 글라스 파이버 </s><pad><pad><pad><pad><pad><pad><pad><pad><pad>\n"
          ]
        },
        {
          "output_type": "stream",
          "name": "stderr",
          "text": [
            "\n",
            "Epoch 1:   0%|          | 10/15102 [00:02<31:09,  8.07it/s, Batch Loss=12.7]\u001b[A\n",
            "Epoch 1:   0%|          | 12/15102 [00:02<27:55,  9.01it/s, Batch Loss=12.7]\u001b[A\n",
            "Epoch 1:   0%|          | 12/15102 [00:02<27:55,  9.01it/s, Batch Loss=11.7]\u001b[A\n",
            "Epoch 1:   0%|          | 12/15102 [00:02<27:55,  9.01it/s, Batch Loss=12.6]\u001b[A\n",
            "Epoch 1:   0%|          | 14/15102 [00:02<26:07,  9.62it/s, Batch Loss=12.6]\u001b[A"
          ]
        },
        {
          "output_type": "stream",
          "name": "stdout",
          "text": [
            "질문: <usr> 마리오가 결혼한 상대의 이름은? </s> <sys> 베아트리체 </s><pad><pad><pad><pad><pad><pad><pad><pad><pad><pad><pad><pad>\n",
            "질문: <usr> 박근혜가 육영수의 기념사업을 도왔다고 언급하 인물은? </s> <sys> 최태민 </s><pad><pad><pad><pad><pad>\n",
            "질문: <usr> 알로사우루스 텐다구렌시스 화석이 발견된 나라의 이름은? </s> <sys> 탄자니아 </s><pad><pad><pad><pad><pad><pad><pad>\n"
          ]
        },
        {
          "output_type": "stream",
          "name": "stderr",
          "text": [
            "\n",
            "Epoch 1:   0%|          | 14/15102 [00:02<26:07,  9.62it/s, Batch Loss=13.7]\u001b[A\n",
            "Epoch 1:   0%|          | 14/15102 [00:02<26:07,  9.62it/s, Batch Loss=12.2]\u001b[A\n",
            "Epoch 1:   0%|          | 16/15102 [00:02<26:01,  9.66it/s, Batch Loss=12.2]\u001b[A\n",
            "Epoch 1:   0%|          | 16/15102 [00:02<26:01,  9.66it/s, Batch Loss=14.1]\u001b[A"
          ]
        },
        {
          "output_type": "stream",
          "name": "stdout",
          "text": [
            "질문: <usr> 스위프트의 리드 싱글이 발표된 이후 몇 장이 싱글을 더 발매했는가? </s> <sys> 세 장 </s><pad><pad><pad><pad>\n",
            "질문: <usr> 2017년 대한민국 국회 내 여성 비율은? </s> <sys> 17% </s><pad><pad><pad><pad><pad><pad><pad><pad><pad><pad><pad><pad><pad>\n",
            "질문: <usr> 사건 당시 아메리칸 항공 11편과는 달리 뉴욕 항공 노선 관제센터로부터  이 항공기를 관찰할 수 있도록 했던 장치는 무엇인가? </s> <sys>\n"
          ]
        },
        {
          "output_type": "stream",
          "name": "stderr",
          "text": [
            "\n",
            "Epoch 1:   0%|          | 16/15102 [00:02<26:01,  9.66it/s, Batch Loss=11.2]\u001b[A\n",
            "Epoch 1:   0%|          | 18/15102 [00:02<25:50,  9.73it/s, Batch Loss=11.2]\u001b[A\n",
            "Epoch 1:   0%|          | 18/15102 [00:02<25:50,  9.73it/s, Batch Loss=11.2]\u001b[A\n",
            "Epoch 1:   0%|          | 18/15102 [00:02<25:50,  9.73it/s, Batch Loss=10.3]\u001b[A\n",
            "Epoch 1:   0%|          | 20/15102 [00:02<25:39,  9.80it/s, Batch Loss=10.3]\u001b[A"
          ]
        },
        {
          "output_type": "stream",
          "name": "stdout",
          "text": [
            "질문: <usr> 쏘나타의 누적판매량이 한국에서만 100만대를 돌파한 년도는?  </s> <sys> 1996년 </s><pad><pad><pad><pad><pad><pad>\n",
            "질문: <usr> 김정은은 공화정 지도자의 몇대 권력세습자인가? </s> <sys> 3대 </s><pad><pad><pad><pad><pad><pad><pad><pad>\n",
            "질문: <usr> 레닌과 트로츠키의 동료들을 다룬 하임의 소설 제목은 무엇일까? </s> <sys> 라덱 </s><pad><pad><pad><pad><pad><pad><pad><pad>\n"
          ]
        },
        {
          "output_type": "stream",
          "name": "stderr",
          "text": [
            "\n",
            "Epoch 1:   0%|          | 20/15102 [00:03<25:39,  9.80it/s, Batch Loss=10.8]\u001b[A\n",
            "Epoch 1:   0%|          | 20/15102 [00:03<25:39,  9.80it/s, Batch Loss=11]  \u001b[A\n",
            "Epoch 1:   0%|          | 22/15102 [00:03<25:36,  9.81it/s, Batch Loss=11]\u001b[A\n",
            "Epoch 1:   0%|          | 22/15102 [00:03<25:36,  9.81it/s, Batch Loss=9.1]\u001b[A"
          ]
        },
        {
          "output_type": "stream",
          "name": "stdout",
          "text": [
            "질문: <usr> 영국의 개신교 신자들인 청교도들이 아프리카에 무엇을 타고 왔는가? </s> <sys> 메이플라워호 </s><pad><pad><pad><pad><pad><pad>\n",
            "질문: <usr> 나폴레옹이 고위지휘관들에게 준 하사금은 몇 프랑인가? </s> <sys> 200만 프랑 </s><pad><pad><pad><pad><pad><pad><pad><pad><pad>\n"
          ]
        },
        {
          "output_type": "stream",
          "name": "stderr",
          "text": [
            "\n",
            "Epoch 1:   0%|          | 22/15102 [00:03<25:36,  9.81it/s, Batch Loss=10.2]\u001b[A\n",
            "Epoch 1:   0%|          | 24/15102 [00:03<25:29,  9.86it/s, Batch Loss=10.2]\u001b[A\n",
            "Epoch 1:   0%|          | 24/15102 [00:03<25:29,  9.86it/s, Batch Loss=11.4]\u001b[A"
          ]
        },
        {
          "output_type": "stream",
          "name": "stdout",
          "text": [
            "질문: <usr> EU는 기자클럽의 어떠한 점들을 비판하였는가? </s> <sys> 폐쇄성과 배타성 </s><pad><pad><pad><pad><pad><pad>\n",
            "질문: <usr> 칼뱅의 첫 신학적 작품으로 재세례파들의 이론에 반박하기 위한 것은? </s> <sys> 영혼의 수면 </s><pad><pad><pad><pad><pad>\n"
          ]
        },
        {
          "output_type": "stream",
          "name": "stderr",
          "text": [
            "\n",
            "Epoch 1:   0%|          | 24/15102 [00:03<25:29,  9.86it/s, Batch Loss=10.6]\u001b[A\n",
            "Epoch 1:   0%|          | 26/15102 [00:03<25:46,  9.75it/s, Batch Loss=10.6]\u001b[A\n",
            "Epoch 1:   0%|          | 26/15102 [00:03<25:46,  9.75it/s, Batch Loss=12.1]\u001b[A"
          ]
        },
        {
          "output_type": "stream",
          "name": "stdout",
          "text": [
            "질문: <usr> 1969년 9월 20일 비틀즈와 결별하고 싶다고 이야기한 인물은 누구인가? </s> <sys> 존 레논 </s><pad><pad><pad><pad><pad>\n",
            "질문: <usr> 동일본대지진은 몇개의 지진이 합쳐져서 일어난 지진인가? </s> <sys> 3개 </s><pad><pad><pad><pad><pad><pad><pad><pad><pad>\n",
            "질문: <usr> 동성애 관계는 어떤 학문의 측면에서 볼때 이성애 관계와 동등한가? </s> <sys> 심리학 </s><pad><pad><pad><pad><pad><pad><pad><pad><pad>\n"
          ]
        },
        {
          "output_type": "stream",
          "name": "stderr",
          "text": [
            "\n",
            "Epoch 1:   0%|          | 26/15102 [00:03<25:46,  9.75it/s, Batch Loss=10.9]\u001b[A\n",
            "Epoch 1:   0%|          | 28/15102 [00:03<24:45, 10.15it/s, Batch Loss=10.9]\u001b[A\n",
            "Epoch 1:   0%|          | 28/15102 [00:03<24:45, 10.15it/s, Batch Loss=9.46]\u001b[A\n",
            "Epoch 1:   0%|          | 28/15102 [00:03<24:45, 10.15it/s, Batch Loss=13.1]\u001b[A\n",
            "Epoch 1:   0%|          | 30/15102 [00:03<23:40, 10.61it/s, Batch Loss=13.1]\u001b[A"
          ]
        },
        {
          "output_type": "stream",
          "name": "stdout",
          "text": [
            "질문: <usr> 일본에서 수양버들은 가로수의 몇퍼센트를 차지하는가? </s> <sys> 10퍼센트 </s><pad><pad><pad><pad><pad><pad><pad><pad><pad>\n",
            "질문: <usr> SETI 방법에는 수동적 외계 지능찾기와 함께 어떠한 방법이 있나요? </s> <sys> 능동적 외계 지능 찾기 </s><pad>\n",
            "질문: <usr> 숙명여대 한영실 총장이 2010년 한국언론인협회의 참교육 대상에서 수상한 부분은? </s> <sys> 인재 </s><pad><pad>\n"
          ]
        },
        {
          "output_type": "stream",
          "name": "stderr",
          "text": [
            "\n",
            "Epoch 1:   0%|          | 30/15102 [00:03<23:40, 10.61it/s, Batch Loss=10.2]\u001b[A\n",
            "Epoch 1:   0%|          | 30/15102 [00:04<23:40, 10.61it/s, Batch Loss=9.76]\u001b[A\n",
            "Epoch 1:   0%|          | 32/15102 [00:04<23:00, 10.92it/s, Batch Loss=9.76]\u001b[A\n",
            "Epoch 1:   0%|          | 32/15102 [00:04<23:00, 10.92it/s, Batch Loss=11.4]\u001b[A"
          ]
        },
        {
          "output_type": "stream",
          "name": "stdout",
          "text": [
            "질문: <usr> 브이 포 벤데타에서 브이의 역사적 영감을 가져온 것은 무엇인가?  </s> <sys> 화약 음모 사건 </s><pad><pad><pad><pad><pad>\n",
            "질문: <usr> 파티마 칼리프조의 알하킴 비아므르가 이집트, 시리아, 팔레스타인 인근의 모든 교회와 법당을 파괴하는 것을 감독한 시기는? </s> <sys>\n",
            "질문: <usr> 민사소송에서 항소란 제 1심의 무엇에 대해 불복하여 상소하는 것을 말하는가? </s> <sys> 종국 판결 </s><pad><pad>\n"
          ]
        },
        {
          "output_type": "stream",
          "name": "stderr",
          "text": [
            "\n",
            "Epoch 1:   0%|          | 32/15102 [00:04<23:00, 10.92it/s, Batch Loss=8.29]\u001b[A\n",
            "Epoch 1:   0%|          | 34/15102 [00:04<22:29, 11.16it/s, Batch Loss=8.29]\u001b[A\n",
            "Epoch 1:   0%|          | 34/15102 [00:04<22:29, 11.16it/s, Batch Loss=12]  \u001b[A\n",
            "Epoch 1:   0%|          | 34/15102 [00:04<22:29, 11.16it/s, Batch Loss=10.7]\u001b[A\n",
            "Epoch 1:   0%|          | 36/15102 [00:04<22:07, 11.35it/s, Batch Loss=10.7]\u001b[A"
          ]
        },
        {
          "output_type": "stream",
          "name": "stdout",
          "text": [
            "질문: <usr> 레이디 가가를 역사상 패션 아이콘 100인 목록에 상위권으로 선정한 잡지는? </s> <sys> 타임지 </s><pad>\n",
            "질문: <usr> 서티모르 지역의 상당부분이 네덜란드 동인도 회사의 영향력 아래 놓이게 된 전환점은? </s> <sys> 펜푸이 전투 </s><pad><pad><pad>\n",
            "질문: <usr> 생체세포 DNA 분자에 영향을 미치는 영양소는 무엇을 섭취함으로써 얻는가? </s> <sys> 식품 </s><pad><pad><pad><pad><pad><pad><pad>\n"
          ]
        },
        {
          "output_type": "stream",
          "name": "stderr",
          "text": [
            "\n",
            "Epoch 1:   0%|          | 36/15102 [00:04<22:07, 11.35it/s, Batch Loss=12.2]\u001b[A\n",
            "Epoch 1:   0%|          | 36/15102 [00:04<22:07, 11.35it/s, Batch Loss=9.85]\u001b[A\n",
            "Epoch 1:   0%|          | 38/15102 [00:04<22:05, 11.37it/s, Batch Loss=9.85]\u001b[A\n",
            "Epoch 1:   0%|          | 38/15102 [00:04<22:05, 11.37it/s, Batch Loss=7.29]\u001b[A"
          ]
        },
        {
          "output_type": "stream",
          "name": "stdout",
          "text": [
            "질문: <usr> 조에쓰 신칸센과 나가노 신칸센 노선을 운행하기 시작한 년도는? </s> <sys> 2001년부터 </s><pad><pad>\n",
            "질문: <usr> 베스트팔렌 조약을 체결하기 위한 준비가 무산된 년도는? </s> <sys> 1648년 </s><pad><pad><pad><pad><pad><pad><pad><pad>\n",
            "질문: <usr> 계유지변의 주모자 중 하나로 반란실패 후 자결한 인물은? </s> <sys> 이문성 </s><pad><pad><pad><pad><pad><pad>\n"
          ]
        },
        {
          "output_type": "stream",
          "name": "stderr",
          "text": [
            "\n",
            "Epoch 1:   0%|          | 38/15102 [00:04<22:05, 11.37it/s, Batch Loss=9.66]\u001b[A\n",
            "Epoch 1:   0%|          | 40/15102 [00:04<22:01, 11.40it/s, Batch Loss=9.66]\u001b[A\n",
            "Epoch 1:   0%|          | 40/15102 [00:04<22:01, 11.40it/s, Batch Loss=9.58]\u001b[A\n",
            "Epoch 1:   0%|          | 40/15102 [00:04<22:01, 11.40it/s, Batch Loss=10.9]\u001b[A\n",
            "Epoch 1:   0%|          | 42/15102 [00:04<21:51, 11.48it/s, Batch Loss=10.9]\u001b[A"
          ]
        },
        {
          "output_type": "stream",
          "name": "stdout",
          "text": [
            "질문: <usr> 이시미네 가즈히코가 1983년 8월 26일 출전한 경기의 상대팀은? </s> <sys> 긴테쓰 버펄로스 </s>\n",
            "질문: <usr> 비영어권 음반이 빌보드 200 차트에서 1위를 기록한 것은 몇 년 만인가? </s> <sys> 12년 </s><pad><pad><pad><pad>\n",
            "질문: <usr> 2007년 박근혜가 전두환의 자금을 받았다고 시인한 사실로 확인된 곳은? </s> <sys> 인사검증회 </s><pad><pad><pad><pad>\n"
          ]
        },
        {
          "output_type": "stream",
          "name": "stderr",
          "text": [
            "\n",
            "Epoch 1:   0%|          | 42/15102 [00:05<21:51, 11.48it/s, Batch Loss=11.5]\u001b[A\n",
            "Epoch 1:   0%|          | 42/15102 [00:05<21:51, 11.48it/s, Batch Loss=13.1]\u001b[A\n",
            "Epoch 1:   0%|          | 44/15102 [00:05<21:46, 11.52it/s, Batch Loss=13.1]\u001b[A\n",
            "Epoch 1:   0%|          | 44/15102 [00:05<21:46, 11.52it/s, Batch Loss=9.64]\u001b[A"
          ]
        },
        {
          "output_type": "stream",
          "name": "stdout",
          "text": [
            "질문: <usr> 멘델스존, 슈만, 베를리오즈, 로시니, 쇼팽, 마이어베이등이 중심으로 활동한 전성기시대는? </s> <sys> 낭만\n",
            "질문: <usr> 하지원이 가수로 처음 활동하게 된 노래의 제목은 무엇인가? </s> <sys> 홈런 </s><pad><pad><pad><pad><pad><pad><pad><pad><pad>\n",
            "질문: <usr> 10월 29일 서울 종로구에 위치한 청계광장에서 투쟁본부가 주최한 촛불집회가 시작한 시간은? </s> <sys> 오후 6시 \n"
          ]
        },
        {
          "output_type": "stream",
          "name": "stderr",
          "text": [
            "\n",
            "Epoch 1:   0%|          | 44/15102 [00:05<21:46, 11.52it/s, Batch Loss=9.02]\u001b[A\n",
            "Epoch 1:   0%|          | 46/15102 [00:05<21:32, 11.65it/s, Batch Loss=9.02]\u001b[A\n",
            "Epoch 1:   0%|          | 46/15102 [00:05<21:32, 11.65it/s, Batch Loss=7.94]\u001b[A\n",
            "Epoch 1:   0%|          | 46/15102 [00:05<21:32, 11.65it/s, Batch Loss=8.3] \u001b[A\n",
            "Epoch 1:   0%|          | 48/15102 [00:05<21:34, 11.63it/s, Batch Loss=8.3]\u001b[A"
          ]
        },
        {
          "output_type": "stream",
          "name": "stdout",
          "text": [
            "질문: <usr> 김현진 감독의 부임 이전 감독 이름은? </s> <sys> 이지호 </s><pad><pad><pad><pad><pad><pad><pad><pad><pad><pad><pad><pad><pad>\n",
            "질문: <usr> 2011년 4월 칠레 사립대의 평균 등록금은 한화로 얼마인가? </s> <sys> 900만원 정도 </s><pad><pad><pad><pad><pad><pad>\n",
            "질문: <usr> 1989년 현대자동차 공장이 처음으로 외국에 세워진 도시는? </s> <sys> 캐나다 퀘벡 주 브로몽 </s><pad><pad><pad><pad><pad><pad><pad><pad><pad>\n"
          ]
        },
        {
          "output_type": "stream",
          "name": "stderr",
          "text": [
            "\n",
            "Epoch 1:   0%|          | 48/15102 [00:05<21:34, 11.63it/s, Batch Loss=9]  \u001b[A\n",
            "Epoch 1:   0%|          | 48/15102 [00:05<21:34, 11.63it/s, Batch Loss=9.8]\u001b[A\n",
            "Epoch 1:   0%|          | 50/15102 [00:05<22:02, 11.38it/s, Batch Loss=9.8]\u001b[A\n",
            "Epoch 1:   0%|          | 50/15102 [00:05<22:02, 11.38it/s, Batch Loss=8.2]\u001b[A"
          ]
        },
        {
          "output_type": "stream",
          "name": "stdout",
          "text": [
            "질문: <usr> 김경일은 무엇을 위한 조치를 취하지 않았나? </s> <sys> 퇴선 유도 </s><pad><pad><pad><pad><pad><pad><pad><pad><pad><pad><pad>\n",
            "질문: <usr> 군중들에게 당하고 있는 콰지모도를 구해 준 사람은? </s> <sys> 에스메랄다 </s><pad><pad><pad><pad><pad><pad><pad>\n",
            "질문: <usr> 국가사회주의 독일 노동자당을 대표적으로 상징하는것으로는 나치독일의 국기들과 하켄크로이츠 그리고 무엇이 있는가? </s> <sys> 독\n"
          ]
        },
        {
          "output_type": "stream",
          "name": "stderr",
          "text": [
            "\n",
            "Epoch 1:   0%|          | 50/15102 [00:05<22:02, 11.38it/s, Batch Loss=8.98]\u001b[A\n",
            "Epoch 1:   0%|          | 52/15102 [00:05<21:50, 11.48it/s, Batch Loss=8.98]\u001b[A\n",
            "Epoch 1:   0%|          | 52/15102 [00:05<21:50, 11.48it/s, Batch Loss=7.11]\u001b[A\n",
            "Epoch 1:   0%|          | 52/15102 [00:05<21:50, 11.48it/s, Batch Loss=9.59]\u001b[A\n",
            "Epoch 1:   0%|          | 54/15102 [00:05<21:35, 11.62it/s, Batch Loss=9.59]\u001b[A"
          ]
        },
        {
          "output_type": "stream",
          "name": "stdout",
          "text": [
            "질문: <usr> 2012년 12월 19일 실시된 대한민국 제 18대 대통령 선거의 당선자는? </s> <sys> 박근혜 </s><pad><pad><pad><pad><pad><pad>\n",
            "질문: <usr> 미세먼지의 농도가 높아지면 어떤 환자가 증가하는가? </s> <sys> 호흡기 질환 입원 환자 </s><pad><pad><pad><pad><pad><pad><pad><pad>\n",
            "질문: <usr> 실정법적인 제한이 없는 한 헌법 개정에서 어떠한 조항이라도 개정 할 수 있다는 입장은? </s> <sys> 헌법개정의 '무한계설\n"
          ]
        },
        {
          "output_type": "stream",
          "name": "stderr",
          "text": [
            "\n",
            "Epoch 1:   0%|          | 54/15102 [00:06<21:35, 11.62it/s, Batch Loss=9.75]\u001b[A\n",
            "Epoch 1:   0%|          | 54/15102 [00:06<21:35, 11.62it/s, Batch Loss=7.46]\u001b[A\n",
            "Epoch 1:   0%|          | 56/15102 [00:06<21:33, 11.63it/s, Batch Loss=7.46]\u001b[A\n",
            "Epoch 1:   0%|          | 56/15102 [00:06<21:33, 11.63it/s, Batch Loss=7.66]\u001b[A"
          ]
        },
        {
          "output_type": "stream",
          "name": "stdout",
          "text": [
            "질문: <usr> 협상은 언제 시작 되었는가? </s> <sys> 10월 17일 </s><pad><pad><pad><pad><pad><pad><pad><pad><pad><pad><pad><pad><pad><pad>\n",
            "질문: <usr> 남극지방의 아종은 겨울에는 어디로 이주하나? </s> <sys> 저위도 지방 </s><pad><pad><pad><pad><pad><pad><pad><pad><pad><pad><pad>\n",
            "질문: <usr> 아마루베 철교 대책협의회가 구성된 년도는? </s> <sys> 1991년 </s><pad><pad><pad><pad><pad><pad><pad><pad><pad><pad>\n"
          ]
        },
        {
          "output_type": "stream",
          "name": "stderr",
          "text": [
            "\n",
            "Epoch 1:   0%|          | 56/15102 [00:06<21:33, 11.63it/s, Batch Loss=9.39]\u001b[A\n",
            "Epoch 1:   0%|          | 58/15102 [00:06<21:26, 11.69it/s, Batch Loss=9.39]\u001b[A\n",
            "Epoch 1:   0%|          | 58/15102 [00:06<21:26, 11.69it/s, Batch Loss=9.3] \u001b[A\n",
            "Epoch 1:   0%|          | 58/15102 [00:06<21:26, 11.69it/s, Batch Loss=7.45]\u001b[A\n",
            "Epoch 1:   0%|          | 60/15102 [00:06<21:24, 11.71it/s, Batch Loss=7.45]\u001b[A"
          ]
        },
        {
          "output_type": "stream",
          "name": "stdout",
          "text": [
            "질문: <usr> 결과적으로 '북괴남침설'은 누구에 의해 조작된 것으로 밝혀졌는가? </s> <sys> 신군부 </s><pad><pad>\n",
            "질문: <usr> 유우의 심복으로 장안으로 가 헌제를 알현한 사람들은 누구인가? </s> <sys> 전주와 선우은 </s><pad><pad>\n",
            "질문: <usr> 2000년 서부 지구 우승을 차지했으며 테런스 롱이 속해있던 팀은? </s> <sys> 오클랜드 애슬레틱스 \n"
          ]
        },
        {
          "output_type": "stream",
          "name": "stderr",
          "text": [
            "\n",
            "Epoch 1:   0%|          | 60/15102 [00:06<21:24, 11.71it/s, Batch Loss=8.41]\u001b[A\n",
            "Epoch 1:   0%|          | 60/15102 [00:06<21:24, 11.71it/s, Batch Loss=6.48]\u001b[A\n",
            "Epoch 1:   0%|          | 62/15102 [00:06<21:47, 11.51it/s, Batch Loss=6.48]\u001b[A\n",
            "Epoch 1:   0%|          | 62/15102 [00:06<21:47, 11.51it/s, Batch Loss=6.88]\u001b[A"
          ]
        },
        {
          "output_type": "stream",
          "name": "stdout",
          "text": [
            "질문: <usr> 1923년 잉글랜드 FA컵 결승전이 열린 경기장은? </s> <sys> 웸블리 스타디움 </s><pad><pad><pad><pad>\n",
            "질문: <usr> 미하일 볼가코프의 장편소설인 거장과 마르가리타는 소련의 어떤 지도자가 죽은 이후 출간되었는데 이 지도자는 누구인가? </s> <sys> 스탈린\n",
            "질문: <usr> 안드레이 플라토노프가 1922년 출판한 시집의 이름은? </s> <sys> 푸른 심연 </s><pad><pad><pad><pad><pad><pad><pad><pad>\n"
          ]
        },
        {
          "output_type": "stream",
          "name": "stderr",
          "text": [
            "\n",
            "Epoch 1:   0%|          | 62/15102 [00:06<21:47, 11.51it/s, Batch Loss=7.48]\u001b[A\n",
            "Epoch 1:   0%|          | 64/15102 [00:06<21:47, 11.50it/s, Batch Loss=7.48]\u001b[A\n",
            "Epoch 1:   0%|          | 64/15102 [00:06<21:47, 11.50it/s, Batch Loss=9.83]\u001b[A\n",
            "Epoch 1:   0%|          | 64/15102 [00:06<21:47, 11.50it/s, Batch Loss=7]   \u001b[A\n",
            "Epoch 1:   0%|          | 66/15102 [00:06<21:35, 11.61it/s, Batch Loss=7]\u001b[A"
          ]
        },
        {
          "output_type": "stream",
          "name": "stdout",
          "text": [
            "질문: <usr> 대부분의 독일인은 커쇼가 정치적 반대에서 묘사한 것보다 더 반유대적이라고 주장한 것은? </s> <sys> Kulka </s><pad>\n",
            "질문: <usr> 노무현이 국회에 입문한 총선은? </s> <sys> 제13대 총선 </s><pad><pad><pad><pad><pad><pad><pad><pad><pad><pad><pad>\n",
            "질문: <usr> 개조된 국철 차량이 승객들로 부터 불리던 이름은? </s> <sys> 제2의 국철 </s><pad><pad><pad><pad><pad><pad><pad><pad>\n"
          ]
        },
        {
          "output_type": "stream",
          "name": "stderr",
          "text": [
            "\n",
            "Epoch 1:   0%|          | 66/15102 [00:07<21:35, 11.61it/s, Batch Loss=7.83]\u001b[A\n",
            "Epoch 1:   0%|          | 66/15102 [00:07<21:35, 11.61it/s, Batch Loss=6.51]\u001b[A\n",
            "Epoch 1:   0%|          | 68/15102 [00:07<21:39, 11.57it/s, Batch Loss=6.51]\u001b[A\n",
            "Epoch 1:   0%|          | 68/15102 [00:07<21:39, 11.57it/s, Batch Loss=8.64]\u001b[A"
          ]
        },
        {
          "output_type": "stream",
          "name": "stdout",
          "text": [
            "질문: <usr> 장기하가 군대에 있을 때, 유일한 작곡 수단은 무엇이었습니까? </s> <sys> 통기타 </s><pad><pad><pad><pad><pad><pad><pad><pad>\n",
            "질문: <usr> 하지원이 실존 인물 현정화 역을 연기한 영화의 제목은 무엇인가? </s> <sys> 코리아 </s><pad><pad><pad><pad><pad><pad><pad><pad>\n",
            "질문: <usr> 해마의 시냅스의 밀도는 무엇을 기준으로 변화하는가? </s> <sys> 연령 </s><pad><pad><pad><pad><pad><pad><pad><pad><pad><pad>\n"
          ]
        },
        {
          "output_type": "stream",
          "name": "stderr",
          "text": [
            "\n",
            "Epoch 1:   0%|          | 68/15102 [00:07<21:39, 11.57it/s, Batch Loss=7.93]\u001b[A\n",
            "Epoch 1:   0%|          | 70/15102 [00:07<21:32, 11.63it/s, Batch Loss=7.93]\u001b[A\n",
            "Epoch 1:   0%|          | 70/15102 [00:07<21:32, 11.63it/s, Batch Loss=6.42]\u001b[A\n",
            "Epoch 1:   0%|          | 70/15102 [00:07<21:32, 11.63it/s, Batch Loss=7.19]\u001b[A\n",
            "Epoch 1:   0%|          | 72/15102 [00:07<21:24, 11.70it/s, Batch Loss=7.19]\u001b[A"
          ]
        },
        {
          "output_type": "stream",
          "name": "stdout",
          "text": [
            "질문: <usr> 밸리 포지에 들어갔던 대륙군이 그곳에서 나온 날짜는? </s> <sys> 1778년 6월 19일 </s><pad><pad><pad><pad><pad><pad>\n",
            "질문: <usr> 핵융합 작용의 빈도가 줄어드는 것을 보완하기 위해 증가하는 것은? </s> <sys> 온도와 압력 </s><pad><pad><pad><pad><pad><pad><pad><pad><pad>\n",
            "질문: <usr> 부산광역시 교통국장 김호영에 따르면, KTX의 완전한 개통에도 오히려 이용객수가 늘어나고 있는 공항은 어디인가? </s> <sys> 김해\n"
          ]
        },
        {
          "output_type": "stream",
          "name": "stderr",
          "text": [
            "\n",
            "Epoch 1:   0%|          | 72/15102 [00:07<21:24, 11.70it/s, Batch Loss=8.82]\u001b[A\n",
            "Epoch 1:   0%|          | 72/15102 [00:07<21:24, 11.70it/s, Batch Loss=7.19]\u001b[A\n",
            "Epoch 1:   0%|          | 74/15102 [00:07<21:54, 11.43it/s, Batch Loss=7.19]\u001b[A\n",
            "Epoch 1:   0%|          | 74/15102 [00:07<21:54, 11.43it/s, Batch Loss=7.18]\u001b[A"
          ]
        },
        {
          "output_type": "stream",
          "name": "stdout",
          "text": [
            "질문: <usr> 해상 대테러임무를 수행하는 부대가 처음 창설된 년도는? </s> <sys> 1993 </s><pad><pad><pad><pad><pad><pad><pad><pad><pad>\n",
            "질문: <usr> 김기덕이 강원도 홍천에서 찍은 영화는? </s> <sys> 수취인불명 </s><pad><pad><pad><pad><pad><pad><pad><pad><pad><pad><pad>\n",
            "질문: <usr> 강희제의 묘호는? </s> <sys> 성조 </s><pad><pad><pad><pad><pad><pad><pad><pad><pad><pad><pad><pad><pad><pad><pad><pad><pad>\n"
          ]
        },
        {
          "output_type": "stream",
          "name": "stderr",
          "text": [
            "\n",
            "Epoch 1:   0%|          | 74/15102 [00:07<21:54, 11.43it/s, Batch Loss=5.27]\u001b[A\n",
            "Epoch 1:   1%|          | 76/15102 [00:07<21:45, 11.51it/s, Batch Loss=5.27]\u001b[A\n",
            "Epoch 1:   1%|          | 76/15102 [00:07<21:45, 11.51it/s, Batch Loss=7.71]\u001b[A\n",
            "Epoch 1:   1%|          | 76/15102 [00:08<21:45, 11.51it/s, Batch Loss=7.5] \u001b[A\n",
            "Epoch 1:   1%|          | 78/15102 [00:08<21:39, 11.56it/s, Batch Loss=7.5]\u001b[A"
          ]
        },
        {
          "output_type": "stream",
          "name": "stdout",
          "text": [
            "질문: <usr> 보슬리 크라우더가 벤허를 두고 마음을 사로잡는 인간 드라마라고 평하는 기고문을 낸 언론은? </s> <sys> 뉴욕\n",
            "질문: <usr> single ladies는 영국 싱글 차트에 몇 주 동안 머물렀는가? </s> <sys> 112주 </s><pad><pad><pad>\n",
            "질문: <usr> 전태일은 평화시장 피복제품상 종업원 근로조건개선 진정서를 어디에 제출하는가? </s> <sys> 노동청 </s><pad><pad>\n"
          ]
        },
        {
          "output_type": "stream",
          "name": "stderr",
          "text": [
            "\n",
            "Epoch 1:   1%|          | 78/15102 [00:08<21:39, 11.56it/s, Batch Loss=7.98]\u001b[A\n",
            "Epoch 1:   1%|          | 78/15102 [00:08<21:39, 11.56it/s, Batch Loss=5.57]\u001b[A\n",
            "Epoch 1:   1%|          | 80/15102 [00:08<21:45, 11.50it/s, Batch Loss=5.57]\u001b[A\n",
            "Epoch 1:   1%|          | 80/15102 [00:08<21:45, 11.50it/s, Batch Loss=7]   \u001b[A"
          ]
        },
        {
          "output_type": "stream",
          "name": "stdout",
          "text": [
            "질문: <usr> 아덴하트의 등번호는? </s> <sys> 21번 </s><pad><pad><pad><pad><pad><pad><pad><pad><pad><pad><pad><pad><pad>\n",
            "질문: <usr> 가가가 신디 로퍼와 맥 비바글램과 함께 에이즈 홍보대사로 선정된 년도는? </s> <sys> 2010 </s>\n",
            "질문: <usr> 자치단체국제환경협의회의의 제9차 이클레이 세계총회는 어느 장소에서 개최되었는가? </s> <sys> 동대문디자인플라자 \n"
          ]
        },
        {
          "output_type": "stream",
          "name": "stderr",
          "text": [
            "\n",
            "Epoch 1:   1%|          | 80/15102 [00:08<21:45, 11.50it/s, Batch Loss=6.18]\u001b[A\n",
            "Epoch 1:   1%|          | 82/15102 [00:08<21:32, 11.62it/s, Batch Loss=6.18]\u001b[A\n",
            "Epoch 1:   1%|          | 82/15102 [00:08<21:32, 11.62it/s, Batch Loss=6.14]\u001b[A\n",
            "Epoch 1:   1%|          | 82/15102 [00:08<21:32, 11.62it/s, Batch Loss=8.86]\u001b[A\n",
            "Epoch 1:   1%|          | 84/15102 [00:08<21:25, 11.69it/s, Batch Loss=8.86]\u001b[A"
          ]
        },
        {
          "output_type": "stream",
          "name": "stdout",
          "text": [
            "질문: <usr> 이인제는 자유선지당의 당명을 무엇으로 개정하였는가? </s> <sys> 선진통일당 </s><pad><pad><pad><pad><pad><pad>\n",
            "질문: <usr> NBC와의 인터뷰에서 북핵 미사일 문제 해결을 위한 한미 양국 정부의 최대 압박 노력이 효과를 거뒀다고 말한 사람은? </s> <sys>\n",
            "질문: <usr> 오시타의 어머니가 앓고 있었던 것은 무엇인가? </s> <sys> 필로폰 중독 </s><pad><pad><pad><pad><pad><pad><pad><pad><pad><pad>\n"
          ]
        },
        {
          "output_type": "stream",
          "name": "stderr",
          "text": [
            "\n",
            "Epoch 1:   1%|          | 84/15102 [00:08<21:25, 11.69it/s, Batch Loss=7.39]\u001b[A\n",
            "Epoch 1:   1%|          | 84/15102 [00:08<21:25, 11.69it/s, Batch Loss=6.78]\u001b[A\n",
            "Epoch 1:   1%|          | 86/15102 [00:08<21:46, 11.49it/s, Batch Loss=6.78]\u001b[A\n",
            "Epoch 1:   1%|          | 86/15102 [00:08<21:46, 11.49it/s, Batch Loss=5.43]\u001b[A"
          ]
        },
        {
          "output_type": "stream",
          "name": "stdout",
          "text": [
            "질문: <usr> 밥 딜런이 데뷔 음반을 발매한 후 관심을 표한 매니저의 이름은? </s> <sys> 앨버트 그로스만 </s><pad>\n",
            "질문: <usr> 한국 신기록을 다시 경신했던 해(연도)는? </s> <sys> 2007년 </s><pad><pad><pad><pad><pad><pad><pad><pad><pad><pad><pad>\n",
            "질문: <usr> 옹정제는 아버지인 강희제가 세운 청나라의 정성기인 무엇은 더욱 발전시켰나요? </s> <sys> 강건성세 </s><pad>\n"
          ]
        },
        {
          "output_type": "stream",
          "name": "stderr",
          "text": [
            "\n",
            "Epoch 1:   1%|          | 86/15102 [00:08<21:46, 11.49it/s, Batch Loss=9.16]\u001b[A\n",
            "Epoch 1:   1%|          | 88/15102 [00:08<21:43, 11.52it/s, Batch Loss=9.16]\u001b[A\n",
            "Epoch 1:   1%|          | 88/15102 [00:08<21:43, 11.52it/s, Batch Loss=8.3] \u001b[A\n",
            "Epoch 1:   1%|          | 88/15102 [00:09<21:43, 11.52it/s, Batch Loss=6.5]\u001b[A\n",
            "Epoch 1:   1%|          | 90/15102 [00:09<21:37, 11.57it/s, Batch Loss=6.5]\u001b[A"
          ]
        },
        {
          "output_type": "stream",
          "name": "stdout",
          "text": [
            "질문: <usr> 프리드리히가 빌헬름 1세와 비스마르크의 정책들을 준수했기 때문의 본인의 성격을 근본적으로 수정하지 않으려 했다고 주장한 인물은? </s> <sys> 안드레아스\n",
            "질문: <usr> 공비부담으로 사체수복을 행했던 일본 지역은? </s> <sys> 홋카이도와 사이타마현 </s><pad><pad><pad>\n",
            "질문: <usr> ECC 회원국 유지 반대 여부를 묻는 당 집회가 열린 날짜는? </s> <sys> 4월 26일 </s><pad><pad><pad><pad><pad><pad><pad>\n"
          ]
        },
        {
          "output_type": "stream",
          "name": "stderr",
          "text": [
            "\n",
            "Epoch 1:   1%|          | 90/15102 [00:09<21:37, 11.57it/s, Batch Loss=6.47]\u001b[A\n",
            "Epoch 1:   1%|          | 90/15102 [00:09<21:37, 11.57it/s, Batch Loss=6.51]\u001b[A\n",
            "Epoch 1:   1%|          | 92/15102 [00:09<21:43, 11.52it/s, Batch Loss=6.51]\u001b[A\n",
            "Epoch 1:   1%|          | 92/15102 [00:09<21:43, 11.52it/s, Batch Loss=6.72]\u001b[A"
          ]
        },
        {
          "output_type": "stream",
          "name": "stdout",
          "text": [
            "질문: <usr> 로타르 2세의 패배는 세속의 군주의 위에 누가 있다는 메시지로 작용하였는가? </s> <sys> 교황 </s><pad><pad><pad><pad><pad>\n",
            "질문: <usr> 문재인 정부 첫 국방장관으로 지명된 사람은? </s> <sys> 송영무 </s><pad><pad><pad><pad><pad><pad><pad><pad><pad>\n",
            "질문: <usr> 헌법에 규정된 견제와 균형 체제에 따라 통제되는 것은?  </s> <sys> 미국 정부 </s><pad><pad><pad><pad><pad><pad><pad><pad><pad>\n"
          ]
        },
        {
          "output_type": "stream",
          "name": "stderr",
          "text": [
            "\n",
            "Epoch 1:   1%|          | 92/15102 [00:09<21:43, 11.52it/s, Batch Loss=6.48]\u001b[A\n",
            "Epoch 1:   1%|          | 94/15102 [00:09<21:40, 11.54it/s, Batch Loss=6.48]\u001b[A\n",
            "Epoch 1:   1%|          | 94/15102 [00:09<21:40, 11.54it/s, Batch Loss=5.84]\u001b[A\n",
            "Epoch 1:   1%|          | 94/15102 [00:09<21:40, 11.54it/s, Batch Loss=7.29]\u001b[A\n",
            "Epoch 1:   1%|          | 96/15102 [00:09<21:39, 11.55it/s, Batch Loss=7.29]\u001b[A"
          ]
        },
        {
          "output_type": "stream",
          "name": "stdout",
          "text": [
            "질문: <usr> 튜는 사이트의 희극적인 요소가 무엇이라 했나? </s> <sys> 여분의 가치 </s><pad><pad><pad><pad><pad><pad><pad><pad>\n",
            "질문: <usr> 수단의 노동인구의 대부분이 종사하고 있던 업종은? </s> <sys> 농업 또는 목축업 </s><pad><pad><pad><pad><pad><pad><pad><pad><pad><pad>\n",
            "질문: <usr> 프톨레마이오스의 저서중 코페르니쿠스 이전시대 최고의 천문학서로 인정받고 있는 것은? </s> <sys> 천문학 집대성 </s><pad><pad><pad><pad>\n"
          ]
        },
        {
          "output_type": "stream",
          "name": "stderr",
          "text": [
            "\n",
            "Epoch 1:   1%|          | 96/15102 [00:09<21:39, 11.55it/s, Batch Loss=6.64]\u001b[A\n",
            "Epoch 1:   1%|          | 96/15102 [00:09<21:39, 11.55it/s, Batch Loss=5.63]\u001b[A\n",
            "Epoch 1:   1%|          | 98/15102 [00:09<21:43, 11.51it/s, Batch Loss=5.63]\u001b[A\n",
            "Epoch 1:   1%|          | 98/15102 [00:09<21:43, 11.51it/s, Batch Loss=5.79]\u001b[A"
          ]
        },
        {
          "output_type": "stream",
          "name": "stdout",
          "text": [
            "질문: <usr> 나카모리의 20번째 정규음반 제작에 참여한 한국인은? </s> <sys> 이상민 </s><pad><pad><pad><pad><pad><pad><pad><pad>\n",
            "질문: <usr> 강희제가 소개한 한족 문화에 동화되어 정체성과 전통을 거의 잃어버린 민족은? </s> <sys> 만주족 </s><pad><pad><pad><pad><pad><pad><pad>\n",
            "질문: <usr> 1680년 남인 허적이 대흥산성의 군인과 함께 역모를 꾸몄다는 것을 고발하여 남인 중 일부를 사형시키고 나머지는 축출한 사건의 이름은? \n"
          ]
        },
        {
          "output_type": "stream",
          "name": "stderr",
          "text": [
            "\n",
            "Epoch 1:   1%|          | 98/15102 [00:09<21:43, 11.51it/s, Batch Loss=8.07]\u001b[A\n",
            "Epoch 1:   1%|          | 100/15102 [00:09<21:46, 11.48it/s, Batch Loss=8.07]\u001b[A\n",
            "Epoch 1:   1%|          | 100/15102 [00:10<21:46, 11.48it/s, Batch Loss=5.87]\u001b[A\n",
            "Epoch 1:   1%|          | 100/15102 [00:10<21:46, 11.48it/s, Batch Loss=4.99]\u001b[A\n",
            "Epoch 1:   1%|          | 102/15102 [00:10<21:36, 11.57it/s, Batch Loss=4.99]\u001b[A"
          ]
        },
        {
          "output_type": "stream",
          "name": "stdout",
          "text": [
            "질문: <usr> 처음으로 알로사우루스라고 명명된 표본을 간접적으로 발견한 사람은? </s> <sys> 퍼디낸드 헤이든 </s><pad><pad><pad><pad>\n",
            "질문: <usr> 제6차 대프랑스 동맹을 결성한 해는? </s> <sys> 1813년 </s><pad><pad><pad><pad><pad><pad><pad><pad><pad><pad><pad><pad><pad>\n",
            "질문: <usr> 국제가사노동임금운동은 어느 나라의 소규모 집단에서 시작하였나? </s> <sys> 이탈리아 </s><pad><pad><pad><pad><pad><pad><pad><pad>\n"
          ]
        },
        {
          "output_type": "stream",
          "name": "stderr",
          "text": [
            "\n",
            "Epoch 1:   1%|          | 102/15102 [00:10<21:36, 11.57it/s, Batch Loss=5.95]\u001b[A\n",
            "Epoch 1:   1%|          | 102/15102 [00:10<21:36, 11.57it/s, Batch Loss=5.74]\u001b[A\n",
            "Epoch 1:   1%|          | 104/15102 [00:10<21:38, 11.55it/s, Batch Loss=5.74]\u001b[A\n",
            "Epoch 1:   1%|          | 104/15102 [00:10<21:38, 11.55it/s, Batch Loss=5.63]\u001b[A"
          ]
        },
        {
          "output_type": "stream",
          "name": "stdout",
          "text": [
            "질문: <usr> 밥 딜런이 Time out of mind 음반을 통해 생애 처음으로 수상할 수 있었던 상은? </s> <sys> 그래미상 \n",
            "질문: <usr> 지역인사들과 신흥고등학교 학생들이 주도적인 역할을 한 3.13 만세운동이 일어난 해는? </s> <sys> 1919년 </s><pad><pad><pad><pad><pad><pad>\n",
            "질문: <usr> 사보이가 다시 30년 전쟁에 개입한 해는? </s> <sys> 1630년 </s><pad><pad><pad><pad><pad><pad><pad><pad><pad><pad><pad><pad>\n"
          ]
        },
        {
          "output_type": "stream",
          "name": "stderr",
          "text": [
            "\n",
            "Epoch 1:   1%|          | 104/15102 [00:10<21:38, 11.55it/s, Batch Loss=4.67]\u001b[A\n",
            "Epoch 1:   1%|          | 106/15102 [00:10<21:37, 11.56it/s, Batch Loss=4.67]\u001b[A\n",
            "Epoch 1:   1%|          | 106/15102 [00:10<21:37, 11.56it/s, Batch Loss=5.63]\u001b[A\n",
            "Epoch 1:   1%|          | 106/15102 [00:10<21:37, 11.56it/s, Batch Loss=7.08]\u001b[A\n",
            "Epoch 1:   1%|          | 108/15102 [00:10<21:28, 11.63it/s, Batch Loss=7.08]\u001b[A"
          ]
        },
        {
          "output_type": "stream",
          "name": "stdout",
          "text": [
            "질문: <usr> 전국의 재정을 관활하는 부서는? </s> <sys> 탁지부 </s><pad><pad><pad><pad><pad><pad><pad><pad><pad><pad><pad><pad><pad>\n",
            "질문: <usr> 롤링이 교사 교육과정 수료한 학교는 어디인가? </s> <sys> 에든버러 대학교(Moray House School of Education\n",
            "질문: <usr> 에르제가 벨기에 보이스카우트에서 연재한 만화의 제목은? </s> <sys> 풍뎅이 순찰대장 토토르 </s><pad><pad><pad><pad>\n"
          ]
        },
        {
          "output_type": "stream",
          "name": "stderr",
          "text": [
            "\n",
            "Epoch 1:   1%|          | 108/15102 [00:10<21:28, 11.63it/s, Batch Loss=6.02]\u001b[A\n",
            "Epoch 1:   1%|          | 108/15102 [00:10<21:28, 11.63it/s, Batch Loss=6.63]\u001b[A\n",
            "Epoch 1:   1%|          | 110/15102 [00:10<21:36, 11.56it/s, Batch Loss=6.63]\u001b[A\n",
            "Epoch 1:   1%|          | 110/15102 [00:10<21:36, 11.56it/s, Batch Loss=5.84]\u001b[A"
          ]
        },
        {
          "output_type": "stream",
          "name": "stdout",
          "text": [
            "질문: <usr> 보즈네센스키의 언어 예술의 진수를 보여준 방식의 장르는 무엇인가요? </s> <sys> 낭송 예술 </s><pad><pad><pad><pad><pad>\n",
            "질문: <usr> 환경부를 비롯한 12개 관계부처가 미세먼지 관리 종합대책을 확정하여 로드맵을 발표한 것은 언제인가? </s> <sys> 9월\n",
            "질문: <usr> 학자들이 조지아라는 이름의 유럽어 기원설에 처음으로 의문을 제기한 시기는? </s> <sys> 19세기 </s><pad><pad><pad><pad><pad><pad><pad><pad><pad>\n"
          ]
        },
        {
          "output_type": "stream",
          "name": "stderr",
          "text": [
            "\n",
            "Epoch 1:   1%|          | 110/15102 [00:10<21:36, 11.56it/s, Batch Loss=5.74]\u001b[A\n",
            "Epoch 1:   1%|          | 112/15102 [00:10<21:42, 11.51it/s, Batch Loss=5.74]\u001b[A\n",
            "Epoch 1:   1%|          | 112/15102 [00:11<21:42, 11.51it/s, Batch Loss=4.98]\u001b[A\n",
            "Epoch 1:   1%|          | 112/15102 [00:11<21:42, 11.51it/s, Batch Loss=6.18]\u001b[A\n",
            "Epoch 1:   1%|          | 114/15102 [00:11<21:42, 11.50it/s, Batch Loss=6.18]\u001b[A"
          ]
        },
        {
          "output_type": "stream",
          "name": "stdout",
          "text": [
            "질문: <usr> 정확한 실질임금을 추정하기 위해 반영해야 하는 것은? </s> <sys> 물가수준 </s><pad><pad><pad><pad><pad><pad><pad><pad><pad><pad>\n",
            "질문: <usr> 프랜시스는 1999년 1라운드 몇번째로 벤쿠버 그리즐리스에 지명되었는가? </s> <sys> 2번째 </s><pad><pad>\n",
            "질문: <usr> 더 망가지기 전에 박수칠 때 떠나야겠다라는 생각을 한 젝스키스 멤버 이름은? </s> <sys> 은지원 \n"
          ]
        },
        {
          "output_type": "stream",
          "name": "stderr",
          "text": [
            "\n",
            "Epoch 1:   1%|          | 114/15102 [00:11<21:42, 11.50it/s, Batch Loss=7.29]\u001b[A\n",
            "Epoch 1:   1%|          | 114/15102 [00:11<21:42, 11.50it/s, Batch Loss=5.68]\u001b[A\n",
            "Epoch 1:   1%|          | 116/15102 [00:11<21:40, 11.52it/s, Batch Loss=5.68]\u001b[A\n",
            "Epoch 1:   1%|          | 116/15102 [00:11<21:40, 11.52it/s, Batch Loss=4.68]\u001b[A"
          ]
        },
        {
          "output_type": "stream",
          "name": "stdout",
          "text": [
            "질문: <usr> 중소벤처기업부가 신설된 것은 언제인가? </s> <sys> 7월 26일 </s><pad><pad><pad><pad><pad><pad><pad><pad><pad><pad><pad>\n",
            "질문: <usr> 류근철의 고향은 어디인가? </s> <sys> 충남 천안 </s><pad><pad><pad><pad><pad><pad><pad><pad><pad><pad><pad><pad><pad>\n",
            "질문: <usr> KAL기 격추사건에서 사망한 미 하원의원의 이름은 무엇인가? </s> <sys> 래리 맥도널드 </s><pad><pad><pad><pad>\n"
          ]
        },
        {
          "output_type": "stream",
          "name": "stderr",
          "text": [
            "\n",
            "Epoch 1:   1%|          | 116/15102 [00:11<21:40, 11.52it/s, Batch Loss=6.05]\u001b[A\n",
            "Epoch 1:   1%|          | 118/15102 [00:11<21:31, 11.60it/s, Batch Loss=6.05]\u001b[A\n",
            "Epoch 1:   1%|          | 118/15102 [00:11<21:31, 11.60it/s, Batch Loss=5.43]\u001b[A\n",
            "Epoch 1:   1%|          | 118/15102 [00:11<21:31, 11.60it/s, Batch Loss=7.18]\u001b[A\n",
            "Epoch 1:   1%|          | 120/15102 [00:11<21:37, 11.55it/s, Batch Loss=7.18]\u001b[A"
          ]
        },
        {
          "output_type": "stream",
          "name": "stdout",
          "text": [
            "질문: <usr> 남영동 대공분실의 건물 외관의 색은? </s> <sys> 검은색 </s><pad><pad><pad><pad><pad><pad><pad><pad><pad><pad><pad>\n",
            "질문: <usr> 박태환이 일으킨 논란의 주 원인인 네비도는 어느 계열의 약물인가? </s> <sys> 스테로이드 </s><pad><pad><pad><pad><pad><pad><pad>\n",
            "질문: <usr> 한나라당에서 당명이 새누리당으로 바뀐 시기는? </s> <sys> 2012년 2월 13일 </s><pad><pad><pad><pad><pad><pad><pad><pad><pad>\n"
          ]
        },
        {
          "output_type": "stream",
          "name": "stderr",
          "text": [
            "\n",
            "Epoch 1:   1%|          | 120/15102 [00:11<21:37, 11.55it/s, Batch Loss=6.79]\u001b[A\n",
            "Epoch 1:   1%|          | 120/15102 [00:11<21:37, 11.55it/s, Batch Loss=5.4] \u001b[A\n",
            "Epoch 1:   1%|          | 122/15102 [00:11<21:37, 11.55it/s, Batch Loss=5.4]\u001b[A\n",
            "Epoch 1:   1%|          | 122/15102 [00:11<21:37, 11.55it/s, Batch Loss=6.18]\u001b[A"
          ]
        },
        {
          "output_type": "stream",
          "name": "stdout",
          "text": [
            "질문: <usr> 50개의 주와 1개의 특별구로 이루어진 세계1위의 경제대국은? </s> <sys> 미국 </s><pad><pad><pad><pad><pad><pad><pad><pad>\n",
            "질문: <usr> 당이 선출한 의원들이 협동하여 행동하기 위해 만든 특별한 원내조직은? </s> <sys> 원내정당 </s><pad><pad><pad><pad><pad><pad>\n",
            "질문: <usr> 정여립은 서인에서 탈당하여 동인으로 건너가는데, 이이의 어떤 점 때문인가요? </s> <sys> 중립적이지 못하다 </s><pad>\n"
          ]
        },
        {
          "output_type": "stream",
          "name": "stderr",
          "text": [
            "\n",
            "Epoch 1:   1%|          | 122/15102 [00:12<21:37, 11.55it/s, Batch Loss=6.41]\u001b[A\n",
            "Epoch 1:   1%|          | 124/15102 [00:12<21:46, 11.46it/s, Batch Loss=6.41]\u001b[A\n",
            "Epoch 1:   1%|          | 124/15102 [00:12<21:46, 11.46it/s, Batch Loss=4.84]\u001b[A\n",
            "Epoch 1:   1%|          | 124/15102 [00:12<21:46, 11.46it/s, Batch Loss=5.49]\u001b[A\n",
            "Epoch 1:   1%|          | 126/15102 [00:12<21:47, 11.46it/s, Batch Loss=5.49]\u001b[A"
          ]
        },
        {
          "output_type": "stream",
          "name": "stdout",
          "text": [
            "질문: <usr> 황태자 책봉식을 거행한 곳은 어디인가? </s> <sys> 태화전 </s><pad><pad><pad><pad><pad><pad><pad><pad><pad><pad><pad><pad>\n",
            "질문: <usr> 베리가 90회 생일을 맞아 출시하기로 한, 38년 만의 앨범 제목은 무엇인가? </s> <sys> Chuck </s><pad><pad><pad>\n",
            "질문: <usr> 훗날 남침설을 제보했다고 알려진 사람은 누구인가요? </s> <sys> 일본의 내각 조사실 한반도 담당반장 </s><pad><pad>\n"
          ]
        },
        {
          "output_type": "stream",
          "name": "stderr",
          "text": [
            "\n",
            "Epoch 1:   1%|          | 126/15102 [00:12<21:47, 11.46it/s, Batch Loss=5.91]\u001b[A\n",
            "Epoch 1:   1%|          | 126/15102 [00:12<21:47, 11.46it/s, Batch Loss=4.31]\u001b[A\n",
            "Epoch 1:   1%|          | 128/15102 [00:12<21:55, 11.39it/s, Batch Loss=4.31]\u001b[A\n",
            "Epoch 1:   1%|          | 128/15102 [00:12<21:55, 11.39it/s, Batch Loss=5.97]\u001b[A"
          ]
        },
        {
          "output_type": "stream",
          "name": "stdout",
          "text": [
            "질문: <usr> 아이오케이컴퍼니의 대표이사는 누구인가? </s> <sys> 장철진 </s><pad><pad><pad><pad><pad><pad><pad><pad><pad>\n",
            "질문: <usr> 송영무 장관은 아크, 청해 부대와 더불어 어느 부대를 방문했는가? </s> <sys> 동명 부대 </s><pad><pad><pad>\n",
            "질문: <usr> 닉 아덴하트 추모 기금 조성을 위한 모금 행사를 개최하고, 시민 구장 명예의 벽에 그의 이름을 새긴 마이너 리그 팀은?  \n"
          ]
        },
        {
          "output_type": "stream",
          "name": "stderr",
          "text": [
            "\n",
            "Epoch 1:   1%|          | 128/15102 [00:12<21:55, 11.39it/s, Batch Loss=6.85]\u001b[A\n",
            "Epoch 1:   1%|          | 130/15102 [00:12<21:49, 11.44it/s, Batch Loss=6.85]\u001b[A\n",
            "Epoch 1:   1%|          | 130/15102 [00:12<21:49, 11.44it/s, Batch Loss=6.41]\u001b[A\n",
            "Epoch 1:   1%|          | 130/15102 [00:12<21:49, 11.44it/s, Batch Loss=5.14]\u001b[A\n",
            "Epoch 1:   1%|          | 132/15102 [00:12<21:50, 11.43it/s, Batch Loss=5.14]\u001b[A"
          ]
        },
        {
          "output_type": "stream",
          "name": "stdout",
          "text": [
            "질문: <usr> 파스키에비치가 작고한 연도는? </s> <sys> 1856년 </s><pad><pad><pad><pad><pad><pad><pad><pad><pad><pad><pad><pad>\n",
            "질문: <usr> 1917년 오리건 농업 대학의 위치는? </s> <sys> 코발리스 </s><pad><pad><pad><pad><pad><pad><pad><pad><pad><pad><pad><pad><pad>\n",
            "질문: <usr> 비트겐슈타인 혈통 협상 과정을 상세히 묘사한 <비트겐슈타인 가문>의 저자는? </s> <sys> 알렉산더 워 </s><pad><pad><pad><pad>\n"
          ]
        },
        {
          "output_type": "stream",
          "name": "stderr",
          "text": [
            "\n",
            "Epoch 1:   1%|          | 132/15102 [00:12<21:50, 11.43it/s, Batch Loss=7.01]\u001b[A\n",
            "Epoch 1:   1%|          | 132/15102 [00:12<21:50, 11.43it/s, Batch Loss=5.36]\u001b[A\n",
            "Epoch 1:   1%|          | 134/15102 [00:12<22:02, 11.32it/s, Batch Loss=5.36]\u001b[A\n",
            "Epoch 1:   1%|          | 134/15102 [00:12<22:02, 11.32it/s, Batch Loss=5.9] \u001b[A"
          ]
        },
        {
          "output_type": "stream",
          "name": "stdout",
          "text": [
            "질문: <usr> 성당 창문에 설치되어 구약성서의 내용 등을 나타내는 것은 무엇인가? </s> <sys> 스테인드글라스 </s><pad><pad><pad><pad><pad><pad>\n",
            "질문: <usr> 풀먼사 파업으로 인해 시카고 한 곳에만 몇 명의 군대가 배치되었는가? </s> <sys> 14,000 </s><pad><pad><pad><pad>\n",
            "질문: <usr> 박정희의 파시즘적 체제를 마련하기 위해 시행된 국민의식 개조운동의 이름은? </s> <sys> 민족성 개조 </s><pad><pad><pad><pad><pad><pad>\n"
          ]
        },
        {
          "output_type": "stream",
          "name": "stderr",
          "text": [
            "\n",
            "Epoch 1:   1%|          | 134/15102 [00:13<22:02, 11.32it/s, Batch Loss=6.61]\u001b[A\n",
            "Epoch 1:   1%|          | 136/15102 [00:13<21:55, 11.37it/s, Batch Loss=6.61]\u001b[A\n",
            "Epoch 1:   1%|          | 136/15102 [00:13<21:55, 11.37it/s, Batch Loss=5.99]\u001b[A\n",
            "Epoch 1:   1%|          | 136/15102 [00:13<21:55, 11.37it/s, Batch Loss=6.83]\u001b[A\n",
            "Epoch 1:   1%|          | 138/15102 [00:13<21:58, 11.35it/s, Batch Loss=6.83]\u001b[A"
          ]
        },
        {
          "output_type": "stream",
          "name": "stdout",
          "text": [
            "질문: <usr> 아우구스투스는 치밀한 전략과 정치적 통찰력 등을 통해 이후 2세기간 로마가 어떠한 시대를 맞도록 해주었는가? </s> <sys> 평화와 번영의 시대\n",
            "질문: <usr> 낮은 연소열을 가지고 높은 열화학적 안정성을 가지는 것은? </s> <sys> 트랜스 이성질체 </s><pad><pad><pad><pad><pad><pad><pad>\n",
            "질문: <usr> 주 1위를 하는 후보자가 해당 주 선거인단 전체를 가져가는 제도는? </s> <sys> 승자독식제 </s><pad><pad><pad><pad>\n"
          ]
        },
        {
          "output_type": "stream",
          "name": "stderr",
          "text": [
            "\n",
            "Epoch 1:   1%|          | 138/15102 [00:13<21:58, 11.35it/s, Batch Loss=5.43]\u001b[A\n",
            "Epoch 1:   1%|          | 138/15102 [00:13<21:58, 11.35it/s, Batch Loss=5.63]\u001b[A\n",
            "Epoch 1:   1%|          | 140/15102 [00:13<22:01, 11.32it/s, Batch Loss=5.63]\u001b[A\n",
            "Epoch 1:   1%|          | 140/15102 [00:13<22:01, 11.32it/s, Batch Loss=6.06]\u001b[A"
          ]
        },
        {
          "output_type": "stream",
          "name": "stdout",
          "text": [
            "질문: <usr> 태풍 매미로 인해 거제 지역은 약 몇 일간 전기가 끊긴채 생활하였나? </s> <sys> 4일 </s><pad><pad><pad><pad><pad>\n",
            "질문: <usr> 이방카는 평창올림픽 폐회식에서 북한 문제에 대한 입장을 어디와의 인터뷰에서 말했는가? </s> <sys> NBC </s><pad>\n",
            "질문: <usr> 스탈린이 십만 명 이상의 조지아 민족주의자를 보낸 곳은? </s> <sys> 시베리아 강제수용소 </s><pad><pad><pad><pad><pad><pad><pad>\n"
          ]
        },
        {
          "output_type": "stream",
          "name": "stderr",
          "text": [
            "\n",
            "Epoch 1:   1%|          | 140/15102 [00:13<22:01, 11.32it/s, Batch Loss=6.76]\u001b[A\n",
            "Epoch 1:   1%|          | 142/15102 [00:13<21:55, 11.37it/s, Batch Loss=6.76]\u001b[A\n",
            "Epoch 1:   1%|          | 142/15102 [00:13<21:55, 11.37it/s, Batch Loss=6.49]\u001b[A\n",
            "Epoch 1:   1%|          | 142/15102 [00:13<21:55, 11.37it/s, Batch Loss=7.36]\u001b[A\n",
            "Epoch 1:   1%|          | 144/15102 [00:13<22:32, 11.06it/s, Batch Loss=7.36]\u001b[A"
          ]
        },
        {
          "output_type": "stream",
          "name": "stdout",
          "text": [
            "질문: <usr> 악타늄의 정맥 주입은 뼈와 간에서 몇 년간 축적되는가? </s> <sys> 10년 </s><pad><pad><pad><pad><pad><pad>\n",
            "질문: <usr> 프리부르 조약에서 유일하게 밀라노에 반환된 계곡의 이름은? </s> <sys> 오솔라 </s><pad><pad><pad><pad><pad><pad><pad><pad>\n",
            "질문: <usr> 고종이 지원한 내탕금은 얼마인가? </s> <sys> 3만원 </s><pad><pad><pad><pad><pad><pad><pad><pad><pad><pad><pad><pad>\n"
          ]
        },
        {
          "output_type": "stream",
          "name": "stderr",
          "text": [
            "\n",
            "Epoch 1:   1%|          | 144/15102 [00:13<22:32, 11.06it/s, Batch Loss=4.26]\u001b[A\n",
            "Epoch 1:   1%|          | 144/15102 [00:14<22:32, 11.06it/s, Batch Loss=5.15]\u001b[A\n",
            "Epoch 1:   1%|          | 146/15102 [00:14<23:30, 10.60it/s, Batch Loss=5.15]\u001b[A\n",
            "Epoch 1:   1%|          | 146/15102 [00:14<23:30, 10.60it/s, Batch Loss=6.72]\u001b[A"
          ]
        },
        {
          "output_type": "stream",
          "name": "stdout",
          "text": [
            "질문: <usr> 초창기의 소녀시대가 내세웠던 전략은 무엇인가? </s> <sys> 풋풋함 </s><pad><pad><pad><pad><pad><pad><pad><pad><pad><pad><pad>\n",
            "질문: <usr> 강희제가 병이 들어서 있었던 장소의 이름은 무엇인가? </s> <sys> 창춘원 </s><pad><pad><pad><pad><pad><pad><pad><pad><pad><pad>\n",
            "질문: <usr> 국회의사당이 폭파 될 때 불꽃놀이의 모양은 무엇인가? </s> <sys> V 모양 </s><pad><pad><pad><pad><pad><pad><pad><pad><pad><pad>\n"
          ]
        },
        {
          "output_type": "stream",
          "name": "stderr",
          "text": [
            "\n",
            "Epoch 1:   1%|          | 146/15102 [00:14<23:30, 10.60it/s, Batch Loss=6.53]\u001b[A\n",
            "Epoch 1:   1%|          | 148/15102 [00:14<23:10, 10.75it/s, Batch Loss=6.53]\u001b[A\n",
            "Epoch 1:   1%|          | 148/15102 [00:14<23:10, 10.75it/s, Batch Loss=7.97]\u001b[A\n",
            "Epoch 1:   1%|          | 148/15102 [00:14<23:10, 10.75it/s, Batch Loss=5.34]\u001b[A\n",
            "Epoch 1:   1%|          | 150/15102 [00:14<22:53, 10.88it/s, Batch Loss=5.34]\u001b[A"
          ]
        },
        {
          "output_type": "stream",
          "name": "stdout",
          "text": [
            "질문: <usr> 겨울 몇 달 동안 알래스카 늑대 사이에 심각하게 퍼진 것으로 기록된 바이러스 이름은? </s> <sys> 개코로나바이러스 </s><pad><pad><pad><pad>\n",
            "질문: <usr> 역대 처음으로 승리투수가 된 사람은? </s> <sys> 미우라 히로유키 </s><pad><pad><pad><pad><pad><pad><pad><pad><pad>\n",
            "질문: <usr> 대동운부군옥을 편찬한 사람은? </s> <sys> 권문해 </s><pad><pad><pad><pad><pad><pad><pad><pad><pad><pad><pad><pad><pad>\n"
          ]
        },
        {
          "output_type": "stream",
          "name": "stderr",
          "text": [
            "\n",
            "Epoch 1:   1%|          | 150/15102 [00:14<22:53, 10.88it/s, Batch Loss=4.43]\u001b[A\n",
            "Epoch 1:   1%|          | 150/15102 [00:14<22:53, 10.88it/s, Batch Loss=6.32]\u001b[A\n",
            "Epoch 1:   1%|          | 152/15102 [00:14<22:49, 10.92it/s, Batch Loss=6.32]\u001b[A\n",
            "Epoch 1:   1%|          | 152/15102 [00:14<22:49, 10.92it/s, Batch Loss=6.09]\u001b[A"
          ]
        },
        {
          "output_type": "stream",
          "name": "stdout",
          "text": [
            "질문: <usr> Mutter의 세번째 싱글의 영어제목은? </s> <sys> I Want </s><pad><pad><pad><pad><pad><pad><pad>\n",
            "질문: <usr> 2015년에 개봉한 설현의 스크린 데뷔작은 무엇인가? </s> <sys> 강남 1970 </s><pad><pad><pad><pad><pad><pad><pad><pad><pad>\n",
            "질문: <usr> 선인장들 중 가시가 크고 강하게 생긴 것을 이르는 말은? </s> <sys> 강자류 </s><pad><pad><pad><pad><pad><pad><pad><pad>\n"
          ]
        },
        {
          "output_type": "stream",
          "name": "stderr",
          "text": [
            "\n",
            "Epoch 1:   1%|          | 152/15102 [00:14<22:49, 10.92it/s, Batch Loss=6.51]\u001b[A\n",
            "Epoch 1:   1%|          | 154/15102 [00:14<23:05, 10.79it/s, Batch Loss=6.51]\u001b[A\n",
            "Epoch 1:   1%|          | 154/15102 [00:14<23:05, 10.79it/s, Batch Loss=6.81]\u001b[A\n",
            "Epoch 1:   1%|          | 154/15102 [00:14<23:05, 10.79it/s, Batch Loss=6.3] \u001b[A\n",
            "Epoch 1:   1%|          | 156/15102 [00:14<23:12, 10.73it/s, Batch Loss=6.3]\u001b[A"
          ]
        },
        {
          "output_type": "stream",
          "name": "stdout",
          "text": [
            "질문: <usr> 억압의 도덕은 닫힌 사회에 영향을 끼쳐, 내가 속한 곳과는 다른 사회를 어떻게 대하도록 하나? </s> <sys> 배타적 </s>\n",
            "질문: <usr> 성체 오스트레일리아까치의 신장은 어느 정도 인가? </s> <sys> 37 ~ 43 센티미터 </s><pad><pad><pad><pad><pad><pad><pad>\n",
            "질문: <usr> <안녕, 헤이즐>에서 헤이즐과 어거스터스가 작가 밴 하우튼을 만나기 위해 행한 도시는?  </s> \n"
          ]
        },
        {
          "output_type": "stream",
          "name": "stderr",
          "text": [
            "\n",
            "Epoch 1:   1%|          | 156/15102 [00:15<23:12, 10.73it/s, Batch Loss=7.27]\u001b[A\n",
            "Epoch 1:   1%|          | 156/15102 [00:15<23:12, 10.73it/s, Batch Loss=5.68]\u001b[A\n",
            "Epoch 1:   1%|          | 158/15102 [00:15<23:08, 10.76it/s, Batch Loss=5.68]\u001b[A\n",
            "Epoch 1:   1%|          | 158/15102 [00:15<23:08, 10.76it/s, Batch Loss=4.06]\u001b[A"
          ]
        },
        {
          "output_type": "stream",
          "name": "stdout",
          "text": [
            "질문: <usr> 송윤아의 KBS 공채 기수는? </s> <sys> 17기 </s><pad><pad><pad><pad><pad><pad><pad><pad><pad><pad><pad><pad>\n",
            "질문: <usr> 강희제가 윤잉을 폐서인시킨 해는? </s> <sys> 1708년 </s><pad><pad><pad><pad><pad><pad><pad><pad><pad><pad><pad>\n",
            "질문: <usr> 서인영이 자신의 롤모델로 꼽은 가수는 마돈나와 누구인가? </s> <sys> 크리스티나 아길레라 </s><pad>\n"
          ]
        },
        {
          "output_type": "stream",
          "name": "stderr",
          "text": [
            "\n",
            "Epoch 1:   1%|          | 158/15102 [00:15<23:08, 10.76it/s, Batch Loss=4.61]\u001b[A\n",
            "Epoch 1:   1%|          | 160/15102 [00:15<23:39, 10.52it/s, Batch Loss=4.61]\u001b[A\n",
            "Epoch 1:   1%|          | 160/15102 [00:15<23:39, 10.52it/s, Batch Loss=6.57]\u001b[A\n",
            "Epoch 1:   1%|          | 160/15102 [00:15<23:39, 10.52it/s, Batch Loss=5.03]\u001b[A\n",
            "Epoch 1:   1%|          | 162/15102 [00:15<23:45, 10.48it/s, Batch Loss=5.03]\u001b[A"
          ]
        },
        {
          "output_type": "stream",
          "name": "stdout",
          "text": [
            "질문: <usr> 손가락들을 따로 통제하는데 곤란을 겪는 병의 전문용어는? </s> <sys> 초점성 수부 근긴장이상 </s><pad><pad><pad>\n",
            "질문: <usr> <고래가 그랬어>가 전국의 여러 학교 및 도서관 등에 무상으로 보급된 시기는? </s> <sys> 2011년 2월 </s><pad><pad><pad><pad>\n",
            "질문: <usr> 에기르는 토르에게 맥주를 빚기 위해 무엇을 먼저 구해오라고 하는가? </s> <sys> 솥을 </s><pad><pad><pad>\n"
          ]
        },
        {
          "output_type": "stream",
          "name": "stderr",
          "text": [
            "\n",
            "Epoch 1:   1%|          | 162/15102 [00:15<23:45, 10.48it/s, Batch Loss=5.32]\u001b[A\n",
            "Epoch 1:   1%|          | 162/15102 [00:15<23:45, 10.48it/s, Batch Loss=5.96]\u001b[A\n",
            "Epoch 1:   1%|          | 164/15102 [00:15<23:33, 10.57it/s, Batch Loss=5.96]\u001b[A\n",
            "Epoch 1:   1%|          | 164/15102 [00:15<23:33, 10.57it/s, Batch Loss=4.84]\u001b[A"
          ]
        },
        {
          "output_type": "stream",
          "name": "stdout",
          "text": [
            "질문: <usr> 전원책이 1971년 진해군항제에서 장원을 수상한 시의 제목은? </s> <sys> 항해 </s><pad><pad><pad><pad><pad><pad><pad><pad><pad>\n",
            "질문: <usr> 이효리가 SBS 인기가요에서 컴백무대를 할 때 빈축을 샀던 것은 무엇 때문인가? </s> <sys> 립싱크\n",
            "질문: <usr> 해리 파크스는 도주중인 누구를 사로잡았나? </s> <sys> 예밍천 양광총독 </s><pad><pad><pad><pad><pad><pad>\n"
          ]
        },
        {
          "output_type": "stream",
          "name": "stderr",
          "text": [
            "\n",
            "Epoch 1:   1%|          | 164/15102 [00:15<23:33, 10.57it/s, Batch Loss=5.38]\u001b[A\n",
            "Epoch 1:   1%|          | 166/15102 [00:15<23:48, 10.46it/s, Batch Loss=5.38]\u001b[A\n",
            "Epoch 1:   1%|          | 166/15102 [00:15<23:48, 10.46it/s, Batch Loss=5.73]\u001b[A\n",
            "Epoch 1:   1%|          | 166/15102 [00:16<23:48, 10.46it/s, Batch Loss=5.49]\u001b[A\n",
            "Epoch 1:   1%|          | 168/15102 [00:16<24:20, 10.23it/s, Batch Loss=5.49]\u001b[A"
          ]
        },
        {
          "output_type": "stream",
          "name": "stdout",
          "text": [
            "질문: <usr> 안산시에 국가산업단지를 조성한 년도는? </s> <sys> 1976년 </s><pad><pad><pad><pad><pad><pad><pad><pad><pad><pad><pad><pad>\n",
            "질문: <usr> 젝스키스가 데뷔해서 남긴 정규 앨번은 총 몇장인가? </s> <sys> 4장 </s><pad><pad><pad><pad><pad><pad>\n",
            "질문: <usr> 이집트 신전에서 주 입구를 통과하면 나오는 탑문을 뜻하는 이집트어는? </s> <sys> 파일론 </s><pad><pad><pad><pad><pad><pad>\n"
          ]
        },
        {
          "output_type": "stream",
          "name": "stderr",
          "text": [
            "\n",
            "Epoch 1:   1%|          | 168/15102 [00:16<24:20, 10.23it/s, Batch Loss=5.9] \u001b[A\n",
            "Epoch 1:   1%|          | 168/15102 [00:16<24:20, 10.23it/s, Batch Loss=6.38]\u001b[A\n",
            "Epoch 1:   1%|          | 170/15102 [00:16<24:30, 10.15it/s, Batch Loss=6.38]\u001b[A\n",
            "Epoch 1:   1%|          | 170/15102 [00:16<24:30, 10.15it/s, Batch Loss=7.11]\u001b[A"
          ]
        },
        {
          "output_type": "stream",
          "name": "stdout",
          "text": [
            "질문: <usr> 단순하거나 평평한 모양을 가진 충돌구들의 최대 지름 길이는? </s> <sys> 5 km </s><pad><pad><pad><pad><pad><pad><pad><pad>\n",
            "질문: <usr> 테이트 모던에서 전시하는 작품에서 최근의 미술 경향인 새로운 표현기법은? </s> <sys> 꼴라쥬, 아상블라쥬\n",
            "질문: <usr>  2015년 8월 22일 누구를 상대로 좌익수 키를 넘기는 2루타를 쳤는가? </s> <sys> 신재웅 </s><pad>\n"
          ]
        },
        {
          "output_type": "stream",
          "name": "stderr",
          "text": [
            "\n",
            "Epoch 1:   1%|          | 170/15102 [00:16<24:30, 10.15it/s, Batch Loss=5.85]\u001b[A\n",
            "Epoch 1:   1%|          | 172/15102 [00:16<24:12, 10.28it/s, Batch Loss=5.85]\u001b[A\n",
            "Epoch 1:   1%|          | 172/15102 [00:16<24:12, 10.28it/s, Batch Loss=6.44]\u001b[A\n",
            "Epoch 1:   1%|          | 172/15102 [00:16<24:12, 10.28it/s, Batch Loss=6.38]\u001b[A\n",
            "Epoch 1:   1%|          | 174/15102 [00:16<23:25, 10.62it/s, Batch Loss=6.38]\u001b[A"
          ]
        },
        {
          "output_type": "stream",
          "name": "stdout",
          "text": [
            "질문: <usr> 소련군이 토성 작전을 실행하여 탈환하고자 했던 지역은 어디인가? </s> <sys> 로스토프 </s><pad><pad><pad><pad><pad><pad><pad>\n",
            "질문: <usr> 라즈베리 파이가 나오기 전에 캠브리지에서 웨렌 이스트에 의해 출품된 것은? </s> <sys> 라즈베리 파이 보드\n",
            "질문: <usr> 언어예술인 문학을 무엇이라고 하는가? </s> <sys> 문예 </s><pad><pad><pad><pad><pad><pad><pad><pad><pad><pad><pad><pad><pad><pad>\n"
          ]
        },
        {
          "output_type": "stream",
          "name": "stderr",
          "text": [
            "\n",
            "Epoch 1:   1%|          | 174/15102 [00:16<23:25, 10.62it/s, Batch Loss=5.38]\u001b[A\n",
            "Epoch 1:   1%|          | 174/15102 [00:16<23:25, 10.62it/s, Batch Loss=5.69]\u001b[A\n",
            "Epoch 1:   1%|          | 176/15102 [00:16<22:47, 10.91it/s, Batch Loss=5.69]\u001b[A\n",
            "Epoch 1:   1%|          | 176/15102 [00:16<22:47, 10.91it/s, Batch Loss=4.96]\u001b[A"
          ]
        },
        {
          "output_type": "stream",
          "name": "stdout",
          "text": [
            "질문: <usr> 탄화수소 슬러지나 톨린은 유기화합물이 어떤 빛을 쬐면 만들어지는가? </s> <sys> 자외선 복사 </s><pad><pad><pad><pad><pad>\n",
            "질문: <usr> 일본 근대 건축사 연구자로 구성된 단체 이름은? </s> <sys> 메이지 건축 연구회 </s><pad><pad><pad><pad><pad><pad><pad><pad><pad>\n",
            "질문: <usr> 황실 재산 국유화 대신 황족 직계와 배우자에게 매월 생활비를 지급하도록 제정된 법은? </s> <sys> 구황실재산처리법 \n"
          ]
        },
        {
          "output_type": "stream",
          "name": "stderr",
          "text": [
            "\n",
            "Epoch 1:   1%|          | 176/15102 [00:16<22:47, 10.91it/s, Batch Loss=6.98]\u001b[A\n",
            "Epoch 1:   1%|          | 178/15102 [00:16<22:24, 11.10it/s, Batch Loss=6.98]\u001b[A\n",
            "Epoch 1:   1%|          | 178/15102 [00:17<22:24, 11.10it/s, Batch Loss=4.56]\u001b[A\n",
            "Epoch 1:   1%|          | 178/15102 [00:17<22:24, 11.10it/s, Batch Loss=5.54]\u001b[A\n",
            "Epoch 1:   1%|          | 180/15102 [00:17<22:07, 11.24it/s, Batch Loss=5.54]\u001b[A"
          ]
        },
        {
          "output_type": "stream",
          "name": "stdout",
          "text": [
            "질문: <usr> 소녀시대는 인터스코프 레코드와 무엇을 체결하였나? </s> <sys> 레이블 계약 </s><pad><pad><pad><pad><pad><pad><pad>\n",
            "질문: <usr> 룬트슈테트가 석방된 시기는 언제인가요? </s> <sys> 1948년 </s><pad><pad><pad><pad><pad><pad><pad><pad><pad><pad>\n",
            "질문: <usr> 더불어민주당원 댓글 조작 사건으로 드루킹이 만든 인터넷 카페 이름은? </s> <sys> 경제적 공진화 모임 </s><pad><pad><pad>\n"
          ]
        },
        {
          "output_type": "stream",
          "name": "stderr",
          "text": [
            "\n",
            "Epoch 1:   1%|          | 180/15102 [00:17<22:07, 11.24it/s, Batch Loss=5.98]\u001b[A\n",
            "Epoch 1:   1%|          | 180/15102 [00:17<22:07, 11.24it/s, Batch Loss=6.21]\u001b[A\n",
            "Epoch 1:   1%|          | 182/15102 [00:17<22:12, 11.20it/s, Batch Loss=6.21]\u001b[A\n",
            "Epoch 1:   1%|          | 182/15102 [00:17<22:12, 11.20it/s, Batch Loss=6.41]\u001b[A"
          ]
        },
        {
          "output_type": "stream",
          "name": "stdout",
          "text": [
            "질문: <usr> 자사 골프장을 사드 배치 부지로 제공해, 중국의 경제보복을 겪고 있는 기업은? </s> <sys> 롯데그룹 </s><pad>\n",
            "질문: <usr> 개복치를 라틴어로 무엇이라고 하는가? </s> <sys> Mola </s><pad><pad><pad><pad><pad><pad><pad><pad><pad><pad><pad><pad>\n",
            "질문: <usr> 한국교원대학교 총학생회가 학생 복지를 위해 설치한 조직은? </s> <sys> 학생복지위원회 </s><pad><pad><pad><pad><pad><pad><pad>\n"
          ]
        },
        {
          "output_type": "stream",
          "name": "stderr",
          "text": [
            "\n",
            "Epoch 1:   1%|          | 182/15102 [00:17<22:12, 11.20it/s, Batch Loss=4.84]\u001b[A\n",
            "Epoch 1:   1%|          | 184/15102 [00:17<22:05, 11.25it/s, Batch Loss=4.84]\u001b[A\n",
            "Epoch 1:   1%|          | 184/15102 [00:17<22:05, 11.25it/s, Batch Loss=4.96]\u001b[A\n",
            "Epoch 1:   1%|          | 184/15102 [00:17<22:05, 11.25it/s, Batch Loss=5.67]\u001b[A\n",
            "Epoch 1:   1%|          | 186/15102 [00:17<22:02, 11.28it/s, Batch Loss=5.67]\u001b[A"
          ]
        },
        {
          "output_type": "stream",
          "name": "stdout",
          "text": [
            "질문: <usr> 1995년 미국에서 윤미래를 발탁한 사람은? </s> <sys> 정연준 </s><pad><pad><pad><pad><pad><pad><pad><pad><pad><pad><pad>\n",
            "질문: <usr> 융화경향과 함께 2세기 오르페우스 찬가와 5세기 사투르날리아가 영향받은 이론은 무엇인가? </s> <sys> 합리주의 이론\n",
            "질문: <usr> 이탈리아 요리에 대한 저술을 최초로 작성한 사람은 누구인가? </s> <sys> 아케스트라투스 </s><pad><pad><pad><pad><pad><pad><pad><pad><pad>\n"
          ]
        },
        {
          "output_type": "stream",
          "name": "stderr",
          "text": [
            "\n",
            "Epoch 1:   1%|          | 186/15102 [00:17<22:02, 11.28it/s, Batch Loss=6.72]\u001b[A\n",
            "Epoch 1:   1%|          | 186/15102 [00:17<22:02, 11.28it/s, Batch Loss=4.59]\u001b[A\n",
            "Epoch 1:   1%|          | 188/15102 [00:17<22:07, 11.24it/s, Batch Loss=4.59]\u001b[A\n",
            "Epoch 1:   1%|          | 188/15102 [00:17<22:07, 11.24it/s, Batch Loss=6.23]\u001b[A"
          ]
        },
        {
          "output_type": "stream",
          "name": "stdout",
          "text": [
            "질문: <usr> 어떤 대사에는 창극이 적합하지 않는가? </s> <sys> 신극적인 대사 </s><pad><pad><pad><pad><pad><pad><pad><pad><pad><pad>\n",
            "질문: <usr> 말버러 공작 1세 존 처칠의 친구이자 대리인으로 불리는 사람은 누구인가? </s> <sys> 외젠 공작 </s><pad><pad><pad><pad><pad>\n",
            "질문: <usr> 1941년엔 부설되어 수학, 물상, 화학, 생물 중등교사를 양성하기도 했던 기관명은? </s> <sys> 이과양성소(理\n"
          ]
        },
        {
          "output_type": "stream",
          "name": "stderr",
          "text": [
            "\n",
            "Epoch 1:   1%|          | 188/15102 [00:18<22:07, 11.24it/s, Batch Loss=5.46]\u001b[A\n",
            "Epoch 1:   1%|▏         | 190/15102 [00:18<22:27, 11.07it/s, Batch Loss=5.46]\u001b[A\n",
            "Epoch 1:   1%|▏         | 190/15102 [00:18<22:27, 11.07it/s, Batch Loss=5.6] \u001b[A\n",
            "Epoch 1:   1%|▏         | 190/15102 [00:18<22:27, 11.07it/s, Batch Loss=6.12]\u001b[A\n",
            "Epoch 1:   1%|▏         | 192/15102 [00:18<22:17, 11.14it/s, Batch Loss=6.12]\u001b[A"
          ]
        },
        {
          "output_type": "stream",
          "name": "stdout",
          "text": [
            "질문: <usr> 1회 패럴림픽에 참가한 선수의 수는? </s> <sys> 400 명 </s><pad><pad><pad><pad><pad><pad><pad><pad><pad><pad><pad>\n",
            "질문: <usr> 일본 훗카이도 네무로 시의 연평균 기온은? </s> <sys> 섭씨 6.1도 </s><pad><pad><pad><pad><pad><pad><pad>\n",
            "질문: <usr> 나라를 발전시킨 군주에게는 세종 또는 어떠한 묘호를 붙였는가? </s> <sys> 고종 </s><pad><pad><pad><pad><pad><pad><pad><pad><pad>\n"
          ]
        },
        {
          "output_type": "stream",
          "name": "stderr",
          "text": [
            "\n",
            "Epoch 1:   1%|▏         | 192/15102 [00:18<22:17, 11.14it/s, Batch Loss=4.61]\u001b[A\n",
            "Epoch 1:   1%|▏         | 192/15102 [00:18<22:17, 11.14it/s, Batch Loss=6.78]\u001b[A\n",
            "Epoch 1:   1%|▏         | 194/15102 [00:18<22:05, 11.25it/s, Batch Loss=6.78]\u001b[A\n",
            "Epoch 1:   1%|▏         | 194/15102 [00:18<22:05, 11.25it/s, Batch Loss=5.52]\u001b[A"
          ]
        },
        {
          "output_type": "stream",
          "name": "stdout",
          "text": [
            "질문: <usr> 이 오로라의 높이는 주간에서 저녁,밤중에 이를수록 낮아지는데 무슨 오로라인가? </s> <sys> 커튼형오로라 \n",
            "질문: <usr> 남재준은 2004년 어디에서 노무현 정부의 군 개혁 정책에 대한 입장을 말했는가? </s> <sys> 계룡대 육군본부 </s><pad>\n",
            "질문: <usr> 1945년부터 1948년간 진행된 회담은? </s> <sys> 포츠담 회담 </s><pad><pad><pad><pad><pad><pad><pad><pad><pad><pad><pad>\n"
          ]
        },
        {
          "output_type": "stream",
          "name": "stderr",
          "text": [
            "\n",
            "Epoch 1:   1%|▏         | 194/15102 [00:18<22:05, 11.25it/s, Batch Loss=5.7] \u001b[A\n",
            "Epoch 1:   1%|▏         | 196/15102 [00:18<21:53, 11.35it/s, Batch Loss=5.7]\u001b[A\n",
            "Epoch 1:   1%|▏         | 196/15102 [00:18<21:53, 11.35it/s, Batch Loss=6.21]\u001b[A\n",
            "Epoch 1:   1%|▏         | 196/15102 [00:18<21:53, 11.35it/s, Batch Loss=7.51]\u001b[A\n",
            "Epoch 1:   1%|▏         | 198/15102 [00:18<21:47, 11.40it/s, Batch Loss=7.51]\u001b[A"
          ]
        },
        {
          "output_type": "stream",
          "name": "stdout",
          "text": [
            "질문: <usr> 영화 스타 트렉 더 비기닝에서 우주력 2233년 나라다 호가 어뢰 공격한 함선은? </s> <sys> US\n",
            "질문: <usr> 부상 부위 치료를 위해 몇주간 대회 참여가 불가능했나? </s> <sys> 6주 </s><pad><pad><pad><pad><pad><pad><pad><pad>\n",
            "질문: <usr> 끓는점을 상승키는 반 데르 발스 힘의 일종은 무엇인가? </s> <sys> London dispersion force \n"
          ]
        },
        {
          "output_type": "stream",
          "name": "stderr",
          "text": [
            "\n",
            "Epoch 1:   1%|▏         | 198/15102 [00:18<21:47, 11.40it/s, Batch Loss=7.01]\u001b[A\n",
            "Epoch 1:   1%|▏         | 198/15102 [00:18<21:47, 11.40it/s, Batch Loss=5.39]\u001b[A\n",
            "Epoch 1:   1%|▏         | 200/15102 [00:18<21:55, 11.33it/s, Batch Loss=5.39]\u001b[A\n",
            "Epoch 1:   1%|▏         | 200/15102 [00:19<21:55, 11.33it/s, Batch Loss=6.57]\u001b[A"
          ]
        },
        {
          "output_type": "stream",
          "name": "stdout",
          "text": [
            "질문: <usr> 전인범이 이라크 평화 정책에 기여한 공로로 미국 정부로부터 받은 상은? </s> <sys> 동성훈장 </s><pad><pad><pad><pad><pad><pad><pad><pad>\n",
            "질문: <usr> 다색쇄 판화를 창시한 사람은? </s> <sys> 스즈키 하루노부 </s><pad><pad><pad><pad><pad><pad><pad><pad>\n",
            "질문: <usr> 보안법 위반으로  8개월 형을 산 사람들은 누구인가? </s> <sys> 노덕순, 김평두, 조옥초, 최달형,\n"
          ]
        },
        {
          "output_type": "stream",
          "name": "stderr",
          "text": [
            "\n",
            "Epoch 1:   1%|▏         | 200/15102 [00:19<21:55, 11.33it/s, Batch Loss=6.91]\u001b[A\n",
            "Epoch 1:   1%|▏         | 202/15102 [00:19<22:02, 11.27it/s, Batch Loss=6.91]\u001b[A\n",
            "Epoch 1:   1%|▏         | 202/15102 [00:19<22:02, 11.27it/s, Batch Loss=5.41]\u001b[A\n",
            "Epoch 1:   1%|▏         | 202/15102 [00:19<22:02, 11.27it/s, Batch Loss=5.52]\u001b[A\n",
            "Epoch 1:   1%|▏         | 204/15102 [00:19<22:01, 11.27it/s, Batch Loss=5.52]\u001b[A"
          ]
        },
        {
          "output_type": "stream",
          "name": "stdout",
          "text": [
            "질문: <usr> 박근혜 전 대표가 영남대 의혹에 관해 이병철 전 회장의 책임이라고 말하려던 것을 대신 잘못 말한 인물은? </s> <sys>\n",
            "질문: <usr> 남자 동료간에 발생하는 큰 웃음은 서로의 무엇을 강화 시켜 주는가? </s> <sys> 결속력 </s><pad><pad><pad><pad><pad><pad><pad>\n",
            "질문: <usr> 1857년 미국의 도시 중 뉴욕에서 최초로 탄생시킨 도시 공원은?  </s> <sys> 센트럴 파크 </s><pad><pad><pad><pad><pad><pad><pad>\n"
          ]
        },
        {
          "output_type": "stream",
          "name": "stderr",
          "text": [
            "\n",
            "Epoch 1:   1%|▏         | 204/15102 [00:19<22:01, 11.27it/s, Batch Loss=6.24]\u001b[A\n",
            "Epoch 1:   1%|▏         | 204/15102 [00:19<22:01, 11.27it/s, Batch Loss=6.3] \u001b[A\n",
            "Epoch 1:   1%|▏         | 206/15102 [00:19<22:02, 11.26it/s, Batch Loss=6.3]\u001b[A\n",
            "Epoch 1:   1%|▏         | 206/15102 [00:19<22:02, 11.26it/s, Batch Loss=5.84]\u001b[A"
          ]
        },
        {
          "output_type": "stream",
          "name": "stdout",
          "text": [
            "질문: <usr> <침묵>에서 임태산 역을 맡은 배우는? </s> <sys> 최민식 </s><pad><pad><pad><pad><pad><pad><pad><pad><pad>\n",
            "질문: <usr> 1878년에 설립되었고 켈커타 대학교의 분교로 영국에 의해 운영되었던 이 대학의 이름은? </s> <sys> 랑군대학 </s><pad>\n",
            "질문: <usr> 최초로 자신들의 유행에 맞추어 그리스 신화 인물 이야기를 각색해낸 시인들은? </s> <sys> 알렉산드리아의 시인들 </s><pad><pad><pad><pad><pad>\n"
          ]
        },
        {
          "output_type": "stream",
          "name": "stderr",
          "text": [
            "\n",
            "Epoch 1:   1%|▏         | 206/15102 [00:19<22:02, 11.26it/s, Batch Loss=6.24]\u001b[A\n",
            "Epoch 1:   1%|▏         | 208/15102 [00:19<22:01, 11.27it/s, Batch Loss=6.24]\u001b[A\n",
            "Epoch 1:   1%|▏         | 208/15102 [00:19<22:01, 11.27it/s, Batch Loss=6.31]\u001b[A\n",
            "Epoch 1:   1%|▏         | 208/15102 [00:19<22:01, 11.27it/s, Batch Loss=5.83]\u001b[A\n",
            "Epoch 1:   1%|▏         | 210/15102 [00:19<22:07, 11.22it/s, Batch Loss=5.83]\u001b[A"
          ]
        },
        {
          "output_type": "stream",
          "name": "stdout",
          "text": [
            "질문: <usr> 가우스가 세레스의 위치를 정확히 예측한 방법은? </s> <sys> 위치 추산력 </s><pad><pad><pad><pad><pad><pad><pad><pad><pad>\n",
            "질문: <usr> 일본에서 기독교인에 대한 직접적인 박해의 시발점이 된 사건은 무엇인가? </s> <sys> 생 펠리페 호 사건 </s><pad><pad><pad><pad><pad><pad>\n",
            "질문: <usr> 주식회사 태양의 회장이 기부한 부지매입금이 목표한 캠퍼스는? </s> <sys> 양산캠퍼스 </s><pad><pad><pad><pad><pad><pad><pad>\n"
          ]
        },
        {
          "output_type": "stream",
          "name": "stderr",
          "text": [
            "\n",
            "Epoch 1:   1%|▏         | 210/15102 [00:19<22:07, 11.22it/s, Batch Loss=5.7] \u001b[A\n",
            "Epoch 1:   1%|▏         | 210/15102 [00:20<22:07, 11.22it/s, Batch Loss=7.5]\u001b[A\n",
            "Epoch 1:   1%|▏         | 212/15102 [00:20<21:53, 11.33it/s, Batch Loss=7.5]\u001b[A\n",
            "Epoch 1:   1%|▏         | 212/15102 [00:20<21:53, 11.33it/s, Batch Loss=5.69]\u001b[A"
          ]
        },
        {
          "output_type": "stream",
          "name": "stdout",
          "text": [
            "질문: <usr> 문재인은 저출산 문제를 해결하기위해 강력한 컨트롤타워로 무엇을 선택하였나? </s> <sys> 저출산·고령사회위원회\n",
            "질문: <usr> 홍콩은 광둥어로 무엇인가? </s> <sys> Hoeng gong </s><pad><pad><pad><pad><pad><pad><pad><pad><pad><pad><pad>\n",
            "질문: <usr> 김승연 회장이 홍선기 당시 대전시장으로부터 제안받은 사업은? </s> <sys> 대덕테크노밸리 </s><pad><pad><pad><pad>\n"
          ]
        },
        {
          "output_type": "stream",
          "name": "stderr",
          "text": [
            "\n",
            "Epoch 1:   1%|▏         | 212/15102 [00:20<21:53, 11.33it/s, Batch Loss=6.57]\u001b[A\n",
            "Epoch 1:   1%|▏         | 214/15102 [00:20<22:23, 11.08it/s, Batch Loss=6.57]\u001b[A\n",
            "Epoch 1:   1%|▏         | 214/15102 [00:20<22:23, 11.08it/s, Batch Loss=5.64]\u001b[A\n",
            "Epoch 1:   1%|▏         | 214/15102 [00:20<22:23, 11.08it/s, Batch Loss=6.61]\u001b[A\n",
            "Epoch 1:   1%|▏         | 216/15102 [00:20<22:05, 11.23it/s, Batch Loss=6.61]\u001b[A"
          ]
        },
        {
          "output_type": "stream",
          "name": "stdout",
          "text": [
            "질문: <usr> 오카자키는 무엇을 외치며 단검을 자신의 목덜미에 꽂았나? </s> <sys> 천황 폐하 만세 </s><pad><pad><pad>\n",
            "질문: <usr> 이산화 티타늄은 모든 유기물질을 이산화탄소와 또 다른 무엇으로 분해할 수 있는 능력을 가지고 있나요? </s> <sys> 물\n",
            "질문: <usr> 사회 구조를 붕괴시킬 정도로 14세기 유럽 사회에 큰 영향을 준 질병은? </s> <sys> 흑사병 </s><pad><pad><pad><pad><pad><pad><pad>\n"
          ]
        },
        {
          "output_type": "stream",
          "name": "stderr",
          "text": [
            "\n",
            "Epoch 1:   1%|▏         | 216/15102 [00:20<22:05, 11.23it/s, Batch Loss=6]   \u001b[A\n",
            "Epoch 1:   1%|▏         | 216/15102 [00:20<22:05, 11.23it/s, Batch Loss=5.01]\u001b[A\n",
            "Epoch 1:   1%|▏         | 218/15102 [00:20<21:55, 11.31it/s, Batch Loss=5.01]\u001b[A\n",
            "Epoch 1:   1%|▏         | 218/15102 [00:20<21:55, 11.31it/s, Batch Loss=6.1] \u001b[A"
          ]
        },
        {
          "output_type": "stream",
          "name": "stdout",
          "text": [
            "질문: <usr> 밥딜런이 만든 반전평화가요는? </s> <sys> Blowing in the Wind </s><pad><pad><pad><pad><pad><pad>\n",
            "질문: <usr> 2011년 1월 8일 개편에 따라 KBS 2TV에서 밤 10시 10분에 정규방송으로 편성된 명작 스캔들은 무슨 요일에 방영하였나\n",
            "질문: <usr> 일본 궁내성에서 이우의 배우자로 내정해놓았던 신부의 아버지는? </s> <sys> 야나기사와 야스쯔구 </s><pad>\n"
          ]
        },
        {
          "output_type": "stream",
          "name": "stderr",
          "text": [
            "\n",
            "Epoch 1:   1%|▏         | 218/15102 [00:20<21:55, 11.31it/s, Batch Loss=5.63]\u001b[A\n",
            "Epoch 1:   1%|▏         | 220/15102 [00:20<22:05, 11.23it/s, Batch Loss=5.63]\u001b[A\n",
            "Epoch 1:   1%|▏         | 220/15102 [00:20<22:05, 11.23it/s, Batch Loss=5.97]\u001b[A\n",
            "Epoch 1:   1%|▏         | 220/15102 [00:20<22:05, 11.23it/s, Batch Loss=4.71]\u001b[A\n",
            "Epoch 1:   1%|▏         | 222/15102 [00:20<22:05, 11.23it/s, Batch Loss=4.71]\u001b[A"
          ]
        },
        {
          "output_type": "stream",
          "name": "stdout",
          "text": [
            "질문: <usr> 729년  리우트페란트가 교황에게  수트리와 라티움의 일부언덕을 기증하였는데 이를 무엇이라 부르는가? </s>\n",
            "질문: <usr> 단발령을 포고한 날짜는? </s> <sys> 12월 30일 </s><pad><pad><pad><pad><pad><pad><pad><pad><pad><pad><pad><pad><pad><pad>\n",
            "질문: <usr> 어거스터스 워터스 역을 연기하기로 결정된 사람은? </s> <sys> 앤설 엘고트 </s><pad><pad><pad><pad><pad><pad>\n"
          ]
        },
        {
          "output_type": "stream",
          "name": "stderr",
          "text": [
            "\n",
            "Epoch 1:   1%|▏         | 222/15102 [00:20<22:05, 11.23it/s, Batch Loss=5.78]\u001b[A\n",
            "Epoch 1:   1%|▏         | 222/15102 [00:21<22:05, 11.23it/s, Batch Loss=5.69]\u001b[A\n",
            "Epoch 1:   1%|▏         | 224/15102 [00:21<22:06, 11.22it/s, Batch Loss=5.69]\u001b[A\n",
            "Epoch 1:   1%|▏         | 224/15102 [00:21<22:06, 11.22it/s, Batch Loss=6.07]\u001b[A"
          ]
        },
        {
          "output_type": "stream",
          "name": "stdout",
          "text": [
            "질문: <usr> 도망 노예법 통과   후, 탈출 노예들의 위험 증가로  도망가기 시작한 나라는? </s> <sys> 캐나다 </s><pad><pad><pad>\n",
            "질문: <usr> 너의 이름은 이라는 영화는 언제 뉴질랜드에서 개봉하였나요? </s> <sys> 2016년 12월 1일 </s><pad><pad><pad><pad><pad><pad>\n",
            "질문: <usr> 세부의 대표적인 축제 이름은? </s> <sys> 시눌룩 축제 </s><pad><pad><pad><pad><pad><pad><pad><pad><pad><pad><pad><pad><pad>\n"
          ]
        },
        {
          "output_type": "stream",
          "name": "stderr",
          "text": [
            "\n",
            "Epoch 1:   1%|▏         | 224/15102 [00:21<22:06, 11.22it/s, Batch Loss=4.26]\u001b[A\n",
            "Epoch 1:   1%|▏         | 226/15102 [00:21<22:09, 11.19it/s, Batch Loss=4.26]\u001b[A\n",
            "Epoch 1:   1%|▏         | 226/15102 [00:21<22:09, 11.19it/s, Batch Loss=7.14]\u001b[A\n",
            "Epoch 1:   1%|▏         | 226/15102 [00:21<22:09, 11.19it/s, Batch Loss=6.52]\u001b[A\n",
            "Epoch 1:   2%|▏         | 228/15102 [00:21<22:14, 11.14it/s, Batch Loss=6.52]\u001b[A"
          ]
        },
        {
          "output_type": "stream",
          "name": "stdout",
          "text": [
            "질문: <usr> 케이티 페리가 15살에 듣고 나서 음악적 활동을 시작하는 데 영감을 준 노래는 무엇입니까? </s> <sys> Killer Queen\n",
            "질문: <usr> 2011년 4년 연속으로 골든 글러브와 필딩 바이블 어워드를 수상한 사람은? </s> <sys> 벌리 </s><pad><pad><pad>\n",
            "질문: <usr> '방송사 시청자 조사 위원회'는 영어 약자로 뭐라고 불릴까? </s> <sys> BARB </s><pad><pad><pad>\n"
          ]
        },
        {
          "output_type": "stream",
          "name": "stderr",
          "text": [
            "\n",
            "Epoch 1:   2%|▏         | 228/15102 [00:21<22:14, 11.14it/s, Batch Loss=5.6] \u001b[A\n",
            "Epoch 1:   2%|▏         | 228/15102 [00:21<22:14, 11.14it/s, Batch Loss=6.18]\u001b[A\n",
            "Epoch 1:   2%|▏         | 230/15102 [00:21<22:01, 11.25it/s, Batch Loss=6.18]\u001b[A\n",
            "Epoch 1:   2%|▏         | 230/15102 [00:21<22:01, 11.25it/s, Batch Loss=5.19]\u001b[A"
          ]
        },
        {
          "output_type": "stream",
          "name": "stdout",
          "text": [
            "질문: <usr> 라이프니츠가 사서로 일했던 도서관은 어디인가? </s> <sys> 볼펜뷔텔의 도서관 </s><pad><pad><pad><pad>\n",
            "질문: <usr> 존 레논과 오노 요코는 몇 년에 결혼했는가? </s> <sys> 1969년 </s><pad><pad><pad><pad><pad><pad><pad><pad>\n",
            "질문: <usr> 8체질침법의 체질침처방을 만든 것은 누구인가? </s> <sys> 한의사 권도원 </s><pad><pad><pad><pad>\n"
          ]
        },
        {
          "output_type": "stream",
          "name": "stderr",
          "text": [
            "\n",
            "Epoch 1:   2%|▏         | 230/15102 [00:21<22:01, 11.25it/s, Batch Loss=4.89]\u001b[A\n",
            "Epoch 1:   2%|▏         | 232/15102 [00:21<21:53, 11.32it/s, Batch Loss=4.89]\u001b[A\n",
            "Epoch 1:   2%|▏         | 232/15102 [00:21<21:53, 11.32it/s, Batch Loss=7.81]\u001b[A\n",
            "Epoch 1:   2%|▏         | 232/15102 [00:21<21:53, 11.32it/s, Batch Loss=5.34]\u001b[A\n",
            "Epoch 1:   2%|▏         | 234/15102 [00:21<21:49, 11.35it/s, Batch Loss=5.34]\u001b[A"
          ]
        },
        {
          "output_type": "stream",
          "name": "stdout",
          "text": [
            "질문: <usr> 뉴욕에 이어 인구가 가장 많은 도시로 첨단산업을 이끌고 있는 이 도시의 이름은 무엇인가? </s> <sys> 샌프란시스코 </s><pad><pad><pad><pad><pad><pad><pad>\n",
            "질문: <usr> 서영교가 검찰에 고발되었던 혐의는 무엇인가?  </s> <sys> 직권남용 </s><pad><pad><pad><pad><pad><pad><pad><pad>\n",
            "질문: <usr> 네드가 세 번째로 만난 여자의 이름은? </s> <sys> 샐리 </s><pad><pad><pad><pad><pad><pad><pad><pad><pad><pad><pad><pad><pad>\n"
          ]
        },
        {
          "output_type": "stream",
          "name": "stderr",
          "text": [
            "\n",
            "Epoch 1:   2%|▏         | 234/15102 [00:22<21:49, 11.35it/s, Batch Loss=4.96]\u001b[A\n",
            "Epoch 1:   2%|▏         | 234/15102 [00:22<21:49, 11.35it/s, Batch Loss=5.59]\u001b[A\n",
            "Epoch 1:   2%|▏         | 236/15102 [00:22<21:46, 11.38it/s, Batch Loss=5.59]\u001b[A\n",
            "Epoch 1:   2%|▏         | 236/15102 [00:22<21:46, 11.38it/s, Batch Loss=5.71]\u001b[A"
          ]
        },
        {
          "output_type": "stream",
          "name": "stdout",
          "text": [
            "질문: <usr> 다무라 히토시가 소프트뱅크 호크스에 입단하면서 받은 번호는? </s> <sys> 6번 </s><pad><pad><pad><pad>\n",
            "질문: <usr> 순천대학교의 70주년 기념관은 지상 몇 층 건물인가? </s> <sys> 지상3층 </s><pad><pad><pad><pad><pad><pad><pad><pad>\n",
            "질문: <usr> 유인촌이 국정감사장에서 한 발언은 2008년 올해 최고의 유행어의 순위에 올랐는데 어디에서 조사한 것인가? </s> <sys> 디시인\n"
          ]
        },
        {
          "output_type": "stream",
          "name": "stderr",
          "text": [
            "\n",
            "Epoch 1:   2%|▏         | 236/15102 [00:22<21:46, 11.38it/s, Batch Loss=7.62]\u001b[A\n",
            "Epoch 1:   2%|▏         | 238/15102 [00:22<22:00, 11.26it/s, Batch Loss=7.62]\u001b[A\n",
            "Epoch 1:   2%|▏         | 238/15102 [00:22<22:00, 11.26it/s, Batch Loss=5.18]\u001b[A\n",
            "Epoch 1:   2%|▏         | 238/15102 [00:22<22:00, 11.26it/s, Batch Loss=6.9] \u001b[A\n",
            "Epoch 1:   2%|▏         | 240/15102 [00:22<21:51, 11.33it/s, Batch Loss=6.9]\u001b[A"
          ]
        },
        {
          "output_type": "stream",
          "name": "stdout",
          "text": [
            "질문: <usr> 가물치의 침입을 막기 위해 연못에서 죽임을 당한 것은 무엇인가? </s> <sys> 물고기 </s><pad><pad><pad><pad><pad><pad><pad><pad><pad>\n",
            "질문: <usr> 서빙 업무에서 식당 주방 보조로 언제 옮기게 되었나? </s> <sys> 5월 7일 </s><pad><pad><pad><pad><pad><pad>\n",
            "질문: <usr> 선히피라는 스님의 이미지가 영향을 받은 전설적인 승려는? </s> <sys> 달마 </s><pad><pad><pad><pad><pad><pad><pad>\n"
          ]
        },
        {
          "output_type": "stream",
          "name": "stderr",
          "text": [
            "\n",
            "Epoch 1:   2%|▏         | 240/15102 [00:22<21:51, 11.33it/s, Batch Loss=5.77]\u001b[A\n",
            "Epoch 1:   2%|▏         | 240/15102 [00:22<21:51, 11.33it/s, Batch Loss=7.31]\u001b[A\n",
            "Epoch 1:   2%|▏         | 242/15102 [00:22<21:47, 11.36it/s, Batch Loss=7.31]\u001b[A\n",
            "Epoch 1:   2%|▏         | 242/15102 [00:22<21:47, 11.36it/s, Batch Loss=5.81]\u001b[A"
          ]
        },
        {
          "output_type": "stream",
          "name": "stdout",
          "text": [
            "질문: <usr> 니체에게 있어 기독교의 예비자를 구현했다고 생각한 사람은? </s> <sys> 소크라테스 </s><pad><pad><pad><pad><pad><pad><pad>\n",
            "질문: <usr> 죠앤이 교통사고로 치료 도중 사망한 것은 언제인가? </s> <sys> 2014년 12월 2일 </s><pad><pad><pad><pad><pad><pad>\n",
            "질문: <usr> 북한의 비핵화 의지 표명과 관련하여 돌파구가 만들어진 것처럼 보일 수 있으나 상당히 의심이 든다고 표현한 미국의 정보기관 수장은 누구인가\n"
          ]
        },
        {
          "output_type": "stream",
          "name": "stderr",
          "text": [
            "\n",
            "Epoch 1:   2%|▏         | 242/15102 [00:22<21:47, 11.36it/s, Batch Loss=6.03]\u001b[A\n",
            "Epoch 1:   2%|▏         | 244/15102 [00:22<21:44, 11.39it/s, Batch Loss=6.03]\u001b[A\n",
            "Epoch 1:   2%|▏         | 244/15102 [00:22<21:44, 11.39it/s, Batch Loss=6.13]\u001b[A\n",
            "Epoch 1:   2%|▏         | 244/15102 [00:23<21:44, 11.39it/s, Batch Loss=5.93]\u001b[A\n",
            "Epoch 1:   2%|▏         | 246/15102 [00:23<21:46, 11.37it/s, Batch Loss=5.93]\u001b[A"
          ]
        },
        {
          "output_type": "stream",
          "name": "stdout",
          "text": [
            "질문: <usr> 유엔 첩보당국이 동태를 알려준 인민군 대병력이 건너려던 강은? </s> <sys> 낙동강 </s><pad><pad><pad>\n",
            "질문: <usr> 2011년 8월 16일 에런 램지는 우디네세와의 홈경기에서 누구의 골을 어시스트 했나? </s> <sys>\n",
            "질문: <usr> 노무현 전 대통령이 투신 자살하기전 남긴 유서는 어디에서 발견되었는가? </s> <sys> 사저의 컴퓨터 </s><pad><pad><pad>\n"
          ]
        },
        {
          "output_type": "stream",
          "name": "stderr",
          "text": [
            "\n",
            "Epoch 1:   2%|▏         | 246/15102 [00:23<21:46, 11.37it/s, Batch Loss=7.67]\u001b[A\n",
            "Epoch 1:   2%|▏         | 246/15102 [00:23<21:46, 11.37it/s, Batch Loss=4.92]\u001b[A\n",
            "Epoch 1:   2%|▏         | 248/15102 [00:23<22:09, 11.17it/s, Batch Loss=4.92]\u001b[A\n",
            "Epoch 1:   2%|▏         | 248/15102 [00:23<22:09, 11.17it/s, Batch Loss=6.26]\u001b[A"
          ]
        },
        {
          "output_type": "stream",
          "name": "stdout",
          "text": [
            "질문: <usr> 장평대전 당시 진나라의 새로운 지휘관은 누구인가? </s> <sys> 백기 </s><pad><pad><pad><pad><pad><pad><pad><pad><pad>\n",
            "질문: <usr> 케이스사가 컬링 스톤을 공급했던 것은 1924년, 어느 지역에서 열린 동계 올림픽 부터입니까? </s> <sys> 샤모니 \n",
            "질문: <usr> 안산시의회가 조력발전소 지방세법 개정 촉구 결의안을 채택한 년도는? </s> <sys> 2012년 </s><pad><pad><pad><pad><pad><pad>\n"
          ]
        },
        {
          "output_type": "stream",
          "name": "stderr",
          "text": [
            "\n",
            "Epoch 1:   2%|▏         | 248/15102 [00:23<22:09, 11.17it/s, Batch Loss=7.45]\u001b[A\n",
            "Epoch 1:   2%|▏         | 250/15102 [00:23<22:00, 11.25it/s, Batch Loss=7.45]\u001b[A\n",
            "Epoch 1:   2%|▏         | 250/15102 [00:23<22:00, 11.25it/s, Batch Loss=4.83]\u001b[A\n",
            "Epoch 1:   2%|▏         | 250/15102 [00:23<22:00, 11.25it/s, Batch Loss=8.08]\u001b[A\n",
            "Epoch 1:   2%|▏         | 252/15102 [00:23<21:57, 11.27it/s, Batch Loss=8.08]\u001b[A"
          ]
        },
        {
          "output_type": "stream",
          "name": "stdout",
          "text": [
            "질문: <usr> 윌리엄 로런스 브래그는 어느대학 소속인가? </s> <sys> 케임브리지 대학교 </s><pad><pad><pad><pad><pad><pad><pad><pad><pad><pad>\n",
            "질문: <usr> 유럽찌르레기의 새끼는 부화 몇일뒤면 자기 체온을 유지할수있는가? </s> <sys> 부화 후 약 6일 </s>\n",
            "질문: <usr> 일부 역사가들이 폰티액 전쟁을 부르는 명칭은? </s> <sys> 폰티액의 음모 </s><pad><pad><pad><pad><pad><pad><pad><pad><pad>\n"
          ]
        },
        {
          "output_type": "stream",
          "name": "stderr",
          "text": [
            "\n",
            "Epoch 1:   2%|▏         | 252/15102 [00:23<21:57, 11.27it/s, Batch Loss=5.78]\u001b[A\n",
            "Epoch 1:   2%|▏         | 252/15102 [00:23<21:57, 11.27it/s, Batch Loss=5.11]\u001b[A\n",
            "Epoch 1:   2%|▏         | 254/15102 [00:23<21:56, 11.28it/s, Batch Loss=5.11]\u001b[A\n",
            "Epoch 1:   2%|▏         | 254/15102 [00:23<21:56, 11.28it/s, Batch Loss=6.21]\u001b[A"
          ]
        },
        {
          "output_type": "stream",
          "name": "stdout",
          "text": [
            "질문: <usr> 기자들이 대통령과 비서관들을 취재함에 있어 어느 정도 제재가 가해지게 만든 공간은? </s> <sys> 춘추관 </s><pad><pad><pad><pad>\n",
            "질문: <usr> 불교에서 축적된 선업에 의해 생천 하기 위해 행해야 하는 것은? </s> <sys> 세간의 선법 </s><pad><pad><pad><pad>\n",
            "질문: <usr> 뉴욕 자이언츠와 맞붙은 월드시리즈 년도는? </s> <sys> 1911년 </s><pad><pad><pad><pad><pad><pad><pad><pad><pad><pad>\n"
          ]
        },
        {
          "output_type": "stream",
          "name": "stderr",
          "text": [
            "\n",
            "Epoch 1:   2%|▏         | 254/15102 [00:23<21:56, 11.28it/s, Batch Loss=4.78]\u001b[A\n",
            "Epoch 1:   2%|▏         | 256/15102 [00:23<22:02, 11.23it/s, Batch Loss=4.78]\u001b[A\n",
            "Epoch 1:   2%|▏         | 256/15102 [00:24<22:02, 11.23it/s, Batch Loss=5.95]\u001b[A\n",
            "Epoch 1:   2%|▏         | 256/15102 [00:24<22:02, 11.23it/s, Batch Loss=5.79]\u001b[A\n",
            "Epoch 1:   2%|▏         | 258/15102 [00:24<22:05, 11.20it/s, Batch Loss=5.79]\u001b[A"
          ]
        },
        {
          "output_type": "stream",
          "name": "stdout",
          "text": [
            "질문: <usr> 그 후 어머니와 두명의 형과함께 고등학교 졸업때까지 살았던 곳은? </s> <sys> 효고현 아마가사키 시 </s><pad>\n",
            "질문: <usr> 박보검이 천재 첼리스트 이윤후 역할을 연기하였던 드라마 제목은? </s> <sys> 내일도 칸타빌레 </s><pad>\n",
            "질문: <usr> 포틀랜드에서 코벨레스키를 사간 구단은? </s> <sys> 클리블랜드 인디언스 </s><pad><pad><pad><pad><pad><pad>\n"
          ]
        },
        {
          "output_type": "stream",
          "name": "stderr",
          "text": [
            "\n",
            "Epoch 1:   2%|▏         | 258/15102 [00:24<22:05, 11.20it/s, Batch Loss=4.83]\u001b[A\n",
            "Epoch 1:   2%|▏         | 258/15102 [00:24<22:05, 11.20it/s, Batch Loss=4.39]\u001b[A\n",
            "Epoch 1:   2%|▏         | 260/15102 [00:24<22:18, 11.09it/s, Batch Loss=4.39]\u001b[A\n",
            "Epoch 1:   2%|▏         | 260/15102 [00:24<22:18, 11.09it/s, Batch Loss=3.8] \u001b[A"
          ]
        },
        {
          "output_type": "stream",
          "name": "stdout",
          "text": [
            "질문: <usr> 1박2일의 MC 강호동이 하차 의사를 밝힌 날은? </s> <sys> 2011년 8월 10일 </s><pad><pad><pad><pad><pad>\n",
            "질문: <usr> 박정희 대통령 당시 중앙정보부장은 누구인가? </s> <sys> 김형욱 </s><pad><pad><pad><pad><pad><pad><pad><pad><pad><pad><pad><pad>\n",
            "질문: <usr> 이정재는 동대문 상인연합회 회장자리를 누구에게 넘긴 뒤 은퇴하였는가? </s> <sys> 임화수 </s><pad><pad><pad><pad><pad><pad>\n"
          ]
        },
        {
          "output_type": "stream",
          "name": "stderr",
          "text": [
            "\n",
            "Epoch 1:   2%|▏         | 260/15102 [00:24<22:18, 11.09it/s, Batch Loss=4.53]\u001b[A\n",
            "Epoch 1:   2%|▏         | 262/15102 [00:24<22:12, 11.14it/s, Batch Loss=4.53]\u001b[A\n",
            "Epoch 1:   2%|▏         | 262/15102 [00:24<22:12, 11.14it/s, Batch Loss=6.38]\u001b[A\n",
            "Epoch 1:   2%|▏         | 262/15102 [00:24<22:12, 11.14it/s, Batch Loss=6.32]\u001b[A\n",
            "Epoch 1:   2%|▏         | 264/15102 [00:24<22:03, 11.21it/s, Batch Loss=6.32]\u001b[A"
          ]
        },
        {
          "output_type": "stream",
          "name": "stdout",
          "text": [
            "질문: <usr> 모재 제작의 마지막 단계에서 가열할 때 적당한 온도는? </s> <sys> 1700°C </s><pad><pad><pad><pad><pad><pad><pad><pad>\n",
            "질문: <usr> 19대 대통령 선거에서 자유한국당 홍준표 후보의 득표율은? </s> <sys> 24% </s><pad><pad><pad><pad><pad><pad>\n",
            "질문: <usr> 원더걸스의 세번째 정규앨범의 주제는? </s> <sys> REBOOT </s><pad><pad><pad><pad><pad><pad>\n"
          ]
        },
        {
          "output_type": "stream",
          "name": "stderr",
          "text": [
            "\n",
            "Epoch 1:   2%|▏         | 264/15102 [00:24<22:03, 11.21it/s, Batch Loss=7.47]\u001b[A\n",
            "Epoch 1:   2%|▏         | 264/15102 [00:24<22:03, 11.21it/s, Batch Loss=5.47]\u001b[A\n",
            "Epoch 1:   2%|▏         | 266/15102 [00:24<21:58, 11.25it/s, Batch Loss=5.47]\u001b[A\n",
            "Epoch 1:   2%|▏         | 266/15102 [00:24<21:58, 11.25it/s, Batch Loss=5.92]\u001b[A"
          ]
        },
        {
          "output_type": "stream",
          "name": "stdout",
          "text": [
            "질문: <usr> 영국 노동당과 함께 복지국가 만들기를 주도한 중도보수정당의 이름은 무엇인가? </s> <sys> 영국 자유민주당 </s><pad><pad><pad><pad><pad>\n",
            "질문: <usr> 하버드 기숙사 학생 시설을 최선을 다해 만들어 선사한 사람은? </s> <sys> 에드워드 하크니스 </s><pad><pad><pad><pad><pad><pad><pad>\n",
            "질문: <usr> 뽕나무 지도리를 한 가난한 집에 살지만 관리의 저택과 바꾸지 않았던 인물은? </s> <sys> 원헌 </s><pad><pad><pad><pad>\n"
          ]
        },
        {
          "output_type": "stream",
          "name": "stderr",
          "text": [
            "\n",
            "Epoch 1:   2%|▏         | 266/15102 [00:24<21:58, 11.25it/s, Batch Loss=5.43]\u001b[A\n",
            "Epoch 1:   2%|▏         | 268/15102 [00:24<22:04, 11.20it/s, Batch Loss=5.43]\u001b[A\n",
            "Epoch 1:   2%|▏         | 268/15102 [00:25<22:04, 11.20it/s, Batch Loss=5.9] \u001b[A\n",
            "Epoch 1:   2%|▏         | 268/15102 [00:25<22:04, 11.20it/s, Batch Loss=4.81]\u001b[A\n",
            "Epoch 1:   2%|▏         | 270/15102 [00:25<22:01, 11.22it/s, Batch Loss=4.81]\u001b[A"
          ]
        },
        {
          "output_type": "stream",
          "name": "stdout",
          "text": [
            "질문: <usr> 송혜교가 출연한 SBS 드라마 올인의 시청률은?  </s> <sys> 47.75% </s><pad><pad><pad><pad><pad><pad>\n",
            "질문: <usr> 수소와 헬륨원자는 어디에서 온 걸로 추측되는가? </s> <sys> 태양풍 </s><pad><pad><pad><pad><pad><pad><pad><pad>\n",
            "질문: <usr> 절대 지휘권이 아우구스투스만이 최고 통수권자의 자격으로 할 수 있게 해준 것은? </s> <sys> 개선식 </s><pad><pad><pad>\n"
          ]
        },
        {
          "output_type": "stream",
          "name": "stderr",
          "text": [
            "\n",
            "Epoch 1:   2%|▏         | 270/15102 [00:25<22:01, 11.22it/s, Batch Loss=5.44]\u001b[A\n",
            "Epoch 1:   2%|▏         | 270/15102 [00:25<22:01, 11.22it/s, Batch Loss=5.38]\u001b[A\n",
            "Epoch 1:   2%|▏         | 272/15102 [00:25<22:23, 11.04it/s, Batch Loss=5.38]\u001b[A\n",
            "Epoch 1:   2%|▏         | 272/15102 [00:25<22:23, 11.04it/s, Batch Loss=6.01]\u001b[A"
          ]
        },
        {
          "output_type": "stream",
          "name": "stdout",
          "text": [
            "질문: <usr> 박정희의 장녀의 이름은? </s> <sys> 박재옥 </s><pad><pad><pad><pad><pad><pad><pad><pad><pad><pad><pad><pad><pad><pad>\n",
            "질문: <usr> 한승호의 집안 출신은 어디인가? </s> <sys> 전남 광주 </s><pad><pad><pad><pad><pad><pad><pad><pad><pad><pad><pad><pad>\n",
            "질문: <usr> 윤잉의 이복형제로 황태자 자리를 노리던 제1황자는? </s> <sys> 윤시 </s><pad><pad><pad><pad><pad><pad><pad>\n"
          ]
        },
        {
          "output_type": "stream",
          "name": "stderr",
          "text": [
            "\n",
            "Epoch 1:   2%|▏         | 272/15102 [00:25<22:23, 11.04it/s, Batch Loss=6.07]\u001b[A\n",
            "Epoch 1:   2%|▏         | 274/15102 [00:25<22:09, 11.15it/s, Batch Loss=6.07]\u001b[A\n",
            "Epoch 1:   2%|▏         | 274/15102 [00:25<22:09, 11.15it/s, Batch Loss=5.44]\u001b[A\n",
            "Epoch 1:   2%|▏         | 274/15102 [00:25<22:09, 11.15it/s, Batch Loss=5.32]\u001b[A\n",
            "Epoch 1:   2%|▏         | 276/15102 [00:25<21:54, 11.28it/s, Batch Loss=5.32]\u001b[A"
          ]
        },
        {
          "output_type": "stream",
          "name": "stdout",
          "text": [
            "질문: <usr> 불법 재정 자금 혐의로 퇴출당한 선수는 몇 명인가요? </s> <sys> 16명 </s><pad><pad><pad><pad><pad><pad><pad>\n",
            "질문: <usr> 프랑스에 위치한 1억 9500만 년 전의 지층에서 발견된 공룡의 보행렬은 어느 종류의 공룡의 것인가? </s> <sys> 초기 장순류\n",
            "질문: <usr> 늑대가 인간을 공격할 때 즉각적으로 무는 곳은 어디인가? </s> <sys> 사지 </s><pad><pad><pad><pad><pad><pad><pad><pad><pad>\n"
          ]
        },
        {
          "output_type": "stream",
          "name": "stderr",
          "text": [
            "\n",
            "Epoch 1:   2%|▏         | 276/15102 [00:25<21:54, 11.28it/s, Batch Loss=4.84]\u001b[A\n",
            "Epoch 1:   2%|▏         | 276/15102 [00:25<21:54, 11.28it/s, Batch Loss=5.9] \u001b[A\n",
            "Epoch 1:   2%|▏         | 278/15102 [00:25<21:57, 11.25it/s, Batch Loss=5.9]\u001b[A\n",
            "Epoch 1:   2%|▏         | 278/15102 [00:25<21:57, 11.25it/s, Batch Loss=4.05]\u001b[A"
          ]
        },
        {
          "output_type": "stream",
          "name": "stdout",
          "text": [
            "질문: <usr> 폰티액은 누구인가? </s> <sys> 오타와 족의 추장 </s><pad><pad><pad><pad><pad><pad><pad><pad><pad><pad><pad><pad>\n",
            "질문: <usr> 귀신고래가 분포하는 지역은? </s> <sys> 북태평양 </s><pad><pad><pad><pad><pad><pad><pad><pad><pad><pad><pad><pad><pad><pad><pad>\n",
            "질문: <usr> 2015년 최초로 중력파 관측에 성공했다고 발표한 연구진은? </s> <sys> LIGO </s><pad><pad><pad><pad><pad><pad><pad>\n"
          ]
        },
        {
          "output_type": "stream",
          "name": "stderr",
          "text": [
            "\n",
            "Epoch 1:   2%|▏         | 278/15102 [00:26<21:57, 11.25it/s, Batch Loss=4.96]\u001b[A\n",
            "Epoch 1:   2%|▏         | 280/15102 [00:26<21:57, 11.25it/s, Batch Loss=4.96]\u001b[A\n",
            "Epoch 1:   2%|▏         | 280/15102 [00:26<21:57, 11.25it/s, Batch Loss=4.42]\u001b[A\n",
            "Epoch 1:   2%|▏         | 280/15102 [00:26<21:57, 11.25it/s, Batch Loss=5.84]\u001b[A\n",
            "Epoch 1:   2%|▏         | 282/15102 [00:26<21:58, 11.24it/s, Batch Loss=5.84]\u001b[A"
          ]
        },
        {
          "output_type": "stream",
          "name": "stdout",
          "text": [
            "질문: <usr> 인간행동에 관련해 과학적 연구를 하는 학문은? </s> <sys> 심리학 </s><pad><pad><pad><pad><pad><pad><pad><pad><pad><pad><pad><pad><pad>\n",
            "질문: <usr> 알렉스 튜가 다니던 대학교는? </s> <sys> 노팅엄 </s><pad><pad><pad><pad><pad><pad><pad><pad><pad><pad><pad><pad>\n",
            "질문: <usr> 기원전 39년 폼페이우스가 제2차 삼두 정치의 집정관들과 협정을 맺고 얻게 된 지역은? </s> <sys> 시칠리아와 사르데냐 </s><pad><pad>\n"
          ]
        },
        {
          "output_type": "stream",
          "name": "stderr",
          "text": [
            "\n",
            "Epoch 1:   2%|▏         | 282/15102 [00:26<21:58, 11.24it/s, Batch Loss=7.05]\u001b[A\n",
            "Epoch 1:   2%|▏         | 282/15102 [00:26<21:58, 11.24it/s, Batch Loss=7.19]\u001b[A\n",
            "Epoch 1:   2%|▏         | 284/15102 [00:26<22:19, 11.06it/s, Batch Loss=7.19]\u001b[A\n",
            "Epoch 1:   2%|▏         | 284/15102 [00:26<22:19, 11.06it/s, Batch Loss=5.69]\u001b[A"
          ]
        },
        {
          "output_type": "stream",
          "name": "stdout",
          "text": [
            "질문: <usr> 바다사자, 독도강치를 잡아 가죽으로 일본에 수출한 기록이 적힌 책의 이름은? </s> <sys> 죽도 및 울릉도 </s>\n",
            "질문: <usr> 박태환이 2008년 베이장 올림픽 자유형 400m에서 획득한 메달은? </s> <sys> 금메달 </s><pad><pad><pad><pad><pad><pad><pad><pad>\n"
          ]
        },
        {
          "output_type": "stream",
          "name": "stderr",
          "text": [
            "\n",
            "Epoch 1:   2%|▏         | 284/15102 [00:26<22:19, 11.06it/s, Batch Loss=5.48]\u001b[A\n",
            "Epoch 1:   2%|▏         | 286/15102 [00:26<23:16, 10.61it/s, Batch Loss=5.48]\u001b[A\n",
            "Epoch 1:   2%|▏         | 286/15102 [00:26<23:16, 10.61it/s, Batch Loss=6.94]\u001b[A"
          ]
        },
        {
          "output_type": "stream",
          "name": "stdout",
          "text": [
            "질문: <usr> 안드레이 보즈넨스키가 어린 시절을 주로 보낸 도시는 소비에트 연방의 어떤 도시인가? </s> <sys> 블라디미르 </s><pad><pad>\n",
            "질문: <usr> 오카자키는 오후 몇시가 넘었을 때, 군대의 협력을 얻을 수 없다는 것을 깨달았나? </s> <sys> 11시 </s><pad><pad>\n"
          ]
        },
        {
          "output_type": "stream",
          "name": "stderr",
          "text": [
            "\n",
            "Epoch 1:   2%|▏         | 286/15102 [00:26<23:16, 10.61it/s, Batch Loss=5.21]\u001b[A\n",
            "Epoch 1:   2%|▏         | 288/15102 [00:26<24:05, 10.25it/s, Batch Loss=5.21]\u001b[A\n",
            "Epoch 1:   2%|▏         | 288/15102 [00:26<24:05, 10.25it/s, Batch Loss=4.9] \u001b[A"
          ]
        },
        {
          "output_type": "stream",
          "name": "stdout",
          "text": [
            "질문: <usr> 장원삼은 2008 시즌에 방어율 몇 위를 기록하였는가? </s> <sys> 5위 </s><pad><pad><pad><pad><pad><pad><pad><pad>\n",
            "질문: <usr> 시티즈 스카이라인에 등장하는 트위터의 패러디는? </s> <sys> Chirpy </s><pad><pad><pad><pad><pad><pad><pad>\n"
          ]
        },
        {
          "output_type": "stream",
          "name": "stderr",
          "text": [
            "\n",
            "Epoch 1:   2%|▏         | 288/15102 [00:27<24:05, 10.25it/s, Batch Loss=5.19]\u001b[A\n",
            "Epoch 1:   2%|▏         | 290/15102 [00:27<24:40, 10.01it/s, Batch Loss=5.19]\u001b[A\n",
            "Epoch 1:   2%|▏         | 290/15102 [00:27<24:40, 10.01it/s, Batch Loss=5.74]\u001b[A"
          ]
        },
        {
          "output_type": "stream",
          "name": "stdout",
          "text": [
            "질문: <usr> 프로 배구 출범 이래 처음으로 해외에 진출한 여자 배구 선수는 누구인가? </s> <sys> 김연경 </s><pad><pad><pad><pad><pad>\n",
            "질문: <usr> 전태일이 화상으로 힘들어 할 때 의시가 제시한 화기를 없애는 주사의 가격은? </s> <sys> 1만 5천 원 </s><pad><pad>\n"
          ]
        },
        {
          "output_type": "stream",
          "name": "stderr",
          "text": [
            "\n",
            "Epoch 1:   2%|▏         | 290/15102 [00:27<24:40, 10.01it/s, Batch Loss=4.95]\u001b[A\n",
            "Epoch 1:   2%|▏         | 292/15102 [00:27<24:52,  9.92it/s, Batch Loss=4.95]\u001b[A\n",
            "Epoch 1:   2%|▏         | 292/15102 [00:27<24:52,  9.92it/s, Batch Loss=4.63]\u001b[A\n",
            "Epoch 1:   2%|▏         | 293/15102 [00:27<25:23,  9.72it/s, Batch Loss=4.63]\u001b[A"
          ]
        },
        {
          "output_type": "stream",
          "name": "stdout",
          "text": [
            "질문: <usr> 메달이 2개만 수여되었던 올림픽은? </s> <sys> 1896년 하계 올림픽 </s><pad><pad><pad><pad><pad><pad><pad><pad><pad><pad><pad>\n",
            "질문: <usr> 덕혜옹주와 정략결혼 한 사람은? </s> <sys> 소 다케유키 </s><pad><pad><pad><pad><pad><pad><pad><pad><pad>\n"
          ]
        },
        {
          "output_type": "stream",
          "name": "stderr",
          "text": [
            "\n",
            "Epoch 1:   2%|▏         | 293/15102 [00:27<25:23,  9.72it/s, Batch Loss=5.03]\u001b[A\n",
            "Epoch 1:   2%|▏         | 293/15102 [00:27<25:23,  9.72it/s, Batch Loss=7.26]\u001b[A\n",
            "Epoch 1:   2%|▏         | 295/15102 [00:27<25:00,  9.87it/s, Batch Loss=7.26]\u001b[A"
          ]
        },
        {
          "output_type": "stream",
          "name": "stdout",
          "text": [
            "질문: <usr> 정명진에 태종은 어떤 직책을 맡겼나? </s> <sys> 평양도행군총관 </s><pad><pad><pad><pad><pad><pad><pad><pad><pad>\n",
            "질문: <usr> '반공을 국시의 제일로 삼고 반공태세를 재정비 강화할 것' 이라는 내용은 6개 혁명공약 중 제 몇 항에 해당하는 것인가?\n",
            "질문: <usr> 서강준이 본명을 대신해 만든 예명은 본래 누구의 이름인가?  </s> <sys> 하정우의 매니저 이름 </s><pad>\n"
          ]
        },
        {
          "output_type": "stream",
          "name": "stderr",
          "text": [
            "\n",
            "Epoch 1:   2%|▏         | 295/15102 [00:27<25:00,  9.87it/s, Batch Loss=5.98]\u001b[A\n",
            "Epoch 1:   2%|▏         | 296/15102 [00:27<25:12,  9.79it/s, Batch Loss=5.98]\u001b[A\n",
            "Epoch 1:   2%|▏         | 296/15102 [00:27<25:12,  9.79it/s, Batch Loss=5.93]\u001b[A\n",
            "Epoch 1:   2%|▏         | 296/15102 [00:27<25:12,  9.79it/s, Batch Loss=5.68]\u001b[A\n",
            "Epoch 1:   2%|▏         | 298/15102 [00:27<24:28, 10.08it/s, Batch Loss=5.68]\u001b[A"
          ]
        },
        {
          "output_type": "stream",
          "name": "stdout",
          "text": [
            "질문: <usr> 조현병 치료제 쎄로켈 XR을 만든 영국의 회사는? </s> <sys> 아스트라제네카 </s><pad><pad>\n",
            "질문: <usr> 2015년 원정도박 혐의로 검찰 조사를 받았던 인물은? </s> <sys> 정운호 </s><pad><pad><pad><pad><pad><pad><pad><pad><pad><pad>\n",
            "질문: <usr> 노히트 노런을 달성하게 된 소프트뱅크전이 열린 날은?  </s> <sys> 10월 8일 </s><pad><pad><pad><pad><pad>\n"
          ]
        },
        {
          "output_type": "stream",
          "name": "stderr",
          "text": [
            "\n",
            "Epoch 1:   2%|▏         | 298/15102 [00:27<24:28, 10.08it/s, Batch Loss=6.85]\u001b[A\n",
            "Epoch 1:   2%|▏         | 298/15102 [00:28<24:28, 10.08it/s, Batch Loss=5.72]\u001b[A\n",
            "Epoch 1:   2%|▏         | 300/15102 [00:28<24:29, 10.07it/s, Batch Loss=5.72]\u001b[A\n",
            "Epoch 1:   2%|▏         | 300/15102 [00:28<24:29, 10.07it/s, Batch Loss=5.23]\u001b[A"
          ]
        },
        {
          "output_type": "stream",
          "name": "stdout",
          "text": [
            "질문: <usr> 2000년 치뤄진 총장 선거는 어떤 선거방식으로 치뤄졌는가? </s> <sys> 간선제 </s><pad><pad><pad><pad><pad>\n",
            "질문: <usr> 스티븐 리아는 4점 중 몇 점을 주었는가? </s> <sys> 3점 </s><pad><pad><pad><pad><pad><pad><pad><pad><pad>\n"
          ]
        },
        {
          "output_type": "stream",
          "name": "stderr",
          "text": [
            "\n",
            "Epoch 1:   2%|▏         | 300/15102 [00:28<24:29, 10.07it/s, Batch Loss=7.17]\u001b[A\n",
            "Epoch 1:   2%|▏         | 302/15102 [00:28<24:31, 10.06it/s, Batch Loss=7.17]\u001b[A\n",
            "Epoch 1:   2%|▏         | 302/15102 [00:28<24:31, 10.06it/s, Batch Loss=6.52]\u001b[A"
          ]
        },
        {
          "output_type": "stream",
          "name": "stdout",
          "text": [
            "질문: <usr> 마르케 주 사람들은 최고급 생선 수프라고 불리려면 적어도 몇 가지 정도의 생선을 조리해야 최고급 이라고 하는가? </s> \n",
            "질문: <usr> 예수회 선교회의 도움으로 완성된 서양식으로 그려낸 지도는? </s> <sys> 건륭황여전람도 </s><pad><pad><pad><pad><pad><pad><pad><pad>\n",
            "질문: <usr> 소녀시대 멤버인 윤아가 주연으로 캐스팅 된 KBS 드라마 제목은? </s> <sys> 너는 내 운명 </s><pad><pad><pad><pad>\n"
          ]
        },
        {
          "output_type": "stream",
          "name": "stderr",
          "text": [
            "\n",
            "Epoch 1:   2%|▏         | 302/15102 [00:28<24:31, 10.06it/s, Batch Loss=5.4] \u001b[A\n",
            "Epoch 1:   2%|▏         | 304/15102 [00:28<24:42,  9.98it/s, Batch Loss=5.4]\u001b[A\n",
            "Epoch 1:   2%|▏         | 304/15102 [00:28<24:42,  9.98it/s, Batch Loss=6.14]\u001b[A\n",
            "Epoch 1:   2%|▏         | 305/15102 [00:28<24:52,  9.91it/s, Batch Loss=6.14]\u001b[A\n",
            "Epoch 1:   2%|▏         | 305/15102 [00:28<24:52,  9.91it/s, Batch Loss=4.88]\u001b[A\n",
            "Epoch 1:   2%|▏         | 306/15102 [00:28<26:09,  9.43it/s, Batch Loss=4.88]\u001b[A"
          ]
        },
        {
          "output_type": "stream",
          "name": "stdout",
          "text": [
            "질문: <usr> 무라타가 속한 구단은 구단명을 무엇으로 변경하는가? </s> <sys> 롯데 오리온스 </s><pad><pad>\n",
            "질문: <usr> 아랍 이슬람계 민병대가 흑인들을 대상으로 자행하고 있던 것은? </s> <sys> 인종 청소 </s><pad><pad><pad><pad><pad><pad><pad><pad>\n"
          ]
        },
        {
          "output_type": "stream",
          "name": "stderr",
          "text": [
            "\n",
            "Epoch 1:   2%|▏         | 306/15102 [00:28<26:09,  9.43it/s, Batch Loss=6.2] \u001b[A\n",
            "Epoch 1:   2%|▏         | 307/15102 [00:28<26:16,  9.38it/s, Batch Loss=6.2]\u001b[A\n",
            "Epoch 1:   2%|▏         | 307/15102 [00:28<26:16,  9.38it/s, Batch Loss=5.48]\u001b[A\n",
            "Epoch 1:   2%|▏         | 308/15102 [00:28<26:23,  9.35it/s, Batch Loss=5.48]\u001b[A"
          ]
        },
        {
          "output_type": "stream",
          "name": "stdout",
          "text": [
            "질문: <usr> 과전법에서 관리가 과전에서 조세로 받아간 양은? </s> <sys> 소출의 1할 </s><pad><pad><pad><pad><pad><pad><pad>\n",
            "질문: <usr> 합성 및 채색을 하는데 사용하는 것은? </s> <sys> 포토샵 </s><pad><pad><pad><pad><pad><pad><pad><pad><pad><pad><pad><pad><pad>\n"
          ]
        },
        {
          "output_type": "stream",
          "name": "stderr",
          "text": [
            "\n",
            "Epoch 1:   2%|▏         | 308/15102 [00:29<26:23,  9.35it/s, Batch Loss=4.7] \u001b[A\n",
            "Epoch 1:   2%|▏         | 309/15102 [00:29<27:22,  9.01it/s, Batch Loss=4.7]\u001b[A\n",
            "Epoch 1:   2%|▏         | 309/15102 [00:29<27:22,  9.01it/s, Batch Loss=4.91]\u001b[A\n",
            "Epoch 1:   2%|▏         | 310/15102 [00:29<27:19,  9.02it/s, Batch Loss=4.91]\u001b[A"
          ]
        },
        {
          "output_type": "stream",
          "name": "stdout",
          "text": [
            "질문: <usr> 고려대학교의 본관이 처음 지어지기 시작한 연도는? </s> <sys> 1933년 </s><pad><pad><pad><pad><pad><pad><pad><pad><pad><pad><pad><pad>\n",
            "질문: <usr> Bryan Shannon은 링링대학교에서 무엇을 전공하고 있는가? </s> <sys> 게임 디자인 </s><pad><pad><pad><pad><pad><pad>\n"
          ]
        },
        {
          "output_type": "stream",
          "name": "stderr",
          "text": [
            "\n",
            "Epoch 1:   2%|▏         | 310/15102 [00:29<27:19,  9.02it/s, Batch Loss=5.06]\u001b[A\n",
            "Epoch 1:   2%|▏         | 311/15102 [00:29<26:51,  9.18it/s, Batch Loss=5.06]\u001b[A\n",
            "Epoch 1:   2%|▏         | 311/15102 [00:29<26:51,  9.18it/s, Batch Loss=5.63]\u001b[A\n",
            "Epoch 1:   2%|▏         | 312/15102 [00:29<26:26,  9.32it/s, Batch Loss=5.63]\u001b[A"
          ]
        },
        {
          "output_type": "stream",
          "name": "stdout",
          "text": [
            "질문: <usr> 알로사우루스과라는 이름을 처음 명명한 사람의 이름은 누구인가? </s> <sys> 오스니얼 찰스 마시 </s><pad><pad><pad>\n",
            "질문: <usr> 현지시간 기준 죠앤이 교통사고를 당한 날짜는 언제인가? </s> <sys> 2014년 11월 26일 </s><pad><pad><pad><pad>\n"
          ]
        },
        {
          "output_type": "stream",
          "name": "stderr",
          "text": [
            "\n",
            "Epoch 1:   2%|▏         | 312/15102 [00:29<26:26,  9.32it/s, Batch Loss=5.73]\u001b[A\n",
            "Epoch 1:   2%|▏         | 313/15102 [00:29<26:13,  9.40it/s, Batch Loss=5.73]\u001b[A\n",
            "Epoch 1:   2%|▏         | 313/15102 [00:29<26:13,  9.40it/s, Batch Loss=5.85]\u001b[A"
          ]
        },
        {
          "output_type": "stream",
          "name": "stdout",
          "text": [
            "질문: <usr> 발사시 최대 속력은? </s> <sys> 워프5 </s><pad><pad><pad><pad><pad><pad><pad><pad><pad><pad><pad><pad><pad><pad>\n",
            "질문: <usr> 쏘나타 하이브리드가 최초로 공개된 오토쇼는? </s> <sys> 뉴욕 국제 오토쇼 </s><pad><pad><pad><pad><pad><pad><pad>\n",
            "질문: <usr> 6.25 전쟁 이후 그가 남은 지역은? </s> <sys> 서울 </s><pad><pad><pad><pad><pad><pad><pad><pad><pad><pad><pad><pad><pad><pad>\n"
          ]
        },
        {
          "output_type": "stream",
          "name": "stderr",
          "text": [
            "\n",
            "Epoch 1:   2%|▏         | 313/15102 [00:29<26:13,  9.40it/s, Batch Loss=5.58]\u001b[A\n",
            "Epoch 1:   2%|▏         | 315/15102 [00:29<24:42,  9.97it/s, Batch Loss=5.58]\u001b[A\n",
            "Epoch 1:   2%|▏         | 315/15102 [00:29<24:42,  9.97it/s, Batch Loss=4.78]\u001b[A\n",
            "Epoch 1:   2%|▏         | 315/15102 [00:29<24:42,  9.97it/s, Batch Loss=6.56]\u001b[A\n",
            "Epoch 1:   2%|▏         | 317/15102 [00:29<23:43, 10.39it/s, Batch Loss=6.56]\u001b[A"
          ]
        },
        {
          "output_type": "stream",
          "name": "stdout",
          "text": [
            "질문: <usr> 신창원의 친아버지 이름은? </s> <sys> 신흥선 </s><pad><pad><pad><pad><pad><pad><pad><pad><pad><pad><pad><pad><pad><pad><pad>\n",
            "질문: <usr> 다하우, 오라니부르크 등 강제 수용소에 수감된 사람들은 몇 명인가? </s> <sys> 약 30,000명 </s><pad><pad>\n",
            "질문: <usr> 2007년 올림픽 대표팀에서 맡은 역할은? </s> <sys> 외야수 </s><pad><pad><pad><pad><pad><pad><pad><pad><pad><pad><pad><pad>\n"
          ]
        },
        {
          "output_type": "stream",
          "name": "stderr",
          "text": [
            "\n",
            "Epoch 1:   2%|▏         | 317/15102 [00:29<23:43, 10.39it/s, Batch Loss=5.9] \u001b[A\n",
            "Epoch 1:   2%|▏         | 317/15102 [00:30<23:43, 10.39it/s, Batch Loss=6.09]\u001b[A\n",
            "Epoch 1:   2%|▏         | 319/15102 [00:30<23:16, 10.59it/s, Batch Loss=6.09]\u001b[A\n",
            "Epoch 1:   2%|▏         | 319/15102 [00:30<23:16, 10.59it/s, Batch Loss=6.08]\u001b[A"
          ]
        },
        {
          "output_type": "stream",
          "name": "stdout",
          "text": [
            "질문: <usr> 양대 리그 최다인 몇개의 사구를 기록 하였는가? </s> <sys> 17개 </s><pad><pad><pad><pad><pad><pad><pad><pad><pad>\n",
            "질문: <usr> 2008년 7월에 히어로즈의 메인 스폰서가 스폰서 계약을 해지하면서 자금난을 겪게 되었다. 그때의 메인 스폰서는 어느 기업이었는가 </s> \n",
            "질문: <usr> 태양 성운이 압축될 당시에 생겨난 거의 모든 운석의 나이는 몇살인가? </s> <sys> 46억 살 </s><pad><pad><pad><pad>\n"
          ]
        },
        {
          "output_type": "stream",
          "name": "stderr",
          "text": [
            "\n",
            "Epoch 1:   2%|▏         | 319/15102 [00:30<23:16, 10.59it/s, Batch Loss=5.95]\u001b[A\n",
            "Epoch 1:   2%|▏         | 321/15102 [00:30<22:56, 10.74it/s, Batch Loss=5.95]\u001b[A\n",
            "Epoch 1:   2%|▏         | 321/15102 [00:30<22:56, 10.74it/s, Batch Loss=5.37]\u001b[A\n",
            "Epoch 1:   2%|▏         | 321/15102 [00:30<22:56, 10.74it/s, Batch Loss=6.47]\u001b[A\n",
            "Epoch 1:   2%|▏         | 323/15102 [00:30<22:58, 10.72it/s, Batch Loss=6.47]\u001b[A"
          ]
        },
        {
          "output_type": "stream",
          "name": "stdout",
          "text": [
            "질문: <usr> 전경협의 오빠는 전경협을 죽이기 위해 독이 든 무엇을 감옥으로 보냈는가? </s> <sys> 계란 과자 </s><pad>\n",
            "질문: <usr> 만슈타인은 소련군의 다음 공격 방향은 어디일 것이라고 예측하였는가? </s> <sys> 키예프 방향 </s><pad><pad><pad><pad><pad><pad>\n",
            "질문: <usr> IE는 무엇의 약자인가? </s> <sys> Internet Explorer </s><pad><pad><pad><pad><pad><pad><pad>\n"
          ]
        },
        {
          "output_type": "stream",
          "name": "stderr",
          "text": [
            "\n",
            "Epoch 1:   2%|▏         | 323/15102 [00:30<22:58, 10.72it/s, Batch Loss=4.31]\u001b[A\n",
            "Epoch 1:   2%|▏         | 323/15102 [00:30<22:58, 10.72it/s, Batch Loss=6.03]\u001b[A\n",
            "Epoch 1:   2%|▏         | 325/15102 [00:30<22:48, 10.80it/s, Batch Loss=6.03]\u001b[A\n",
            "Epoch 1:   2%|▏         | 325/15102 [00:30<22:48, 10.80it/s, Batch Loss=6.54]\u001b[A"
          ]
        },
        {
          "output_type": "stream",
          "name": "stdout",
          "text": [
            "질문: <usr> 레오넬로는 나중에 어느 대학교의 교수로 임명되었는가? </s> <sys> 페라라 대학교 </s><pad><pad><pad><pad><pad><pad><pad><pad>\n",
            "질문: <usr> 1911 시즌에서 잭 쿰스가 기록한 평균자책점은? </s> <sys> 3.53 </s><pad><pad><pad><pad><pad><pad><pad>\n",
            "질문: <usr> 이토 히로부미는 누구에게 피격당하여 사망하였는가? </s> <sys> 안중근 </s><pad><pad><pad><pad><pad><pad><pad><pad><pad>\n"
          ]
        },
        {
          "output_type": "stream",
          "name": "stderr",
          "text": [
            "\n",
            "Epoch 1:   2%|▏         | 325/15102 [00:30<22:48, 10.80it/s, Batch Loss=5.68]\u001b[A\n",
            "Epoch 1:   2%|▏         | 327/15102 [00:30<22:33, 10.92it/s, Batch Loss=5.68]\u001b[A\n",
            "Epoch 1:   2%|▏         | 327/15102 [00:30<22:33, 10.92it/s, Batch Loss=5.35]\u001b[A\n",
            "Epoch 1:   2%|▏         | 327/15102 [00:30<22:33, 10.92it/s, Batch Loss=6.18]\u001b[A\n",
            "Epoch 1:   2%|▏         | 329/15102 [00:30<22:24, 10.99it/s, Batch Loss=6.18]\u001b[A"
          ]
        },
        {
          "output_type": "stream",
          "name": "stdout",
          "text": [
            "질문: <usr> 조지아는 어느 산맥 지역에 위치해 있나? </s> <sys> 캅카스 산맥 </s><pad><pad><pad><pad><pad><pad><pad><pad><pad><pad>\n",
            "질문: <usr> 스테고사우르스의 섭식 행동의 생체역학에 대한 컴퓨터 시뮬레이션 분석은 몇 년에 이루어졌는가? </s> <sys> 2010년 </s>\n",
            "질문: <usr> 2012학년도 수능부터 바뀐 채점 방식은 무엇인가?  </s> <sys> 이미지 스캐너 </s><pad><pad><pad><pad><pad><pad>\n"
          ]
        },
        {
          "output_type": "stream",
          "name": "stderr",
          "text": [
            "\n",
            "Epoch 1:   2%|▏         | 329/15102 [00:31<22:24, 10.99it/s, Batch Loss=5.92]\u001b[A\n",
            "Epoch 1:   2%|▏         | 329/15102 [00:31<22:24, 10.99it/s, Batch Loss=4.15]\u001b[A\n",
            "Epoch 1:   2%|▏         | 331/15102 [00:31<22:28, 10.95it/s, Batch Loss=4.15]\u001b[A\n",
            "Epoch 1:   2%|▏         | 331/15102 [00:31<22:28, 10.95it/s, Batch Loss=6.15]\u001b[A"
          ]
        },
        {
          "output_type": "stream",
          "name": "stdout",
          "text": [
            "질문: <usr> 메타크리틱에서 몇 점의 평균 점수를 기록했는가? </s> <sys> 87점 </s><pad><pad><pad><pad><pad><pad><pad><pad>\n",
            "질문: <usr> 비트겐슈타인이 사용에 반대한 무기는? </s> <sys> 핵무기 </s><pad><pad><pad><pad><pad><pad><pad><pad><pad><pad><pad><pad>\n",
            "질문: <usr> 바그너의 음악적 이상을 이어나가야 한다는 사명으로 그의 아내 코지마가 1886년 재개한 축제는?  </s> <sys> 바이로이트\n"
          ]
        },
        {
          "output_type": "stream",
          "name": "stderr",
          "text": [
            "\n",
            "Epoch 1:   2%|▏         | 331/15102 [00:31<22:28, 10.95it/s, Batch Loss=6.54]\u001b[A\n",
            "Epoch 1:   2%|▏         | 333/15102 [00:31<22:20, 11.02it/s, Batch Loss=6.54]\u001b[A\n",
            "Epoch 1:   2%|▏         | 333/15102 [00:31<22:20, 11.02it/s, Batch Loss=6.2] \u001b[A\n",
            "Epoch 1:   2%|▏         | 333/15102 [00:31<22:20, 11.02it/s, Batch Loss=4.97]\u001b[A\n",
            "Epoch 1:   2%|▏         | 335/15102 [00:31<22:13, 11.08it/s, Batch Loss=4.97]\u001b[A"
          ]
        },
        {
          "output_type": "stream",
          "name": "stdout",
          "text": [
            "질문: <usr> 일본에서 호텔에서 콘서트홀까지 비틀즈를 경호하기 위해 투입된 경찰의 수는 얼마인가? </s> <sys> 35,000여명 \n",
            "질문: <usr> 고용인구의 대부분이 종사하고 있는 부문은? </s> <sys> 서비스 </s><pad><pad><pad><pad><pad><pad><pad><pad><pad><pad><pad><pad><pad><pad><pad>\n",
            "질문: <usr> 올림픽 텔레비전 방영권을 처음으로 팔았던 대회는 몇 년도 인가? </s> <sys> 1960년 </s><pad><pad><pad><pad><pad><pad><pad><pad><pad>\n"
          ]
        },
        {
          "output_type": "stream",
          "name": "stderr",
          "text": [
            "\n",
            "Epoch 1:   2%|▏         | 335/15102 [00:31<22:13, 11.08it/s, Batch Loss=4.26]\u001b[A\n",
            "Epoch 1:   2%|▏         | 335/15102 [00:31<22:13, 11.08it/s, Batch Loss=5.52]\u001b[A\n",
            "Epoch 1:   2%|▏         | 337/15102 [00:31<22:17, 11.04it/s, Batch Loss=5.52]\u001b[A\n",
            "Epoch 1:   2%|▏         | 337/15102 [00:31<22:17, 11.04it/s, Batch Loss=5.83]\u001b[A"
          ]
        },
        {
          "output_type": "stream",
          "name": "stdout",
          "text": [
            "질문: <usr> 모치히토왕의 유배지는? </s> <sys> 도사 </s><pad><pad><pad><pad><pad><pad><pad><pad><pad><pad><pad><pad><pad><pad><pad>\n",
            "질문: <usr> 개인 최다 성적이 얼마인가? </s> <sys> 17승 </s><pad><pad><pad><pad><pad><pad><pad><pad><pad><pad><pad><pad><pad>\n",
            "질문: <usr> 박노자 교수가 유길준에 대한 선양작업을 시작한 인물로 여기는 사람의 이름은? </s> <sys> 안창호 </s><pad><pad><pad><pad>\n"
          ]
        },
        {
          "output_type": "stream",
          "name": "stderr",
          "text": [
            "\n",
            "Epoch 1:   2%|▏         | 337/15102 [00:31<22:17, 11.04it/s, Batch Loss=5.91]\u001b[A\n",
            "Epoch 1:   2%|▏         | 339/15102 [00:31<22:03, 11.15it/s, Batch Loss=5.91]\u001b[A\n",
            "Epoch 1:   2%|▏         | 339/15102 [00:31<22:03, 11.15it/s, Batch Loss=4.72]\u001b[A\n",
            "Epoch 1:   2%|▏         | 339/15102 [00:31<22:03, 11.15it/s, Batch Loss=5.62]\u001b[A\n",
            "Epoch 1:   2%|▏         | 341/15102 [00:31<22:11, 11.09it/s, Batch Loss=5.62]\u001b[A"
          ]
        },
        {
          "output_type": "stream",
          "name": "stdout",
          "text": [
            "질문: <usr> 1930년대 폴란드의 청년계가 국민당을 탈당하여, 창당한것은?  </s> <sys> 국민급진기지 </s><pad><pad><pad><pad><pad>\n",
            "질문: <usr> 율곡이 개혁을 추진해야 할 주체라고 생각한 파의 이름은 무엇일까요? </s> <sys> 사림파 </s><pad><pad><pad><pad><pad>\n",
            "질문: <usr> 서인영이 쥬얼리에서 탈퇴한 후 첫 앨범을 발매하기에 앞서 선공개했던 곡으로, 서인영의 애창곡이었던 것은? \n"
          ]
        },
        {
          "output_type": "stream",
          "name": "stderr",
          "text": [
            "\n",
            "Epoch 1:   2%|▏         | 341/15102 [00:32<22:11, 11.09it/s, Batch Loss=8.49]\u001b[A\n",
            "Epoch 1:   2%|▏         | 341/15102 [00:32<22:11, 11.09it/s, Batch Loss=6.98]\u001b[A\n",
            "Epoch 1:   2%|▏         | 343/15102 [00:32<22:18, 11.03it/s, Batch Loss=6.98]\u001b[A\n",
            "Epoch 1:   2%|▏         | 343/15102 [00:32<22:18, 11.03it/s, Batch Loss=5.72]\u001b[A"
          ]
        },
        {
          "output_type": "stream",
          "name": "stdout",
          "text": [
            "질문: <usr> 16-17 시즌 직전에 맨시티 감독으로 부임한 사람은? </s> <sys> 과르디올라 </s><pad><pad><pad><pad><pad><pad><pad><pad>\n",
            "질문: <usr> 약자들에게서 보여지는 퇴폐적 삶에서 공허감을 채우려는 사상은? </s> <sys> 수동적 허무주의 </s><pad><pad>\n",
            "질문: <usr> 패트릭 리카우카의 시뮬레이션에서 태양계 형성 초기에 해왕성 너머로 튕겨나간 지구정도 크기의 천체는 어떤 궤도를 돌게\n"
          ]
        },
        {
          "output_type": "stream",
          "name": "stderr",
          "text": [
            "\n",
            "Epoch 1:   2%|▏         | 343/15102 [00:32<22:18, 11.03it/s, Batch Loss=5.87]\u001b[A\n",
            "Epoch 1:   2%|▏         | 345/15102 [00:32<22:17, 11.04it/s, Batch Loss=5.87]\u001b[A\n",
            "Epoch 1:   2%|▏         | 345/15102 [00:32<22:17, 11.04it/s, Batch Loss=5.26]\u001b[A\n",
            "Epoch 1:   2%|▏         | 345/15102 [00:32<22:17, 11.04it/s, Batch Loss=5.16]\u001b[A\n",
            "Epoch 1:   2%|▏         | 347/15102 [00:32<22:32, 10.91it/s, Batch Loss=5.16]\u001b[A"
          ]
        },
        {
          "output_type": "stream",
          "name": "stdout",
          "text": [
            "질문: <usr> 폼페이우스가 제해권을 가지고 있어 불린 별명은? </s> <sys> 넵툰의 아들 </s><pad><pad><pad><pad><pad><pad><pad>\n",
            "질문: <usr> 고 트랜싯은 총 몇대의 단층 버스가 운행중인가?  </s> <sys> 349대 </s><pad><pad><pad><pad><pad>\n",
            "질문: <usr> 일본 고유 신앙 행사로 군국주의 색채를 지니며 조선에도 강요된 행사는 무엇인가? </s> <sys> 신사참배 </s><pad><pad><pad><pad>\n"
          ]
        },
        {
          "output_type": "stream",
          "name": "stderr",
          "text": [
            "\n",
            "Epoch 1:   2%|▏         | 347/15102 [00:32<22:32, 10.91it/s, Batch Loss=6.82]\u001b[A\n",
            "Epoch 1:   2%|▏         | 347/15102 [00:32<22:32, 10.91it/s, Batch Loss=5.95]\u001b[A\n",
            "Epoch 1:   2%|▏         | 349/15102 [00:32<22:26, 10.95it/s, Batch Loss=5.95]\u001b[A\n",
            "Epoch 1:   2%|▏         | 349/15102 [00:32<22:26, 10.95it/s, Batch Loss=5.19]\u001b[A"
          ]
        },
        {
          "output_type": "stream",
          "name": "stdout",
          "text": [
            "질문: <usr> 부족의 우두머리를 부르는 이름은? </s> <sys> 워보스 </s><pad><pad><pad><pad><pad><pad><pad><pad><pad><pad><pad><pad><pad><pad>\n",
            "질문: <usr> 레이디 가가의 보컬 범위는? </s> <sys> 콘트랄토 보컬 범위 </s><pad><pad><pad><pad><pad><pad><pad><pad><pad><pad>\n",
            "질문: <usr> 그리스도상을 등재시키기 위해서 브라질이 범국가적으로 벌인 캠페인의 이름은? </s> <sys> 그리스도상에 투표하자 </s><pad><pad><pad>\n"
          ]
        },
        {
          "output_type": "stream",
          "name": "stderr",
          "text": [
            "\n",
            "Epoch 1:   2%|▏         | 349/15102 [00:32<22:26, 10.95it/s, Batch Loss=5.47]\u001b[A\n",
            "Epoch 1:   2%|▏         | 351/15102 [00:32<22:14, 11.05it/s, Batch Loss=5.47]\u001b[A\n",
            "Epoch 1:   2%|▏         | 351/15102 [00:32<22:14, 11.05it/s, Batch Loss=4.55]\u001b[A\n",
            "Epoch 1:   2%|▏         | 351/15102 [00:33<22:14, 11.05it/s, Batch Loss=4.77]\u001b[A\n",
            "Epoch 1:   2%|▏         | 353/15102 [00:33<22:09, 11.10it/s, Batch Loss=4.77]\u001b[A"
          ]
        },
        {
          "output_type": "stream",
          "name": "stdout",
          "text": [
            "질문: <usr> 일반상대론의 기술에서 방정식의 단순해를 만든 과학자는 누구인가? </s> <sys> 아인슈타인 </s><pad><pad><pad><pad><pad><pad>\n",
            "질문: <usr> 왕양명은 천지만물의 주인을 무엇이라 보았나? </s> <sys> 심 </s><pad><pad><pad><pad><pad><pad><pad><pad><pad>\n",
            "질문: <usr> 8월 14일 인민군이 왜관 인근까지 도하하기 위해 이용한 다리는? </s> <sys> 수중교 </s><pad><pad><pad><pad><pad><pad>\n"
          ]
        },
        {
          "output_type": "stream",
          "name": "stderr",
          "text": [
            "\n",
            "Epoch 1:   2%|▏         | 353/15102 [00:33<22:09, 11.10it/s, Batch Loss=4.53]\u001b[A\n",
            "Epoch 1:   2%|▏         | 353/15102 [00:33<22:09, 11.10it/s, Batch Loss=7.72]\u001b[A\n",
            "Epoch 1:   2%|▏         | 355/15102 [00:33<22:10, 11.08it/s, Batch Loss=7.72]\u001b[A\n",
            "Epoch 1:   2%|▏         | 355/15102 [00:33<22:10, 11.08it/s, Batch Loss=5.38]\u001b[A"
          ]
        },
        {
          "output_type": "stream",
          "name": "stdout",
          "text": [
            "질문: <usr> 2012년 대선때 국가정보원은 어디를 동원하여 여론 조작을 실시하였는가? </s> <sys> 국군사이버사령부 </s><pad><pad>\n",
            "질문: <usr> 노비의 계보를 남긴 문서 중 전남 장성 필암서원의 소장 문서는 이름은? </s> <sys> 노비보 </s><pad><pad><pad><pad>\n",
            "질문: <usr> 오토모노 나가토쿠가 우대신이 된 년도는? </s> <sys> 649년 </s><pad><pad><pad><pad><pad><pad><pad><pad>\n"
          ]
        },
        {
          "output_type": "stream",
          "name": "stderr",
          "text": [
            "\n",
            "Epoch 1:   2%|▏         | 355/15102 [00:33<22:10, 11.08it/s, Batch Loss=6.28]\u001b[A\n",
            "Epoch 1:   2%|▏         | 357/15102 [00:33<22:10, 11.08it/s, Batch Loss=6.28]\u001b[A\n",
            "Epoch 1:   2%|▏         | 357/15102 [00:33<22:10, 11.08it/s, Batch Loss=6.74]\u001b[A\n",
            "Epoch 1:   2%|▏         | 357/15102 [00:33<22:10, 11.08it/s, Batch Loss=6.26]\u001b[A\n",
            "Epoch 1:   2%|▏         | 359/15102 [00:33<22:07, 11.11it/s, Batch Loss=6.26]\u001b[A"
          ]
        },
        {
          "output_type": "stream",
          "name": "stdout",
          "text": [
            "질문: <usr> 안산시가 문화유산 관광을 위해 언제부터 시티투어 버스를 운행하였는가? </s> <sys> 2008년 6월 7일부터 </s><pad><pad>\n",
            "질문: <usr> 아이폰 출시 당시 공정위 약관 위반으로 문제가 된 환불 정책은? </s> <sys> 무조건 환불이 불가능 </s><pad><pad><pad>\n",
            "질문: <usr> 나카모리가 마녀 의상을 입고 촬영에 임한 프로그램의 방송국은? </s> <sys> 후지 테레비 </s><pad><pad><pad><pad><pad><pad>\n"
          ]
        },
        {
          "output_type": "stream",
          "name": "stderr",
          "text": [
            "\n",
            "Epoch 1:   2%|▏         | 359/15102 [00:33<22:07, 11.11it/s, Batch Loss=6.3] \u001b[A\n",
            "Epoch 1:   2%|▏         | 359/15102 [00:33<22:07, 11.11it/s, Batch Loss=5.76]\u001b[A\n",
            "Epoch 1:   2%|▏         | 361/15102 [00:33<21:57, 11.19it/s, Batch Loss=5.76]\u001b[A\n",
            "Epoch 1:   2%|▏         | 361/15102 [00:33<21:57, 11.19it/s, Batch Loss=5.13]\u001b[A"
          ]
        },
        {
          "output_type": "stream",
          "name": "stdout",
          "text": [
            "질문: <usr> 단군조선이 세워진 것은 서기 몇 년 전인가? </s> <sys> 2333 </s><pad><pad><pad><pad><pad><pad><pad><pad><pad><pad>\n",
            "질문: <usr> 드라마에 어울리는 곡으로 편곡하기 위해 현악기와 코러스 더빙을 어디에서 하였는가? </s> <sys> 뉴욕 </s><pad><pad><pad>\n",
            "질문: <usr> 요미우리전에서 땅볼 타구가 왼쪽 손목에 맞아서 골절되는 부상을 당한 해는? </s> <sys> 1992년 </s><pad><pad><pad>\n"
          ]
        },
        {
          "output_type": "stream",
          "name": "stderr",
          "text": [
            "\n",
            "Epoch 1:   2%|▏         | 361/15102 [00:33<21:57, 11.19it/s, Batch Loss=6.31]\u001b[A\n",
            "Epoch 1:   2%|▏         | 363/15102 [00:33<21:53, 11.22it/s, Batch Loss=6.31]\u001b[A\n",
            "Epoch 1:   2%|▏         | 363/15102 [00:34<21:53, 11.22it/s, Batch Loss=6.17]\u001b[A\n",
            "Epoch 1:   2%|▏         | 363/15102 [00:34<21:53, 11.22it/s, Batch Loss=6.12]\u001b[A\n",
            "Epoch 1:   2%|▏         | 365/15102 [00:34<22:02, 11.14it/s, Batch Loss=6.12]\u001b[A"
          ]
        },
        {
          "output_type": "stream",
          "name": "stdout",
          "text": [
            "질문: <usr> 이휘소와 공동 연구를 할 당시 클라인의 나이는? </s> <sys> 서른 세 살 </s><pad><pad><pad><pad><pad><pad><pad><pad>\n",
            "질문: <usr> 지배파충류는 갖고 있지만, 현생악어류에는 없었던, 스테고사우루스의 코와 눈 사이에 있었던 것은? </s> <sys> 전안\n",
            "질문: <usr> 베이징 올림픽에서 그가 획득한 메달은? </s> <sys> 금메달 </s><pad><pad><pad><pad><pad><pad><pad><pad><pad><pad><pad><pad><pad><pad>\n"
          ]
        },
        {
          "output_type": "stream",
          "name": "stderr",
          "text": [
            "\n",
            "Epoch 1:   2%|▏         | 365/15102 [00:34<22:02, 11.14it/s, Batch Loss=5.88]\u001b[A\n",
            "Epoch 1:   2%|▏         | 365/15102 [00:34<22:02, 11.14it/s, Batch Loss=4.9] \u001b[A\n",
            "Epoch 1:   2%|▏         | 367/15102 [00:34<22:01, 11.15it/s, Batch Loss=4.9]\u001b[A\n",
            "Epoch 1:   2%|▏         | 367/15102 [00:34<22:01, 11.15it/s, Batch Loss=5.74]\u001b[A"
          ]
        },
        {
          "output_type": "stream",
          "name": "stdout",
          "text": [
            "질문: <usr> OECE 회원국의 건강보험 평균 보장비율은? </s> <sys> 81% </s><pad><pad><pad><pad><pad><pad><pad><pad><pad><pad>\n",
            "질문: <usr> 재판에 쳐해진 피고들이 대부분 구형 받은 형은 무엇인가? </s> <sys> 사형 </s><pad><pad><pad><pad><pad><pad><pad><pad><pad><pad>\n",
            "질문: <usr> 마쉬가 스테고사우루스의 생김새를 보고 지은 학명은 무슨 뜻인가? </s> <sys> 지붕 도마뱀 </s><pad><pad><pad><pad>\n"
          ]
        },
        {
          "output_type": "stream",
          "name": "stderr",
          "text": [
            "\n",
            "Epoch 1:   2%|▏         | 367/15102 [00:34<22:01, 11.15it/s, Batch Loss=6.24]\u001b[A\n",
            "Epoch 1:   2%|▏         | 369/15102 [00:34<21:59, 11.16it/s, Batch Loss=6.24]\u001b[A\n",
            "Epoch 1:   2%|▏         | 369/15102 [00:34<21:59, 11.16it/s, Batch Loss=5.1] \u001b[A\n",
            "Epoch 1:   2%|▏         | 369/15102 [00:34<21:59, 11.16it/s, Batch Loss=7.51]\u001b[A\n",
            "Epoch 1:   2%|▏         | 371/15102 [00:34<22:19, 11.00it/s, Batch Loss=7.51]\u001b[A"
          ]
        },
        {
          "output_type": "stream",
          "name": "stdout",
          "text": [
            "질문: <usr> 삼산화우라늄에 열을 가하여 이산화우라늄으로 변환하는 방법을 무엇이라고 부르는가? </s> <sys> 액체 치환 추출법 </s>\n",
            "질문: <usr> 한양대학교에서 법대의 후신으로 대한민국의 리더양성을 위해 만든 학과는 무엇인가? </s> <sys> 정책학과 </s><pad><pad><pad><pad><pad><pad>\n",
            "질문: <usr> 고리1호기는 향후 몇년간 안전한가? </s> <sys> 10년간 </s><pad><pad><pad><pad><pad><pad><pad><pad><pad><pad><pad><pad>\n"
          ]
        },
        {
          "output_type": "stream",
          "name": "stderr",
          "text": [
            "\n",
            "Epoch 1:   2%|▏         | 371/15102 [00:34<22:19, 11.00it/s, Batch Loss=5.21]\u001b[A\n",
            "Epoch 1:   2%|▏         | 371/15102 [00:34<22:19, 11.00it/s, Batch Loss=8.53]\u001b[A\n",
            "Epoch 1:   2%|▏         | 373/15102 [00:34<22:15, 11.03it/s, Batch Loss=8.53]\u001b[A\n",
            "Epoch 1:   2%|▏         | 373/15102 [00:34<22:15, 11.03it/s, Batch Loss=5.34]\u001b[A"
          ]
        },
        {
          "output_type": "stream",
          "name": "stdout",
          "text": [
            "질문: <usr> 완두콩 꽃의 색과 열매의 색이 독립적인 유전자에 의해 결정된다는 법칙은? </s> <sys> 멘델의 유전법칙 </s><pad><pad><pad>\n",
            "질문: <usr> 이효리가 2009년에 양현석, 이승철과 함께 심사위원으로 출연한 프로그램은 무엇인가? </s> <sys> 슈퍼스타K 1 </s><pad>\n",
            "질문: <usr> 중국 베이징 공장에서 현지생산된 년도는? </s> <sys> 2002년 </s><pad><pad><pad><pad><pad><pad><pad><pad><pad><pad><pad><pad><pad>\n"
          ]
        },
        {
          "output_type": "stream",
          "name": "stderr",
          "text": [
            "\n",
            "Epoch 1:   2%|▏         | 373/15102 [00:35<22:15, 11.03it/s, Batch Loss=3.32]\u001b[A\n",
            "Epoch 1:   2%|▏         | 375/15102 [00:35<22:03, 11.12it/s, Batch Loss=3.32]\u001b[A\n",
            "Epoch 1:   2%|▏         | 375/15102 [00:35<22:03, 11.12it/s, Batch Loss=6.19]\u001b[A\n",
            "Epoch 1:   2%|▏         | 375/15102 [00:35<22:03, 11.12it/s, Batch Loss=4.78]\u001b[A\n",
            "Epoch 1:   2%|▏         | 377/15102 [00:35<22:10, 11.07it/s, Batch Loss=4.78]\u001b[A"
          ]
        },
        {
          "output_type": "stream",
          "name": "stdout",
          "text": [
            "질문: <usr> 2014년 1월 7일 방송된 Mnet 비틀즈코드 3D에서 젝스키스 해체 이유에 대해 밝힌 멤버는? </s> <sys> 장수원\n",
            "질문: <usr> 늑대가 내는 소리는 총 몇 가지 인가? </s> <sys> 3가지 </s><pad><pad><pad><pad><pad><pad><pad><pad><pad><pad><pad><pad><pad>\n",
            "질문: <usr> 볼숭 일족의 사가 제 3장에 등장하는 기트족의 왕 시게이르와 결혼한 볼숭 왕의 딸 이름은?  </s> <sys> 시\n"
          ]
        },
        {
          "output_type": "stream",
          "name": "stderr",
          "text": [
            "\n",
            "Epoch 1:   2%|▏         | 377/15102 [00:35<22:10, 11.07it/s, Batch Loss=5.86]\u001b[A\n",
            "Epoch 1:   2%|▏         | 377/15102 [00:35<22:10, 11.07it/s, Batch Loss=4.46]\u001b[A\n",
            "Epoch 1:   3%|▎         | 379/15102 [00:35<22:00, 11.15it/s, Batch Loss=4.46]\u001b[A\n",
            "Epoch 1:   3%|▎         | 379/15102 [00:35<22:00, 11.15it/s, Batch Loss=6.97]\u001b[A"
          ]
        },
        {
          "output_type": "stream",
          "name": "stdout",
          "text": [
            "질문: <usr> 현영이 약식기소로 받은 벌금 금액은? </s> <sys> 500만원 </s><pad><pad><pad><pad><pad><pad><pad><pad>\n",
            "질문: <usr> 엠마 스톤에게 감사 편지를 쓴사진을 전달한 리암은 무슨 병을 앓고 있는가? </s> <sys> 자폐증 </s><pad><pad>\n",
            "질문: <usr> 탈선 사고 발생 초기 발견되지 않은 것은 차량의 몇 량째이었는가? </s> <sys> 1량째 </s><pad><pad><pad><pad>\n"
          ]
        },
        {
          "output_type": "stream",
          "name": "stderr",
          "text": [
            "\n",
            "Epoch 1:   3%|▎         | 379/15102 [00:35<22:00, 11.15it/s, Batch Loss=5.26]\u001b[A\n",
            "Epoch 1:   3%|▎         | 381/15102 [00:35<21:55, 11.19it/s, Batch Loss=5.26]\u001b[A\n",
            "Epoch 1:   3%|▎         | 381/15102 [00:35<21:55, 11.19it/s, Batch Loss=5.24]\u001b[A\n",
            "Epoch 1:   3%|▎         | 381/15102 [00:35<21:55, 11.19it/s, Batch Loss=6.28]\u001b[A\n",
            "Epoch 1:   3%|▎         | 383/15102 [00:35<21:59, 11.15it/s, Batch Loss=6.28]\u001b[A"
          ]
        },
        {
          "output_type": "stream",
          "name": "stdout",
          "text": [
            "질문: <usr> Hmmsim의 출시년도는? </s> <sys> 2014년 </s><pad><pad><pad><pad><pad><pad><pad><pad><pad><pad><pad><pad><pad>\n",
            "질문: <usr> 류근철은 어느 초등학교에 기부했나? </s> <sys> 천동초등학교 </s><pad><pad><pad><pad><pad><pad><pad><pad><pad><pad>\n",
            "질문: <usr> 2013년 한효주가 영화 감시자들에서 분한 인물은? </s> <sys> 하윤주 </s><pad><pad><pad><pad><pad><pad><pad><pad>\n"
          ]
        },
        {
          "output_type": "stream",
          "name": "stderr",
          "text": [
            "\n",
            "Epoch 1:   3%|▎         | 383/15102 [00:35<21:59, 11.15it/s, Batch Loss=6.16]\u001b[A\n",
            "Epoch 1:   3%|▎         | 383/15102 [00:35<21:59, 11.15it/s, Batch Loss=5.22]\u001b[A\n",
            "Epoch 1:   3%|▎         | 385/15102 [00:35<22:13, 11.04it/s, Batch Loss=5.22]\u001b[A\n",
            "Epoch 1:   3%|▎         | 385/15102 [00:36<22:13, 11.04it/s, Batch Loss=7.04]\u001b[A"
          ]
        },
        {
          "output_type": "stream",
          "name": "stdout",
          "text": [
            "질문: <usr> 2010년 FIFA 월드컵 결승전에서 스페인의 수문장은 누구였는가? </s> <sys> 이케르 카시야스 </s><pad><pad><pad>\n",
            "질문: <usr> 데스몬드 도스는 교회의 창문을 갈던 중 차에 깔린 남자를 발견하고 그를 지혈하기 위해 무엇을 사용했는가? \n",
            "질문: <usr> 올림픽 개최 도시 수장이 IOC위원장에게 넘겨준 올림픽기를 다음 개최 도시의 수장에게 넘겨주는 행사의 이름은? </s> <sys> 안트\n"
          ]
        },
        {
          "output_type": "stream",
          "name": "stderr",
          "text": [
            "\n",
            "Epoch 1:   3%|▎         | 385/15102 [00:36<22:13, 11.04it/s, Batch Loss=5.94]\u001b[A\n",
            "Epoch 1:   3%|▎         | 387/15102 [00:36<22:05, 11.10it/s, Batch Loss=5.94]\u001b[A\n",
            "Epoch 1:   3%|▎         | 387/15102 [00:36<22:05, 11.10it/s, Batch Loss=5.49]\u001b[A\n",
            "Epoch 1:   3%|▎         | 387/15102 [00:36<22:05, 11.10it/s, Batch Loss=5.6] \u001b[A\n",
            "Epoch 1:   3%|▎         | 389/15102 [00:36<22:11, 11.05it/s, Batch Loss=5.6]\u001b[A"
          ]
        },
        {
          "output_type": "stream",
          "name": "stdout",
          "text": [
            "질문: <usr> 조지아의 산림지역은 국토의 몇 퍼센트를 차지하는가? </s> <sys> 38% </s><pad><pad><pad><pad><pad><pad><pad><pad><pad>\n",
            "질문: <usr> 롬바르드의 방법과 유사하게 변증법 등의 방법을 사용했던 학자는? </s> <sys> 피에르 아벨라르 </s><pad><pad><pad><pad><pad><pad><pad>\n",
            "질문: <usr> 독립협회의 중립론을 나타내는 개념은? </s> <sys> 보호중립론 </s><pad><pad><pad><pad><pad><pad><pad><pad><pad><pad><pad><pad>\n"
          ]
        },
        {
          "output_type": "stream",
          "name": "stderr",
          "text": [
            "\n",
            "Epoch 1:   3%|▎         | 389/15102 [00:36<22:11, 11.05it/s, Batch Loss=4.62]\u001b[A\n",
            "Epoch 1:   3%|▎         | 389/15102 [00:36<22:11, 11.05it/s, Batch Loss=3.41]\u001b[A\n",
            "Epoch 1:   3%|▎         | 391/15102 [00:36<22:06, 11.09it/s, Batch Loss=3.41]\u001b[A\n",
            "Epoch 1:   3%|▎         | 391/15102 [00:36<22:06, 11.09it/s, Batch Loss=5.66]\u001b[A"
          ]
        },
        {
          "output_type": "stream",
          "name": "stdout",
          "text": [
            "질문: <usr> 유길준이 미국에 보빙사로 파견된 년도는? </s> <sys> 1883년 </s><pad><pad><pad><pad><pad><pad><pad><pad><pad><pad>\n",
            "질문: <usr> 랜샛위성은 언제부터 촬영에 활용되었나? </s> <sys> 1972년 </s><pad><pad><pad><pad><pad><pad><pad><pad><pad><pad><pad>\n",
            "질문: <usr> 도쿄 저택을 누구에게 공관으로 대여하였나? </s> <sys> 참의원 의장 </s><pad><pad><pad><pad><pad><pad><pad><pad><pad><pad><pad>\n"
          ]
        },
        {
          "output_type": "stream",
          "name": "stderr",
          "text": [
            "\n",
            "Epoch 1:   3%|▎         | 391/15102 [00:36<22:06, 11.09it/s, Batch Loss=5.2] \u001b[A\n",
            "Epoch 1:   3%|▎         | 393/15102 [00:36<22:19, 10.98it/s, Batch Loss=5.2]\u001b[A\n",
            "Epoch 1:   3%|▎         | 393/15102 [00:36<22:19, 10.98it/s, Batch Loss=3.67]\u001b[A\n",
            "Epoch 1:   3%|▎         | 393/15102 [00:36<22:19, 10.98it/s, Batch Loss=4.19]\u001b[A\n",
            "Epoch 1:   3%|▎         | 395/15102 [00:36<22:14, 11.02it/s, Batch Loss=4.19]\u001b[A"
          ]
        },
        {
          "output_type": "stream",
          "name": "stdout",
          "text": [
            "질문: <usr> 2007년 레알 마드리드의 라 리가 최종 성적은 무엇인가? </s> <sys> 우승 </s><pad><pad><pad><pad><pad><pad><pad><pad><pad><pad>\n",
            "질문: <usr> 도시 내 환경오염에서 대기 오염 대신 계산 되는 것은 무엇인가? </s> <sys> 소음 공해 </s><pad><pad><pad><pad><pad><pad><pad><pad>\n",
            "질문: <usr> 영화 섹스 앤 더 시티 2에서 커버 공연을 한 가수이자 배우는? </s> <sys> 라이자 미넬리 </s><pad><pad>\n"
          ]
        },
        {
          "output_type": "stream",
          "name": "stderr",
          "text": [
            "\n",
            "Epoch 1:   3%|▎         | 395/15102 [00:36<22:14, 11.02it/s, Batch Loss=6.06]\u001b[A\n",
            "Epoch 1:   3%|▎         | 395/15102 [00:37<22:14, 11.02it/s, Batch Loss=5.86]\u001b[A\n",
            "Epoch 1:   3%|▎         | 397/15102 [00:37<22:23, 10.95it/s, Batch Loss=5.86]\u001b[A\n",
            "Epoch 1:   3%|▎         | 397/15102 [00:37<22:23, 10.95it/s, Batch Loss=5.08]\u001b[A"
          ]
        },
        {
          "output_type": "stream",
          "name": "stdout",
          "text": [
            "질문: <usr> 2016년 12월 3일에 발의한 대통령 탄핵소추안의 구체적 사유는 무엇인가? </s> <sys> 헌법과 법률 위반 </s><pad><pad><pad>\n",
            "질문: <usr> 민주당과 새정치연합의 합당으로 최종 결정된 당명은? </s> <sys> 새정치민주연합 </s><pad><pad><pad><pad><pad><pad>\n",
            "질문: <usr> 에라스무스는 교회의 어떠한 관념을 지지하는 종교개혁가들과 분쟁이 있었나? </s> <sys> 예정론 </s><pad><pad><pad><pad><pad><pad>\n"
          ]
        },
        {
          "output_type": "stream",
          "name": "stderr",
          "text": [
            "\n",
            "Epoch 1:   3%|▎         | 397/15102 [00:37<22:23, 10.95it/s, Batch Loss=5.48]\u001b[A\n",
            "Epoch 1:   3%|▎         | 399/15102 [00:37<22:10, 11.05it/s, Batch Loss=5.48]\u001b[A\n",
            "Epoch 1:   3%|▎         | 399/15102 [00:37<22:10, 11.05it/s, Batch Loss=5.12]\u001b[A\n",
            "Epoch 1:   3%|▎         | 399/15102 [00:37<22:10, 11.05it/s, Batch Loss=6.67]\u001b[A\n",
            "Epoch 1:   3%|▎         | 401/15102 [00:37<22:17, 10.99it/s, Batch Loss=6.67]\u001b[A"
          ]
        },
        {
          "output_type": "stream",
          "name": "stdout",
          "text": [
            "질문: <usr> 바그너는 다시 개정된 총보를 얼마를 받고 팔았는가? </s> <sys> 20루이의 금 </s><pad><pad><pad><pad><pad><pad>\n",
            "질문: <usr> 소련은 밀약을 맺고자 자국의 외무상을 어느 나라 외무상에게 보냈나? </s> <sys> 일본 </s><pad><pad><pad><pad><pad><pad>\n",
            "질문: <usr> 베이비복스는 대중적인 인기를 얻기위해 새로운 프로모션을 시도하면서 데뷔 타이틀 곡을 바꾸었는데 바뀐 타이틀 곡의 제목은 무엇인가? \n"
          ]
        },
        {
          "output_type": "stream",
          "name": "stderr",
          "text": [
            "\n",
            "Epoch 1:   3%|▎         | 401/15102 [00:37<22:17, 10.99it/s, Batch Loss=5.83]\u001b[A\n",
            "Epoch 1:   3%|▎         | 401/15102 [00:37<22:17, 10.99it/s, Batch Loss=5.5] \u001b[A\n",
            "Epoch 1:   3%|▎         | 403/15102 [00:37<22:23, 10.94it/s, Batch Loss=5.5]\u001b[A\n",
            "Epoch 1:   3%|▎         | 403/15102 [00:37<22:23, 10.94it/s, Batch Loss=5.32]\u001b[A"
          ]
        },
        {
          "output_type": "stream",
          "name": "stdout",
          "text": [
            "질문: <usr> 2009년 자신이 받은 아메리칸 리그 올해의 감독상을 아덴하트에게 헌정한 에인절스의 감독 이름은? </s> <sys> 마이크 소\n",
            "질문: <usr> 1980년 제1차 단식투쟁에 참여한 열 명의 수감자가 단식한 기간은? </s> <sys> 53일 </s><pad><pad><pad><pad><pad><pad><pad>\n",
            "질문: <usr> 우리나라가 닛산 푸가(Y50)의 인피니트 버전을 공식 수입하기 시작한 년도는? </s> <sys> 2005년 </s>\n"
          ]
        },
        {
          "output_type": "stream",
          "name": "stderr",
          "text": [
            "\n",
            "Epoch 1:   3%|▎         | 403/15102 [00:37<22:23, 10.94it/s, Batch Loss=6.78]\u001b[A\n",
            "Epoch 1:   3%|▎         | 405/15102 [00:37<22:46, 10.76it/s, Batch Loss=6.78]\u001b[A\n",
            "Epoch 1:   3%|▎         | 405/15102 [00:37<22:46, 10.76it/s, Batch Loss=4.7] \u001b[A\n",
            "Epoch 1:   3%|▎         | 405/15102 [00:37<22:46, 10.76it/s, Batch Loss=4.98]\u001b[A\n",
            "Epoch 1:   3%|▎         | 407/15102 [00:37<22:40, 10.80it/s, Batch Loss=4.98]\u001b[A"
          ]
        },
        {
          "output_type": "stream",
          "name": "stdout",
          "text": [
            "질문: <usr> 이종민이 가장 좋아하는 노래는? </s> <sys> 뭘 그렇게 놀래 </s><pad><pad><pad><pad><pad><pad><pad><pad><pad><pad><pad><pad>\n",
            "질문: <usr> ACHR의 해체가 결정된 년도는? </s> <sys> 1963년 </s><pad><pad><pad><pad><pad><pad><pad><pad><pad><pad><pad>\n",
            "질문: <usr> 미군정청의 사령관 존 하지 장군은 이승만의 동의로 김규식을 이것의 위원장으로 임명하였다. 이것은? </s> <sys> 좌우합작위원회 </s><pad>\n"
          ]
        },
        {
          "output_type": "stream",
          "name": "stderr",
          "text": [
            "\n",
            "Epoch 1:   3%|▎         | 407/15102 [00:38<22:40, 10.80it/s, Batch Loss=5.28]\u001b[A\n",
            "Epoch 1:   3%|▎         | 407/15102 [00:38<22:40, 10.80it/s, Batch Loss=5.19]\u001b[A\n",
            "Epoch 1:   3%|▎         | 409/15102 [00:38<22:40, 10.80it/s, Batch Loss=5.19]\u001b[A\n",
            "Epoch 1:   3%|▎         | 409/15102 [00:38<22:40, 10.80it/s, Batch Loss=4.72]\u001b[A"
          ]
        },
        {
          "output_type": "stream",
          "name": "stdout",
          "text": [
            "질문: <usr> 모로의 작전은 무엇의 결과에 따라 저지되었는가? </s> <sys> 레오본 평화(Peace of Leoben)의 사전\n",
            "질문: <usr> 일본이 아시아 국가 중 유일하게 속하는 모임은?  </s> <sys> G7 </s><pad><pad><pad><pad><pad><pad><pad><pad><pad><pad><pad>\n",
            "질문: <usr> 한승호가 따르는 판소리의 이름은? </s> <sys> 고제 판소리 </s><pad><pad><pad><pad><pad><pad><pad><pad><pad><pad><pad><pad>\n"
          ]
        },
        {
          "output_type": "stream",
          "name": "stderr",
          "text": [
            "\n",
            "Epoch 1:   3%|▎         | 409/15102 [00:38<22:40, 10.80it/s, Batch Loss=6.26]\u001b[A\n",
            "Epoch 1:   3%|▎         | 411/15102 [00:38<22:23, 10.94it/s, Batch Loss=6.26]\u001b[A\n",
            "Epoch 1:   3%|▎         | 411/15102 [00:38<22:23, 10.94it/s, Batch Loss=4.99]\u001b[A\n",
            "Epoch 1:   3%|▎         | 411/15102 [00:38<22:23, 10.94it/s, Batch Loss=7.77]\u001b[A\n",
            "Epoch 1:   3%|▎         | 413/15102 [00:38<22:11, 11.04it/s, Batch Loss=7.77]\u001b[A"
          ]
        },
        {
          "output_type": "stream",
          "name": "stdout",
          "text": [
            "질문: <usr> 정부가 독립협회의 해산을 건의한 해는? </s> <sys> 1898년 </s><pad><pad><pad><pad><pad><pad><pad><pad><pad><pad><pad><pad><pad><pad>\n",
            "질문: <usr> 오우데나르데 전투에서 비론의 7개 보영 대대에 대한 공격 주측이 된 이는? </s> <sys> 케도건 </s>\n",
            "질문: <usr> DVD 시리즈를 지역 코드 1과 2 형식으로 발매한 곳은? </s> <sys> 워너 홈 비디오 </s><pad><pad><pad><pad><pad>\n"
          ]
        },
        {
          "output_type": "stream",
          "name": "stderr",
          "text": [
            "\n",
            "Epoch 1:   3%|▎         | 413/15102 [00:38<22:11, 11.04it/s, Batch Loss=4.8] \u001b[A\n",
            "Epoch 1:   3%|▎         | 413/15102 [00:38<22:11, 11.04it/s, Batch Loss=5.07]\u001b[A\n",
            "Epoch 1:   3%|▎         | 415/15102 [00:38<22:09, 11.05it/s, Batch Loss=5.07]\u001b[A\n",
            "Epoch 1:   3%|▎         | 415/15102 [00:38<22:09, 11.05it/s, Batch Loss=5.35]\u001b[A"
          ]
        },
        {
          "output_type": "stream",
          "name": "stdout",
          "text": [
            "질문: <usr> 인천 송도국제도시 동북아무역타워가 완공된 해는? </s> <sys> 2014년 </s><pad><pad><pad><pad><pad><pad><pad><pad><pad><pad>\n",
            "질문: <usr> 전두환의 세례명은? </s> <sys> 성 베드로 </s><pad><pad><pad><pad><pad><pad><pad><pad><pad><pad><pad><pad><pad><pad><pad>\n",
            "질문: <usr> 지리학이 인쇄되기 시작한 때는? </s> <sys> 15세기 </s><pad><pad><pad><pad><pad><pad><pad><pad><pad><pad><pad><pad><pad><pad>\n"
          ]
        },
        {
          "output_type": "stream",
          "name": "stderr",
          "text": [
            "\n",
            "Epoch 1:   3%|▎         | 415/15102 [00:38<22:09, 11.05it/s, Batch Loss=5.34]\u001b[A\n",
            "Epoch 1:   3%|▎         | 417/15102 [00:38<22:07, 11.07it/s, Batch Loss=5.34]\u001b[A\n",
            "Epoch 1:   3%|▎         | 417/15102 [00:38<22:07, 11.07it/s, Batch Loss=5.15]\u001b[A\n",
            "Epoch 1:   3%|▎         | 417/15102 [00:39<22:07, 11.07it/s, Batch Loss=6.57]\u001b[A\n",
            "Epoch 1:   3%|▎         | 419/15102 [00:39<22:08, 11.06it/s, Batch Loss=6.57]\u001b[A"
          ]
        },
        {
          "output_type": "stream",
          "name": "stdout",
          "text": [
            "질문: <usr> 번개사업을 지시한 대통령은? </s> <sys> 이명박 대통령 </s><pad><pad><pad><pad><pad><pad><pad><pad><pad><pad><pad><pad><pad><pad>\n",
            "질문: <usr> 류준열이 \"작은 관심이 큰 변화\"라는 환경 칼럼을 기고한 언론은? </s> <sys> 허핑턴포스트 </s><pad>\n",
            "질문: <usr> 김대중 도서관은 어디에 있는가? </s> <sys> 서울 동교동 </s><pad><pad><pad><pad><pad><pad><pad><pad><pad><pad><pad><pad><pad>\n"
          ]
        },
        {
          "output_type": "stream",
          "name": "stderr",
          "text": [
            "\n",
            "Epoch 1:   3%|▎         | 419/15102 [00:39<22:08, 11.06it/s, Batch Loss=6.06]\u001b[A\n",
            "Epoch 1:   3%|▎         | 419/15102 [00:39<22:08, 11.06it/s, Batch Loss=6.49]\u001b[A\n",
            "Epoch 1:   3%|▎         | 421/15102 [00:39<22:12, 11.02it/s, Batch Loss=6.49]\u001b[A\n",
            "Epoch 1:   3%|▎         | 421/15102 [00:39<22:12, 11.02it/s, Batch Loss=5.62]\u001b[A"
          ]
        },
        {
          "output_type": "stream",
          "name": "stdout",
          "text": [
            "질문: <usr> 고래자리 타우는 많은 소행성 및 혜성 비슷한 물질을 거느리고 있는데 이는 우리 태양의 몇 배에 달하는가?  </s> <sys> 10배에\n",
            "질문: <usr> 프레스티지 클래스는 누구를 위해 생겨났나? </s> <sys> 미주노선 비즈니스 사용자 </s><pad><pad><pad><pad><pad><pad><pad>\n",
            "질문: <usr> 베이비복스의 7집 음반에 랩과 코러스 등으로 참여한 세계적인 여성 팝스타의 이름은 무엇인가? </s> <sys> 제니퍼\n"
          ]
        },
        {
          "output_type": "stream",
          "name": "stderr",
          "text": [
            "\n",
            "Epoch 1:   3%|▎         | 421/15102 [00:39<22:12, 11.02it/s, Batch Loss=7.32]\u001b[A\n",
            "Epoch 1:   3%|▎         | 423/15102 [00:39<22:41, 10.78it/s, Batch Loss=7.32]\u001b[A\n",
            "Epoch 1:   3%|▎         | 423/15102 [00:39<22:41, 10.78it/s, Batch Loss=5.12]\u001b[A\n",
            "Epoch 1:   3%|▎         | 423/15102 [00:39<22:41, 10.78it/s, Batch Loss=4.88]\u001b[A\n",
            "Epoch 1:   3%|▎         | 425/15102 [00:39<23:16, 10.51it/s, Batch Loss=4.88]\u001b[A"
          ]
        },
        {
          "output_type": "stream",
          "name": "stdout",
          "text": [
            "질문: <usr> 좌우파의 합작과 협력을 추진해온 사람은 누구인가? </s> <sys> 김규식 </s><pad><pad><pad><pad><pad><pad><pad><pad><pad><pad>\n",
            "질문: <usr> 오리지널판 이상한 나라의 앨리스에서 로리타의 관심을 끄는 것은 누가 그린 삽화인가? </s> <sys> 존 테니얼 </s>\n"
          ]
        },
        {
          "output_type": "stream",
          "name": "stderr",
          "text": [
            "\n",
            "Epoch 1:   3%|▎         | 425/15102 [00:39<23:16, 10.51it/s, Batch Loss=6.14]\u001b[A\n",
            "Epoch 1:   3%|▎         | 425/15102 [00:39<23:16, 10.51it/s, Batch Loss=6.74]\u001b[A\n",
            "Epoch 1:   3%|▎         | 427/15102 [00:39<23:21, 10.47it/s, Batch Loss=6.74]\u001b[A"
          ]
        },
        {
          "output_type": "stream",
          "name": "stdout",
          "text": [
            "질문: <usr> 롱테일 현상을 처음 발표한 사람은? </s> <sys> 크리스 앤더슨 </s><pad><pad><pad><pad><pad><pad><pad><pad><pad><pad><pad>\n",
            "질문: <usr> 이탈리아의 통일 과정을 소개한 유길준의 저서는? </s> <sys> 이태리 독립전사 </s><pad><pad><pad><pad><pad><pad><pad><pad><pad>\n",
            "질문: <usr> 공격 주모자가 탄 보스턴행 비행기의 이륙 시각은? </s> <sys> 6시 </s><pad><pad><pad><pad><pad><pad><pad><pad>\n"
          ]
        },
        {
          "output_type": "stream",
          "name": "stderr",
          "text": [
            "\n",
            "Epoch 1:   3%|▎         | 427/15102 [00:39<23:21, 10.47it/s, Batch Loss=5.94]\u001b[A\n",
            "Epoch 1:   3%|▎         | 427/15102 [00:40<23:21, 10.47it/s, Batch Loss=4.11]\u001b[A\n",
            "Epoch 1:   3%|▎         | 429/15102 [00:40<23:38, 10.34it/s, Batch Loss=4.11]\u001b[A\n",
            "Epoch 1:   3%|▎         | 429/15102 [00:40<23:38, 10.34it/s, Batch Loss=6.29]\u001b[A"
          ]
        },
        {
          "output_type": "stream",
          "name": "stdout",
          "text": [
            "질문: <usr> 에라스무스를 경멸조로 조롱한 종교개혁가는 누구인가? </s> <sys> 마르틴 루터 </s><pad><pad><pad><pad><pad><pad><pad><pad>\n",
            "질문: <usr> 2001년 5월 김경준이 작성하였으나 김경준과 결별하였고 대표이사직을 사임했다던 이명박이 여전히 등장한 문서는? </s> <sys> e\n",
            "질문: <usr> 부산대학교가 제2캠퍼스 전담팀을 구성한 해는? </s> <sys> 1999년 </s><pad><pad><pad><pad><pad><pad><pad><pad><pad><pad><pad>\n"
          ]
        },
        {
          "output_type": "stream",
          "name": "stderr",
          "text": [
            "\n",
            "Epoch 1:   3%|▎         | 429/15102 [00:40<23:38, 10.34it/s, Batch Loss=4.5] \u001b[A\n",
            "Epoch 1:   3%|▎         | 431/15102 [00:40<23:59, 10.19it/s, Batch Loss=4.5]\u001b[A\n",
            "Epoch 1:   3%|▎         | 431/15102 [00:40<23:59, 10.19it/s, Batch Loss=6.75]\u001b[A\n",
            "Epoch 1:   3%|▎         | 431/15102 [00:40<23:59, 10.19it/s, Batch Loss=4.12]\u001b[A\n",
            "Epoch 1:   3%|▎         | 433/15102 [00:40<23:54, 10.23it/s, Batch Loss=4.12]\u001b[A"
          ]
        },
        {
          "output_type": "stream",
          "name": "stdout",
          "text": [
            "질문: <usr> 프랜시스가 공을 잡은 상태에서 슈팅,패스,드리블,수비하기 힘든 선수라하여 한 스카우트는 프랜시스를 무엇\n",
            "질문: <usr> 맥그리거는 어느 나라의 배우인가? </s> <sys> 스코틀랜드 </s><pad><pad><pad><pad><pad><pad><pad><pad><pad><pad><pad><pad><pad><pad>\n",
            "질문: <usr> 삼엽충에 해저에서 이동하면서 남긴 이동흔적을 무엇이라하는가? </s> <sys> 흔적화석 </s><pad><pad><pad><pad>\n"
          ]
        },
        {
          "output_type": "stream",
          "name": "stderr",
          "text": [
            "\n",
            "Epoch 1:   3%|▎         | 433/15102 [00:40<23:54, 10.23it/s, Batch Loss=6.25]\u001b[A\n",
            "Epoch 1:   3%|▎         | 433/15102 [00:40<23:54, 10.23it/s, Batch Loss=6.45]\u001b[A\n",
            "Epoch 1:   3%|▎         | 435/15102 [00:40<23:24, 10.44it/s, Batch Loss=6.45]\u001b[A\n",
            "Epoch 1:   3%|▎         | 435/15102 [00:40<23:24, 10.44it/s, Batch Loss=5.49]\u001b[A"
          ]
        },
        {
          "output_type": "stream",
          "name": "stdout",
          "text": [
            "질문: <usr> 원소를 공격해 여러 차례 패배하면서도 싸움을 거듭하여 주위를 피폐하게 하게 하였던 관료의 이름은? </s> <sys> 공손찬 </s><pad><pad><pad>\n",
            "질문: <usr> 두개의 흉갑기병 사단을 불러오게 한 군대는 무엇인가? </s> <sys> 카파레리의 군대 </s><pad><pad><pad><pad>\n"
          ]
        },
        {
          "output_type": "stream",
          "name": "stderr",
          "text": [
            "\n",
            "Epoch 1:   3%|▎         | 435/15102 [00:40<23:24, 10.44it/s, Batch Loss=5.45]\u001b[A\n",
            "Epoch 1:   3%|▎         | 437/15102 [00:40<24:07, 10.13it/s, Batch Loss=5.45]\u001b[A\n",
            "Epoch 1:   3%|▎         | 437/15102 [00:40<24:07, 10.13it/s, Batch Loss=5.15]\u001b[A"
          ]
        },
        {
          "output_type": "stream",
          "name": "stdout",
          "text": [
            "질문: <usr> 스타 트렉은 1987년에서 1994년까지 총 몇 시즌을 방영하였는 가? </s> <sys> 7 시즌 </s><pad><pad><pad><pad>\n",
            "질문: <usr> 2005년 열린우리당이 재도입을 시도한 정책은? </s> <sys> 토지공개념 </s><pad><pad><pad><pad><pad><pad><pad><pad><pad><pad>\n",
            "질문: <usr> 멩겔레의 아내 이름은? </s> <sys> 이레네 쇤바인 </s><pad><pad><pad><pad><pad><pad><pad><pad><pad><pad>\n"
          ]
        },
        {
          "output_type": "stream",
          "name": "stderr",
          "text": [
            "\n",
            "Epoch 1:   3%|▎         | 437/15102 [00:41<24:07, 10.13it/s, Batch Loss=5.99]"
          ]
        }
      ],
      "source": [
        "from torch.optim import AdamW\n",
        "from tqdm import tqdm\n",
        "\n",
        "# 옵티마이저 설정\n",
        "optimizer = AdamW(model.parameters(), lr=5e-3)\n",
        "\n",
        "# 학습 루프 정의 (tqdm으로 Progress Bar 추가)\n",
        "epochs = 1\n",
        "model.train()\n",
        "\n",
        "# 조기 종료 조건 설정\n",
        "# max_batches_per_epoch = 1000  # 한 에포크에서 최대 실행할 배치 수\n",
        "\n",
        "for epoch in range(epochs):\n",
        "    epoch_loss = 0\n",
        "    progress_bar = tqdm(enumerate(train_dataloader), desc=f\"Epoch {epoch + 1}\", total=len(train_dataloader))\n",
        "\n",
        "    for batch_idx, batch in progress_bar:\n",
        "        # if batch_idx >= max_batches_per_epoch:  # 조기 종료 조건\n",
        "        #     print(f\"Stopping early at batch {batch_idx} in epoch {epoch + 1}\")\n",
        "        #     break\n",
        "\n",
        "        input_ids = batch[\"input_ids\"].to(device)\n",
        "        labels = batch[\"labels\"].to(device)\n",
        "\n",
        "        optimizer.zero_grad()\n",
        "        outputs = model(input_ids=input_ids, labels=labels)\n",
        "        loss = outputs.loss\n",
        "        print(f\"질문: {tokenizer.decode(input_ids[0], skip_special_tokens=False)}\")\n",
        "\n",
        "        loss.backward()\n",
        "        optimizer.step()\n",
        "\n",
        "        epoch_loss += loss.item()\n",
        "        progress_bar.set_postfix({\"Batch Loss\": loss.item()})\n",
        "\n",
        "    print(f\"Epoch {epoch + 1} completed. Average Loss: {epoch_loss / (batch_idx + 1)}\")\n",
        "\n",
        "# 모델 저장\n",
        "model.save_pretrained(\"./kogpt2-korquad-finetuned\")\n",
        "tokenizer.save_pretrained(\"./kogpt2-korquad-finetuned\")"
      ]
    },
    {
      "cell_type": "code",
      "execution_count": null,
      "metadata": {
        "id": "WBzU_BNhD0ln"
      },
      "outputs": [],
      "source": [
        "\n",
        "question = \"인공지능이란?\"\n",
        "\n",
        "# 입력 텍스트 생성\n",
        "input_text = f\"<usr> {question} </s>\"\n",
        "input_ids = tokenizer.encode(\n",
        "    input_text,\n",
        "    max_length=100,\n",
        "    truncation=True,\n",
        "    padding=\"max_length\",\n",
        "    return_tensors=\"pt\"\n",
        ").to(model.device)\n",
        "\n",
        "# KoGPT2로 문장 생성\n",
        "model.eval()\n",
        "with torch.no_grad():\n",
        "    output_ids = model.generate(\n",
        "        input_ids=input_ids,\n",
        "        max_length=400,\n",
        "        repetition_penalty=2.0,\n",
        "        pad_token_id=tokenizer.pad_token_id,\n",
        "        eos_token_id=tokenizer.eos_token_id,\n",
        "        bos_token_id=tokenizer.bos_token_id,\n",
        "    )\n",
        "\n",
        "generated_text = tokenizer.decode(output_ids[0], skip_special_tokens=False)\n",
        "\n",
        "# 결과 출력\n",
        "print(f\"질문: {question}\")\n",
        "print(f\"생성된 답변: {generated_text}\")"
      ]
    },
    {
      "cell_type": "code",
      "execution_count": null,
      "metadata": {
        "id": "jDi9-ppLW5ZV"
      },
      "outputs": [],
      "source": [
        "model.eval()\n",
        "for epoch in range(epochs):\n",
        "    epoch_loss = 0\n",
        "    progress_bar = tqdm(enumerate(train_dataloader), desc=f\"Epoch {epoch + 1}\", total=len(train_dataloader))\n",
        "\n",
        "    for batch_idx, batch in progress_bar:\n",
        "        # if batch_idx >= max_batches_per_epoch:  # 조기 종료 조건\n",
        "        #     print(f\"Stopping early at batch {batch_idx} in epoch {epoch + 1}\")\n",
        "        #     break\n",
        "\n",
        "        input_ids = batch[\"input_ids\"].to(device)\n",
        "        # cut off where the question endss\n",
        "        # find where the question ends\n",
        "        sep_token = tokenizer.convert_tokens_to_ids(\"<sys>\")\n",
        "        sep_positions = (input_ids == sep_token).nonzero(as_tuple=True)[1]\n",
        "        if len(sep_positions) >= 1:\n",
        "            input_ids = input_ids[:,:sep_positions[0]+1]\n",
        "\n",
        "\n",
        "        labels = batch[\"labels\"].to(device)\n",
        "\n",
        "        with torch.no_grad():\n",
        "            output_ids = model.generate(\n",
        "                input_ids=input_ids,\n",
        "                max_length=513,\n",
        "                repetition_penalty=2.0,\n",
        "                pad_token_id=tokenizer.pad_token_id,\n",
        "                eos_token_id=tokenizer.eos_token_id,\n",
        "                bos_token_id=tokenizer.bos_token_id,\n",
        "            )\n",
        "\n",
        "        print(f\"질문: {tokenizer.decode(input_ids[0], skip_special_tokens=False)}\")\n",
        "        print(f\"생성된 답변: {tokenizer.decode(output_ids[0], skip_special_tokens=False)}\")\n",
        "        break"
      ]
    },
    {
      "cell_type": "code",
      "execution_count": null,
      "metadata": {
        "id": "lZWrjQxhW5ZV"
      },
      "outputs": [],
      "source": []
    }
  ],
  "metadata": {
    "accelerator": "GPU",
    "colab": {
      "gpuType": "T4",
      "provenance": [],
      "include_colab_link": true
    },
    "kernelspec": {
      "display_name": "myenv",
      "language": "python",
      "name": "python3"
    },
    "language_info": {
      "codemirror_mode": {
        "name": "ipython",
        "version": 3
      },
      "file_extension": ".py",
      "mimetype": "text/x-python",
      "name": "python",
      "nbconvert_exporter": "python",
      "pygments_lexer": "ipython3",
      "version": "3.11.11"
    },
    "widgets": {
      "application/vnd.jupyter.widget-state+json": {
        "fa190b0955584c009067ce8d26f1a0df": {
          "model_module": "@jupyter-widgets/controls",
          "model_name": "HBoxModel",
          "model_module_version": "1.5.0",
          "state": {
            "_dom_classes": [],
            "_model_module": "@jupyter-widgets/controls",
            "_model_module_version": "1.5.0",
            "_model_name": "HBoxModel",
            "_view_count": null,
            "_view_module": "@jupyter-widgets/controls",
            "_view_module_version": "1.5.0",
            "_view_name": "HBoxView",
            "box_style": "",
            "children": [
              "IPY_MODEL_6fc64016953f44208a0eddd10ac1e841",
              "IPY_MODEL_f4071492bfa6482d9a7ef47973e88923",
              "IPY_MODEL_9b3bd60b693f47ac9bff71df6a5d6ad7"
            ],
            "layout": "IPY_MODEL_0b966589d7504202b8af23f8132afa9d"
          }
        },
        "6fc64016953f44208a0eddd10ac1e841": {
          "model_module": "@jupyter-widgets/controls",
          "model_name": "HTMLModel",
          "model_module_version": "1.5.0",
          "state": {
            "_dom_classes": [],
            "_model_module": "@jupyter-widgets/controls",
            "_model_module_version": "1.5.0",
            "_model_name": "HTMLModel",
            "_view_count": null,
            "_view_module": "@jupyter-widgets/controls",
            "_view_module_version": "1.5.0",
            "_view_name": "HTMLView",
            "description": "",
            "description_tooltip": null,
            "layout": "IPY_MODEL_97121d3fddce41d9999adaa1839fceb5",
            "placeholder": "​",
            "style": "IPY_MODEL_b6d749818cbe4fdd9afa2f8e520ea0eb",
            "value": "config.json: 100%"
          }
        },
        "f4071492bfa6482d9a7ef47973e88923": {
          "model_module": "@jupyter-widgets/controls",
          "model_name": "FloatProgressModel",
          "model_module_version": "1.5.0",
          "state": {
            "_dom_classes": [],
            "_model_module": "@jupyter-widgets/controls",
            "_model_module_version": "1.5.0",
            "_model_name": "FloatProgressModel",
            "_view_count": null,
            "_view_module": "@jupyter-widgets/controls",
            "_view_module_version": "1.5.0",
            "_view_name": "ProgressView",
            "bar_style": "success",
            "description": "",
            "description_tooltip": null,
            "layout": "IPY_MODEL_40fda7d7866e460ebdef18c6c28ca7ca",
            "max": 1000,
            "min": 0,
            "orientation": "horizontal",
            "style": "IPY_MODEL_e5350e97eb7a4a909fa4a73a069ae46b",
            "value": 1000
          }
        },
        "9b3bd60b693f47ac9bff71df6a5d6ad7": {
          "model_module": "@jupyter-widgets/controls",
          "model_name": "HTMLModel",
          "model_module_version": "1.5.0",
          "state": {
            "_dom_classes": [],
            "_model_module": "@jupyter-widgets/controls",
            "_model_module_version": "1.5.0",
            "_model_name": "HTMLModel",
            "_view_count": null,
            "_view_module": "@jupyter-widgets/controls",
            "_view_module_version": "1.5.0",
            "_view_name": "HTMLView",
            "description": "",
            "description_tooltip": null,
            "layout": "IPY_MODEL_66449698d3204c21a7f9c9d4f931801a",
            "placeholder": "​",
            "style": "IPY_MODEL_f08975417c10408dba08e753fcd6ea5d",
            "value": " 1.00k/1.00k [00:00&lt;00:00, 102kB/s]"
          }
        },
        "0b966589d7504202b8af23f8132afa9d": {
          "model_module": "@jupyter-widgets/base",
          "model_name": "LayoutModel",
          "model_module_version": "1.2.0",
          "state": {
            "_model_module": "@jupyter-widgets/base",
            "_model_module_version": "1.2.0",
            "_model_name": "LayoutModel",
            "_view_count": null,
            "_view_module": "@jupyter-widgets/base",
            "_view_module_version": "1.2.0",
            "_view_name": "LayoutView",
            "align_content": null,
            "align_items": null,
            "align_self": null,
            "border": null,
            "bottom": null,
            "display": null,
            "flex": null,
            "flex_flow": null,
            "grid_area": null,
            "grid_auto_columns": null,
            "grid_auto_flow": null,
            "grid_auto_rows": null,
            "grid_column": null,
            "grid_gap": null,
            "grid_row": null,
            "grid_template_areas": null,
            "grid_template_columns": null,
            "grid_template_rows": null,
            "height": null,
            "justify_content": null,
            "justify_items": null,
            "left": null,
            "margin": null,
            "max_height": null,
            "max_width": null,
            "min_height": null,
            "min_width": null,
            "object_fit": null,
            "object_position": null,
            "order": null,
            "overflow": null,
            "overflow_x": null,
            "overflow_y": null,
            "padding": null,
            "right": null,
            "top": null,
            "visibility": null,
            "width": null
          }
        },
        "97121d3fddce41d9999adaa1839fceb5": {
          "model_module": "@jupyter-widgets/base",
          "model_name": "LayoutModel",
          "model_module_version": "1.2.0",
          "state": {
            "_model_module": "@jupyter-widgets/base",
            "_model_module_version": "1.2.0",
            "_model_name": "LayoutModel",
            "_view_count": null,
            "_view_module": "@jupyter-widgets/base",
            "_view_module_version": "1.2.0",
            "_view_name": "LayoutView",
            "align_content": null,
            "align_items": null,
            "align_self": null,
            "border": null,
            "bottom": null,
            "display": null,
            "flex": null,
            "flex_flow": null,
            "grid_area": null,
            "grid_auto_columns": null,
            "grid_auto_flow": null,
            "grid_auto_rows": null,
            "grid_column": null,
            "grid_gap": null,
            "grid_row": null,
            "grid_template_areas": null,
            "grid_template_columns": null,
            "grid_template_rows": null,
            "height": null,
            "justify_content": null,
            "justify_items": null,
            "left": null,
            "margin": null,
            "max_height": null,
            "max_width": null,
            "min_height": null,
            "min_width": null,
            "object_fit": null,
            "object_position": null,
            "order": null,
            "overflow": null,
            "overflow_x": null,
            "overflow_y": null,
            "padding": null,
            "right": null,
            "top": null,
            "visibility": null,
            "width": null
          }
        },
        "b6d749818cbe4fdd9afa2f8e520ea0eb": {
          "model_module": "@jupyter-widgets/controls",
          "model_name": "DescriptionStyleModel",
          "model_module_version": "1.5.0",
          "state": {
            "_model_module": "@jupyter-widgets/controls",
            "_model_module_version": "1.5.0",
            "_model_name": "DescriptionStyleModel",
            "_view_count": null,
            "_view_module": "@jupyter-widgets/base",
            "_view_module_version": "1.2.0",
            "_view_name": "StyleView",
            "description_width": ""
          }
        },
        "40fda7d7866e460ebdef18c6c28ca7ca": {
          "model_module": "@jupyter-widgets/base",
          "model_name": "LayoutModel",
          "model_module_version": "1.2.0",
          "state": {
            "_model_module": "@jupyter-widgets/base",
            "_model_module_version": "1.2.0",
            "_model_name": "LayoutModel",
            "_view_count": null,
            "_view_module": "@jupyter-widgets/base",
            "_view_module_version": "1.2.0",
            "_view_name": "LayoutView",
            "align_content": null,
            "align_items": null,
            "align_self": null,
            "border": null,
            "bottom": null,
            "display": null,
            "flex": null,
            "flex_flow": null,
            "grid_area": null,
            "grid_auto_columns": null,
            "grid_auto_flow": null,
            "grid_auto_rows": null,
            "grid_column": null,
            "grid_gap": null,
            "grid_row": null,
            "grid_template_areas": null,
            "grid_template_columns": null,
            "grid_template_rows": null,
            "height": null,
            "justify_content": null,
            "justify_items": null,
            "left": null,
            "margin": null,
            "max_height": null,
            "max_width": null,
            "min_height": null,
            "min_width": null,
            "object_fit": null,
            "object_position": null,
            "order": null,
            "overflow": null,
            "overflow_x": null,
            "overflow_y": null,
            "padding": null,
            "right": null,
            "top": null,
            "visibility": null,
            "width": null
          }
        },
        "e5350e97eb7a4a909fa4a73a069ae46b": {
          "model_module": "@jupyter-widgets/controls",
          "model_name": "ProgressStyleModel",
          "model_module_version": "1.5.0",
          "state": {
            "_model_module": "@jupyter-widgets/controls",
            "_model_module_version": "1.5.0",
            "_model_name": "ProgressStyleModel",
            "_view_count": null,
            "_view_module": "@jupyter-widgets/base",
            "_view_module_version": "1.2.0",
            "_view_name": "StyleView",
            "bar_color": null,
            "description_width": ""
          }
        },
        "66449698d3204c21a7f9c9d4f931801a": {
          "model_module": "@jupyter-widgets/base",
          "model_name": "LayoutModel",
          "model_module_version": "1.2.0",
          "state": {
            "_model_module": "@jupyter-widgets/base",
            "_model_module_version": "1.2.0",
            "_model_name": "LayoutModel",
            "_view_count": null,
            "_view_module": "@jupyter-widgets/base",
            "_view_module_version": "1.2.0",
            "_view_name": "LayoutView",
            "align_content": null,
            "align_items": null,
            "align_self": null,
            "border": null,
            "bottom": null,
            "display": null,
            "flex": null,
            "flex_flow": null,
            "grid_area": null,
            "grid_auto_columns": null,
            "grid_auto_flow": null,
            "grid_auto_rows": null,
            "grid_column": null,
            "grid_gap": null,
            "grid_row": null,
            "grid_template_areas": null,
            "grid_template_columns": null,
            "grid_template_rows": null,
            "height": null,
            "justify_content": null,
            "justify_items": null,
            "left": null,
            "margin": null,
            "max_height": null,
            "max_width": null,
            "min_height": null,
            "min_width": null,
            "object_fit": null,
            "object_position": null,
            "order": null,
            "overflow": null,
            "overflow_x": null,
            "overflow_y": null,
            "padding": null,
            "right": null,
            "top": null,
            "visibility": null,
            "width": null
          }
        },
        "f08975417c10408dba08e753fcd6ea5d": {
          "model_module": "@jupyter-widgets/controls",
          "model_name": "DescriptionStyleModel",
          "model_module_version": "1.5.0",
          "state": {
            "_model_module": "@jupyter-widgets/controls",
            "_model_module_version": "1.5.0",
            "_model_name": "DescriptionStyleModel",
            "_view_count": null,
            "_view_module": "@jupyter-widgets/base",
            "_view_module_version": "1.2.0",
            "_view_name": "StyleView",
            "description_width": ""
          }
        },
        "39d2c87c50df400fb67426fee0fa7f7a": {
          "model_module": "@jupyter-widgets/controls",
          "model_name": "HBoxModel",
          "model_module_version": "1.5.0",
          "state": {
            "_dom_classes": [],
            "_model_module": "@jupyter-widgets/controls",
            "_model_module_version": "1.5.0",
            "_model_name": "HBoxModel",
            "_view_count": null,
            "_view_module": "@jupyter-widgets/controls",
            "_view_module_version": "1.5.0",
            "_view_name": "HBoxView",
            "box_style": "",
            "children": [
              "IPY_MODEL_8901ff0d9ad9470f9a05115c6dbacd16",
              "IPY_MODEL_63069ffbeb88492abcda597935a466ed",
              "IPY_MODEL_4e8f831a530c40db98d49fdea5fec339"
            ],
            "layout": "IPY_MODEL_82db66fbcbe140a5aaefc6274090dba7"
          }
        },
        "8901ff0d9ad9470f9a05115c6dbacd16": {
          "model_module": "@jupyter-widgets/controls",
          "model_name": "HTMLModel",
          "model_module_version": "1.5.0",
          "state": {
            "_dom_classes": [],
            "_model_module": "@jupyter-widgets/controls",
            "_model_module_version": "1.5.0",
            "_model_name": "HTMLModel",
            "_view_count": null,
            "_view_module": "@jupyter-widgets/controls",
            "_view_module_version": "1.5.0",
            "_view_name": "HTMLView",
            "description": "",
            "description_tooltip": null,
            "layout": "IPY_MODEL_ba682f85c3b74d3cbc6def8a8f564d30",
            "placeholder": "​",
            "style": "IPY_MODEL_bd51ae87f3de4c0fbe27e8834035a48a",
            "value": "tokenizer.json: 100%"
          }
        },
        "63069ffbeb88492abcda597935a466ed": {
          "model_module": "@jupyter-widgets/controls",
          "model_name": "FloatProgressModel",
          "model_module_version": "1.5.0",
          "state": {
            "_dom_classes": [],
            "_model_module": "@jupyter-widgets/controls",
            "_model_module_version": "1.5.0",
            "_model_name": "FloatProgressModel",
            "_view_count": null,
            "_view_module": "@jupyter-widgets/controls",
            "_view_module_version": "1.5.0",
            "_view_name": "ProgressView",
            "bar_style": "success",
            "description": "",
            "description_tooltip": null,
            "layout": "IPY_MODEL_adffbd28d01843f284ee01892959241b",
            "max": 2825034,
            "min": 0,
            "orientation": "horizontal",
            "style": "IPY_MODEL_5be183182b6e40959d9cfd252ea8fb4c",
            "value": 2825034
          }
        },
        "4e8f831a530c40db98d49fdea5fec339": {
          "model_module": "@jupyter-widgets/controls",
          "model_name": "HTMLModel",
          "model_module_version": "1.5.0",
          "state": {
            "_dom_classes": [],
            "_model_module": "@jupyter-widgets/controls",
            "_model_module_version": "1.5.0",
            "_model_name": "HTMLModel",
            "_view_count": null,
            "_view_module": "@jupyter-widgets/controls",
            "_view_module_version": "1.5.0",
            "_view_name": "HTMLView",
            "description": "",
            "description_tooltip": null,
            "layout": "IPY_MODEL_7947645fd6ec4601a9100239f38d4a56",
            "placeholder": "​",
            "style": "IPY_MODEL_c09e7349cf1a4614b38fd9ad1eb5943e",
            "value": " 2.83M/2.83M [00:01&lt;00:00, 2.54MB/s]"
          }
        },
        "82db66fbcbe140a5aaefc6274090dba7": {
          "model_module": "@jupyter-widgets/base",
          "model_name": "LayoutModel",
          "model_module_version": "1.2.0",
          "state": {
            "_model_module": "@jupyter-widgets/base",
            "_model_module_version": "1.2.0",
            "_model_name": "LayoutModel",
            "_view_count": null,
            "_view_module": "@jupyter-widgets/base",
            "_view_module_version": "1.2.0",
            "_view_name": "LayoutView",
            "align_content": null,
            "align_items": null,
            "align_self": null,
            "border": null,
            "bottom": null,
            "display": null,
            "flex": null,
            "flex_flow": null,
            "grid_area": null,
            "grid_auto_columns": null,
            "grid_auto_flow": null,
            "grid_auto_rows": null,
            "grid_column": null,
            "grid_gap": null,
            "grid_row": null,
            "grid_template_areas": null,
            "grid_template_columns": null,
            "grid_template_rows": null,
            "height": null,
            "justify_content": null,
            "justify_items": null,
            "left": null,
            "margin": null,
            "max_height": null,
            "max_width": null,
            "min_height": null,
            "min_width": null,
            "object_fit": null,
            "object_position": null,
            "order": null,
            "overflow": null,
            "overflow_x": null,
            "overflow_y": null,
            "padding": null,
            "right": null,
            "top": null,
            "visibility": null,
            "width": null
          }
        },
        "ba682f85c3b74d3cbc6def8a8f564d30": {
          "model_module": "@jupyter-widgets/base",
          "model_name": "LayoutModel",
          "model_module_version": "1.2.0",
          "state": {
            "_model_module": "@jupyter-widgets/base",
            "_model_module_version": "1.2.0",
            "_model_name": "LayoutModel",
            "_view_count": null,
            "_view_module": "@jupyter-widgets/base",
            "_view_module_version": "1.2.0",
            "_view_name": "LayoutView",
            "align_content": null,
            "align_items": null,
            "align_self": null,
            "border": null,
            "bottom": null,
            "display": null,
            "flex": null,
            "flex_flow": null,
            "grid_area": null,
            "grid_auto_columns": null,
            "grid_auto_flow": null,
            "grid_auto_rows": null,
            "grid_column": null,
            "grid_gap": null,
            "grid_row": null,
            "grid_template_areas": null,
            "grid_template_columns": null,
            "grid_template_rows": null,
            "height": null,
            "justify_content": null,
            "justify_items": null,
            "left": null,
            "margin": null,
            "max_height": null,
            "max_width": null,
            "min_height": null,
            "min_width": null,
            "object_fit": null,
            "object_position": null,
            "order": null,
            "overflow": null,
            "overflow_x": null,
            "overflow_y": null,
            "padding": null,
            "right": null,
            "top": null,
            "visibility": null,
            "width": null
          }
        },
        "bd51ae87f3de4c0fbe27e8834035a48a": {
          "model_module": "@jupyter-widgets/controls",
          "model_name": "DescriptionStyleModel",
          "model_module_version": "1.5.0",
          "state": {
            "_model_module": "@jupyter-widgets/controls",
            "_model_module_version": "1.5.0",
            "_model_name": "DescriptionStyleModel",
            "_view_count": null,
            "_view_module": "@jupyter-widgets/base",
            "_view_module_version": "1.2.0",
            "_view_name": "StyleView",
            "description_width": ""
          }
        },
        "adffbd28d01843f284ee01892959241b": {
          "model_module": "@jupyter-widgets/base",
          "model_name": "LayoutModel",
          "model_module_version": "1.2.0",
          "state": {
            "_model_module": "@jupyter-widgets/base",
            "_model_module_version": "1.2.0",
            "_model_name": "LayoutModel",
            "_view_count": null,
            "_view_module": "@jupyter-widgets/base",
            "_view_module_version": "1.2.0",
            "_view_name": "LayoutView",
            "align_content": null,
            "align_items": null,
            "align_self": null,
            "border": null,
            "bottom": null,
            "display": null,
            "flex": null,
            "flex_flow": null,
            "grid_area": null,
            "grid_auto_columns": null,
            "grid_auto_flow": null,
            "grid_auto_rows": null,
            "grid_column": null,
            "grid_gap": null,
            "grid_row": null,
            "grid_template_areas": null,
            "grid_template_columns": null,
            "grid_template_rows": null,
            "height": null,
            "justify_content": null,
            "justify_items": null,
            "left": null,
            "margin": null,
            "max_height": null,
            "max_width": null,
            "min_height": null,
            "min_width": null,
            "object_fit": null,
            "object_position": null,
            "order": null,
            "overflow": null,
            "overflow_x": null,
            "overflow_y": null,
            "padding": null,
            "right": null,
            "top": null,
            "visibility": null,
            "width": null
          }
        },
        "5be183182b6e40959d9cfd252ea8fb4c": {
          "model_module": "@jupyter-widgets/controls",
          "model_name": "ProgressStyleModel",
          "model_module_version": "1.5.0",
          "state": {
            "_model_module": "@jupyter-widgets/controls",
            "_model_module_version": "1.5.0",
            "_model_name": "ProgressStyleModel",
            "_view_count": null,
            "_view_module": "@jupyter-widgets/base",
            "_view_module_version": "1.2.0",
            "_view_name": "StyleView",
            "bar_color": null,
            "description_width": ""
          }
        },
        "7947645fd6ec4601a9100239f38d4a56": {
          "model_module": "@jupyter-widgets/base",
          "model_name": "LayoutModel",
          "model_module_version": "1.2.0",
          "state": {
            "_model_module": "@jupyter-widgets/base",
            "_model_module_version": "1.2.0",
            "_model_name": "LayoutModel",
            "_view_count": null,
            "_view_module": "@jupyter-widgets/base",
            "_view_module_version": "1.2.0",
            "_view_name": "LayoutView",
            "align_content": null,
            "align_items": null,
            "align_self": null,
            "border": null,
            "bottom": null,
            "display": null,
            "flex": null,
            "flex_flow": null,
            "grid_area": null,
            "grid_auto_columns": null,
            "grid_auto_flow": null,
            "grid_auto_rows": null,
            "grid_column": null,
            "grid_gap": null,
            "grid_row": null,
            "grid_template_areas": null,
            "grid_template_columns": null,
            "grid_template_rows": null,
            "height": null,
            "justify_content": null,
            "justify_items": null,
            "left": null,
            "margin": null,
            "max_height": null,
            "max_width": null,
            "min_height": null,
            "min_width": null,
            "object_fit": null,
            "object_position": null,
            "order": null,
            "overflow": null,
            "overflow_x": null,
            "overflow_y": null,
            "padding": null,
            "right": null,
            "top": null,
            "visibility": null,
            "width": null
          }
        },
        "c09e7349cf1a4614b38fd9ad1eb5943e": {
          "model_module": "@jupyter-widgets/controls",
          "model_name": "DescriptionStyleModel",
          "model_module_version": "1.5.0",
          "state": {
            "_model_module": "@jupyter-widgets/controls",
            "_model_module_version": "1.5.0",
            "_model_name": "DescriptionStyleModel",
            "_view_count": null,
            "_view_module": "@jupyter-widgets/base",
            "_view_module_version": "1.2.0",
            "_view_name": "StyleView",
            "description_width": ""
          }
        },
        "79477251b66d4ee48943c6b9749f5e75": {
          "model_module": "@jupyter-widgets/controls",
          "model_name": "HBoxModel",
          "model_module_version": "1.5.0",
          "state": {
            "_dom_classes": [],
            "_model_module": "@jupyter-widgets/controls",
            "_model_module_version": "1.5.0",
            "_model_name": "HBoxModel",
            "_view_count": null,
            "_view_module": "@jupyter-widgets/controls",
            "_view_module_version": "1.5.0",
            "_view_name": "HBoxView",
            "box_style": "",
            "children": [
              "IPY_MODEL_e31f2723071d4a9891e6c4fe524ee22b",
              "IPY_MODEL_a42eea9bf25f4de3ad5d3efb0419e3d2",
              "IPY_MODEL_93a552f0192c47d1a77f4d8bec4e18d9"
            ],
            "layout": "IPY_MODEL_6686e0173b88430c80ff75756eb69948"
          }
        },
        "e31f2723071d4a9891e6c4fe524ee22b": {
          "model_module": "@jupyter-widgets/controls",
          "model_name": "HTMLModel",
          "model_module_version": "1.5.0",
          "state": {
            "_dom_classes": [],
            "_model_module": "@jupyter-widgets/controls",
            "_model_module_version": "1.5.0",
            "_model_name": "HTMLModel",
            "_view_count": null,
            "_view_module": "@jupyter-widgets/controls",
            "_view_module_version": "1.5.0",
            "_view_name": "HTMLView",
            "description": "",
            "description_tooltip": null,
            "layout": "IPY_MODEL_69cb17aa1df941abad50a83686184480",
            "placeholder": "​",
            "style": "IPY_MODEL_ed1e205cdbd94ca7b5753e20246af0be",
            "value": "pytorch_model.bin: 100%"
          }
        },
        "a42eea9bf25f4de3ad5d3efb0419e3d2": {
          "model_module": "@jupyter-widgets/controls",
          "model_name": "FloatProgressModel",
          "model_module_version": "1.5.0",
          "state": {
            "_dom_classes": [],
            "_model_module": "@jupyter-widgets/controls",
            "_model_module_version": "1.5.0",
            "_model_name": "FloatProgressModel",
            "_view_count": null,
            "_view_module": "@jupyter-widgets/controls",
            "_view_module_version": "1.5.0",
            "_view_name": "ProgressView",
            "bar_style": "success",
            "description": "",
            "description_tooltip": null,
            "layout": "IPY_MODEL_f7362c98b01047fba129cc59fa56b70b",
            "max": 513302779,
            "min": 0,
            "orientation": "horizontal",
            "style": "IPY_MODEL_5ba14161f9ba4988afe0323a7be80f7e",
            "value": 513302779
          }
        },
        "93a552f0192c47d1a77f4d8bec4e18d9": {
          "model_module": "@jupyter-widgets/controls",
          "model_name": "HTMLModel",
          "model_module_version": "1.5.0",
          "state": {
            "_dom_classes": [],
            "_model_module": "@jupyter-widgets/controls",
            "_model_module_version": "1.5.0",
            "_model_name": "HTMLModel",
            "_view_count": null,
            "_view_module": "@jupyter-widgets/controls",
            "_view_module_version": "1.5.0",
            "_view_name": "HTMLView",
            "description": "",
            "description_tooltip": null,
            "layout": "IPY_MODEL_b0daba2df9784e0cb52f4ddd20b11847",
            "placeholder": "​",
            "style": "IPY_MODEL_651ffb7f555042bea8032ff9068a53c3",
            "value": " 513M/513M [00:02&lt;00:00, 284MB/s]"
          }
        },
        "6686e0173b88430c80ff75756eb69948": {
          "model_module": "@jupyter-widgets/base",
          "model_name": "LayoutModel",
          "model_module_version": "1.2.0",
          "state": {
            "_model_module": "@jupyter-widgets/base",
            "_model_module_version": "1.2.0",
            "_model_name": "LayoutModel",
            "_view_count": null,
            "_view_module": "@jupyter-widgets/base",
            "_view_module_version": "1.2.0",
            "_view_name": "LayoutView",
            "align_content": null,
            "align_items": null,
            "align_self": null,
            "border": null,
            "bottom": null,
            "display": null,
            "flex": null,
            "flex_flow": null,
            "grid_area": null,
            "grid_auto_columns": null,
            "grid_auto_flow": null,
            "grid_auto_rows": null,
            "grid_column": null,
            "grid_gap": null,
            "grid_row": null,
            "grid_template_areas": null,
            "grid_template_columns": null,
            "grid_template_rows": null,
            "height": null,
            "justify_content": null,
            "justify_items": null,
            "left": null,
            "margin": null,
            "max_height": null,
            "max_width": null,
            "min_height": null,
            "min_width": null,
            "object_fit": null,
            "object_position": null,
            "order": null,
            "overflow": null,
            "overflow_x": null,
            "overflow_y": null,
            "padding": null,
            "right": null,
            "top": null,
            "visibility": null,
            "width": null
          }
        },
        "69cb17aa1df941abad50a83686184480": {
          "model_module": "@jupyter-widgets/base",
          "model_name": "LayoutModel",
          "model_module_version": "1.2.0",
          "state": {
            "_model_module": "@jupyter-widgets/base",
            "_model_module_version": "1.2.0",
            "_model_name": "LayoutModel",
            "_view_count": null,
            "_view_module": "@jupyter-widgets/base",
            "_view_module_version": "1.2.0",
            "_view_name": "LayoutView",
            "align_content": null,
            "align_items": null,
            "align_self": null,
            "border": null,
            "bottom": null,
            "display": null,
            "flex": null,
            "flex_flow": null,
            "grid_area": null,
            "grid_auto_columns": null,
            "grid_auto_flow": null,
            "grid_auto_rows": null,
            "grid_column": null,
            "grid_gap": null,
            "grid_row": null,
            "grid_template_areas": null,
            "grid_template_columns": null,
            "grid_template_rows": null,
            "height": null,
            "justify_content": null,
            "justify_items": null,
            "left": null,
            "margin": null,
            "max_height": null,
            "max_width": null,
            "min_height": null,
            "min_width": null,
            "object_fit": null,
            "object_position": null,
            "order": null,
            "overflow": null,
            "overflow_x": null,
            "overflow_y": null,
            "padding": null,
            "right": null,
            "top": null,
            "visibility": null,
            "width": null
          }
        },
        "ed1e205cdbd94ca7b5753e20246af0be": {
          "model_module": "@jupyter-widgets/controls",
          "model_name": "DescriptionStyleModel",
          "model_module_version": "1.5.0",
          "state": {
            "_model_module": "@jupyter-widgets/controls",
            "_model_module_version": "1.5.0",
            "_model_name": "DescriptionStyleModel",
            "_view_count": null,
            "_view_module": "@jupyter-widgets/base",
            "_view_module_version": "1.2.0",
            "_view_name": "StyleView",
            "description_width": ""
          }
        },
        "f7362c98b01047fba129cc59fa56b70b": {
          "model_module": "@jupyter-widgets/base",
          "model_name": "LayoutModel",
          "model_module_version": "1.2.0",
          "state": {
            "_model_module": "@jupyter-widgets/base",
            "_model_module_version": "1.2.0",
            "_model_name": "LayoutModel",
            "_view_count": null,
            "_view_module": "@jupyter-widgets/base",
            "_view_module_version": "1.2.0",
            "_view_name": "LayoutView",
            "align_content": null,
            "align_items": null,
            "align_self": null,
            "border": null,
            "bottom": null,
            "display": null,
            "flex": null,
            "flex_flow": null,
            "grid_area": null,
            "grid_auto_columns": null,
            "grid_auto_flow": null,
            "grid_auto_rows": null,
            "grid_column": null,
            "grid_gap": null,
            "grid_row": null,
            "grid_template_areas": null,
            "grid_template_columns": null,
            "grid_template_rows": null,
            "height": null,
            "justify_content": null,
            "justify_items": null,
            "left": null,
            "margin": null,
            "max_height": null,
            "max_width": null,
            "min_height": null,
            "min_width": null,
            "object_fit": null,
            "object_position": null,
            "order": null,
            "overflow": null,
            "overflow_x": null,
            "overflow_y": null,
            "padding": null,
            "right": null,
            "top": null,
            "visibility": null,
            "width": null
          }
        },
        "5ba14161f9ba4988afe0323a7be80f7e": {
          "model_module": "@jupyter-widgets/controls",
          "model_name": "ProgressStyleModel",
          "model_module_version": "1.5.0",
          "state": {
            "_model_module": "@jupyter-widgets/controls",
            "_model_module_version": "1.5.0",
            "_model_name": "ProgressStyleModel",
            "_view_count": null,
            "_view_module": "@jupyter-widgets/base",
            "_view_module_version": "1.2.0",
            "_view_name": "StyleView",
            "bar_color": null,
            "description_width": ""
          }
        },
        "b0daba2df9784e0cb52f4ddd20b11847": {
          "model_module": "@jupyter-widgets/base",
          "model_name": "LayoutModel",
          "model_module_version": "1.2.0",
          "state": {
            "_model_module": "@jupyter-widgets/base",
            "_model_module_version": "1.2.0",
            "_model_name": "LayoutModel",
            "_view_count": null,
            "_view_module": "@jupyter-widgets/base",
            "_view_module_version": "1.2.0",
            "_view_name": "LayoutView",
            "align_content": null,
            "align_items": null,
            "align_self": null,
            "border": null,
            "bottom": null,
            "display": null,
            "flex": null,
            "flex_flow": null,
            "grid_area": null,
            "grid_auto_columns": null,
            "grid_auto_flow": null,
            "grid_auto_rows": null,
            "grid_column": null,
            "grid_gap": null,
            "grid_row": null,
            "grid_template_areas": null,
            "grid_template_columns": null,
            "grid_template_rows": null,
            "height": null,
            "justify_content": null,
            "justify_items": null,
            "left": null,
            "margin": null,
            "max_height": null,
            "max_width": null,
            "min_height": null,
            "min_width": null,
            "object_fit": null,
            "object_position": null,
            "order": null,
            "overflow": null,
            "overflow_x": null,
            "overflow_y": null,
            "padding": null,
            "right": null,
            "top": null,
            "visibility": null,
            "width": null
          }
        },
        "651ffb7f555042bea8032ff9068a53c3": {
          "model_module": "@jupyter-widgets/controls",
          "model_name": "DescriptionStyleModel",
          "model_module_version": "1.5.0",
          "state": {
            "_model_module": "@jupyter-widgets/controls",
            "_model_module_version": "1.5.0",
            "_model_name": "DescriptionStyleModel",
            "_view_count": null,
            "_view_module": "@jupyter-widgets/base",
            "_view_module_version": "1.2.0",
            "_view_name": "StyleView",
            "description_width": ""
          }
        },
        "88b150084c3444f685c528157b970a4b": {
          "model_module": "@jupyter-widgets/controls",
          "model_name": "HBoxModel",
          "model_module_version": "1.5.0",
          "state": {
            "_dom_classes": [],
            "_model_module": "@jupyter-widgets/controls",
            "_model_module_version": "1.5.0",
            "_model_name": "HBoxModel",
            "_view_count": null,
            "_view_module": "@jupyter-widgets/controls",
            "_view_module_version": "1.5.0",
            "_view_name": "HBoxView",
            "box_style": "",
            "children": [
              "IPY_MODEL_5b31d2234b454ff28803f1c1d6ea328a",
              "IPY_MODEL_1a1db4cf77cf41b38cd24f059a5599b7",
              "IPY_MODEL_930edf1ea38a473e9982eb7c5d25ac64"
            ],
            "layout": "IPY_MODEL_cc308cff41a7438aa8da7dead0486f61"
          }
        },
        "5b31d2234b454ff28803f1c1d6ea328a": {
          "model_module": "@jupyter-widgets/controls",
          "model_name": "HTMLModel",
          "model_module_version": "1.5.0",
          "state": {
            "_dom_classes": [],
            "_model_module": "@jupyter-widgets/controls",
            "_model_module_version": "1.5.0",
            "_model_name": "HTMLModel",
            "_view_count": null,
            "_view_module": "@jupyter-widgets/controls",
            "_view_module_version": "1.5.0",
            "_view_name": "HTMLView",
            "description": "",
            "description_tooltip": null,
            "layout": "IPY_MODEL_2d1409d11aef4df4be63234d8486c82b",
            "placeholder": "​",
            "style": "IPY_MODEL_32c7b78830c84db0901f80688116d870",
            "value": "model.safetensors: 100%"
          }
        },
        "1a1db4cf77cf41b38cd24f059a5599b7": {
          "model_module": "@jupyter-widgets/controls",
          "model_name": "FloatProgressModel",
          "model_module_version": "1.5.0",
          "state": {
            "_dom_classes": [],
            "_model_module": "@jupyter-widgets/controls",
            "_model_module_version": "1.5.0",
            "_model_name": "FloatProgressModel",
            "_view_count": null,
            "_view_module": "@jupyter-widgets/controls",
            "_view_module_version": "1.5.0",
            "_view_name": "ProgressView",
            "bar_style": "success",
            "description": "",
            "description_tooltip": null,
            "layout": "IPY_MODEL_9403f3a4c9d44653b2e0161a5e8c9d2f",
            "max": 513256494,
            "min": 0,
            "orientation": "horizontal",
            "style": "IPY_MODEL_d9819579387e4e3fab8c610925536ac1",
            "value": 513256494
          }
        },
        "930edf1ea38a473e9982eb7c5d25ac64": {
          "model_module": "@jupyter-widgets/controls",
          "model_name": "HTMLModel",
          "model_module_version": "1.5.0",
          "state": {
            "_dom_classes": [],
            "_model_module": "@jupyter-widgets/controls",
            "_model_module_version": "1.5.0",
            "_model_name": "HTMLModel",
            "_view_count": null,
            "_view_module": "@jupyter-widgets/controls",
            "_view_module_version": "1.5.0",
            "_view_name": "HTMLView",
            "description": "",
            "description_tooltip": null,
            "layout": "IPY_MODEL_08616aea01fd47e0a57d2cf1dfbf1576",
            "placeholder": "​",
            "style": "IPY_MODEL_95ea1a73ee854413bc5ddf618a01e5be",
            "value": " 513M/513M [00:02&lt;00:00, 305MB/s]"
          }
        },
        "cc308cff41a7438aa8da7dead0486f61": {
          "model_module": "@jupyter-widgets/base",
          "model_name": "LayoutModel",
          "model_module_version": "1.2.0",
          "state": {
            "_model_module": "@jupyter-widgets/base",
            "_model_module_version": "1.2.0",
            "_model_name": "LayoutModel",
            "_view_count": null,
            "_view_module": "@jupyter-widgets/base",
            "_view_module_version": "1.2.0",
            "_view_name": "LayoutView",
            "align_content": null,
            "align_items": null,
            "align_self": null,
            "border": null,
            "bottom": null,
            "display": null,
            "flex": null,
            "flex_flow": null,
            "grid_area": null,
            "grid_auto_columns": null,
            "grid_auto_flow": null,
            "grid_auto_rows": null,
            "grid_column": null,
            "grid_gap": null,
            "grid_row": null,
            "grid_template_areas": null,
            "grid_template_columns": null,
            "grid_template_rows": null,
            "height": null,
            "justify_content": null,
            "justify_items": null,
            "left": null,
            "margin": null,
            "max_height": null,
            "max_width": null,
            "min_height": null,
            "min_width": null,
            "object_fit": null,
            "object_position": null,
            "order": null,
            "overflow": null,
            "overflow_x": null,
            "overflow_y": null,
            "padding": null,
            "right": null,
            "top": null,
            "visibility": null,
            "width": null
          }
        },
        "2d1409d11aef4df4be63234d8486c82b": {
          "model_module": "@jupyter-widgets/base",
          "model_name": "LayoutModel",
          "model_module_version": "1.2.0",
          "state": {
            "_model_module": "@jupyter-widgets/base",
            "_model_module_version": "1.2.0",
            "_model_name": "LayoutModel",
            "_view_count": null,
            "_view_module": "@jupyter-widgets/base",
            "_view_module_version": "1.2.0",
            "_view_name": "LayoutView",
            "align_content": null,
            "align_items": null,
            "align_self": null,
            "border": null,
            "bottom": null,
            "display": null,
            "flex": null,
            "flex_flow": null,
            "grid_area": null,
            "grid_auto_columns": null,
            "grid_auto_flow": null,
            "grid_auto_rows": null,
            "grid_column": null,
            "grid_gap": null,
            "grid_row": null,
            "grid_template_areas": null,
            "grid_template_columns": null,
            "grid_template_rows": null,
            "height": null,
            "justify_content": null,
            "justify_items": null,
            "left": null,
            "margin": null,
            "max_height": null,
            "max_width": null,
            "min_height": null,
            "min_width": null,
            "object_fit": null,
            "object_position": null,
            "order": null,
            "overflow": null,
            "overflow_x": null,
            "overflow_y": null,
            "padding": null,
            "right": null,
            "top": null,
            "visibility": null,
            "width": null
          }
        },
        "32c7b78830c84db0901f80688116d870": {
          "model_module": "@jupyter-widgets/controls",
          "model_name": "DescriptionStyleModel",
          "model_module_version": "1.5.0",
          "state": {
            "_model_module": "@jupyter-widgets/controls",
            "_model_module_version": "1.5.0",
            "_model_name": "DescriptionStyleModel",
            "_view_count": null,
            "_view_module": "@jupyter-widgets/base",
            "_view_module_version": "1.2.0",
            "_view_name": "StyleView",
            "description_width": ""
          }
        },
        "9403f3a4c9d44653b2e0161a5e8c9d2f": {
          "model_module": "@jupyter-widgets/base",
          "model_name": "LayoutModel",
          "model_module_version": "1.2.0",
          "state": {
            "_model_module": "@jupyter-widgets/base",
            "_model_module_version": "1.2.0",
            "_model_name": "LayoutModel",
            "_view_count": null,
            "_view_module": "@jupyter-widgets/base",
            "_view_module_version": "1.2.0",
            "_view_name": "LayoutView",
            "align_content": null,
            "align_items": null,
            "align_self": null,
            "border": null,
            "bottom": null,
            "display": null,
            "flex": null,
            "flex_flow": null,
            "grid_area": null,
            "grid_auto_columns": null,
            "grid_auto_flow": null,
            "grid_auto_rows": null,
            "grid_column": null,
            "grid_gap": null,
            "grid_row": null,
            "grid_template_areas": null,
            "grid_template_columns": null,
            "grid_template_rows": null,
            "height": null,
            "justify_content": null,
            "justify_items": null,
            "left": null,
            "margin": null,
            "max_height": null,
            "max_width": null,
            "min_height": null,
            "min_width": null,
            "object_fit": null,
            "object_position": null,
            "order": null,
            "overflow": null,
            "overflow_x": null,
            "overflow_y": null,
            "padding": null,
            "right": null,
            "top": null,
            "visibility": null,
            "width": null
          }
        },
        "d9819579387e4e3fab8c610925536ac1": {
          "model_module": "@jupyter-widgets/controls",
          "model_name": "ProgressStyleModel",
          "model_module_version": "1.5.0",
          "state": {
            "_model_module": "@jupyter-widgets/controls",
            "_model_module_version": "1.5.0",
            "_model_name": "ProgressStyleModel",
            "_view_count": null,
            "_view_module": "@jupyter-widgets/base",
            "_view_module_version": "1.2.0",
            "_view_name": "StyleView",
            "bar_color": null,
            "description_width": ""
          }
        },
        "08616aea01fd47e0a57d2cf1dfbf1576": {
          "model_module": "@jupyter-widgets/base",
          "model_name": "LayoutModel",
          "model_module_version": "1.2.0",
          "state": {
            "_model_module": "@jupyter-widgets/base",
            "_model_module_version": "1.2.0",
            "_model_name": "LayoutModel",
            "_view_count": null,
            "_view_module": "@jupyter-widgets/base",
            "_view_module_version": "1.2.0",
            "_view_name": "LayoutView",
            "align_content": null,
            "align_items": null,
            "align_self": null,
            "border": null,
            "bottom": null,
            "display": null,
            "flex": null,
            "flex_flow": null,
            "grid_area": null,
            "grid_auto_columns": null,
            "grid_auto_flow": null,
            "grid_auto_rows": null,
            "grid_column": null,
            "grid_gap": null,
            "grid_row": null,
            "grid_template_areas": null,
            "grid_template_columns": null,
            "grid_template_rows": null,
            "height": null,
            "justify_content": null,
            "justify_items": null,
            "left": null,
            "margin": null,
            "max_height": null,
            "max_width": null,
            "min_height": null,
            "min_width": null,
            "object_fit": null,
            "object_position": null,
            "order": null,
            "overflow": null,
            "overflow_x": null,
            "overflow_y": null,
            "padding": null,
            "right": null,
            "top": null,
            "visibility": null,
            "width": null
          }
        },
        "95ea1a73ee854413bc5ddf618a01e5be": {
          "model_module": "@jupyter-widgets/controls",
          "model_name": "DescriptionStyleModel",
          "model_module_version": "1.5.0",
          "state": {
            "_model_module": "@jupyter-widgets/controls",
            "_model_module_version": "1.5.0",
            "_model_name": "DescriptionStyleModel",
            "_view_count": null,
            "_view_module": "@jupyter-widgets/base",
            "_view_module_version": "1.2.0",
            "_view_name": "StyleView",
            "description_width": ""
          }
        }
      }
    }
  },
  "nbformat": 4,
  "nbformat_minor": 0
}