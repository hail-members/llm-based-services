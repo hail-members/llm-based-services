{
  "cells": [
    {
      "cell_type": "markdown",
      "metadata": {
        "colab_type": "text",
        "id": "view-in-github"
      },
      "source": [
        "<a href=\"https://colab.research.google.com/github/hail-members/llm-based-services/blob/main/Chapter_5_%EC%8B%A4%EC%8A%B5%EC%BD%94%EB%93%9C.ipynb\" target=\"_parent\"><img src=\"https://colab.research.google.com/assets/colab-badge.svg\" alt=\"Open In Colab\"/></a>"
      ]
    },
    {
      "cell_type": "code",
      "execution_count": 2,
      "metadata": {
        "colab": {
          "base_uri": "https://localhost:8080/"
        },
        "id": "gOu53y7xDF5I",
        "outputId": "a07a654b-7d94-40a5-840e-051248090eea"
      },
      "outputs": [
        {
          "name": "stdout",
          "output_type": "stream",
          "text": [
            "--2025-04-04 01:13:39--  https://korquad.github.io/dataset/KorQuAD_v1.0_train.json\n",
            "Resolving korquad.github.io (korquad.github.io)... 185.199.111.153, 185.199.108.153, 185.199.109.153, ...\n",
            "Connecting to korquad.github.io (korquad.github.io)|185.199.111.153|:443... connected.\n",
            "HTTP request sent, awaiting response... 200 OK\n",
            "Length: 38527475 (37M) [application/json]\n",
            "Saving to: ‘KorQuAD_v1.0_train.json’\n",
            "\n",
            "KorQuAD_v1.0_train. 100%[===================>]  36.74M  11.4MB/s    in 3.2s    \n",
            "\n",
            "2025-04-04 01:13:42 (11.4 MB/s) - ‘KorQuAD_v1.0_train.json’ saved [38527475/38527475]\n",
            "\n",
            "--2025-04-04 01:13:42--  https://korquad.github.io/dataset/KorQuAD_v1.0_dev.json\n",
            "Resolving korquad.github.io (korquad.github.io)... 185.199.110.153, 185.199.108.153, 185.199.109.153, ...\n",
            "Connecting to korquad.github.io (korquad.github.io)|185.199.110.153|:443... connected.\n",
            "HTTP request sent, awaiting response... 200 OK\n",
            "Length: 3881058 (3.7M) [application/json]\n",
            "Saving to: ‘KorQuAD_v1.0_dev.json’\n",
            "\n",
            "KorQuAD_v1.0_dev.js 100%[===================>]   3.70M  11.2MB/s    in 0.3s    \n",
            "\n",
            "2025-04-04 01:13:43 (11.2 MB/s) - ‘KorQuAD_v1.0_dev.json’ saved [3881058/3881058]\n",
            "\n",
            "Train Data Keys: dict_keys(['version', 'data'])\n",
            "Example Data: {'paragraphs': [{'qas': [{'answers': [{'text': '교향곡', 'answer_start': 54}], 'id': '6566495-0-0', 'question': '바그너는 괴테의 파우스트를 읽고 무엇을 쓰고자 했는가?'}, {'answers': [{'text': '1악장', 'answer_start': 421}], 'id': '6566495-0-1', 'question': '바그너는 교향곡 작곡을 어디까지 쓴 뒤에 중단했는가?'}, {'answers': [{'text': '베토벤의 교향곡 9번', 'answer_start': 194}], 'id': '6566495-0-2', 'question': '바그너가 파우스트 서곡을 쓸 때 어떤 곡의 영향을 받았는가?'}, {'answers': [{'text': '파우스트', 'answer_start': 15}], 'id': '6566518-0-0', 'question': '1839년 바그너가 교향곡의 소재로 쓰려고 했던 책은?'}, {'answers': [{'text': '합창교향곡', 'answer_start': 354}], 'id': '6566518-0-1', 'question': '파우스트 서곡의 라단조 조성이 영향을 받은 베토벤의 곡은?'}, {'answers': [{'text': '1839', 'answer_start': 0}], 'id': '5917067-0-0', 'question': '바그너가 파우스트를 처음으로 읽은 년도는?'}, {'answers': [{'text': '파리', 'answer_start': 410}], 'id': '5917067-0-1', 'question': '바그너가 처음 교향곡 작곡을 한 장소는?'}, {'answers': [{'text': '드레스덴', 'answer_start': 534}], 'id': '5917067-0-2', 'question': '바그너의 1악장의 초연은 어디서 연주되었는가?'}], 'context': '1839년 바그너는 괴테의 파우스트을 처음 읽고 그 내용에 마음이 끌려 이를 소재로 해서 하나의 교향곡을 쓰려는 뜻을 갖는다. 이 시기 바그너는 1838년에 빛 독촉으로 산전수전을 다 걲은 상황이라 좌절과 실망에 가득했으며 메피스토펠레스를 만나는 파우스트의 심경에 공감했다고 한다. 또한 파리에서 아브네크의 지휘로 파리 음악원 관현악단이 연주하는 베토벤의 교향곡 9번을 듣고 깊은 감명을 받았는데, 이것이 이듬해 1월에 파우스트의 서곡으로 쓰여진 이 작품에 조금이라도 영향을 끼쳤으리라는 것은 의심할 여지가 없다. 여기의 라단조 조성의 경우에도 그의 전기에 적혀 있는 것처럼 단순한 정신적 피로나 실의가 반영된 것이 아니라 베토벤의 합창교향곡 조성의 영향을 받은 것을 볼 수 있다. 그렇게 교향곡 작곡을 1839년부터 40년에 걸쳐 파리에서 착수했으나 1악장을 쓴 뒤에 중단했다. 또한 작품의 완성과 동시에 그는 이 서곡(1악장)을 파리 음악원의 연주회에서 연주할 파트보까지 준비하였으나, 실제로는 이루어지지는 않았다. 결국 초연은 4년 반이 지난 후에 드레스덴에서 연주되었고 재연도 이루어졌지만, 이후에 그대로 방치되고 말았다. 그 사이에 그는 리엔치와 방황하는 네덜란드인을 완성하고 탄호이저에도 착수하는 등 분주한 시간을 보냈는데, 그런 바쁜 생활이 이 곡을 잊게 한 것이 아닌가 하는 의견도 있다.'}, {'qas': [{'answers': [{'text': '한스 폰 뷜로', 'answer_start': 402}], 'id': '6566495-1-0', 'question': '바그너의 작품을 시인의 피로 쓰여졌다고 극찬한 것은 누구인가?'}, {'answers': [{'text': '리스트', 'answer_start': 23}], 'id': '6566495-1-1', 'question': '잊혀져 있는 파우스트 서곡 1악장을 부활시킨 것은 누구인가?'}, {'answers': [{'text': '20루이의 금', 'answer_start': 345}], 'id': '6566495-1-2', 'question': '바그너는 다시 개정된 총보를 얼마를 받고 팔았는가?'}, {'answers': [{'text': '리스트', 'answer_start': 23}], 'id': '6566518-1-0', 'question': '파우스트 교향곡을 부활시킨 사람은?'}, {'answers': [{'text': '한스 폰 뷜로', 'answer_start': 402}], 'id': '6566518-1-1', 'question': '파우스트 교향곡을 피아노 독주용으로 편곡한 사람은?'}, {'answers': [{'text': '리스트', 'answer_start': 23}], 'id': '5917067-1-0', 'question': '1악장을 부활시켜 연주한 사람은?'}, {'answers': [{'text': '한스 폰 뷜로', 'answer_start': 402}], 'id': '5917067-1-1', 'question': '파우스트 교향곡에 감탄하여 피아노곡으로 편곡한 사람은?'}, {'answers': [{'text': '1840년', 'answer_start': 3}], 'id': '5917067-1-2', 'question': '리스트가 바그너와 알게 된 연도는?'}], 'context': '한편 1840년부터 바그너와 알고 지내던 리스트가 잊혀져 있던 1악장을 부활시켜 1852년에 바이마르에서 연주했다. 이것을 계기로 바그너도 이 작품에 다시 관심을 갖게 되었고, 그 해 9월에는 총보의 반환을 요구하여 이를 서곡으로 간추린 다음 수정을 했고 브라이트코프흐 & 헤르텔 출판사에서 출판할 개정판도 준비했다. 1853년 5월에는 리스트가 이 작품이 수정되었다는 것을 인정했지만, 끝내 바그너의 출판 계획은 무산되고 말았다. 이후 1855년에 리스트가 자신의 작품 파우스트 교향곡을 거의 완성하여 그 사실을 바그너에게 알렸고, 바그너는 다시 개정된 총보를 리스트에게 보내고 브라이트코프흐 & 헤르텔 출판사에는 20루이의 금을 받고 팔았다. 또한 그의 작품을 “하나하나의 음표가 시인의 피로 쓰여졌다”며 극찬했던 한스 폰 뷜로가 그것을 피아노 독주용으로 편곡했는데, 리스트는 그것을 약간 변형되었을 뿐이라고 지적했다. 이 서곡의 총보 첫머리에는 파우스트 1부의 내용 중 한 구절을 인용하고 있다.'}, {'qas': [{'answers': [{'text': '주제, 동기', 'answer_start': 70}], 'id': '6566495-2-0', 'question': '서주에는 무엇이 암시되어 있는가?'}, {'answers': [{'text': '제1바이올린', 'answer_start': 148}], 'id': '6566495-2-1', 'question': '첫부분에는 어떤 악기를 사용해 더욱 명확하게 나타내는가?'}, {'answers': [{'text': '소나타 형식', 'answer_start': 272}], 'id': '6566495-2-2', 'question': '주요부는 어떤 형식으로 되어 있는가?'}, {'answers': [{'text': '저음 주제', 'answer_start': 102}], 'id': '6566518-2-0', 'question': '첫 부분의 주요주제를 암시하는 주제는?'}, {'answers': [{'text': 'D장조', 'answer_start': 409}], 'id': '6566518-2-1', 'question': '제2주제의 축소된 재현부의 조성은?'}, {'answers': [{'text': '4/4박자', 'answer_start': 35}], 'id': '5917067-2-0', 'question': '곡이 시작할때의 박자는?'}, {'answers': [{'text': '고뇌와 갈망 동기, 청춘의 사랑 동기', 'answer_start': 115}], 'id': '5917067-2-1', 'question': '이 곡의 주요 주제는?'}, {'answers': [{'text': 'D장조', 'answer_start': 409}], 'id': '5917067-2-2', 'question': '제 2주제에선 무슨 장조로 재현되는가?'}], 'context': '이 작품은 라단조, Sehr gehalten(아주 신중하게), 4/4박자의 부드러운 서주로 서주로 시작되는데, 여기에는 주요 주제, 동기의 대부분이 암시, 예고되어 있다. 첫 부분의 저음 주제는 주요 주제(고뇌와 갈망 동기, 청춘의 사랑 동기)를 암시하고 있으며, 제1바이올린으로 더욱 명확하게 나타난다. 또한 그것을 이어받는 동기도 중요한 역할을 한다. 여기에 새로운 소재가 더해진 뒤에 새로운 주제도 연주된다. 주요부는 Sehr bewegt(아주 격동적으로), 2/2박자의 자유로운 소나타 형식으로 매우 드라마틱한 구상과 유기적인 구성을 하고 있다. 여기에는 지금까지의 주제나 소재 외에도 오보에에 의한 선율과 제2주제를 떠올리게 하는 부차적인 주제가 더해지는데, 중간부에서는 약보3이 중심이 되고 제2주제는 축소된 재현부에서 D장조로 재현된다. 마지막에는 주요 주제를 회상하면서 조용히 마친다.'}], 'title': '파우스트_서곡'}\n"
          ]
        }
      ],
      "source": [
        "# Train 데이터 다운로드\n",
        "!wget https://korquad.github.io/dataset/KorQuAD_v1.0_train.json -O KorQuAD_v1.0_train.json\n",
        "\n",
        "# Dev 데이터 다운로드\n",
        "!wget https://korquad.github.io/dataset/KorQuAD_v1.0_dev.json -O KorQuAD_v1.0_dev.json\n",
        "\n",
        "import json\n",
        "\n",
        "# Train 데이터 로드\n",
        "with open(\"KorQuAD_v1.0_train.json\", \"r\", encoding=\"utf-8\") as f:\n",
        "    train_data = json.load(f)\n",
        "\n",
        "# Dev 데이터 로드\n",
        "with open(\"KorQuAD_v1.0_dev.json\", \"r\", encoding=\"utf-8\") as f:\n",
        "    dev_data = json.load(f)\n",
        "\n",
        "# 데이터 구조 확인\n",
        "print(\"Train Data Keys:\", train_data.keys())\n",
        "print(\"Example Data:\", train_data[\"data\"][0])  # 첫 번째 문단 출력"
      ]
    },
    {
      "cell_type": "code",
      "execution_count": 7,
      "metadata": {
        "id": "2OSS6vhbDH0p"
      },
      "outputs": [],
      "source": [
        "# 라이브러리 임포트\n",
        "import torch\n",
        "from transformers import GPT2LMHeadModel, AutoTokenizer\n",
        "from torch.utils.data import Dataset, DataLoader\n",
        "\n",
        "\n",
        "# KoGPT2 모델과 토크나이저 로드\n",
        "model_name = \"skt/kogpt2-base-v2\"\n",
        "tokenizer = AutoTokenizer.from_pretrained(\n",
        "    model_name,\n",
        "    bos_token='</s>',\n",
        "    eos_token='</s>',\n",
        "    unk_token='<unk>',\n",
        "    pad_token='<pad>',\n",
        "    mask_token='<mask>'\n",
        ")\n",
        "model = GPT2LMHeadModel.from_pretrained(model_name)"
      ]
    },
    {
      "cell_type": "code",
      "execution_count": null,
      "metadata": {
        "id": "r7XvIoTwDChF"
      },
      "outputs": [],
      "source": [
        "# 데이터셋 정의 (질문과 답변을 GPT2 입력 형식으로 변환)\n",
        "class KorQuADDataset(Dataset):\n",
        "    def __init__(self, data, tokenizer, max_length=512):\n",
        "        self.data = data[\"data\"]\n",
        "        self.tokenizer = tokenizer\n",
        "        self.max_length = max_length\n",
        "        self.total_qas = []  # 모든 질문-답변 쌍을 저장\n",
        "\n",
        "        # 전체 질문-답변 쌍을 리스트로 저장\n",
        "        for article in self.data:\n",
        "            for paragraph in article[\"paragraphs\"]:\n",
        "                for qa in paragraph[\"qas\"]:\n",
        "                    self.total_qas.append((paragraph[\"context\"], qa))\n",
        "\n",
        "    def __len__(self):\n",
        "        return len(self.total_qas)\n",
        "\n",
        "    def __getitem__(self, idx):\n",
        "        # 질문과 답변 추출\n",
        "        context, qa = self.total_qas[idx]\n",
        "        question = qa[\"question\"]\n",
        "        answer_text = qa[\"answers\"][0][\"text\"]\n",
        "\n",
        "        # GPT2 입력 텍스트 생성 (질문 + 컨텍스트 + 답변)\n",
        "        # input_text = f\"<usr> {question} <sys> {context} </s>\"\n",
        "        # GPT2 입력 텍스트 생성 (질문+ 답변)\n",
        "        input_text = f\"<usr> {question} </s>\"\n",
        "        target_text = f\"<sys> {answer_text} </s>\"\n",
        "\n",
        "        # 토큰화 및 인코딩\n",
        "        input_ids = self.tokenizer.encode(input_text, max_length=self.max_length, truncation=True, padding=\"max_length\")\n",
        "        target_ids = self.tokenizer.encode(target_text, max_length=self.max_length, truncation=True, padding=\"max_length\")\n",
        "\n",
        "        return {\n",
        "            \"input_ids\": torch.tensor(input_ids),\n",
        "            \"labels\": torch.tensor(target_ids)\n",
        "        }\n",
        "\n",
        "train_dataset = KorQuADDataset(train_data, tokenizer)\n",
        "dev_dataset = KorQuADDataset(dev_data, tokenizer)\n",
        "\n",
        "train_dataloader = DataLoader(train_dataset, batch_size=4, shuffle=True)\n",
        "dev_dataloader = DataLoader(dev_dataset, batch_size=4)\n"
      ]
    },
    {
      "cell_type": "code",
      "execution_count": 26,
      "metadata": {
        "colab": {
          "base_uri": "https://localhost:8080/"
        },
        "id": "NpjlG5QqfED8",
        "outputId": "b255933a-9519-4cd9-ffa4-078abef2bc69"
      },
      "outputs": [
        {
          "name": "stdout",
          "output_type": "stream",
          "text": [
            "{'input_ids': tensor([[    2, 14603, 20293,  ...,     3,     3,     3],\n",
            "        [    2,  9089,  8170,  ...,     3,     3,     3],\n",
            "        [    2,  9724, 39514,  ...,     3,     3,     3],\n",
            "        [    2, 17867, 29191,  ...,     3,     3,     3]]), 'labels': tensor([[    4,  9018,  8785,  ...,     3,     3,     3],\n",
            "        [    4,  9664,  7791,  ...,     3,     3,     3],\n",
            "        [    4, 17797,   739,  ...,     3,     3,     3],\n",
            "        [    4,  9077,  7374,  ...,     3,     3,     3]])}\n",
            "<usr> 1994년 강경식 교수의 기고문에 따르면 이휘소 일가족의 사고당시 그 경위를 강경식 교수에게 알려주었던 인물은 누구인가? <sys> 《과학과 기술》 1994년 1월호에 실린 〈내가 아는 고 이휘소 박사〉라는 강경식 전 브라운 대학교 교수의 특별기고문에는 당시 이휘소의 비서가 사고 직후 강경식에게 전화를 걸어 설명한 사고 당시 상황이 실려 있다. 이휘소는 1977년 6월 16일 12시가 되기 전에 가족들을 태우고 콜로라도 주 아스펜 시로 출발했고, 그로부터 약 1시간 30분 간 일리노이 주 내의 고속도로 I-80의 아이오와 주 경계로부터 약 30마일 떨어진 지점까지 정규속도 55마일로 운전해 가고 있었다. 그러다 오후 1시 22분 경, 건너편 내부고속도로선을 동쪽으로 달리던 대형 트레일러의 타이어가 터지면서 중심을 잃어 조정을 못하고 중앙분리지역을 넘어와 서쪽으로 달리고 있던 이휘소의 차량의 운전석을 덮쳤다. 이 사고로 이휘소 가족들은 가볍게 다쳤지만, 본인은 즉사했다. 한편, 사고 경위를 이휘소의 동료의 전언 형식으로 보도한 1977년 6월 18일자 뉴욕 타임스 부고 기사는 이휘소 일가가 탄 차량의 대향 차선에서 달려오던 트럭의 타이어에 펑크가 났고, 트럭이 고속도로 중앙의 중앙분리대를 미끄러져 가다가 오후 1시 22분경에 마주 오던 이휘소 일가의 승용차와 충돌했다고 전하고 있다. </s><pad><pad><pad><pad><pad><pad><pad><pad><pad><pad><pad><pad><pad><pad><pad><pad><pad><pad><pad><pad><pad><pad><pad><pad><pad><pad><pad><pad><pad><pad><pad><pad><pad><pad><pad><pad><pad><pad><pad><pad><pad><pad><pad><pad><pad><pad><pad><pad><pad><pad><pad><pad><pad><pad><pad><pad><pad><pad><pad><pad><pad><pad><pad><pad><pad><pad><pad><pad><pad><pad><pad><pad><pad><pad><pad><pad><pad><pad><pad><pad><pad><pad><pad><pad><pad><pad><pad><pad><pad><pad><pad><pad><pad><pad><pad><pad><pad><pad><pad><pad><pad><pad><pad><pad><pad><pad><pad><pad><pad><pad><pad><pad><pad><pad><pad><pad><pad><pad><pad><pad><pad><pad><pad><pad><pad><pad><pad><pad><pad><pad><pad><pad><pad><pad><pad><pad><pad><pad><pad><pad><pad><pad><pad><pad><pad><pad><pad><pad><pad><pad><pad><pad><pad><pad><pad><pad><pad><pad><pad><pad><pad><pad><pad><pad><pad><pad><pad><pad><pad><pad><pad><pad><pad><pad><pad><pad><pad><pad><pad><pad><pad><pad><pad><pad><pad><pad><pad><pad><pad><pad><pad><pad><pad><pad><pad><pad><pad><pad><pad><pad><pad><pad><pad><pad><pad><pad><pad><pad><pad><pad><pad><pad><pad><pad><pad><pad><pad><pad><pad><pad><pad><pad><pad><pad><pad><pad><pad><pad><pad><pad><pad><pad><pad><pad><pad><pad><pad><pad><pad><pad><pad><pad><pad><pad><pad><pad><pad><pad>\n",
            "<sys> 이휘소의 비서 </s><pad><pad><pad><pad><pad><pad><pad><pad><pad><pad><pad><pad><pad><pad><pad><pad><pad><pad><pad><pad><pad><pad><pad><pad><pad><pad><pad><pad><pad><pad><pad><pad><pad><pad><pad><pad><pad><pad><pad><pad><pad><pad><pad><pad><pad><pad><pad><pad><pad><pad><pad><pad><pad><pad><pad><pad><pad><pad><pad><pad><pad><pad><pad><pad><pad><pad><pad><pad><pad><pad><pad><pad><pad><pad><pad><pad><pad><pad><pad><pad><pad><pad><pad><pad><pad><pad><pad><pad><pad><pad><pad><pad><pad><pad><pad><pad><pad><pad><pad><pad><pad><pad><pad><pad><pad><pad><pad><pad><pad><pad><pad><pad><pad><pad><pad><pad><pad><pad><pad><pad><pad><pad><pad><pad><pad><pad><pad><pad><pad><pad><pad><pad><pad><pad><pad><pad><pad><pad><pad><pad><pad><pad><pad><pad><pad><pad><pad><pad><pad><pad><pad><pad><pad><pad><pad><pad><pad><pad><pad><pad><pad><pad><pad><pad><pad><pad><pad><pad><pad><pad><pad><pad><pad><pad><pad><pad><pad><pad><pad><pad><pad><pad><pad><pad><pad><pad><pad><pad><pad><pad><pad><pad><pad><pad><pad><pad><pad><pad><pad><pad><pad><pad><pad><pad><pad><pad><pad><pad><pad><pad><pad><pad><pad><pad><pad><pad><pad><pad><pad><pad><pad><pad><pad><pad><pad><pad><pad><pad><pad><pad><pad><pad><pad><pad><pad><pad><pad><pad><pad><pad><pad><pad><pad><pad><pad><pad><pad><pad><pad><pad><pad><pad><pad><pad><pad><pad><pad><pad><pad><pad><pad><pad><pad><pad><pad><pad><pad><pad><pad><pad><pad><pad><pad><pad><pad><pad><pad><pad><pad><pad><pad><pad><pad><pad><pad><pad><pad><pad><pad><pad><pad><pad><pad><pad><pad><pad><pad><pad><pad><pad><pad><pad><pad><pad><pad><pad><pad><pad><pad><pad><pad><pad><pad><pad><pad><pad><pad><pad><pad><pad><pad><pad><pad><pad><pad><pad><pad><pad><pad><pad><pad><pad><pad><pad><pad><pad><pad><pad><pad><pad><pad><pad><pad><pad><pad><pad><pad><pad><pad><pad><pad><pad><pad><pad><pad><pad><pad><pad><pad><pad><pad><pad><pad><pad><pad><pad><pad><pad><pad><pad><pad><pad><pad><pad><pad><pad><pad><pad><pad><pad><pad><pad><pad><pad><pad><pad><pad><pad><pad><pad><pad><pad><pad><pad><pad><pad><pad><pad><pad><pad><pad><pad><pad><pad><pad><pad><pad><pad><pad><pad><pad><pad><pad><pad><pad><pad><pad><pad><pad><pad><pad><pad><pad><pad><pad><pad><pad><pad><pad><pad><pad><pad><pad><pad><pad><pad><pad><pad><pad><pad><pad><pad><pad><pad><pad><pad><pad><pad><pad><pad><pad><pad><pad><pad><pad><pad><pad><pad><pad><pad><pad><pad><pad><pad><pad><pad><pad><pad><pad><pad><pad><pad><pad><pad><pad><pad><pad><pad><pad><pad><pad><pad><pad><pad><pad><pad><pad><pad><pad><pad><pad><pad><pad><pad><pad><pad><pad><pad><pad><pad><pad><pad><pad><pad><pad>\n"
          ]
        }
      ],
      "source": [
        "# 저장된 데이터 보기\n",
        "for batch in train_dataloader:\n",
        "    print(batch)\n",
        "    print(tokenizer.decode(batch[\"input_ids\"][0], skip_special_tokens=False))\n",
        "    print(tokenizer.decode(batch[\"labels\"][0], skip_special_tokens=False))\n",
        "    break"
      ]
    },
    {
      "cell_type": "code",
      "execution_count": 11,
      "metadata": {
        "colab": {
          "base_uri": "https://localhost:8080/"
        },
        "id": "gBCOj_9vDOC3",
        "outputId": "274a4ab0-31b6-40a6-98c2-dd4e9c290bfe"
      },
      "outputs": [
        {
          "name": "stdout",
          "output_type": "stream",
          "text": [
            "질문: 인공지능이란?\n",
            "컨텍스트: \n",
            "생성된 답변: 인공지능이란?   \n",
            ", , . (중략) 이번에 출시된 신제품은 '스마트폰용 스마트패드'다.\n",
            "이 제품은 스마트폰을 통해 다양한 콘텐츠를 즐길 수 있는 것이 특징이다.\n",
            "특히 기존 제품보다 최대 2배 이상 빠른 속도로 데이터를 전송\n"
          ]
        }
      ],
      "source": [
        "# GPU 사용 설정\n",
        "device = torch.device(\"cuda\" if torch.cuda.is_available() else \"cpu\")\n",
        "model.to(device)\n",
        "\n",
        "# 문장 생성 함수 정의\n",
        "def generate_sentence(model, seed_text, max_length=50):\n",
        "    input_ids = tokenizer.encode(seed_text, return_tensors=\"pt\").to(device)\n",
        "    gen_ids = model.generate(\n",
        "        input_ids,\n",
        "        max_length=max_length,\n",
        "        repetition_penalty=2.0,\n",
        "        pad_token_id=tokenizer.pad_token_id,\n",
        "        eos_token_id=tokenizer.eos_token_id,\n",
        "        bos_token_id=tokenizer.bos_token_id,\n",
        "        use_cache=True,\n",
        "    )\n",
        "    generated_text = tokenizer.decode(gen_ids[0], skip_special_tokens=True)\n",
        "    return generated_text\n",
        "\n",
        "question = \"인공지능이란?\"\n",
        "context = \"\"\n",
        "\n",
        "# 입력 텍스트 생성\n",
        "input_text = f\"<usr> {question} <sys> {context} </s>\"\n",
        "input_ids = tokenizer.encode(\n",
        "    input_text,\n",
        "    max_length=100,\n",
        "    truncation=True,\n",
        "    padding=\"max_length\",\n",
        "    return_tensors=\"pt\"\n",
        ").to(model.device)\n",
        "\n",
        "# KoGPT2로 문장 생성\n",
        "model.eval()\n",
        "with torch.no_grad():\n",
        "    output_ids = model.generate(\n",
        "        input_ids=input_ids,\n",
        "        max_length=150,\n",
        "        repetition_penalty=2.0,\n",
        "        pad_token_id=tokenizer.pad_token_id,\n",
        "        eos_token_id=tokenizer.eos_token_id,\n",
        "        bos_token_id=tokenizer.bos_token_id,\n",
        "    )\n",
        "\n",
        "generated_text = tokenizer.decode(output_ids[0], skip_special_tokens=True)\n",
        "\n",
        "# 결과 출력\n",
        "print(f\"질문: {question}\")\n",
        "print(f\"컨텍스트: {context}\")\n",
        "print(f\"생성된 답변: {generated_text}\")\n"
      ]
    },
    {
      "cell_type": "code",
      "execution_count": 15,
      "metadata": {
        "colab": {
          "base_uri": "https://localhost:8080/"
        },
        "id": "B6WRRPS1DQ53",
        "outputId": "fd2261e8-fa20-4625-e15e-a40bf664c051"
      },
      "outputs": [
        {
          "name": "stderr",
          "output_type": "stream",
          "text": [
            "Epoch 1: 100%|██████████| 15102/15102 [36:14<00:00,  6.95it/s, Batch Loss=0.0548] \n"
          ]
        },
        {
          "name": "stdout",
          "output_type": "stream",
          "text": [
            "Epoch 1 completed. Average Loss: 0.06806645459783972\n"
          ]
        },
        {
          "name": "stderr",
          "output_type": "stream",
          "text": [
            "Epoch 2: 100%|██████████| 15102/15102 [36:20<00:00,  6.92it/s, Batch Loss=0.0728] \n"
          ]
        },
        {
          "name": "stdout",
          "output_type": "stream",
          "text": [
            "Epoch 2 completed. Average Loss: 0.07070691338127917\n"
          ]
        },
        {
          "name": "stderr",
          "output_type": "stream",
          "text": [
            "Epoch 3: 100%|██████████| 15102/15102 [36:20<00:00,  6.93it/s, Batch Loss=0.0685] \n"
          ]
        },
        {
          "name": "stdout",
          "output_type": "stream",
          "text": [
            "Epoch 3 completed. Average Loss: 0.06533160828235998\n"
          ]
        },
        {
          "name": "stderr",
          "output_type": "stream",
          "text": [
            "Epoch 4: 100%|██████████| 15102/15102 [36:22<00:00,  6.92it/s, Batch Loss=0.11]   \n"
          ]
        },
        {
          "name": "stdout",
          "output_type": "stream",
          "text": [
            "Epoch 4 completed. Average Loss: 0.06390370413724646\n"
          ]
        },
        {
          "name": "stderr",
          "output_type": "stream",
          "text": [
            "Epoch 5: 100%|██████████| 15102/15102 [36:21<00:00,  6.92it/s, Batch Loss=0.0693] \n"
          ]
        },
        {
          "name": "stdout",
          "output_type": "stream",
          "text": [
            "Epoch 5 completed. Average Loss: 0.06413668885206923\n"
          ]
        },
        {
          "data": {
            "text/plain": [
              "('./kogpt2-korquad-finetuned/tokenizer_config.json',\n",
              " './kogpt2-korquad-finetuned/special_tokens_map.json',\n",
              " './kogpt2-korquad-finetuned/vocab.json',\n",
              " './kogpt2-korquad-finetuned/merges.txt',\n",
              " './kogpt2-korquad-finetuned/added_tokens.json',\n",
              " './kogpt2-korquad-finetuned/tokenizer.json')"
            ]
          },
          "execution_count": 15,
          "metadata": {},
          "output_type": "execute_result"
        }
      ],
      "source": [
        "\n",
        "from torch.optim import AdamW\n",
        "from tqdm import tqdm\n",
        "\n",
        "# 옵티마이저 설정\n",
        "optimizer = AdamW(model.parameters(), lr=5e-3)\n",
        "\n",
        "# 학습 루프 정의 (tqdm으로 Progress Bar 추가)\n",
        "epochs = 5\n",
        "model.train()\n",
        "\n",
        "# 조기 종료 조건 설정\n",
        "# max_batches_per_epoch = 1000  # 한 에포크에서 최대 실행할 배치 수\n",
        "\n",
        "for epoch in range(epochs):\n",
        "    epoch_loss = 0\n",
        "    progress_bar = tqdm(enumerate(train_dataloader), desc=f\"Epoch {epoch + 1}\", total=len(train_dataloader))\n",
        "\n",
        "    for batch_idx, batch in progress_bar:\n",
        "        # if batch_idx >= max_batches_per_epoch:  # 조기 종료 조건\n",
        "        #     print(f\"Stopping early at batch {batch_idx} in epoch {epoch + 1}\")\n",
        "        #     break\n",
        "\n",
        "        input_ids = batch[\"input_ids\"].to(device)\n",
        "        labels = batch[\"labels\"].to(device)\n",
        "\n",
        "        optimizer.zero_grad()\n",
        "        outputs = model(input_ids=input_ids, labels=labels)\n",
        "        loss = outputs.loss\n",
        "\n",
        "        loss.backward()\n",
        "        optimizer.step()\n",
        "\n",
        "        epoch_loss += loss.item()\n",
        "        progress_bar.set_postfix({\"Batch Loss\": loss.item()})\n",
        "\n",
        "    print(f\"Epoch {epoch + 1} completed. Average Loss: {epoch_loss / (batch_idx + 1)}\")\n",
        "\n",
        "# 모델 저장\n",
        "model.save_pretrained(\"./kogpt2-korquad-finetuned\")\n",
        "tokenizer.save_pretrained(\"./kogpt2-korquad-finetuned\")"
      ]
    },
    {
      "cell_type": "code",
      "execution_count": 33,
      "metadata": {
        "colab": {
          "base_uri": "https://localhost:8080/"
        },
        "id": "WBzU_BNhD0ln",
        "outputId": "224fd85b-b533-4d46-de2c-ed47c51c71fb"
      },
      "outputs": [
        {
          "name": "stdout",
          "output_type": "stream",
          "text": [
            "질문: 인공지능이란?\n",
            "컨텍스트: 인공지능은 1950년대 부터 연구가 시작되었으며, 심리학과 컴퓨터 과학의 융합으로 발전해왔다.\n",
            "생성된 답변: <usr> 인공지능이란? <sys> 인공지능은 1950년대 부터 연구가 시작되었으며, 심리학과 컴퓨터 과학의 융합으로 발전해왔다. </s><pad><pad><pad><pad><pad><pad><pad><pad><pad><pad><pad><pad><pad><pad><pad><pad><pad><pad><pad><pad><pad><pad><pad><pad><pad><pad><pad><pad><pad><pad><pad><pad><pad><pad><pad><pad><pad><pad><pad><pad><pad><pad><pad><pad><pad><pad><pad><pad><pad><pad><pad><pad><pad><pad><pad><pad><pad><pad><pad><pad><pad><pad><pad><pad><pad><pad><pad><pad><pad><pad><pad><pad><pad><pad><pad><pad><pad><pad><pad><pad><pad><pad><pad><pad><pad><pad><pad><pad><pad><pad><pad><pad><pad><pad><pad><pad><pad><pad><pad><pad><pad><pad><pad><pad><pad><pad><pad><pad><pad><pad><pad><pad><pad><pad><pad><pad><pad><pad><pad><pad><pad><pad><pad><pad><pad><pad><pad><pad><pad><pad><pad><pad><pad><pad><pad><pad><pad><pad><pad><pad><pad><pad><pad><pad><pad><pad><pad><pad><pad><pad><pad><pad><pad><pad><pad><pad><pad><pad><pad><pad><pad><pad><pad><pad><pad><pad><pad><pad><pad><pad><pad><pad><pad><pad><pad><pad><pad><pad><pad><pad><pad><pad><pad><pad><pad><pad><pad><pad><pad><pad><pad><pad><pad><pad><pad><pad><pad><pad><pad><pad><pad><pad><pad><pad><pad><pad><pad><pad><pad><pad><pad><pad><pad><pad><pad><pad><pad><pad><pad><pad><pad><pad><pad><pad><pad><pad><pad><pad><pad><pad><pad><pad><pad><pad><pad><pad><pad><pad><pad><pad><pad><pad><pad><pad><pad><pad><pad><pad><pad><pad><pad><pad><pad><pad><pad><pad><pad><pad><pad><pad><pad><pad><pad><pad><pad><pad><pad><pad><pad><pad><pad><pad><pad><pad><pad><pad><pad><pad><pad><pad><pad><pad><pad><pad><pad><pad><pad><pad><pad><pad><pad><pad><pad><pad><pad><pad><pad><pad><pad><pad><pad><pad><pad><pad><pad><pad><pad><pad><pad><pad><pad><pad><pad><pad><pad><pad><pad><pad><pad><pad><pad><pad><pad><pad><pad><pad><pad><pad><pad><pad><pad><pad><pad><pad><pad><pad><pad><pad><pad><pad><pad><pad><pad><pad><pad><pad><pad><pad><pad><pad><pad><pad><pad><pad><pad><pad><pad><pad><pad><pad><pad><pad><pad><pad><pad><pad><pad><pad><pad><pad><pad><pad>\n"
          ]
        }
      ],
      "source": [
        "\n",
        "question = \"인공지능이란?\"\n",
        "context = \"인공지능은 1950년대 부터 연구가 시작되었으며, 심리학과 컴퓨터 과학의 융합으로 발전해왔다.\"\n",
        "\n",
        "# 입력 텍스트 생성\n",
        "input_text = f\"<usr> {question} <sys> {context} </s>\"\n",
        "input_ids = tokenizer.encode(\n",
        "    input_text,\n",
        "    max_length=100,\n",
        "    truncation=True,\n",
        "    padding=\"max_length\",\n",
        "    return_tensors=\"pt\"\n",
        ").to(model.device)\n",
        "\n",
        "# KoGPT2로 문장 생성\n",
        "model.eval()\n",
        "with torch.no_grad():\n",
        "    output_ids = model.generate(\n",
        "        input_ids=input_ids,\n",
        "        max_length=400,\n",
        "        repetition_penalty=2.0,\n",
        "        pad_token_id=tokenizer.pad_token_id,\n",
        "        eos_token_id=tokenizer.eos_token_id,\n",
        "        bos_token_id=tokenizer.bos_token_id,\n",
        "    )\n",
        "\n",
        "generated_text = tokenizer.decode(output_ids[0], skip_special_tokens=False)\n",
        "\n",
        "# 결과 출력\n",
        "print(f\"질문: {question}\")\n",
        "print(f\"컨텍스트: {context}\")\n",
        "print(f\"생성된 답변: {generated_text}\")"
      ]
    },
    {
      "cell_type": "code",
      "execution_count": 39,
      "metadata": {},
      "outputs": [
        {
          "name": "stderr",
          "output_type": "stream",
          "text": [
            "Epoch 1:   0%|          | 0/15102 [00:00<?, ?it/s]A decoder-only architecture is being used, but right-padding was detected! For correct generation results, please set `padding_side='left'` when initializing the tokenizer.\n",
            "Epoch 1:   0%|          | 0/15102 [00:00<?, ?it/s]\n"
          ]
        },
        {
          "name": "stdout",
          "output_type": "stream",
          "text": [
            "질문: <usr> 1920년대 경제학에서 미시경제학과 거시경제학을 분리하여 볼 것을 제안한 인물은? <sys> 1920년대에 케인스는 경제학에서 미시경제학과 거시경제학을 분리하여 볼 것을 제안하였다. 케인스 경제학의 거시경제학은 개인의 선택에 절대적으로 의존하고 있던 당시 고전경제학의 문제를 극복할 수 있었다. 이 이론에 따라, 정부는 상품시장의 총수요(Aggregate demand)를 자극하여 경제 성장을 촉진해게 되었다. 세계제2차대전 이후에 프리드먼은 통화주의(Monetarism)의 개념을 제시하였다. 통화주의는 통화가 경제 활동을 통제하게된다는 관점에서 통화의 수요와 공급을 주목하게 하였다. 1970년대 들어, 통화주의는 서플라이사이드이코노믹스(Supply-side economics)로 발전하였다. 서플라이사이드이코노믹스는 감세가 통화량을 증가시켜 경제성장을 촉진하게 된다는 이론이다. </s><pad><pad><pad><pad><pad><pad><pad><pad><pad><pad><pad><pad><pad><pad><pad><pad><pad><pad><pad><pad><pad><pad><pad><pad><pad><pad><pad><pad><pad><pad><pad><pad><pad><pad><pad><pad><pad><pad><pad><pad><pad><pad><pad><pad><pad><pad><pad><pad><pad><pad><pad><pad><pad><pad><pad><pad><pad><pad><pad><pad><pad><pad><pad><pad><pad><pad><pad><pad><pad><pad><pad><pad><pad><pad><pad><pad><pad><pad><pad><pad><pad><pad><pad><pad><pad><pad><pad><pad><pad><pad><pad><pad><pad><pad><pad><pad><pad><pad><pad><pad><pad><pad><pad><pad><pad><pad><pad><pad><pad><pad><pad><pad><pad><pad><pad><pad><pad><pad><pad><pad><pad><pad><pad><pad><pad><pad><pad><pad><pad><pad><pad><pad><pad><pad><pad><pad><pad><pad><pad><pad><pad><pad><pad><pad><pad><pad><pad><pad><pad><pad><pad><pad><pad><pad><pad><pad><pad><pad><pad><pad><pad><pad><pad><pad><pad><pad><pad><pad><pad><pad><pad><pad><pad><pad><pad><pad><pad><pad><pad><pad><pad><pad><pad><pad><pad><pad><pad><pad><pad><pad><pad><pad><pad><pad><pad><pad><pad><pad><pad><pad><pad><pad><pad><pad><pad><pad><pad><pad><pad><pad><pad><pad><pad><pad><pad><pad><pad><pad><pad><pad><pad><pad><pad><pad><pad><pad><pad><pad><pad><pad><pad><pad><pad><pad><pad><pad><pad><pad><pad><pad><pad><pad><pad><pad><pad><pad><pad><pad><pad><pad><pad><pad><pad><pad><pad><pad><pad><pad><pad><pad><pad><pad><pad><pad><pad><pad><pad><pad><pad><pad><pad><pad><pad><pad><pad><pad><pad><pad><pad><pad><pad><pad><pad><pad><pad><pad><pad><pad><pad><pad><pad><pad><pad><pad><pad><pad><pad><pad><pad><pad><pad><pad><pad><pad><pad><pad><pad><pad><pad><pad><pad><pad><pad><pad><pad><pad><pad><pad><pad><pad><pad><pad><pad><pad><pad><pad><pad><pad><pad><pad><pad><pad><pad><pad><pad><pad><pad><pad><pad><pad><pad><pad><pad><pad><pad>\n",
            "생성된 답변: <usr> 1920년대 경제학에서 미시경제학과 거시경제학을 분리하여 볼 것을 제안한 인물은? <sys> 1920년대에 케인스는 경제학에서 미시경제학과 거시경제학을 분리하여 볼 것을 제안하였다. 케인스 경제학의 거시경제학은 개인의 선택에 절대적으로 의존하고 있던 당시 고전경제학의 문제를 극복할 수 있었다. 이 이론에 따라, 정부는 상품시장의 총수요(Aggregate demand)를 자극하여 경제 성장을 촉진해게 되었다. 세계제2차대전 이후에 프리드먼은 통화주의(Monetarism)의 개념을 제시하였다. 통화주의는 통화가 경제 활동을 통제하게된다는 관점에서 통화의 수요와 공급을 주목하게 하였다. 1970년대 들어, 통화주의는 서플라이사이드이코노믹스(Supply-side economics)로 발전하였다. 서플라이사이드이코노믹스는 감세가 통화량을 증가시켜 경제성장을 촉진하게 된다는 이론이다. </s><pad><pad><pad><pad><pad><pad><pad><pad><pad><pad><pad><pad><pad><pad><pad><pad><pad><pad><pad><pad><pad><pad><pad><pad><pad><pad><pad><pad><pad><pad><pad><pad><pad><pad><pad><pad><pad><pad><pad><pad><pad><pad><pad><pad><pad><pad><pad><pad><pad><pad><pad><pad><pad><pad><pad><pad><pad><pad><pad><pad><pad><pad><pad><pad><pad><pad><pad><pad><pad><pad><pad><pad><pad><pad><pad><pad><pad><pad><pad><pad><pad><pad><pad><pad><pad><pad><pad><pad><pad><pad><pad><pad><pad><pad><pad><pad><pad><pad><pad><pad><pad><pad><pad><pad><pad><pad><pad><pad><pad><pad><pad><pad><pad><pad><pad><pad><pad><pad><pad><pad><pad><pad><pad><pad><pad><pad><pad><pad><pad><pad><pad><pad><pad><pad><pad><pad><pad><pad><pad><pad><pad><pad><pad><pad><pad><pad><pad><pad><pad><pad><pad><pad><pad><pad><pad><pad><pad><pad><pad><pad><pad><pad><pad><pad><pad><pad><pad><pad><pad><pad><pad><pad><pad><pad><pad><pad><pad><pad><pad><pad><pad><pad><pad><pad><pad><pad><pad><pad><pad><pad><pad><pad><pad><pad><pad><pad><pad><pad><pad><pad><pad><pad><pad><pad><pad><pad><pad><pad><pad><pad><pad><pad><pad><pad><pad><pad><pad><pad><pad><pad><pad><pad><pad><pad><pad><pad><pad><pad><pad><pad><pad><pad><pad><pad><pad><pad><pad><pad><pad><pad><pad><pad><pad><pad><pad><pad><pad><pad><pad><pad><pad><pad><pad><pad><pad><pad><pad><pad><pad><pad><pad><pad><pad><pad><pad><pad><pad><pad><pad><pad><pad><pad><pad><pad><pad><pad><pad><pad><pad><pad><pad><pad><pad><pad><pad><pad><pad><pad><pad><pad><pad><pad><pad><pad><pad><pad><pad><pad><pad><pad><pad><pad><pad><pad><pad><pad><pad><pad><pad><pad><pad><pad><pad><pad><pad><pad><pad><pad><pad><pad><pad><pad><pad><pad><pad><pad><pad><pad><pad><pad><pad><pad><pad><pad><pad><pad><pad><pad><pad><pad><pad><pad><pad><pad><pad><pad>\n"
          ]
        },
        {
          "name": "stderr",
          "output_type": "stream",
          "text": [
            "Epoch 2:   0%|          | 0/15102 [00:00<?, ?it/s]A decoder-only architecture is being used, but right-padding was detected! For correct generation results, please set `padding_side='left'` when initializing the tokenizer.\n",
            "Epoch 2:   0%|          | 0/15102 [00:00<?, ?it/s]\n"
          ]
        },
        {
          "name": "stdout",
          "output_type": "stream",
          "text": [
            "질문: <usr> 미혼부가 아이의 아빠임이 증명되면 출생신고를 할 수 있게 하는 법을 대표발의한 인물은? <sys> 서영교는 사랑이 친부와의 면담 등을 통해 미혼부의 어려움을 듣고 미혼부도 DNA검사 등을 통해 아이가 아빠의 아이라는 사실이 증명되면 법원에 신청을 통해 아이의 출생신고가 가능하게 하는 법을 대표발의했고, 2015년 4월 30일 국회 본회의에서 수정 가결 되었으며 2015년 11월 19일부터 시행중이다. 현재 법원은 친생자 출생신고를 위한 확인 신청서 에서 '모의 성명·등록기준지·주민등록번호를 알 수 없는 사유를 소명할 수 있는 자료'의 첨부를 요구하고 있다. 사랑이 아버지는 그가 낸 1심 소송에서 법원이 이를 세가지 사항을 모두 몰라야 출생신고가 가능하다고 결정하여 출생신고를 하지 못했으나, 그러나 법원은 친모 인적사항인 '모의 성명·등록기준지·주민등록번호'의 3요소중 하나를 모르면 법원 확인 방식의 미혼부 출생신고가 가능하다고 판결했다. 원래 혼인외 출생자의 경우에도 부가 모의 성명, 등록기준지, 주민등록번호를 모두 알고 있으면 출생신고가 수리됐다. 2심법원은 \"이 법에서 '모의 성명·등록기준지·주민등록번호를 알 수 없는 경우'라 함은 인적사항을 전부 또는 일부를 알 수 없어 친모를 특정하지 못해 친부 혼자 출생신고를 못 하는 경우를 의미한다고 해석해야 한다\"고 결정했다. 이에 따라 법원은 사랑이가 법에서 '모의 성명·등록기준지·주민등록번호를 알 수 없는 경우'에 놓여있다고 결정했다. </s><pad><pad><pad><pad><pad><pad><pad><pad><pad><pad><pad><pad><pad><pad><pad><pad><pad><pad><pad><pad><pad><pad><pad><pad><pad><pad><pad><pad><pad><pad><pad><pad><pad><pad><pad><pad><pad><pad><pad><pad><pad><pad><pad><pad><pad><pad><pad><pad><pad><pad><pad><pad><pad><pad><pad><pad><pad><pad><pad><pad><pad><pad><pad><pad><pad><pad><pad><pad><pad><pad><pad><pad><pad><pad><pad><pad><pad><pad><pad><pad><pad><pad><pad><pad><pad><pad><pad><pad><pad><pad><pad><pad><pad><pad><pad><pad><pad><pad><pad><pad><pad><pad><pad><pad><pad><pad><pad><pad><pad><pad><pad><pad><pad><pad><pad><pad><pad><pad><pad><pad><pad><pad><pad><pad><pad><pad><pad><pad><pad><pad><pad><pad><pad><pad><pad><pad><pad><pad><pad><pad><pad><pad><pad><pad><pad><pad><pad><pad><pad><pad><pad><pad><pad><pad><pad><pad><pad><pad><pad><pad><pad><pad><pad><pad><pad><pad><pad><pad><pad><pad><pad><pad><pad><pad><pad><pad><pad><pad><pad><pad><pad><pad><pad><pad><pad><pad><pad><pad><pad><pad><pad><pad><pad><pad><pad><pad><pad><pad><pad><pad><pad><pad><pad><pad><pad><pad><pad><pad><pad><pad><pad><pad><pad><pad><pad><pad><pad><pad><pad><pad><pad>\n",
            "생성된 답변: <usr> 미혼부가 아이의 아빠임이 증명되면 출생신고를 할 수 있게 하는 법을 대표발의한 인물은? <sys> 서영교는 사랑이 친부와의 면담 등을 통해 미혼부의 어려움을 듣고 미혼부도 DNA검사 등을 통해 아이가 아빠의 아이라는 사실이 증명되면 법원에 신청을 통해 아이의 출생신고가 가능하게 하는 법을 대표발의했고, 2015년 4월 30일 국회 본회의에서 수정 가결 되었으며 2015년 11월 19일부터 시행중이다. 현재 법원은 친생자 출생신고를 위한 확인 신청서 에서 '모의 성명·등록기준지·주민등록번호를 알 수 없는 사유를 소명할 수 있는 자료'의 첨부를 요구하고 있다. 사랑이 아버지는 그가 낸 1심 소송에서 법원이 이를 세가지 사항을 모두 몰라야 출생신고가 가능하다고 결정하여 출생신고를 하지 못했으나, 그러나 법원은 친모 인적사항인 '모의 성명·등록기준지·주민등록번호'의 3요소중 하나를 모르면 법원 확인 방식의 미혼부 출생신고가 가능하다고 판결했다. 원래 혼인외 출생자의 경우에도 부가 모의 성명, 등록기준지, 주민등록번호를 모두 알고 있으면 출생신고가 수리됐다. 2심법원은 \"이 법에서 '모의 성명·등록기준지·주민등록번호를 알 수 없는 경우'라 함은 인적사항을 전부 또는 일부를 알 수 없어 친모를 특정하지 못해 친부 혼자 출생신고를 못 하는 경우를 의미한다고 해석해야 한다\"고 결정했다. 이에 따라 법원은 사랑이가 법에서 '모의 성명·등록기준지·주민등록번호를 알 수 없는 경우'에 놓여있다고 결정했다. </s><pad><pad><pad><pad><pad><pad><pad><pad><pad><pad><pad><pad><pad><pad><pad><pad><pad><pad><pad><pad><pad><pad><pad><pad><pad><pad><pad><pad><pad><pad><pad><pad><pad><pad><pad><pad><pad><pad><pad><pad><pad><pad><pad><pad><pad><pad><pad><pad><pad><pad><pad><pad><pad><pad><pad><pad><pad><pad><pad><pad><pad><pad><pad><pad><pad><pad><pad><pad><pad><pad><pad><pad><pad><pad><pad><pad><pad><pad><pad><pad><pad><pad><pad><pad><pad><pad><pad><pad><pad><pad><pad><pad><pad><pad><pad><pad><pad><pad><pad><pad><pad><pad><pad><pad><pad><pad><pad><pad><pad><pad><pad><pad><pad><pad><pad><pad><pad><pad><pad><pad><pad><pad><pad><pad><pad><pad><pad><pad><pad><pad><pad><pad><pad><pad><pad><pad><pad><pad><pad><pad><pad><pad><pad><pad><pad><pad><pad><pad><pad><pad><pad><pad><pad><pad><pad><pad><pad><pad><pad><pad><pad><pad><pad><pad><pad><pad><pad><pad><pad><pad><pad><pad><pad><pad><pad><pad><pad><pad><pad><pad><pad><pad><pad><pad><pad><pad><pad><pad><pad><pad><pad><pad><pad><pad><pad><pad><pad><pad><pad><pad><pad><pad><pad><pad><pad><pad><pad><pad><pad><pad><pad><pad><pad><pad><pad><pad><pad><pad><pad><pad><pad><pad>\n"
          ]
        },
        {
          "name": "stderr",
          "output_type": "stream",
          "text": [
            "Epoch 3:   0%|          | 0/15102 [00:00<?, ?it/s]A decoder-only architecture is being used, but right-padding was detected! For correct generation results, please set `padding_side='left'` when initializing the tokenizer.\n",
            "Epoch 3:   0%|          | 0/15102 [00:00<?, ?it/s]\n"
          ]
        },
        {
          "name": "stdout",
          "output_type": "stream",
          "text": [
            "질문: <usr> 759년 경에 일본 최고의 시집으로 등장한 것은 무엇인가? <sys> 일본 문학의 기원은 구전 문학(口傳文學)에서 비롯하여 8세기 초에 최초의 기록 문학 형태를 갖추었다. 왕실에서 직접 주도하여 712년 신화와 전설에 관한 작품집인 고지키가, 720년에는 역사서인 니혼쇼키가 완성되었다. 또 759년 경에는 일본 최고(最古)의 시집으로 4,500편의 시가 수록된 만요슈가 등장하여 이 시기에 단가(短歌) 형태의 시가 문학이 나타났음을 입증하고 있다. 그 후 헤이안 시대의 귀족 문화에서 문학의 중심적인 역할을 담당했던 사람들은 궁중의 여관(女官)으로, 이 시기에 세이 쇼나곤, 무라사키 시키부 등의 여성 시인이 활발하게 활동한다. 센고쿠 시대와 에도 시대를 거쳐서 17세기에는 마쓰오 바쇼가 17자의 단문 시 형식인 하이쿠를 만들기도 하였다. </s><pad><pad><pad><pad><pad><pad><pad><pad><pad><pad><pad><pad><pad><pad><pad><pad><pad><pad><pad><pad><pad><pad><pad><pad><pad><pad><pad><pad><pad><pad><pad><pad><pad><pad><pad><pad><pad><pad><pad><pad><pad><pad><pad><pad><pad><pad><pad><pad><pad><pad><pad><pad><pad><pad><pad><pad><pad><pad><pad><pad><pad><pad><pad><pad><pad><pad><pad><pad><pad><pad><pad><pad><pad><pad><pad><pad><pad><pad><pad><pad><pad><pad><pad><pad><pad><pad><pad><pad><pad><pad><pad><pad><pad><pad><pad><pad><pad><pad><pad><pad><pad><pad><pad><pad><pad><pad><pad><pad><pad><pad><pad><pad><pad><pad><pad><pad><pad><pad><pad><pad><pad><pad><pad><pad><pad><pad><pad><pad><pad><pad><pad><pad><pad><pad><pad><pad><pad><pad><pad><pad><pad><pad><pad><pad><pad><pad><pad><pad><pad><pad><pad><pad><pad><pad><pad><pad><pad><pad><pad><pad><pad><pad><pad><pad><pad><pad><pad><pad><pad><pad><pad><pad><pad><pad><pad><pad><pad><pad><pad><pad><pad><pad><pad><pad><pad><pad><pad><pad><pad><pad><pad><pad><pad><pad><pad><pad><pad><pad><pad><pad><pad><pad><pad><pad><pad><pad><pad><pad><pad><pad><pad><pad><pad><pad><pad><pad><pad><pad><pad><pad><pad><pad><pad><pad><pad><pad><pad><pad><pad><pad><pad><pad><pad><pad><pad><pad><pad><pad><pad><pad><pad><pad><pad><pad><pad><pad><pad><pad><pad><pad><pad><pad><pad><pad><pad><pad><pad><pad><pad><pad><pad><pad><pad><pad><pad><pad><pad><pad><pad><pad><pad><pad><pad><pad><pad><pad><pad><pad><pad><pad><pad><pad><pad><pad><pad><pad><pad><pad><pad><pad><pad><pad><pad><pad><pad><pad><pad><pad><pad><pad><pad><pad><pad><pad><pad><pad><pad><pad><pad><pad><pad><pad><pad><pad><pad><pad><pad><pad><pad><pad><pad><pad><pad><pad><pad><pad><pad><pad><pad><pad><pad><pad><pad><pad><pad><pad><pad><pad><pad><pad><pad><pad><pad><pad><pad><pad><pad><pad><pad><pad><pad><pad>\n",
            "생성된 답변: <usr> 759년 경에 일본 최고의 시집으로 등장한 것은 무엇인가? <sys> 일본 문학의 기원은 구전 문학(口傳文學)에서 비롯하여 8세기 초에 최초의 기록 문학 형태를 갖추었다. 왕실에서 직접 주도하여 712년 신화와 전설에 관한 작품집인 고지키가, 720년에는 역사서인 니혼쇼키가 완성되었다. 또 759년 경에는 일본 최고(最古)의 시집으로 4,500편의 시가 수록된 만요슈가 등장하여 이 시기에 단가(短歌) 형태의 시가 문학이 나타났음을 입증하고 있다. 그 후 헤이안 시대의 귀족 문화에서 문학의 중심적인 역할을 담당했던 사람들은 궁중의 여관(女官)으로, 이 시기에 세이 쇼나곤, 무라사키 시키부 등의 여성 시인이 활발하게 활동한다. 센고쿠 시대와 에도 시대를 거쳐서 17세기에는 마쓰오 바쇼가 17자의 단문 시 형식인 하이쿠를 만들기도 하였다. </s><pad><pad><pad><pad><pad><pad><pad><pad><pad><pad><pad><pad><pad><pad><pad><pad><pad><pad><pad><pad><pad><pad><pad><pad><pad><pad><pad><pad><pad><pad><pad><pad><pad><pad><pad><pad><pad><pad><pad><pad><pad><pad><pad><pad><pad><pad><pad><pad><pad><pad><pad><pad><pad><pad><pad><pad><pad><pad><pad><pad><pad><pad><pad><pad><pad><pad><pad><pad><pad><pad><pad><pad><pad><pad><pad><pad><pad><pad><pad><pad><pad><pad><pad><pad><pad><pad><pad><pad><pad><pad><pad><pad><pad><pad><pad><pad><pad><pad><pad><pad><pad><pad><pad><pad><pad><pad><pad><pad><pad><pad><pad><pad><pad><pad><pad><pad><pad><pad><pad><pad><pad><pad><pad><pad><pad><pad><pad><pad><pad><pad><pad><pad><pad><pad><pad><pad><pad><pad><pad><pad><pad><pad><pad><pad><pad><pad><pad><pad><pad><pad><pad><pad><pad><pad><pad><pad><pad><pad><pad><pad><pad><pad><pad><pad><pad><pad><pad><pad><pad><pad><pad><pad><pad><pad><pad><pad><pad><pad><pad><pad><pad><pad><pad><pad><pad><pad><pad><pad><pad><pad><pad><pad><pad><pad><pad><pad><pad><pad><pad><pad><pad><pad><pad><pad><pad><pad><pad><pad><pad><pad><pad><pad><pad><pad><pad><pad><pad><pad><pad><pad><pad><pad><pad><pad><pad><pad><pad><pad><pad><pad><pad><pad><pad><pad><pad><pad><pad><pad><pad><pad><pad><pad><pad><pad><pad><pad><pad><pad><pad><pad><pad><pad><pad><pad><pad><pad><pad><pad><pad><pad><pad><pad><pad><pad><pad><pad><pad><pad><pad><pad><pad><pad><pad><pad><pad><pad><pad><pad><pad><pad><pad><pad><pad><pad><pad><pad><pad><pad><pad><pad><pad><pad><pad><pad><pad><pad><pad><pad><pad><pad><pad><pad><pad><pad><pad><pad><pad><pad><pad><pad><pad><pad><pad><pad><pad><pad><pad><pad><pad><pad><pad><pad><pad><pad><pad><pad><pad><pad><pad><pad><pad><pad><pad><pad><pad><pad><pad><pad><pad><pad><pad><pad><pad><pad><pad><pad><pad><pad><pad><pad><pad><pad><pad>\n"
          ]
        },
        {
          "name": "stderr",
          "output_type": "stream",
          "text": [
            "Epoch 4:   0%|          | 0/15102 [00:00<?, ?it/s]A decoder-only architecture is being used, but right-padding was detected! For correct generation results, please set `padding_side='left'` when initializing the tokenizer.\n",
            "Epoch 4:   0%|          | 0/15102 [00:00<?, ?it/s]\n"
          ]
        },
        {
          "name": "stdout",
          "output_type": "stream",
          "text": [
            "질문: <usr> 3세기와 4세기 사이에 발전한 정권의 이름은? <sys> 기원전 8세기 경 이후 대륙으로부터 벼농사를 중심으로 한 문화 양식이 전해지면서 각지에 ‘무라’, ‘구니’와 같은 정치 조직이 천천히 형성되어 1세기 ~ 2세기 전후에는 각 구니의 연합체로서 왜국이라는 대규모 정치 조직이 출현했다. 이 연합 정치 조직은 3세기에서 4세기 사이에 야마토 정권으로 발전했다. 그러다 663년 백제 부흥 운동에서 백제를 도왔다가 신라와 당나라에 패배하고 백제의 지배 계층이 대량 유입되어 7세기 후반 한자 문화권에 본격적으로 흡수되어 중국식 법체계, 사회 제도를 급속도로 받아들여 8세기 초 고대 율령 국가 체제가 완성되기에 이르렀다. 이 시기 일본은 수나라, 당나라나 신라, 발해 들과 교류 이후 주변국으로부터 많은 문화를 받아들였고, 이를 바탕으로 10세기에서 11세기 사이에 장원을 중심으로 한 봉건 체제를 바탕으로 귀족 문화를 형성하였으며 귀족들의 세력 투쟁 사이에서 발달한 사무라이 계층은 13세기 이후 가마쿠라 막부를 세워 정치적 주도권을 잡았다. 한편으로는 무로마치 시대에서 센고쿠 시대까지 명나라에 조공을 행하였으며 쇼군 가문인 아시카가 씨가 명나라 천자로부터 일본 국왕으로서 책봉을 받기도 하였다. </s><pad><pad><pad><pad><pad><pad><pad><pad><pad><pad><pad><pad><pad><pad><pad><pad><pad><pad><pad><pad><pad><pad><pad><pad><pad><pad><pad><pad><pad><pad><pad><pad><pad><pad><pad><pad><pad><pad><pad><pad><pad><pad><pad><pad><pad><pad><pad><pad><pad><pad><pad><pad><pad><pad><pad><pad><pad><pad><pad><pad><pad><pad><pad><pad><pad><pad><pad><pad><pad><pad><pad><pad><pad><pad><pad><pad><pad><pad><pad><pad><pad><pad><pad><pad><pad><pad><pad><pad><pad><pad><pad><pad><pad><pad><pad><pad><pad><pad><pad><pad><pad><pad><pad><pad><pad><pad><pad><pad><pad><pad><pad><pad><pad><pad><pad><pad><pad><pad><pad><pad><pad><pad><pad><pad><pad><pad><pad><pad><pad><pad><pad><pad><pad><pad><pad><pad><pad><pad><pad><pad><pad><pad><pad><pad><pad><pad><pad><pad><pad><pad><pad><pad><pad><pad><pad><pad><pad><pad><pad><pad><pad><pad><pad><pad><pad><pad><pad><pad><pad><pad><pad><pad><pad><pad><pad><pad><pad><pad><pad><pad><pad><pad><pad><pad><pad><pad><pad><pad><pad><pad><pad><pad><pad><pad><pad><pad><pad><pad><pad><pad><pad><pad><pad><pad><pad><pad><pad><pad><pad><pad><pad><pad><pad><pad><pad><pad><pad><pad><pad><pad><pad><pad><pad><pad><pad><pad><pad><pad><pad><pad><pad><pad><pad><pad><pad><pad><pad><pad><pad><pad><pad><pad><pad><pad><pad><pad><pad><pad><pad><pad><pad><pad><pad><pad><pad><pad><pad><pad><pad><pad><pad><pad><pad><pad><pad><pad><pad><pad><pad><pad><pad><pad><pad><pad><pad><pad><pad><pad><pad><pad><pad><pad><pad><pad><pad><pad><pad><pad><pad><pad><pad><pad><pad><pad><pad><pad><pad><pad><pad><pad><pad><pad><pad><pad><pad>\n",
            "생성된 답변: <usr> 3세기와 4세기 사이에 발전한 정권의 이름은? <sys> 기원전 8세기 경 이후 대륙으로부터 벼농사를 중심으로 한 문화 양식이 전해지면서 각지에 ‘무라’, ‘구니’와 같은 정치 조직이 천천히 형성되어 1세기 ~ 2세기 전후에는 각 구니의 연합체로서 왜국이라는 대규모 정치 조직이 출현했다. 이 연합 정치 조직은 3세기에서 4세기 사이에 야마토 정권으로 발전했다. 그러다 663년 백제 부흥 운동에서 백제를 도왔다가 신라와 당나라에 패배하고 백제의 지배 계층이 대량 유입되어 7세기 후반 한자 문화권에 본격적으로 흡수되어 중국식 법체계, 사회 제도를 급속도로 받아들여 8세기 초 고대 율령 국가 체제가 완성되기에 이르렀다. 이 시기 일본은 수나라, 당나라나 신라, 발해 들과 교류 이후 주변국으로부터 많은 문화를 받아들였고, 이를 바탕으로 10세기에서 11세기 사이에 장원을 중심으로 한 봉건 체제를 바탕으로 귀족 문화를 형성하였으며 귀족들의 세력 투쟁 사이에서 발달한 사무라이 계층은 13세기 이후 가마쿠라 막부를 세워 정치적 주도권을 잡았다. 한편으로는 무로마치 시대에서 센고쿠 시대까지 명나라에 조공을 행하였으며 쇼군 가문인 아시카가 씨가 명나라 천자로부터 일본 국왕으로서 책봉을 받기도 하였다. </s><pad><pad><pad><pad><pad><pad><pad><pad><pad><pad><pad><pad><pad><pad><pad><pad><pad><pad><pad><pad><pad><pad><pad><pad><pad><pad><pad><pad><pad><pad><pad><pad><pad><pad><pad><pad><pad><pad><pad><pad><pad><pad><pad><pad><pad><pad><pad><pad><pad><pad><pad><pad><pad><pad><pad><pad><pad><pad><pad><pad><pad><pad><pad><pad><pad><pad><pad><pad><pad><pad><pad><pad><pad><pad><pad><pad><pad><pad><pad><pad><pad><pad><pad><pad><pad><pad><pad><pad><pad><pad><pad><pad><pad><pad><pad><pad><pad><pad><pad><pad><pad><pad><pad><pad><pad><pad><pad><pad><pad><pad><pad><pad><pad><pad><pad><pad><pad><pad><pad><pad><pad><pad><pad><pad><pad><pad><pad><pad><pad><pad><pad><pad><pad><pad><pad><pad><pad><pad><pad><pad><pad><pad><pad><pad><pad><pad><pad><pad><pad><pad><pad><pad><pad><pad><pad><pad><pad><pad><pad><pad><pad><pad><pad><pad><pad><pad><pad><pad><pad><pad><pad><pad><pad><pad><pad><pad><pad><pad><pad><pad><pad><pad><pad><pad><pad><pad><pad><pad><pad><pad><pad><pad><pad><pad><pad><pad><pad><pad><pad><pad><pad><pad><pad><pad><pad><pad><pad><pad><pad><pad><pad><pad><pad><pad><pad><pad><pad><pad><pad><pad><pad><pad><pad><pad><pad><pad><pad><pad><pad><pad><pad><pad><pad><pad><pad><pad><pad><pad><pad><pad><pad><pad><pad><pad><pad><pad><pad><pad><pad><pad><pad><pad><pad><pad><pad><pad><pad><pad><pad><pad><pad><pad><pad><pad><pad><pad><pad><pad><pad><pad><pad><pad><pad><pad><pad><pad><pad><pad><pad><pad><pad><pad><pad><pad><pad><pad><pad><pad><pad><pad><pad><pad><pad><pad><pad><pad><pad><pad><pad><pad><pad><pad><pad><pad><pad><pad>\n"
          ]
        },
        {
          "name": "stderr",
          "output_type": "stream",
          "text": [
            "Epoch 5:   0%|          | 0/15102 [00:00<?, ?it/s]A decoder-only architecture is being used, but right-padding was detected! For correct generation results, please set `padding_side='left'` when initializing the tokenizer.\n",
            "Epoch 5:   0%|          | 0/15102 [00:00<?, ?it/s]"
          ]
        },
        {
          "name": "stdout",
          "output_type": "stream",
          "text": [
            "질문: <usr> 파워 포인트를 소모해서 사용하는 사이오닉 파워는 어떤 클래스만 사용하는가? <sys> 2003년 초 플레이어 리소스 컨소시엄(Player Resource Consortium, PRC)이 게임에 클래스, 종족, 기술, 주문을 추가해 주는 핵 팩 묶음인 PRC를 선보였다. 2006년 5월 20일 현재, PRC는 오리지널 게임에 있었던 프레스티지 클래스 보다 최소한 세 배가 많은 클래스를 포함하고 있다. 또한 PRC는 바이오웨어의 오로라 엔진을 더 잘 사용하는 여러 에픽 주문들과 많은 보통 주문들을 추가해 준다. 추가된 주문들은 순간이동, 전위, 미로, 말 소환 등이다. 또한 본질적으로는 주문이지만, 파워 포인트를 소모하며 소서러 클래스만 사용할 수 있는 사이오닉 파워도 추가됐다. PRC는 대개 엔진 디자이너가 의도하지 못했던 방법으로 게임 엔진을 몰아붙이기 때문에, 이 핵 팩을 사용할 때에는 주의가 필요하다. </s><pad><pad><pad><pad><pad><pad><pad><pad><pad><pad><pad><pad><pad><pad><pad><pad><pad><pad><pad><pad><pad><pad><pad><pad><pad><pad><pad><pad><pad><pad><pad><pad><pad><pad><pad><pad><pad><pad><pad><pad><pad><pad><pad><pad><pad><pad><pad><pad><pad><pad><pad><pad><pad><pad><pad><pad><pad><pad><pad><pad><pad><pad><pad><pad><pad><pad><pad><pad><pad><pad><pad><pad><pad><pad><pad><pad><pad><pad><pad><pad><pad><pad><pad><pad><pad><pad><pad><pad><pad><pad><pad><pad><pad><pad><pad><pad><pad><pad><pad><pad><pad><pad><pad><pad><pad><pad><pad><pad><pad><pad><pad><pad><pad><pad><pad><pad><pad><pad><pad><pad><pad><pad><pad><pad><pad><pad><pad><pad><pad><pad><pad><pad><pad><pad><pad><pad><pad><pad><pad><pad><pad><pad><pad><pad><pad><pad><pad><pad><pad><pad><pad><pad><pad><pad><pad><pad><pad><pad><pad><pad><pad><pad><pad><pad><pad><pad><pad><pad><pad><pad><pad><pad><pad><pad><pad><pad><pad><pad><pad><pad><pad><pad><pad><pad><pad><pad><pad><pad><pad><pad><pad><pad><pad><pad><pad><pad><pad><pad><pad><pad><pad><pad><pad><pad><pad><pad><pad><pad><pad><pad><pad><pad><pad><pad><pad><pad><pad><pad><pad><pad><pad><pad><pad><pad><pad><pad><pad><pad><pad><pad><pad><pad><pad><pad><pad><pad><pad><pad><pad><pad><pad><pad><pad><pad><pad><pad><pad><pad><pad><pad><pad><pad><pad><pad><pad><pad><pad><pad><pad><pad><pad><pad><pad><pad><pad><pad><pad><pad><pad><pad><pad><pad><pad><pad><pad><pad><pad><pad><pad><pad><pad><pad><pad><pad><pad><pad><pad><pad><pad><pad><pad><pad><pad><pad><pad><pad><pad><pad><pad><pad><pad><pad><pad><pad><pad><pad><pad><pad><pad>\n",
            "생성된 답변: <usr> 파워 포인트를 소모해서 사용하는 사이오닉 파워는 어떤 클래스만 사용하는가? <sys> 2003년 초 플레이어 리소스 컨소시엄(Player Resource Consortium, PRC)이 게임에 클래스, 종족, 기술, 주문을 추가해 주는 핵 팩 묶음인 PRC를 선보였다. 2006년 5월 20일 현재, PRC는 오리지널 게임에 있었던 프레스티지 클래스 보다 최소한 세 배가 많은 클래스를 포함하고 있다. 또한 PRC는 바이오웨어의 오로라 엔진을 더 잘 사용하는 여러 에픽 주문들과 많은 보통 주문들을 추가해 준다. 추가된 주문들은 순간이동, 전위, 미로, 말 소환 등이다. 또한 본질적으로는 주문이지만, 파워 포인트를 소모하며 소서러 클래스만 사용할 수 있는 사이오닉 파워도 추가됐다. PRC는 대개 엔진 디자이너가 의도하지 못했던 방법으로 게임 엔진을 몰아붙이기 때문에, 이 핵 팩을 사용할 때에는 주의가 필요하다. </s><pad><pad><pad><pad><pad><pad><pad><pad><pad><pad><pad><pad><pad><pad><pad><pad><pad><pad><pad><pad><pad><pad><pad><pad><pad><pad><pad><pad><pad><pad><pad><pad><pad><pad><pad><pad><pad><pad><pad><pad><pad><pad><pad><pad><pad><pad><pad><pad><pad><pad><pad><pad><pad><pad><pad><pad><pad><pad><pad><pad><pad><pad><pad><pad><pad><pad><pad><pad><pad><pad><pad><pad><pad><pad><pad><pad><pad><pad><pad><pad><pad><pad><pad><pad><pad><pad><pad><pad><pad><pad><pad><pad><pad><pad><pad><pad><pad><pad><pad><pad><pad><pad><pad><pad><pad><pad><pad><pad><pad><pad><pad><pad><pad><pad><pad><pad><pad><pad><pad><pad><pad><pad><pad><pad><pad><pad><pad><pad><pad><pad><pad><pad><pad><pad><pad><pad><pad><pad><pad><pad><pad><pad><pad><pad><pad><pad><pad><pad><pad><pad><pad><pad><pad><pad><pad><pad><pad><pad><pad><pad><pad><pad><pad><pad><pad><pad><pad><pad><pad><pad><pad><pad><pad><pad><pad><pad><pad><pad><pad><pad><pad><pad><pad><pad><pad><pad><pad><pad><pad><pad><pad><pad><pad><pad><pad><pad><pad><pad><pad><pad><pad><pad><pad><pad><pad><pad><pad><pad><pad><pad><pad><pad><pad><pad><pad><pad><pad><pad><pad><pad><pad><pad><pad><pad><pad><pad><pad><pad><pad><pad><pad><pad><pad><pad><pad><pad><pad><pad><pad><pad><pad><pad><pad><pad><pad><pad><pad><pad><pad><pad><pad><pad><pad><pad><pad><pad><pad><pad><pad><pad><pad><pad><pad><pad><pad><pad><pad><pad><pad><pad><pad><pad><pad><pad><pad><pad><pad><pad><pad><pad><pad><pad><pad><pad><pad><pad><pad><pad><pad><pad><pad><pad><pad><pad><pad><pad><pad><pad><pad><pad><pad><pad><pad><pad><pad><pad><pad><pad><pad><pad>\n"
          ]
        },
        {
          "name": "stderr",
          "output_type": "stream",
          "text": [
            "\n"
          ]
        }
      ],
      "source": [
        "model.eval()\n",
        "for epoch in range(epochs):\n",
        "    epoch_loss = 0\n",
        "    progress_bar = tqdm(enumerate(train_dataloader), desc=f\"Epoch {epoch + 1}\", total=len(train_dataloader))\n",
        "\n",
        "    for batch_idx, batch in progress_bar:\n",
        "        # if batch_idx >= max_batches_per_epoch:  # 조기 종료 조건\n",
        "        #     print(f\"Stopping early at batch {batch_idx} in epoch {epoch + 1}\")\n",
        "        #     break\n",
        "\n",
        "        input_ids = batch[\"input_ids\"].to(device)\n",
        "        labels = batch[\"labels\"].to(device)\n",
        "\n",
        "        with torch.no_grad():\n",
        "            output_ids = model.generate(\n",
        "                input_ids=input_ids,\n",
        "                max_length=513,\n",
        "                repetition_penalty=2.0,\n",
        "                pad_token_id=tokenizer.pad_token_id,\n",
        "                eos_token_id=tokenizer.eos_token_id,\n",
        "                bos_token_id=tokenizer.bos_token_id,\n",
        "            )\n",
        "        \n",
        "        print(f\"질문: {tokenizer.decode(input_ids[0], skip_special_tokens=False)}\")\n",
        "        print(f\"생성된 답변: {tokenizer.decode(output_ids[0], skip_special_tokens=False)}\")\n",
        "        break"
      ]
    },
    {
      "cell_type": "code",
      "execution_count": null,
      "metadata": {
        "id": "kQxRTDOujE-3"
      },
      "outputs": [],
      "source": []
    }
  ],
  "metadata": {
    "accelerator": "GPU",
    "colab": {
      "authorship_tag": "ABX9TyNfJXad03I1lazNKg2Yss5r",
      "gpuType": "T4",
      "include_colab_link": true,
      "provenance": []
    },
    "kernelspec": {
      "display_name": "myenv",
      "language": "python",
      "name": "python3"
    },
    "language_info": {
      "codemirror_mode": {
        "name": "ipython",
        "version": 3
      },
      "file_extension": ".py",
      "mimetype": "text/x-python",
      "name": "python",
      "nbconvert_exporter": "python",
      "pygments_lexer": "ipython3",
      "version": "3.11.11"
    }
  },
  "nbformat": 4,
  "nbformat_minor": 0
}
